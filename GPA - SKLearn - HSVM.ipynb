{
 "cells": [
  {
   "cell_type": "code",
   "execution_count": 1,
   "metadata": {},
   "outputs": [],
   "source": [
    "import pandas as pd\n",
    "import numpy as np\n",
    "from tqdm.auto import tqdm\n",
    "\n",
    "import torch\n",
    "import torchtext\n",
    "from torch import nn\n",
    "from torchtext.data import Field, LabelField\n",
    "from torchtext.data import BucketIterator\n",
    "from torchtext.datasets import IMDB\n",
    "from transformers import BertTokenizer\n",
    "from transformers import BertModel\n",
    "from skorch import NeuralNetClassifier\n",
    "from skorch.callbacks import Freezer\n",
    "from skorch.callbacks import ProgressBar\n",
    "from util import *"
   ]
  },
  {
   "cell_type": "code",
   "execution_count": 2,
   "metadata": {},
   "outputs": [],
   "source": [
    "from sklearn import set_config\n",
    "set_config(display='diagram') "
   ]
  },
  {
   "cell_type": "code",
   "execution_count": 3,
   "metadata": {},
   "outputs": [],
   "source": [
    "training_set = pd.read_json(\"training_set.json.gz\", lines=True, orient=\"records\")"
   ]
  },
  {
   "cell_type": "code",
   "execution_count": 4,
   "metadata": {},
   "outputs": [],
   "source": [
    "testing_set = pd.read_json(\"testing_set.json.gz\", lines=True, orient=\"records\")"
   ]
  },
  {
   "cell_type": "code",
   "execution_count": 5,
   "metadata": {},
   "outputs": [],
   "source": [
    "training_labels = training_set[all_tiers_100]"
   ]
  },
  {
   "cell_type": "code",
   "execution_count": 6,
   "metadata": {},
   "outputs": [],
   "source": [
    "testing_labels = testing_set[all_tiers_100]"
   ]
  },
  {
   "cell_type": "code",
   "execution_count": 7,
   "metadata": {},
   "outputs": [],
   "source": [
    "from sklearn.pipeline import Pipeline\n",
    "from sklearn.compose import ColumnTransformer"
   ]
  },
  {
   "cell_type": "code",
   "execution_count": 8,
   "metadata": {},
   "outputs": [],
   "source": [
    "from sklearn.feature_extraction.text import TfidfVectorizer, CountVectorizer"
   ]
  },
  {
   "cell_type": "code",
   "execution_count": 9,
   "metadata": {},
   "outputs": [
    {
     "data": {
      "text/plain": [
       "{'abstract',\n",
       " 'all_tiers',\n",
       " 'all_tiers_100',\n",
       " 'application_kind',\n",
       " 'application_number',\n",
       " 'application_number_formatted',\n",
       " 'assignees',\n",
       " 'citations',\n",
       " 'cited_by',\n",
       " 'claims',\n",
       " 'country_code_x',\n",
       " 'country_code_y',\n",
       " 'cpc_codes',\n",
       " 'description',\n",
       " 'embedding_v1',\n",
       " 'examiners',\n",
       " 'family_id',\n",
       " 'fi_codes',\n",
       " 'filing_date',\n",
       " 'fterm_codes',\n",
       " 'gpa_number',\n",
       " 'grant_date',\n",
       " 'inventors',\n",
       " 'kind',\n",
       " 'kind_code',\n",
       " 'padded_serial',\n",
       " 'pct_number',\n",
       " 'priority_date',\n",
       " 'publication_date',\n",
       " 'publication_number',\n",
       " 'serial_x',\n",
       " 'serial_y',\n",
       " 'similar_npl',\n",
       " 'similar_patents',\n",
       " 'tier1_tags',\n",
       " 'tier1_tier2_tags',\n",
       " 'tier2_100',\n",
       " 'tier3_100',\n",
       " 'title',\n",
       " 'top_terms',\n",
       " 'url',\n",
       " 'uspc_codes'}"
      ]
     },
     "execution_count": 9,
     "metadata": {},
     "output_type": "execute_result"
    }
   ],
   "source": [
    "set(training_set.columns) - set(all_tiers)"
   ]
  },
  {
   "cell_type": "code",
   "execution_count": 10,
   "metadata": {},
   "outputs": [
    {
     "data": {
      "text/plain": [
       "0      [prosthesis, member, coupling portion, portion...\n",
       "1      [femur, tibia, implant, leg, patient, portion,...\n",
       "2      [lateral, femur, patient, body, medial, slot, ...\n",
       "3      [glenoid, virtual, alignment pin, patient, sca...\n",
       "4      [bone, surface, patient, resection, jig, use, ...\n",
       "                             ...                        \n",
       "967    [method, bone, medial, patient, template, late...\n",
       "968    [cutting guide, surgical cutting, customized s...\n",
       "969    [patient, adapted, surface, surface model, imp...\n",
       "970    [polymer, monomers, modulus, thiol, multifunct...\n",
       "971    [implant, patient, peg, portion, bone, porous,...\n",
       "Name: top_terms, Length: 972, dtype: object"
      ]
     },
     "execution_count": 10,
     "metadata": {},
     "output_type": "execute_result"
    }
   ],
   "source": [
    "training_set.top_terms"
   ]
  },
  {
   "cell_type": "code",
   "execution_count": null,
   "metadata": {},
   "outputs": [],
   "source": []
  },
  {
   "cell_type": "code",
   "execution_count": 11,
   "metadata": {},
   "outputs": [],
   "source": [
    "from sklearn.ensemble import *"
   ]
  },
  {
   "cell_type": "code",
   "execution_count": 12,
   "metadata": {},
   "outputs": [],
   "source": [
    "from sklearn.svm import SVC, LinearSVC\n",
    "from sklearn.neighbors import KNeighborsClassifier"
   ]
  },
  {
   "cell_type": "code",
   "execution_count": 13,
   "metadata": {},
   "outputs": [],
   "source": [
    "from sklearn.dummy import DummyClassifier"
   ]
  },
  {
   "cell_type": "code",
   "execution_count": 17,
   "metadata": {},
   "outputs": [],
   "source": [
    "tfidf_default_settings = {\n",
    "    'lowercase': True, \n",
    "    'strip_accents': 'ascii',\n",
    "    'stop_words' : stopwords,\n",
    "    'min_df': 2,\n",
    "    #'max_df': 0.5#,\n",
    "    #'ngram_range': (1,3)\n",
    "}\n",
    "\n",
    "transformer = ColumnTransformer([\n",
    "     ('top_terms',\n",
    "      CountVectorizer(analyzer=iden, min_df=2),\n",
    "     'top_terms'\n",
    "     ),\n",
    "     ('cited_by',\n",
    "      CountVectorizer(analyzer=iden, min_df=2),\n",
    "     'cited_by'\n",
    "     ),\n",
    "    ('inventors',\n",
    "      CountVectorizer(analyzer=iden, min_df=2),\n",
    "     'inventors'\n",
    "     ),\n",
    "     ('citations',\n",
    "       CountVectorizer(analyzer=iden, min_df=2),\n",
    "      'citations'\n",
    "      ),\n",
    "#         ('similar_npl',\n",
    "#       CountVectorizer(analyzer=lambda x:x, min_df=2),\n",
    "#      'similar_npl'\n",
    "#      ),\n",
    "        ('similar_patents',\n",
    "      CountVectorizer(analyzer=iden, min_df=2),\n",
    "     'similar_patents'\n",
    "     )\n",
    "  ,\n",
    "     ('cpc',\n",
    "      CountVectorizer(analyzer=cpc_split, min_df=2),\n",
    "     'cpc_codes'\n",
    "     ),\n",
    "#     ('embedding_v1', \n",
    "#      'passthrough',\n",
    "#      'embedding_v1'\n",
    "#     ),\n",
    "    ('abstract_tfidf', \n",
    "    TfidfVectorizer(**tfidf_default_settings),\n",
    "   'abstract'),\n",
    "    ('claims_tfidf',\n",
    "     TfidfVectorizer(**tfidf_default_settings),\n",
    "     'claims'\n",
    "    ),\n",
    "    ('description_tfidf',\n",
    "     TfidfVectorizer(**tfidf_default_settings),\n",
    "     'description'\n",
    "    )\n",
    "      ], verbose=False, n_jobs=-1)"
   ]
  },
  {
   "cell_type": "code",
   "execution_count": 18,
   "metadata": {},
   "outputs": [],
   "source": [
    "from sklearn.decomposition import TruncatedSVD"
   ]
  },
  {
   "cell_type": "code",
   "execution_count": 19,
   "metadata": {},
   "outputs": [],
   "source": [
    "from sklearn.multiclass import OneVsRestClassifier, OneVsOneClassifier\n",
    "from sklearn.naive_bayes import GaussianNB"
   ]
  },
  {
   "cell_type": "code",
   "execution_count": 23,
   "metadata": {},
   "outputs": [],
   "source": [
    "from sklearn.metrics import *"
   ]
  },
  {
   "cell_type": "code",
   "execution_count": 21,
   "metadata": {},
   "outputs": [],
   "source": [
    "pipe = Pipeline(steps=[('transformer', transformer),\n",
    "                       #('svd', TruncatedSVD(random_state=42)),\n",
    "                       #('dummy', OneVsRestClassifier(DummyClassifier()))\n",
    "                       ('SVC', OneVsRestClassifier(SVC(random_state=42), n_jobs=-1))\n",
    "                       #('rf',  RandomForestClassifier(n_jobs=-1, random_state=42))\n",
    "                       #('knn', KNeighborsClassifier(n_jobs=-1))\n",
    "                      ], \n",
    "                verbose=True,\n",
    "                memory=\"cachedir/\")"
   ]
  },
  {
   "cell_type": "code",
   "execution_count": 22,
   "metadata": {},
   "outputs": [
    {
     "name": "stdout",
     "output_type": "stream",
     "text": [
      "[Pipeline] ....... (step 1 of 2) Processing transformer, total=   8.9s\n"
     ]
    },
    {
     "name": "stderr",
     "output_type": "stream",
     "text": [
      "/home/martin/anaconda3/envs/phenetics/lib/python3.8/site-packages/sklearn/pipeline.py:292: UserWarning: Persisting input arguments took 1.03s to run.\n",
      "If this happens often in your code, it can cause performance problems \n",
      "(results will be correct in all cases). \n",
      "The reason for this is probably some large input arguments for a wrapped\n",
      " function (e.g. large strings).\n",
      "THIS IS A JOBLIB ISSUE. If you can, kindly provide the joblib's team with an\n",
      " example so that they can fix the problem.\n",
      "  X, fitted_transformer = fit_transform_one_cached(\n"
     ]
    },
    {
     "name": "stdout",
     "output_type": "stream",
     "text": [
      "[Pipeline] ............... (step 2 of 2) Processing SVC, total=  13.0s\n"
     ]
    },
    {
     "ename": "NameError",
     "evalue": "name 'classification_report' is not defined",
     "output_type": "error",
     "traceback": [
      "\u001b[0;31m---------------------------------------------------------------------------\u001b[0m",
      "\u001b[0;31mNameError\u001b[0m                                 Traceback (most recent call last)",
      "\u001b[0;32m<ipython-input-22-d44a13563722>\u001b[0m in \u001b[0;36m<module>\u001b[0;34m\u001b[0m\n\u001b[1;32m      1\u001b[0m \u001b[0mpipe\u001b[0m\u001b[0;34m.\u001b[0m\u001b[0mfit\u001b[0m\u001b[0;34m(\u001b[0m\u001b[0mtraining_set\u001b[0m\u001b[0;34m,\u001b[0m \u001b[0mtraining_labels\u001b[0m\u001b[0;34m)\u001b[0m\u001b[0;34m\u001b[0m\u001b[0;34m\u001b[0m\u001b[0m\n\u001b[1;32m      2\u001b[0m \u001b[0mpredictions\u001b[0m \u001b[0;34m=\u001b[0m \u001b[0mpipe\u001b[0m\u001b[0;34m.\u001b[0m\u001b[0mpredict\u001b[0m\u001b[0;34m(\u001b[0m\u001b[0mtesting_set\u001b[0m\u001b[0;34m)\u001b[0m\u001b[0;34m\u001b[0m\u001b[0;34m\u001b[0m\u001b[0m\n\u001b[0;32m----> 3\u001b[0;31m \u001b[0mprint\u001b[0m\u001b[0;34m(\u001b[0m\u001b[0mclassification_report\u001b[0m\u001b[0;34m(\u001b[0m\u001b[0mtesting_labels\u001b[0m\u001b[0;34m,\u001b[0m \u001b[0mpredictions\u001b[0m\u001b[0;34m,\u001b[0m \u001b[0mtarget_names\u001b[0m\u001b[0;34m=\u001b[0m\u001b[0mall_tiers_100\u001b[0m\u001b[0;34m)\u001b[0m\u001b[0;34m)\u001b[0m\u001b[0;34m\u001b[0m\u001b[0;34m\u001b[0m\u001b[0m\n\u001b[0m",
      "\u001b[0;31mNameError\u001b[0m: name 'classification_report' is not defined"
     ]
    }
   ],
   "source": [
    "pipe.fit(training_set, training_labels)\n",
    "predictions = pipe.predict(testing_set)\n",
    "print(classification_report(testing_labels, predictions, target_names=all_tiers_100))"
   ]
  },
  {
   "cell_type": "code",
   "execution_count": 24,
   "metadata": {},
   "outputs": [
    {
     "name": "stdout",
     "output_type": "stream",
     "text": [
      "                                          precision    recall  f1-score   support\n",
      "\n",
      "                     AnalysisAndModeling       0.50      0.02      0.05        84\n",
      "          AnalysisAndModeling_3DModeling       0.00      0.00      0.00        71\n",
      "                        AnatomicalTarget       0.69      0.93      0.79       164\n",
      "         AnatomicalTarget_LowerExtremity       0.63      0.19      0.30       113\n",
      "     AnatomicalTarget_LowerExtremity_Hip       0.00      0.00      0.00        40\n",
      "    AnatomicalTarget_LowerExtremity_Knee       0.80      0.15      0.25        82\n",
      "                  AnatomicalTarget_Torso       0.00      0.00      0.00        35\n",
      "            AnatomicalTarget_Torso_Spine       0.00      0.00      0.00        21\n",
      "         AnatomicalTarget_UpperExtremity       0.00      0.00      0.00        31\n",
      "AnatomicalTarget_UpperExtremity_Shoulder       0.00      0.00      0.00        23\n",
      "                                 Imaging       0.57      0.88      0.69       133\n",
      "                              Imaging_CT       0.80      0.07      0.12        59\n",
      "                             Imaging_MRI       0.75      0.10      0.18        59\n",
      "                      Imaging_Ultrasound       0.40      0.06      0.11        32\n",
      "                           Manufacturing       0.44      0.14      0.22        83\n",
      "     Manufacturing_AdditiveManufacturing       0.00      0.00      0.00        38\n",
      "           PersonalizedProduct_Guide/Jig       0.63      0.28      0.38       120\n",
      "             PersonalizedProduct_Implant       0.55      0.86      0.68       124\n",
      "                      SpecificationofUse       0.46      0.14      0.21        79\n",
      "              SpecificationofUse_Disease       0.40      0.07      0.11        30\n",
      "     SpecificationofUse_JointReplacement       0.67      0.05      0.09        44\n",
      "                          SurgicalMethod       0.86      0.15      0.26        40\n",
      "\n",
      "                               micro avg       0.61      0.33      0.42      1505\n",
      "                               macro avg       0.42      0.19      0.20      1505\n",
      "                            weighted avg       0.51      0.33      0.32      1505\n",
      "                             samples avg       0.60      0.36      0.42      1505\n",
      "\n"
     ]
    },
    {
     "name": "stderr",
     "output_type": "stream",
     "text": [
      "/home/martin/anaconda3/envs/phenetics/lib/python3.8/site-packages/sklearn/metrics/_classification.py:1221: UndefinedMetricWarning: Precision and F-score are ill-defined and being set to 0.0 in labels with no predicted samples. Use `zero_division` parameter to control this behavior.\n",
      "  _warn_prf(average, modifier, msg_start, len(result))\n",
      "/home/martin/anaconda3/envs/phenetics/lib/python3.8/site-packages/sklearn/metrics/_classification.py:1221: UndefinedMetricWarning: Recall and F-score are ill-defined and being set to 0.0 in samples with no true labels. Use `zero_division` parameter to control this behavior.\n",
      "  _warn_prf(average, modifier, msg_start, len(result))\n"
     ]
    }
   ],
   "source": [
    "print(classification_report(testing_labels, predictions, target_names=all_tiers_100))"
   ]
  },
  {
   "cell_type": "code",
   "execution_count": null,
   "metadata": {},
   "outputs": [],
   "source": [
    "from skopt import BayesSearchCV"
   ]
  },
  {
   "cell_type": "code",
   "execution_count": null,
   "metadata": {},
   "outputs": [],
   "source": [
    "from sklearn.model_selection import GridSearchCV, RandomizedSearchCV\n",
    "param_grid = {\n",
    "    #'rf__bootstrap': [True, False],\n",
    "    'rf__max_depth': (10, 1000), #[10, 20, 30, 40, 50, 60, 70, 80, 90, 100, 125, 150, 175, 200, 250, 300, 350, 400, None],\n",
    " #'rf__max_features': ['auto', 'sqrt'],\n",
    " 'rf__min_samples_leaf': (1, 12),\n",
    " 'rf__min_samples_split': (2, 12),\n",
    " 'rf__n_estimators': (5, 1000)          \n",
    "             }\n",
    "\n",
    "# param_grid = {\n",
    "# #  'svd__n_components': np.arange(64, 5000, 100),\n",
    "#  'knn__leaf_size': np.arange(1, 50, 1),\n",
    "#  'knn__metric': ['minkowski', 'euclidean'],\n",
    "#  'knn__n_neighbors': [2,3,4,5,6,7,8,9,10,11,12],\n",
    "#  'knn__weights': ['distance', 'uniform']\n",
    "# }\n",
    "search = BayesSearchCV(pipe, param_grid, n_iter=50, n_points=3, pre_dispatch=36, refit=True, cv=3, verbose=10, random_state=42, n_jobs=-1)\n",
    "\n",
    "from tqdm.auto import tqdm\n",
    "from tqdm.utils import CallbackIOWrapper\n",
    "\n",
    "with tqdm(total=search.total_iterations) as pbar:\n",
    "    def on_step(optim_result):\n",
    "        pbar.update(9)\n",
    "        return False\n",
    "    search.fit(training_set, training_labels, callback=on_step)\n",
    "\n",
    "print(search.best_estimator_.get_params())"
   ]
  },
  {
   "cell_type": "code",
   "execution_count": null,
   "metadata": {},
   "outputs": [],
   "source": []
  },
  {
   "cell_type": "code",
   "execution_count": null,
   "metadata": {},
   "outputs": [],
   "source": [
    "from sklearn.metrics import *\n",
    "#pipe.fit(training_set, training_labels)\n",
    "#predictions = pipe.predict(testing_set)\n",
    "predictions = search.best_estimator_.predict(testing_set)\n",
    "print(classification_report(testing_labels, predictions))"
   ]
  },
  {
   "cell_type": "code",
   "execution_count": null,
   "metadata": {},
   "outputs": [],
   "source": [
    "from sklearn.metrics import *\n",
    "#pipe.fit(training_set, training_labels)\n",
    "#predictions = pipe.predict(testing_set)\n",
    "predictions = search.best_estimator_.predict(testing_set)\n",
    "print(classification_report(testing_labels, predictions, target_names=all_tiers_100))"
   ]
  },
  {
   "cell_type": "code",
   "execution_count": null,
   "metadata": {},
   "outputs": [],
   "source": [
    "from sklearn.metrics import *\n",
    "#pipe.fit(training_set, training_labels)\n",
    "predictions = pipe.predict(testing_set)\n",
    "print(classification_report(testing_labels, predictions, target_names=all_tiers_100))"
   ]
  },
  {
   "cell_type": "code",
   "execution_count": null,
   "metadata": {},
   "outputs": [],
   "source": [
    "predictions = predictions = search.best_estimator_.predict(training_set)\n",
    "print(classification_report(training_labels, predictions, target_names=all_tiers_100))"
   ]
  },
  {
   "cell_type": "markdown",
   "metadata": {},
   "source": [
    "\n",
    "#  Guessing Baseline\n",
    "\n",
    "                                      precision    recall  f1-score   support\n",
    "\n",
    "                 AnalysisAndModeling       0.31      0.32      0.32        84\n",
    "                    AnatomicalTarget       0.63      0.63      0.63       164\n",
    "                             Imaging       0.57      0.56      0.56       133\n",
    "                       Manufacturing       0.38      0.48      0.43        83\n",
    "                  SpecificationofUse       0.33      0.33      0.33        79\n",
    "                      SurgicalMethod       0.19      0.20      0.20        40\n",
    "      AnalysisAndModeling_3DModeling       0.22      0.21      0.22        71\n",
    "     AnatomicalTarget_LowerExtremity       0.45      0.43      0.44       113\n",
    "              AnatomicalTarget_Torso       0.19      0.17      0.18        35\n",
    "     AnatomicalTarget_UpperExtremity       0.26      0.26      0.26        31\n",
    "                          Imaging_CT       0.14      0.19      0.16        59\n",
    "                         Imaging_MRI       0.24      0.20      0.22        59\n",
    "                  Imaging_Ultrasound       0.17      0.19      0.18        32\n",
    " Manufacturing_AdditiveManufacturing       0.24      0.24      0.24        38\n",
    "       PersonalizedProduct_Guide/Jig       0.55      0.46      0.50       120\n",
    "         PersonalizedProduct_Implant       0.49      0.53      0.51       124\n",
    "          SpecificationofUse_Disease       0.19      0.20      0.20        30\n",
    " SpecificationofUse_JointReplacement       0.14      0.23      0.17        44\n",
    " AnatomicalTarget_LowerExtremity_Hip       0.21      0.17      0.19        40\n",
    "AnatomicalTarget_LowerExtremity_Knee       0.32      0.34      0.33        82\n",
    "\n",
    "                           micro avg       0.38      0.39      0.38      1461\n",
    "                           macro avg       0.31      0.32      0.31      1461\n",
    "                        weighted avg       0.38      0.39      0.39      1461\n",
    "                         samples avg       0.38      0.40      0.37      1461"
   ]
  },
  {
   "cell_type": "markdown",
   "metadata": {},
   "source": [
    "# RF\n",
    "\n",
    " {'rf__bootstrap': False,\n",
    " 'rf__ccp_alpha': 0.0,\n",
    " 'rf__class_weight': None,\n",
    " 'rf__criterion': 'gini',\n",
    " 'rf__max_depth': 150,\n",
    " 'rf__max_features': 'sqrt',\n",
    " 'rf__max_leaf_nodes': None,\n",
    " 'rf__max_samples': None,\n",
    " 'rf__min_impurity_decrease': 0.0,\n",
    " 'rf__min_impurity_split': None,\n",
    " 'rf__min_samples_leaf': 1,\n",
    " 'rf__min_samples_split': 2,\n",
    " 'rf__min_weight_fraction_leaf': 0.0,\n",
    " 'rf__n_estimators': 200,\n",
    " 'rf__n_jobs': None,\n",
    " 'rf__oob_score': False,\n",
    " 'rf__random_state': None,\n",
    " 'rf__verbose': 0,\n",
    " 'rf__warm_start': False}\n",
    "\n",
    "                                      precision    recall  f1-score   support\n",
    "\n",
    "                 AnalysisAndModeling       0.43      0.24      0.31        84\n",
    "                    AnatomicalTarget       0.70      0.78      0.74       164\n",
    "                             Imaging       0.60      0.59      0.60       133\n",
    "                       Manufacturing       0.37      0.25      0.30        83\n",
    "                  SpecificationofUse       0.42      0.32      0.36        79\n",
    "                      SurgicalMethod       0.71      0.30      0.42        40\n",
    "      AnalysisAndModeling_3DModeling       0.38      0.18      0.25        71\n",
    "     AnatomicalTarget_LowerExtremity       0.53      0.46      0.49       113\n",
    "              AnatomicalTarget_Torso       0.08      0.03      0.04        35\n",
    "     AnatomicalTarget_UpperExtremity       0.11      0.03      0.05        31\n",
    "                          Imaging_CT       0.18      0.10      0.13        59\n",
    "                         Imaging_MRI       0.28      0.14      0.18        59\n",
    "                  Imaging_Ultrasound       0.00      0.00      0.00        32\n",
    " Manufacturing_AdditiveManufacturing       0.23      0.08      0.12        38\n",
    "       PersonalizedProduct_Guide/Jig       0.64      0.41      0.50       120\n",
    "         PersonalizedProduct_Implant       0.59      0.74      0.66       124\n",
    "          SpecificationofUse_Disease       0.06      0.03      0.04        30\n",
    " SpecificationofUse_JointReplacement       0.21      0.16      0.18        44\n",
    " AnatomicalTarget_LowerExtremity_Hip       0.26      0.12      0.17        40\n",
    "AnatomicalTarget_LowerExtremity_Knee       0.47      0.33      0.39        82\n",
    "\n",
    "                           micro avg       0.50      0.38      0.43      1461\n",
    "                           macro avg       0.36      0.26      0.30      1461\n",
    "                        weighted avg       0.45      0.38      0.40      1461\n",
    "                         samples avg       0.53      0.41      0.43      1461\n",
    "\n"
   ]
  },
  {
   "cell_type": "markdown",
   "metadata": {},
   "source": [
    "# KNN\n",
    "\n",
    " 'knn__algorithm': 'auto',\n",
    " 'knn__leaf_size': 30,\n",
    " 'knn__metric': 'euclidean',\n",
    " 'knn__metric_params': None,\n",
    " 'knn__n_jobs': None,\n",
    " 'knn__n_neighbors': 2,\n",
    " 'knn__p': 2,\n",
    " 'knn__weights': 'distance'\n",
    "                                      precision    recall  f1-score   support\n",
    "\n",
    "                 AnalysisAndModeling       0.38      0.43      0.40        84\n",
    "                    AnatomicalTarget       0.71      0.60      0.65       164\n",
    "                             Imaging       0.63      0.62      0.62       133\n",
    "                       Manufacturing       0.34      0.37      0.36        83\n",
    "                  SpecificationofUse       0.34      0.47      0.39        79\n",
    "                      SurgicalMethod       0.39      0.30      0.34        40\n",
    "      AnalysisAndModeling_3DModeling       0.35      0.38      0.36        71\n",
    "     AnatomicalTarget_LowerExtremity       0.60      0.50      0.54       113\n",
    "              AnatomicalTarget_Torso       0.24      0.11      0.15        35\n",
    "     AnatomicalTarget_UpperExtremity       0.16      0.16      0.16        31\n",
    "                          Imaging_CT       0.24      0.32      0.27        59\n",
    "                         Imaging_MRI       0.24      0.32      0.28        59\n",
    "                  Imaging_Ultrasound       0.16      0.28      0.21        32\n",
    " Manufacturing_AdditiveManufacturing       0.18      0.13      0.15        38\n",
    "       PersonalizedProduct_Guide/Jig       0.59      0.39      0.47       120\n",
    "         PersonalizedProduct_Implant       0.56      0.76      0.64       124\n",
    "          SpecificationofUse_Disease       0.19      0.33      0.24        30\n",
    " SpecificationofUse_JointReplacement       0.12      0.14      0.13        44\n",
    " AnatomicalTarget_LowerExtremity_Hip       0.33      0.30      0.32        40\n",
    "AnatomicalTarget_LowerExtremity_Knee       0.48      0.39      0.43        82\n",
    "\n",
    "                           micro avg       0.43      0.44      0.43      1461\n",
    "                           macro avg       0.36      0.37      0.36      1461\n",
    "                        weighted avg       0.45      0.44      0.44      1461\n",
    "                         samples avg       0.45      0.46      0.41      1461"
   ]
  },
  {
   "cell_type": "markdown",
   "metadata": {},
   "source": [
    "# KNN + SVD\n",
    "\n",
    " precision    recall  f1-score   support\n",
    "\n",
    "                 AnalysisAndModeling       0.38      0.43      0.40        84\n",
    "                    AnatomicalTarget       0.71      0.60      0.65       164\n",
    "                             Imaging       0.63      0.62      0.62       133\n",
    "                       Manufacturing       0.34      0.37      0.36        83\n",
    "                  SpecificationofUse       0.34      0.47      0.39        79\n",
    "                      SurgicalMethod       0.39      0.30      0.34        40\n",
    "      AnalysisAndModeling_3DModeling       0.35      0.38      0.36        71\n",
    "     AnatomicalTarget_LowerExtremity       0.60      0.50      0.54       113\n",
    "              AnatomicalTarget_Torso       0.24      0.11      0.15        35\n",
    "     AnatomicalTarget_UpperExtremity       0.16      0.16      0.16        31\n",
    "                          Imaging_CT       0.24      0.32      0.27        59\n",
    "                         Imaging_MRI       0.24      0.32      0.28        59\n",
    "                  Imaging_Ultrasound       0.16      0.28      0.21        32\n",
    " Manufacturing_AdditiveManufacturing       0.18      0.13      0.15        38\n",
    "       PersonalizedProduct_Guide/Jig       0.59      0.39      0.47       120\n",
    "         PersonalizedProduct_Implant       0.56      0.76      0.64       124\n",
    "          SpecificationofUse_Disease       0.19      0.33      0.24        30\n",
    " SpecificationofUse_JointReplacement       0.12      0.14      0.13        44\n",
    " AnatomicalTarget_LowerExtremity_Hip       0.33      0.30      0.32        40\n",
    "AnatomicalTarget_LowerExtremity_Knee       0.48      0.39      0.43        82\n",
    "\n",
    "                           micro avg       0.43      0.44      0.43      1461\n",
    "                           macro avg       0.36      0.37      0.36      1461\n",
    "                        weighted avg       0.45      0.44      0.44      1461\n",
    "                         samples avg       0.45      0.46      0.41      1461\n",
    "\n",
    "'svd__algorithm': 'randomized',\n",
    " 'svd__n_components': 2564,\n",
    " 'svd__n_iter': 5,\n",
    " 'svd__random_state': 42,\n",
    " 'svd__tol': 0.0,\n",
    " 'knn__algorithm': 'auto',\n",
    " 'knn__leaf_size': 30,\n",
    " 'knn__metric': 'euclidean',\n",
    " 'knn__metric_params': None,\n",
    " 'knn__n_jobs': None,\n",
    " 'knn__n_neighbors': 2,\n",
    " 'knn__p': 2,\n",
    " 'knn__weights': 'distance'\n"
   ]
  }
 ],
 "metadata": {
  "kernelspec": {
   "display_name": "Python 3",
   "language": "python",
   "name": "python3"
  },
  "language_info": {
   "codemirror_mode": {
    "name": "ipython",
    "version": 3
   },
   "file_extension": ".py",
   "mimetype": "text/x-python",
   "name": "python",
   "nbconvert_exporter": "python",
   "pygments_lexer": "ipython3",
   "version": "3.8.6"
  }
 },
 "nbformat": 4,
 "nbformat_minor": 4
}
