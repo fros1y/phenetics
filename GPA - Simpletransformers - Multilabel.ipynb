{
 "cells": [
  {
   "cell_type": "code",
   "execution_count": 1,
   "metadata": {},
   "outputs": [],
   "source": [
    "from simpletransformers.classification import MultiLabelClassificationArgs, MultiLabelClassificationModel\n",
    "import sklearn\n",
    "import pandas as pd\n",
    "import logging\n",
    "from util import *\n",
    "from sklearn.preprocessing import MultiLabelBinarizer\n",
    "#from transformers imp ort *\n",
    "import numpy as np\n",
    "import os\n",
    "import re\n",
    "import tensorflow as tf\n",
    "import torch\n",
    "from util import *\n",
    "logging.basicConfig(level=logging.INFO)\n",
    "transformers_logger = logging.getLogger(\"transformers\")\n",
    "transformers_logger.setLevel(logging.WARNING)"
   ]
  },
  {
   "cell_type": "code",
   "execution_count": null,
   "metadata": {},
   "outputs": [],
   "source": []
  },
  {
   "cell_type": "code",
   "execution_count": null,
   "metadata": {},
   "outputs": [],
   "source": []
  },
  {
   "cell_type": "code",
   "execution_count": 2,
   "metadata": {},
   "outputs": [],
   "source": [
    "training_set = pd.read_json(\"training_set.json.gz\", lines=True, orient=\"records\")\n",
    "testing_set = pd.read_json(\"testing_set.json.gz\", lines=True, orient=\"records\")\n",
    "subset = list(set(all_tiers_100)-set([\"PersonalizedProduct\"]))"
   ]
  },
  {
   "cell_type": "code",
   "execution_count": 3,
   "metadata": {},
   "outputs": [
    {
     "data": {
      "text/plain": [
       "['AnatomicalTarget_UpperExtremity_Shoulder',\n",
       " 'Imaging_Ultrasound',\n",
       " 'SpecificationofUse_JointReplacement',\n",
       " 'AnatomicalTarget_LowerExtremity_Knee',\n",
       " 'Manufacturing',\n",
       " 'AnatomicalTarget_Torso',\n",
       " 'AnatomicalTarget',\n",
       " 'AnatomicalTarget_UpperExtremity',\n",
       " 'AnalysisAndModeling',\n",
       " 'AnatomicalTarget_LowerExtremity',\n",
       " 'PersonalizedProduct_Implant',\n",
       " 'AnalysisAndModeling_3DModeling',\n",
       " 'AnatomicalTarget_LowerExtremity_Hip',\n",
       " 'PersonalizedProduct_Guide/Jig',\n",
       " 'SpecificationofUse',\n",
       " 'SurgicalMethod',\n",
       " 'Imaging',\n",
       " 'Imaging_MRI',\n",
       " 'Manufacturing_AdditiveManufacturing',\n",
       " 'Imaging_CT',\n",
       " 'SpecificationofUse_Disease',\n",
       " 'AnatomicalTarget_Torso_Spine']"
      ]
     },
     "execution_count": 3,
     "metadata": {},
     "output_type": "execute_result"
    }
   ],
   "source": [
    "subset"
   ]
  },
  {
   "cell_type": "code",
   "execution_count": 4,
   "metadata": {},
   "outputs": [],
   "source": [
    "training_set['labels'] = training_set[subset].apply(array_labels,axis=1)\n",
    "testing_set['labels'] = testing_set[subset].apply(array_labels,axis=1)"
   ]
  },
  {
   "cell_type": "code",
   "execution_count": 5,
   "metadata": {},
   "outputs": [],
   "source": [
    "mlb = MultiLabelBinarizer()\n",
    "training_labels  = mlb.fit_transform(training_set.labels)\n",
    "testing_labels = mlb.transform(testing_set.labels)"
   ]
  },
  {
   "cell_type": "code",
   "execution_count": 6,
   "metadata": {},
   "outputs": [
    {
     "data": {
      "text/html": [
       "<div>\n",
       "<style scoped>\n",
       "    .dataframe tbody tr th:only-of-type {\n",
       "        vertical-align: middle;\n",
       "    }\n",
       "\n",
       "    .dataframe tbody tr th {\n",
       "        vertical-align: top;\n",
       "    }\n",
       "\n",
       "    .dataframe thead th {\n",
       "        text-align: right;\n",
       "    }\n",
       "</style>\n",
       "<table border=\"1\" class=\"dataframe\">\n",
       "  <thead>\n",
       "    <tr style=\"text-align: right;\">\n",
       "      <th></th>\n",
       "      <th>AnatomicalTarget_UpperExtremity_Shoulder</th>\n",
       "      <th>Imaging_Ultrasound</th>\n",
       "      <th>SpecificationofUse_JointReplacement</th>\n",
       "      <th>AnatomicalTarget_LowerExtremity_Knee</th>\n",
       "      <th>Manufacturing</th>\n",
       "      <th>AnatomicalTarget_Torso</th>\n",
       "      <th>AnatomicalTarget</th>\n",
       "      <th>AnatomicalTarget_UpperExtremity</th>\n",
       "      <th>AnalysisAndModeling</th>\n",
       "      <th>AnatomicalTarget_LowerExtremity</th>\n",
       "      <th>...</th>\n",
       "      <th>AnatomicalTarget_LowerExtremity_Hip</th>\n",
       "      <th>PersonalizedProduct_Guide/Jig</th>\n",
       "      <th>SpecificationofUse</th>\n",
       "      <th>SurgicalMethod</th>\n",
       "      <th>Imaging</th>\n",
       "      <th>Imaging_MRI</th>\n",
       "      <th>Manufacturing_AdditiveManufacturing</th>\n",
       "      <th>Imaging_CT</th>\n",
       "      <th>SpecificationofUse_Disease</th>\n",
       "      <th>AnatomicalTarget_Torso_Spine</th>\n",
       "    </tr>\n",
       "  </thead>\n",
       "  <tbody>\n",
       "    <tr>\n",
       "      <th>0</th>\n",
       "      <td>True</td>\n",
       "      <td>False</td>\n",
       "      <td>True</td>\n",
       "      <td>True</td>\n",
       "      <td>True</td>\n",
       "      <td>True</td>\n",
       "      <td>True</td>\n",
       "      <td>True</td>\n",
       "      <td>True</td>\n",
       "      <td>True</td>\n",
       "      <td>...</td>\n",
       "      <td>True</td>\n",
       "      <td>True</td>\n",
       "      <td>True</td>\n",
       "      <td>False</td>\n",
       "      <td>True</td>\n",
       "      <td>True</td>\n",
       "      <td>False</td>\n",
       "      <td>True</td>\n",
       "      <td>False</td>\n",
       "      <td>True</td>\n",
       "    </tr>\n",
       "    <tr>\n",
       "      <th>1</th>\n",
       "      <td>False</td>\n",
       "      <td>False</td>\n",
       "      <td>False</td>\n",
       "      <td>False</td>\n",
       "      <td>False</td>\n",
       "      <td>False</td>\n",
       "      <td>False</td>\n",
       "      <td>False</td>\n",
       "      <td>False</td>\n",
       "      <td>False</td>\n",
       "      <td>...</td>\n",
       "      <td>False</td>\n",
       "      <td>True</td>\n",
       "      <td>False</td>\n",
       "      <td>False</td>\n",
       "      <td>False</td>\n",
       "      <td>False</td>\n",
       "      <td>False</td>\n",
       "      <td>False</td>\n",
       "      <td>False</td>\n",
       "      <td>False</td>\n",
       "    </tr>\n",
       "    <tr>\n",
       "      <th>2</th>\n",
       "      <td>False</td>\n",
       "      <td>False</td>\n",
       "      <td>True</td>\n",
       "      <td>True</td>\n",
       "      <td>True</td>\n",
       "      <td>False</td>\n",
       "      <td>True</td>\n",
       "      <td>False</td>\n",
       "      <td>True</td>\n",
       "      <td>True</td>\n",
       "      <td>...</td>\n",
       "      <td>False</td>\n",
       "      <td>False</td>\n",
       "      <td>True</td>\n",
       "      <td>False</td>\n",
       "      <td>False</td>\n",
       "      <td>False</td>\n",
       "      <td>False</td>\n",
       "      <td>False</td>\n",
       "      <td>False</td>\n",
       "      <td>False</td>\n",
       "    </tr>\n",
       "    <tr>\n",
       "      <th>3</th>\n",
       "      <td>True</td>\n",
       "      <td>False</td>\n",
       "      <td>False</td>\n",
       "      <td>False</td>\n",
       "      <td>True</td>\n",
       "      <td>False</td>\n",
       "      <td>True</td>\n",
       "      <td>True</td>\n",
       "      <td>True</td>\n",
       "      <td>False</td>\n",
       "      <td>...</td>\n",
       "      <td>False</td>\n",
       "      <td>True</td>\n",
       "      <td>False</td>\n",
       "      <td>False</td>\n",
       "      <td>True</td>\n",
       "      <td>False</td>\n",
       "      <td>False</td>\n",
       "      <td>False</td>\n",
       "      <td>False</td>\n",
       "      <td>False</td>\n",
       "    </tr>\n",
       "    <tr>\n",
       "      <th>4</th>\n",
       "      <td>False</td>\n",
       "      <td>False</td>\n",
       "      <td>False</td>\n",
       "      <td>True</td>\n",
       "      <td>False</td>\n",
       "      <td>False</td>\n",
       "      <td>True</td>\n",
       "      <td>False</td>\n",
       "      <td>False</td>\n",
       "      <td>True</td>\n",
       "      <td>...</td>\n",
       "      <td>False</td>\n",
       "      <td>True</td>\n",
       "      <td>False</td>\n",
       "      <td>False</td>\n",
       "      <td>False</td>\n",
       "      <td>False</td>\n",
       "      <td>False</td>\n",
       "      <td>False</td>\n",
       "      <td>False</td>\n",
       "      <td>False</td>\n",
       "    </tr>\n",
       "    <tr>\n",
       "      <th>...</th>\n",
       "      <td>...</td>\n",
       "      <td>...</td>\n",
       "      <td>...</td>\n",
       "      <td>...</td>\n",
       "      <td>...</td>\n",
       "      <td>...</td>\n",
       "      <td>...</td>\n",
       "      <td>...</td>\n",
       "      <td>...</td>\n",
       "      <td>...</td>\n",
       "      <td>...</td>\n",
       "      <td>...</td>\n",
       "      <td>...</td>\n",
       "      <td>...</td>\n",
       "      <td>...</td>\n",
       "      <td>...</td>\n",
       "      <td>...</td>\n",
       "      <td>...</td>\n",
       "      <td>...</td>\n",
       "      <td>...</td>\n",
       "      <td>...</td>\n",
       "    </tr>\n",
       "    <tr>\n",
       "      <th>967</th>\n",
       "      <td>True</td>\n",
       "      <td>False</td>\n",
       "      <td>False</td>\n",
       "      <td>True</td>\n",
       "      <td>False</td>\n",
       "      <td>False</td>\n",
       "      <td>True</td>\n",
       "      <td>True</td>\n",
       "      <td>True</td>\n",
       "      <td>True</td>\n",
       "      <td>...</td>\n",
       "      <td>True</td>\n",
       "      <td>True</td>\n",
       "      <td>False</td>\n",
       "      <td>False</td>\n",
       "      <td>True</td>\n",
       "      <td>True</td>\n",
       "      <td>False</td>\n",
       "      <td>True</td>\n",
       "      <td>False</td>\n",
       "      <td>False</td>\n",
       "    </tr>\n",
       "    <tr>\n",
       "      <th>968</th>\n",
       "      <td>False</td>\n",
       "      <td>False</td>\n",
       "      <td>False</td>\n",
       "      <td>False</td>\n",
       "      <td>True</td>\n",
       "      <td>False</td>\n",
       "      <td>False</td>\n",
       "      <td>False</td>\n",
       "      <td>False</td>\n",
       "      <td>False</td>\n",
       "      <td>...</td>\n",
       "      <td>False</td>\n",
       "      <td>False</td>\n",
       "      <td>False</td>\n",
       "      <td>False</td>\n",
       "      <td>True</td>\n",
       "      <td>False</td>\n",
       "      <td>True</td>\n",
       "      <td>False</td>\n",
       "      <td>False</td>\n",
       "      <td>False</td>\n",
       "    </tr>\n",
       "    <tr>\n",
       "      <th>969</th>\n",
       "      <td>False</td>\n",
       "      <td>False</td>\n",
       "      <td>False</td>\n",
       "      <td>False</td>\n",
       "      <td>True</td>\n",
       "      <td>False</td>\n",
       "      <td>False</td>\n",
       "      <td>False</td>\n",
       "      <td>False</td>\n",
       "      <td>False</td>\n",
       "      <td>...</td>\n",
       "      <td>False</td>\n",
       "      <td>True</td>\n",
       "      <td>False</td>\n",
       "      <td>False</td>\n",
       "      <td>True</td>\n",
       "      <td>False</td>\n",
       "      <td>True</td>\n",
       "      <td>False</td>\n",
       "      <td>False</td>\n",
       "      <td>False</td>\n",
       "    </tr>\n",
       "    <tr>\n",
       "      <th>970</th>\n",
       "      <td>False</td>\n",
       "      <td>False</td>\n",
       "      <td>False</td>\n",
       "      <td>False</td>\n",
       "      <td>False</td>\n",
       "      <td>False</td>\n",
       "      <td>True</td>\n",
       "      <td>False</td>\n",
       "      <td>False</td>\n",
       "      <td>True</td>\n",
       "      <td>...</td>\n",
       "      <td>True</td>\n",
       "      <td>True</td>\n",
       "      <td>False</td>\n",
       "      <td>False</td>\n",
       "      <td>True</td>\n",
       "      <td>True</td>\n",
       "      <td>False</td>\n",
       "      <td>True</td>\n",
       "      <td>False</td>\n",
       "      <td>False</td>\n",
       "    </tr>\n",
       "    <tr>\n",
       "      <th>971</th>\n",
       "      <td>False</td>\n",
       "      <td>False</td>\n",
       "      <td>False</td>\n",
       "      <td>False</td>\n",
       "      <td>True</td>\n",
       "      <td>True</td>\n",
       "      <td>True</td>\n",
       "      <td>False</td>\n",
       "      <td>False</td>\n",
       "      <td>False</td>\n",
       "      <td>...</td>\n",
       "      <td>False</td>\n",
       "      <td>False</td>\n",
       "      <td>False</td>\n",
       "      <td>False</td>\n",
       "      <td>True</td>\n",
       "      <td>False</td>\n",
       "      <td>False</td>\n",
       "      <td>False</td>\n",
       "      <td>False</td>\n",
       "      <td>True</td>\n",
       "    </tr>\n",
       "  </tbody>\n",
       "</table>\n",
       "<p>972 rows × 22 columns</p>\n",
       "</div>"
      ],
      "text/plain": [
       "     AnatomicalTarget_UpperExtremity_Shoulder  Imaging_Ultrasound  \\\n",
       "0                                        True               False   \n",
       "1                                       False               False   \n",
       "2                                       False               False   \n",
       "3                                        True               False   \n",
       "4                                       False               False   \n",
       "..                                        ...                 ...   \n",
       "967                                      True               False   \n",
       "968                                     False               False   \n",
       "969                                     False               False   \n",
       "970                                     False               False   \n",
       "971                                     False               False   \n",
       "\n",
       "     SpecificationofUse_JointReplacement  \\\n",
       "0                                   True   \n",
       "1                                  False   \n",
       "2                                   True   \n",
       "3                                  False   \n",
       "4                                  False   \n",
       "..                                   ...   \n",
       "967                                False   \n",
       "968                                False   \n",
       "969                                False   \n",
       "970                                False   \n",
       "971                                False   \n",
       "\n",
       "     AnatomicalTarget_LowerExtremity_Knee  Manufacturing  \\\n",
       "0                                    True           True   \n",
       "1                                   False          False   \n",
       "2                                    True           True   \n",
       "3                                   False           True   \n",
       "4                                    True          False   \n",
       "..                                    ...            ...   \n",
       "967                                  True          False   \n",
       "968                                 False           True   \n",
       "969                                 False           True   \n",
       "970                                 False          False   \n",
       "971                                 False           True   \n",
       "\n",
       "     AnatomicalTarget_Torso  AnatomicalTarget  \\\n",
       "0                      True              True   \n",
       "1                     False             False   \n",
       "2                     False              True   \n",
       "3                     False              True   \n",
       "4                     False              True   \n",
       "..                      ...               ...   \n",
       "967                   False              True   \n",
       "968                   False             False   \n",
       "969                   False             False   \n",
       "970                   False              True   \n",
       "971                    True              True   \n",
       "\n",
       "     AnatomicalTarget_UpperExtremity  AnalysisAndModeling  \\\n",
       "0                               True                 True   \n",
       "1                              False                False   \n",
       "2                              False                 True   \n",
       "3                               True                 True   \n",
       "4                              False                False   \n",
       "..                               ...                  ...   \n",
       "967                             True                 True   \n",
       "968                            False                False   \n",
       "969                            False                False   \n",
       "970                            False                False   \n",
       "971                            False                False   \n",
       "\n",
       "     AnatomicalTarget_LowerExtremity  ...  \\\n",
       "0                               True  ...   \n",
       "1                              False  ...   \n",
       "2                               True  ...   \n",
       "3                              False  ...   \n",
       "4                               True  ...   \n",
       "..                               ...  ...   \n",
       "967                             True  ...   \n",
       "968                            False  ...   \n",
       "969                            False  ...   \n",
       "970                             True  ...   \n",
       "971                            False  ...   \n",
       "\n",
       "     AnatomicalTarget_LowerExtremity_Hip  PersonalizedProduct_Guide/Jig  \\\n",
       "0                                   True                           True   \n",
       "1                                  False                           True   \n",
       "2                                  False                          False   \n",
       "3                                  False                           True   \n",
       "4                                  False                           True   \n",
       "..                                   ...                            ...   \n",
       "967                                 True                           True   \n",
       "968                                False                          False   \n",
       "969                                False                           True   \n",
       "970                                 True                           True   \n",
       "971                                False                          False   \n",
       "\n",
       "     SpecificationofUse  SurgicalMethod  Imaging  Imaging_MRI  \\\n",
       "0                  True           False     True         True   \n",
       "1                 False           False    False        False   \n",
       "2                  True           False    False        False   \n",
       "3                 False           False     True        False   \n",
       "4                 False           False    False        False   \n",
       "..                  ...             ...      ...          ...   \n",
       "967               False           False     True         True   \n",
       "968               False           False     True        False   \n",
       "969               False           False     True        False   \n",
       "970               False           False     True         True   \n",
       "971               False           False     True        False   \n",
       "\n",
       "     Manufacturing_AdditiveManufacturing  Imaging_CT  \\\n",
       "0                                  False        True   \n",
       "1                                  False       False   \n",
       "2                                  False       False   \n",
       "3                                  False       False   \n",
       "4                                  False       False   \n",
       "..                                   ...         ...   \n",
       "967                                False        True   \n",
       "968                                 True       False   \n",
       "969                                 True       False   \n",
       "970                                False        True   \n",
       "971                                False       False   \n",
       "\n",
       "     SpecificationofUse_Disease  AnatomicalTarget_Torso_Spine  \n",
       "0                         False                          True  \n",
       "1                         False                         False  \n",
       "2                         False                         False  \n",
       "3                         False                         False  \n",
       "4                         False                         False  \n",
       "..                          ...                           ...  \n",
       "967                       False                         False  \n",
       "968                       False                         False  \n",
       "969                       False                         False  \n",
       "970                       False                         False  \n",
       "971                       False                          True  \n",
       "\n",
       "[972 rows x 22 columns]"
      ]
     },
     "execution_count": 6,
     "metadata": {},
     "output_type": "execute_result"
    }
   ],
   "source": [
    "training_set[subset]"
   ]
  },
  {
   "cell_type": "code",
   "execution_count": 7,
   "metadata": {},
   "outputs": [],
   "source": [
    "train_df = pd.DataFrame()\n",
    "train_df[\"text\"] = training_set.abstract\n",
    "train_df[\"labels\"] = [list(x) for x in training_labels]"
   ]
  },
  {
   "cell_type": "code",
   "execution_count": 8,
   "metadata": {},
   "outputs": [],
   "source": [
    "test_df = pd.DataFrame()\n",
    "test_df[\"text\"] = testing_set.description\n",
    "test_df['labels'] = [list(x) for x in testing_labels]"
   ]
  },
  {
   "cell_type": "code",
   "execution_count": 9,
   "metadata": {},
   "outputs": [
    {
     "data": {
      "text/plain": [
       "0      [1, 1, 1, 1, 1, 1, 1, 1, 1, 1, 1, 1, 1, 0, 1, ...\n",
       "1      [0, 0, 0, 0, 0, 0, 0, 0, 0, 0, 0, 0, 0, 0, 0, ...\n",
       "2      [1, 1, 1, 1, 0, 1, 0, 0, 0, 0, 0, 0, 0, 0, 1, ...\n",
       "3      [1, 0, 1, 0, 0, 0, 0, 0, 1, 1, 1, 0, 0, 0, 1, ...\n",
       "4      [0, 0, 1, 1, 0, 1, 0, 0, 0, 0, 0, 0, 0, 0, 0, ...\n",
       "                             ...                        \n",
       "967    [1, 1, 1, 1, 1, 1, 0, 0, 1, 1, 1, 1, 1, 0, 0, ...\n",
       "968    [0, 0, 0, 0, 0, 0, 0, 0, 0, 0, 1, 0, 0, 0, 1, ...\n",
       "969    [0, 0, 0, 0, 0, 0, 0, 0, 0, 0, 1, 0, 0, 0, 1, ...\n",
       "970    [0, 0, 1, 1, 1, 0, 0, 0, 0, 0, 1, 1, 1, 0, 0, ...\n",
       "971    [0, 0, 1, 0, 0, 0, 1, 1, 0, 0, 1, 0, 0, 0, 1, ...\n",
       "Name: labels, Length: 972, dtype: object"
      ]
     },
     "execution_count": 9,
     "metadata": {},
     "output_type": "execute_result"
    }
   ],
   "source": [
    "train_df.labels"
   ]
  },
  {
   "cell_type": "code",
   "execution_count": 10,
   "metadata": {},
   "outputs": [
    {
     "data": {
      "text/plain": [
       "0      [1, 0, 1, 1, 0, 1, 0, 0, 0, 0, 0, 0, 0, 0, 1, ...\n",
       "1      [1, 1, 1, 1, 1, 0, 0, 0, 0, 0, 1, 0, 0, 0, 0, ...\n",
       "2      [0, 0, 1, 1, 0, 1, 0, 0, 0, 0, 0, 0, 0, 0, 0, ...\n",
       "3      [0, 0, 0, 0, 0, 0, 0, 0, 0, 0, 1, 1, 1, 1, 0, ...\n",
       "4      [1, 0, 1, 1, 1, 0, 0, 0, 0, 0, 1, 1, 1, 0, 1, ...\n",
       "                             ...                        \n",
       "238    [0, 0, 1, 1, 0, 1, 0, 0, 0, 0, 1, 0, 1, 0, 0, ...\n",
       "239    [1, 0, 1, 1, 0, 1, 0, 0, 0, 0, 1, 0, 0, 0, 0, ...\n",
       "240    [0, 0, 1, 1, 1, 0, 0, 0, 0, 0, 0, 0, 0, 0, 1, ...\n",
       "241    [0, 0, 1, 1, 0, 1, 0, 0, 0, 0, 0, 0, 0, 0, 0, ...\n",
       "242    [1, 1, 0, 0, 0, 0, 0, 0, 0, 0, 1, 0, 0, 0, 1, ...\n",
       "Name: labels, Length: 243, dtype: object"
      ]
     },
     "execution_count": 10,
     "metadata": {},
     "output_type": "execute_result"
    }
   ],
   "source": [
    "test_df.labels"
   ]
  },
  {
   "cell_type": "code",
   "execution_count": 11,
   "metadata": {},
   "outputs": [],
   "source": [
    "def hammer(true, pred):\n",
    "    hamming_loss(true, pred > 0.5)"
   ]
  },
  {
   "cell_type": "code",
   "execution_count": 12,
   "metadata": {},
   "outputs": [],
   "source": [
    "model_args = MultiLabelClassificationArgs()\n",
    "model_args.fp16 = True\n",
    "\n",
    "model_args.do_lower_case = False\n",
    "model_args.max_seq_length=128\n",
    "\n",
    "model_args.warmup_steps=1000\n",
    "model_args.learning_rate = 3e-05\n",
    "model_args.gradient_accumulation_steps = 4\n",
    "#gradient_checkpointing=True\n",
    "#model_args.weight_decay = 0.01\n",
    "\n",
    "model_args.train_batch_size=6\n",
    "model_args.num_train_epochs = 50\n",
    "\n",
    "model_args.overwrite_output_dir = True\n",
    "model_args.save_best_model=True\n",
    "model_args.save_model_every_epoch=False\n",
    "model_args.save_eval_checkpoints=False\n",
    "\n",
    "model_args.use_early_stopping = True\n",
    "model_args.early_stopping_delta = 0.001\n",
    "model_args.early_stopping_metric = \"eval_loss\"\n",
    "model_args.early_stopping_metric_minimize = True\n",
    "model_args.early_stopping_patience = 5\n",
    "\n",
    "model_args.evaluate_during_training_steps = 50\n",
    "model_args.evaluate_during_training=True\n",
    "model_args.evaluate_during_training_silent=False\n",
    "model_args.evaluate_during_training_verbose=True\n",
    "model_args.use_cached_eval_features=True\n",
    "model_args.evaluate_each_epoch=False\n",
    "model_args.dataloader_num_workers=0\n"
   ]
  },
  {
   "cell_type": "code",
   "execution_count": null,
   "metadata": {},
   "outputs": [],
   "source": [
    "\n"
   ]
  },
  {
   "cell_type": "code",
   "execution_count": null,
   "metadata": {},
   "outputs": [],
   "source": []
  },
  {
   "cell_type": "code",
   "execution_count": 13,
   "metadata": {},
   "outputs": [],
   "source": [
    "#model = BertForPreTraining.from_pretrained(\"/var/patentmark/patentBERT\")"
   ]
  },
  {
   "cell_type": "code",
   "execution_count": 14,
   "metadata": {},
   "outputs": [],
   "source": [
    "#model.save_pretrained(\"/var/patentmark/conv-patentBERT2/\")"
   ]
  },
  {
   "cell_type": "code",
   "execution_count": 15,
   "metadata": {},
   "outputs": [
    {
     "name": "stderr",
     "output_type": "stream",
     "text": [
      "Some weights of the model checkpoint at bertForPatents/ were not used when initializing BertForMultiLabelSequenceClassification: ['cls.predictions.bias', 'cls.predictions.transform.dense.weight', 'cls.predictions.transform.dense.bias', 'cls.predictions.transform.LayerNorm.weight', 'cls.predictions.transform.LayerNorm.bias', 'cls.predictions.decoder.weight', 'cls.predictions.decoder.bias', 'cls.seq_relationship.weight', 'cls.seq_relationship.bias']\n",
      "- This IS expected if you are initializing BertForMultiLabelSequenceClassification from the checkpoint of a model trained on another task or with another architecture (e.g. initializing a BertForSequenceClassification model from a BertForPreTraining model).\n",
      "- This IS NOT expected if you are initializing BertForMultiLabelSequenceClassification from the checkpoint of a model that you expect to be exactly identical (initializing a BertForSequenceClassification model from a BertForSequenceClassification model).\n",
      "Some weights of BertForMultiLabelSequenceClassification were not initialized from the model checkpoint at bertForPatents/ and are newly initialized: ['classifier.weight', 'classifier.bias']\n",
      "You should probably TRAIN this model on a down-stream task to be able to use it for predictions and inference.\n"
     ]
    }
   ],
   "source": [
    "model = MultiLabelClassificationModel(\n",
    "    \"bert\", \"bertForPatents/\", args=model_args, num_labels=len(mlb.classes_)\n",
    ")"
   ]
  },
  {
   "cell_type": "code",
   "execution_count": 16,
   "metadata": {},
   "outputs": [
    {
     "name": "stderr",
     "output_type": "stream",
     "text": [
      "INFO:simpletransformers.classification.classification_model: Converting to features started. Cache is not used.\n"
     ]
    },
    {
     "data": {
      "application/vnd.jupyter.widget-view+json": {
       "model_id": "6035586179374e98b64e143673b029ee",
       "version_major": 2,
       "version_minor": 0
      },
      "text/plain": [
       "HBox(children=(FloatProgress(value=0.0, max=972.0), HTML(value='')))"
      ]
     },
     "metadata": {},
     "output_type": "display_data"
    },
    {
     "name": "stdout",
     "output_type": "stream",
     "text": [
      "\n"
     ]
    },
    {
     "data": {
      "application/vnd.jupyter.widget-view+json": {
       "model_id": "9b4e21db01744e789f5b3722dc6a4cf9",
       "version_major": 2,
       "version_minor": 0
      },
      "text/plain": [
       "HBox(children=(FloatProgress(value=0.0, description='Epoch', max=50.0, style=ProgressStyle(description_width='…"
      ]
     },
     "metadata": {},
     "output_type": "display_data"
    },
    {
     "name": "stderr",
     "output_type": "stream",
     "text": [
      "INFO:simpletransformers.classification.classification_model:   Starting fine-tuning.\n"
     ]
    },
    {
     "data": {
      "application/vnd.jupyter.widget-view+json": {
       "model_id": "5a4366ba16d4488bb94c06f9c230500a",
       "version_major": 2,
       "version_minor": 0
      },
      "text/plain": [
       "HBox(children=(FloatProgress(value=0.0, description='Running Epoch 0 of 50', max=162.0, style=ProgressStyle(de…"
      ]
     },
     "metadata": {},
     "output_type": "display_data"
    },
    {
     "name": "stdout",
     "output_type": "stream",
     "text": [
      "\n"
     ]
    },
    {
     "data": {
      "application/vnd.jupyter.widget-view+json": {
       "model_id": "ce0e7606a5cb4af8b56ac40eda71f8c8",
       "version_major": 2,
       "version_minor": 0
      },
      "text/plain": [
       "HBox(children=(FloatProgress(value=0.0, description='Running Epoch 1 of 50', max=162.0, style=ProgressStyle(de…"
      ]
     },
     "metadata": {},
     "output_type": "display_data"
    },
    {
     "name": "stderr",
     "output_type": "stream",
     "text": [
      "INFO:simpletransformers.classification.classification_model: Features loaded from cache at cache_dir/cached_dev_bert_128_22_243\n"
     ]
    },
    {
     "data": {
      "application/vnd.jupyter.widget-view+json": {
       "model_id": "b02be302b366461cb9364cb57f312748",
       "version_major": 2,
       "version_minor": 0
      },
      "text/plain": [
       "HBox(children=(FloatProgress(value=0.0, description='Running Evaluation', max=31.0, style=ProgressStyle(descri…"
      ]
     },
     "metadata": {},
     "output_type": "display_data"
    },
    {
     "name": "stderr",
     "output_type": "stream",
     "text": [
      "INFO:simpletransformers.classification.classification_model:{'LRAP': 0.468357012560665, 'eval_loss': 0.6706959701353504}\n"
     ]
    },
    {
     "name": "stdout",
     "output_type": "stream",
     "text": [
      "\n"
     ]
    },
    {
     "name": "stderr",
     "output_type": "stream",
     "text": [
      "/home/martin/anaconda3/envs/phenetics2/lib/python3.8/site-packages/torch/optim/lr_scheduler.py:216: UserWarning: Please also save or load the state of the optimizer when saving or loading the scheduler.\n",
      "  warnings.warn(SAVE_STATE_WARNING, UserWarning)\n",
      "INFO:simpletransformers.classification.classification_model: No improvement in eval_loss\n",
      "INFO:simpletransformers.classification.classification_model: Current step: 1\n",
      "INFO:simpletransformers.classification.classification_model: Early stopping patience: 5\n"
     ]
    },
    {
     "name": "stdout",
     "output_type": "stream",
     "text": [
      "\n"
     ]
    },
    {
     "data": {
      "application/vnd.jupyter.widget-view+json": {
       "model_id": "6db756c367b446d9b9cd8ebcfb6b92b5",
       "version_major": 2,
       "version_minor": 0
      },
      "text/plain": [
       "HBox(children=(FloatProgress(value=0.0, description='Running Epoch 2 of 50', max=162.0, style=ProgressStyle(de…"
      ]
     },
     "metadata": {},
     "output_type": "display_data"
    },
    {
     "name": "stderr",
     "output_type": "stream",
     "text": [
      "INFO:simpletransformers.classification.classification_model: Features loaded from cache at cache_dir/cached_dev_bert_128_22_243\n"
     ]
    },
    {
     "data": {
      "application/vnd.jupyter.widget-view+json": {
       "model_id": "481688fdb50f4cd19ab842bd18aadaf4",
       "version_major": 2,
       "version_minor": 0
      },
      "text/plain": [
       "HBox(children=(FloatProgress(value=0.0, description='Running Evaluation', max=31.0, style=ProgressStyle(descri…"
      ]
     },
     "metadata": {},
     "output_type": "display_data"
    },
    {
     "name": "stderr",
     "output_type": "stream",
     "text": [
      "INFO:simpletransformers.classification.classification_model:{'LRAP': 0.5869577250703979, 'eval_loss': 0.5606631271300777}\n"
     ]
    },
    {
     "name": "stdout",
     "output_type": "stream",
     "text": [
      "\n"
     ]
    },
    {
     "name": "stderr",
     "output_type": "stream",
     "text": [
      "/home/martin/anaconda3/envs/phenetics2/lib/python3.8/site-packages/torch/optim/lr_scheduler.py:216: UserWarning: Please also save or load the state of the optimizer when saving or loading the scheduler.\n",
      "  warnings.warn(SAVE_STATE_WARNING, UserWarning)\n"
     ]
    },
    {
     "name": "stdout",
     "output_type": "stream",
     "text": [
      "\n"
     ]
    },
    {
     "data": {
      "application/vnd.jupyter.widget-view+json": {
       "model_id": "70bc50e39983433eb79824694bea67d9",
       "version_major": 2,
       "version_minor": 0
      },
      "text/plain": [
       "HBox(children=(FloatProgress(value=0.0, description='Running Epoch 3 of 50', max=162.0, style=ProgressStyle(de…"
      ]
     },
     "metadata": {},
     "output_type": "display_data"
    },
    {
     "name": "stderr",
     "output_type": "stream",
     "text": [
      "INFO:simpletransformers.classification.classification_model: Features loaded from cache at cache_dir/cached_dev_bert_128_22_243\n"
     ]
    },
    {
     "data": {
      "application/vnd.jupyter.widget-view+json": {
       "model_id": "d046cb74d24943b798874964c3a48ea5",
       "version_major": 2,
       "version_minor": 0
      },
      "text/plain": [
       "HBox(children=(FloatProgress(value=0.0, description='Running Evaluation', max=31.0, style=ProgressStyle(descri…"
      ]
     },
     "metadata": {},
     "output_type": "display_data"
    },
    {
     "name": "stderr",
     "output_type": "stream",
     "text": [
      "INFO:simpletransformers.classification.classification_model:{'LRAP': 0.594813667404188, 'eval_loss': 0.548132058112852}\n"
     ]
    },
    {
     "name": "stdout",
     "output_type": "stream",
     "text": [
      "\n"
     ]
    },
    {
     "name": "stderr",
     "output_type": "stream",
     "text": [
      "/home/martin/anaconda3/envs/phenetics2/lib/python3.8/site-packages/torch/optim/lr_scheduler.py:216: UserWarning: Please also save or load the state of the optimizer when saving or loading the scheduler.\n",
      "  warnings.warn(SAVE_STATE_WARNING, UserWarning)\n"
     ]
    },
    {
     "name": "stdout",
     "output_type": "stream",
     "text": [
      "\n"
     ]
    },
    {
     "data": {
      "application/vnd.jupyter.widget-view+json": {
       "model_id": "64f8957020734b7587626c6b9f8e6210",
       "version_major": 2,
       "version_minor": 0
      },
      "text/plain": [
       "HBox(children=(FloatProgress(value=0.0, description='Running Epoch 4 of 50', max=162.0, style=ProgressStyle(de…"
      ]
     },
     "metadata": {},
     "output_type": "display_data"
    },
    {
     "name": "stderr",
     "output_type": "stream",
     "text": [
      "INFO:simpletransformers.classification.classification_model: Features loaded from cache at cache_dir/cached_dev_bert_128_22_243\n"
     ]
    },
    {
     "data": {
      "application/vnd.jupyter.widget-view+json": {
       "model_id": "cac8ab8d8e634952bd8a13ecffb7afc8",
       "version_major": 2,
       "version_minor": 0
      },
      "text/plain": [
       "HBox(children=(FloatProgress(value=0.0, description='Running Evaluation', max=31.0, style=ProgressStyle(descri…"
      ]
     },
     "metadata": {},
     "output_type": "display_data"
    },
    {
     "name": "stderr",
     "output_type": "stream",
     "text": [
      "INFO:simpletransformers.classification.classification_model:{'LRAP': 0.5937068357076928, 'eval_loss': 0.5465498018649316}\n"
     ]
    },
    {
     "name": "stdout",
     "output_type": "stream",
     "text": [
      "\n"
     ]
    },
    {
     "name": "stderr",
     "output_type": "stream",
     "text": [
      "/home/martin/anaconda3/envs/phenetics2/lib/python3.8/site-packages/torch/optim/lr_scheduler.py:216: UserWarning: Please also save or load the state of the optimizer when saving or loading the scheduler.\n",
      "  warnings.warn(SAVE_STATE_WARNING, UserWarning)\n"
     ]
    },
    {
     "name": "stdout",
     "output_type": "stream",
     "text": [
      "\n"
     ]
    },
    {
     "data": {
      "application/vnd.jupyter.widget-view+json": {
       "model_id": "a64651eccdbb42ce8736e7849d2c3e82",
       "version_major": 2,
       "version_minor": 0
      },
      "text/plain": [
       "HBox(children=(FloatProgress(value=0.0, description='Running Epoch 5 of 50', max=162.0, style=ProgressStyle(de…"
      ]
     },
     "metadata": {},
     "output_type": "display_data"
    },
    {
     "name": "stdout",
     "output_type": "stream",
     "text": [
      "\n"
     ]
    },
    {
     "data": {
      "application/vnd.jupyter.widget-view+json": {
       "model_id": "60ed02fc27714c15bc0262324a98e078",
       "version_major": 2,
       "version_minor": 0
      },
      "text/plain": [
       "HBox(children=(FloatProgress(value=0.0, description='Running Epoch 6 of 50', max=162.0, style=ProgressStyle(de…"
      ]
     },
     "metadata": {},
     "output_type": "display_data"
    },
    {
     "name": "stderr",
     "output_type": "stream",
     "text": [
      "INFO:simpletransformers.classification.classification_model: Features loaded from cache at cache_dir/cached_dev_bert_128_22_243\n"
     ]
    },
    {
     "data": {
      "application/vnd.jupyter.widget-view+json": {
       "model_id": "9b796dc2481e483f85ff0e22d6fe69fd",
       "version_major": 2,
       "version_minor": 0
      },
      "text/plain": [
       "HBox(children=(FloatProgress(value=0.0, description='Running Evaluation', max=31.0, style=ProgressStyle(descri…"
      ]
     },
     "metadata": {},
     "output_type": "display_data"
    },
    {
     "name": "stderr",
     "output_type": "stream",
     "text": [
      "INFO:simpletransformers.classification.classification_model:{'LRAP': 0.5962102011866712, 'eval_loss': 0.5469101869290874}\n",
      "INFO:simpletransformers.classification.classification_model: No improvement in eval_loss\n",
      "INFO:simpletransformers.classification.classification_model: Current step: 1\n",
      "INFO:simpletransformers.classification.classification_model: Early stopping patience: 5\n"
     ]
    },
    {
     "name": "stdout",
     "output_type": "stream",
     "text": [
      "\n",
      "\n"
     ]
    },
    {
     "data": {
      "application/vnd.jupyter.widget-view+json": {
       "model_id": "14c9af7979c84e9d80c482da49d2c481",
       "version_major": 2,
       "version_minor": 0
      },
      "text/plain": [
       "HBox(children=(FloatProgress(value=0.0, description='Running Epoch 7 of 50', max=162.0, style=ProgressStyle(de…"
      ]
     },
     "metadata": {},
     "output_type": "display_data"
    },
    {
     "name": "stderr",
     "output_type": "stream",
     "text": [
      "INFO:simpletransformers.classification.classification_model: Features loaded from cache at cache_dir/cached_dev_bert_128_22_243\n"
     ]
    },
    {
     "data": {
      "application/vnd.jupyter.widget-view+json": {
       "model_id": "9109d338da4f455caae13383c3485f08",
       "version_major": 2,
       "version_minor": 0
      },
      "text/plain": [
       "HBox(children=(FloatProgress(value=0.0, description='Running Evaluation', max=31.0, style=ProgressStyle(descri…"
      ]
     },
     "metadata": {},
     "output_type": "display_data"
    },
    {
     "name": "stderr",
     "output_type": "stream",
     "text": [
      "INFO:simpletransformers.classification.classification_model:{'LRAP': 0.5897437586045227, 'eval_loss': 0.5457547874219956}\n",
      "INFO:simpletransformers.classification.classification_model: No improvement in eval_loss\n",
      "INFO:simpletransformers.classification.classification_model: Current step: 2\n",
      "INFO:simpletransformers.classification.classification_model: Early stopping patience: 5\n"
     ]
    },
    {
     "name": "stdout",
     "output_type": "stream",
     "text": [
      "\n",
      "\n"
     ]
    },
    {
     "data": {
      "application/vnd.jupyter.widget-view+json": {
       "model_id": "1020f22adab04febb9f4fdae7dcb6a93",
       "version_major": 2,
       "version_minor": 0
      },
      "text/plain": [
       "HBox(children=(FloatProgress(value=0.0, description='Running Epoch 8 of 50', max=162.0, style=ProgressStyle(de…"
      ]
     },
     "metadata": {},
     "output_type": "display_data"
    },
    {
     "name": "stderr",
     "output_type": "stream",
     "text": [
      "INFO:simpletransformers.classification.classification_model: Features loaded from cache at cache_dir/cached_dev_bert_128_22_243\n"
     ]
    },
    {
     "data": {
      "application/vnd.jupyter.widget-view+json": {
       "model_id": "4847f52669374763a4fea296c6c876ea",
       "version_major": 2,
       "version_minor": 0
      },
      "text/plain": [
       "HBox(children=(FloatProgress(value=0.0, description='Running Evaluation', max=31.0, style=ProgressStyle(descri…"
      ]
     },
     "metadata": {},
     "output_type": "display_data"
    },
    {
     "name": "stderr",
     "output_type": "stream",
     "text": [
      "INFO:simpletransformers.classification.classification_model:{'LRAP': 0.5908640554748245, 'eval_loss': 0.5421555830586341}\n"
     ]
    },
    {
     "name": "stdout",
     "output_type": "stream",
     "text": [
      "\n"
     ]
    },
    {
     "name": "stderr",
     "output_type": "stream",
     "text": [
      "/home/martin/anaconda3/envs/phenetics2/lib/python3.8/site-packages/torch/optim/lr_scheduler.py:216: UserWarning: Please also save or load the state of the optimizer when saving or loading the scheduler.\n",
      "  warnings.warn(SAVE_STATE_WARNING, UserWarning)\n"
     ]
    },
    {
     "name": "stdout",
     "output_type": "stream",
     "text": [
      "\n"
     ]
    },
    {
     "data": {
      "application/vnd.jupyter.widget-view+json": {
       "model_id": "29af8aad9d154b65adcc395b74100417",
       "version_major": 2,
       "version_minor": 0
      },
      "text/plain": [
       "HBox(children=(FloatProgress(value=0.0, description='Running Epoch 9 of 50', max=162.0, style=ProgressStyle(de…"
      ]
     },
     "metadata": {},
     "output_type": "display_data"
    },
    {
     "name": "stderr",
     "output_type": "stream",
     "text": [
      "INFO:simpletransformers.classification.classification_model: Features loaded from cache at cache_dir/cached_dev_bert_128_22_243\n"
     ]
    },
    {
     "data": {
      "application/vnd.jupyter.widget-view+json": {
       "model_id": "8516f7b7d7d944c580d51fdf14f99530",
       "version_major": 2,
       "version_minor": 0
      },
      "text/plain": [
       "HBox(children=(FloatProgress(value=0.0, description='Running Evaluation', max=31.0, style=ProgressStyle(descri…"
      ]
     },
     "metadata": {},
     "output_type": "display_data"
    },
    {
     "name": "stderr",
     "output_type": "stream",
     "text": [
      "INFO:simpletransformers.classification.classification_model:{'LRAP': 0.5717999087730126, 'eval_loss': 0.5459488687976715}\n",
      "INFO:simpletransformers.classification.classification_model: No improvement in eval_loss\n",
      "INFO:simpletransformers.classification.classification_model: Current step: 1\n",
      "INFO:simpletransformers.classification.classification_model: Early stopping patience: 5\n"
     ]
    },
    {
     "name": "stdout",
     "output_type": "stream",
     "text": [
      "\n",
      "\n"
     ]
    },
    {
     "data": {
      "application/vnd.jupyter.widget-view+json": {
       "model_id": "89557830164f4ade82da36147261a160",
       "version_major": 2,
       "version_minor": 0
      },
      "text/plain": [
       "HBox(children=(FloatProgress(value=0.0, description='Running Epoch 10 of 50', max=162.0, style=ProgressStyle(d…"
      ]
     },
     "metadata": {},
     "output_type": "display_data"
    },
    {
     "name": "stdout",
     "output_type": "stream",
     "text": [
      "\n"
     ]
    },
    {
     "data": {
      "application/vnd.jupyter.widget-view+json": {
       "model_id": "1ab901c402ad4bf4b8cf8b5394005dbf",
       "version_major": 2,
       "version_minor": 0
      },
      "text/plain": [
       "HBox(children=(FloatProgress(value=0.0, description='Running Epoch 11 of 50', max=162.0, style=ProgressStyle(d…"
      ]
     },
     "metadata": {},
     "output_type": "display_data"
    },
    {
     "name": "stderr",
     "output_type": "stream",
     "text": [
      "INFO:simpletransformers.classification.classification_model: Features loaded from cache at cache_dir/cached_dev_bert_128_22_243\n"
     ]
    },
    {
     "data": {
      "application/vnd.jupyter.widget-view+json": {
       "model_id": "ce284a0de5e741d898a9bc44e06c01a9",
       "version_major": 2,
       "version_minor": 0
      },
      "text/plain": [
       "HBox(children=(FloatProgress(value=0.0, description='Running Evaluation', max=31.0, style=ProgressStyle(descri…"
      ]
     },
     "metadata": {},
     "output_type": "display_data"
    },
    {
     "name": "stderr",
     "output_type": "stream",
     "text": [
      "INFO:simpletransformers.classification.classification_model:{'LRAP': 0.5804415485828456, 'eval_loss': 0.5407369011832822}\n"
     ]
    },
    {
     "name": "stdout",
     "output_type": "stream",
     "text": [
      "\n"
     ]
    },
    {
     "name": "stderr",
     "output_type": "stream",
     "text": [
      "/home/martin/anaconda3/envs/phenetics2/lib/python3.8/site-packages/torch/optim/lr_scheduler.py:216: UserWarning: Please also save or load the state of the optimizer when saving or loading the scheduler.\n",
      "  warnings.warn(SAVE_STATE_WARNING, UserWarning)\n"
     ]
    },
    {
     "name": "stdout",
     "output_type": "stream",
     "text": [
      "\n"
     ]
    },
    {
     "data": {
      "application/vnd.jupyter.widget-view+json": {
       "model_id": "10d882b4599c4b87bf4543a426b889f8",
       "version_major": 2,
       "version_minor": 0
      },
      "text/plain": [
       "HBox(children=(FloatProgress(value=0.0, description='Running Epoch 12 of 50', max=162.0, style=ProgressStyle(d…"
      ]
     },
     "metadata": {},
     "output_type": "display_data"
    },
    {
     "name": "stderr",
     "output_type": "stream",
     "text": [
      "INFO:simpletransformers.classification.classification_model: Features loaded from cache at cache_dir/cached_dev_bert_128_22_243\n"
     ]
    },
    {
     "data": {
      "application/vnd.jupyter.widget-view+json": {
       "model_id": "e8761db046db426fad25a85b5fab61bc",
       "version_major": 2,
       "version_minor": 0
      },
      "text/plain": [
       "HBox(children=(FloatProgress(value=0.0, description='Running Evaluation', max=31.0, style=ProgressStyle(descri…"
      ]
     },
     "metadata": {},
     "output_type": "display_data"
    },
    {
     "name": "stderr",
     "output_type": "stream",
     "text": [
      "INFO:simpletransformers.classification.classification_model:{'LRAP': 0.5761413149446777, 'eval_loss': 0.547745616205277}\n",
      "INFO:simpletransformers.classification.classification_model: No improvement in eval_loss\n",
      "INFO:simpletransformers.classification.classification_model: Current step: 1\n",
      "INFO:simpletransformers.classification.classification_model: Early stopping patience: 5\n"
     ]
    },
    {
     "name": "stdout",
     "output_type": "stream",
     "text": [
      "\n",
      "\n"
     ]
    },
    {
     "data": {
      "application/vnd.jupyter.widget-view+json": {
       "model_id": "027a4ea23a814413a38b2b81f64571a6",
       "version_major": 2,
       "version_minor": 0
      },
      "text/plain": [
       "HBox(children=(FloatProgress(value=0.0, description='Running Epoch 13 of 50', max=162.0, style=ProgressStyle(d…"
      ]
     },
     "metadata": {},
     "output_type": "display_data"
    },
    {
     "name": "stderr",
     "output_type": "stream",
     "text": [
      "INFO:simpletransformers.classification.classification_model: Features loaded from cache at cache_dir/cached_dev_bert_128_22_243\n"
     ]
    },
    {
     "data": {
      "application/vnd.jupyter.widget-view+json": {
       "model_id": "16cb7e845bb249d099fa4c5856c9c510",
       "version_major": 2,
       "version_minor": 0
      },
      "text/plain": [
       "HBox(children=(FloatProgress(value=0.0, description='Running Evaluation', max=31.0, style=ProgressStyle(descri…"
      ]
     },
     "metadata": {},
     "output_type": "display_data"
    },
    {
     "name": "stderr",
     "output_type": "stream",
     "text": [
      "INFO:simpletransformers.classification.classification_model:{'LRAP': 0.599676103071698, 'eval_loss': 0.5514429077025382}\n",
      "INFO:simpletransformers.classification.classification_model: No improvement in eval_loss\n",
      "INFO:simpletransformers.classification.classification_model: Current step: 2\n",
      "INFO:simpletransformers.classification.classification_model: Early stopping patience: 5\n"
     ]
    },
    {
     "name": "stdout",
     "output_type": "stream",
     "text": [
      "\n",
      "\n"
     ]
    },
    {
     "data": {
      "application/vnd.jupyter.widget-view+json": {
       "model_id": "be1ba2ae722c42e980195c8ba40f45d0",
       "version_major": 2,
       "version_minor": 0
      },
      "text/plain": [
       "HBox(children=(FloatProgress(value=0.0, description='Running Epoch 14 of 50', max=162.0, style=ProgressStyle(d…"
      ]
     },
     "metadata": {},
     "output_type": "display_data"
    },
    {
     "name": "stderr",
     "output_type": "stream",
     "text": [
      "INFO:simpletransformers.classification.classification_model: Features loaded from cache at cache_dir/cached_dev_bert_128_22_243\n"
     ]
    },
    {
     "data": {
      "application/vnd.jupyter.widget-view+json": {
       "model_id": "e4194fb2dce84f0aadf8c4938291c2bc",
       "version_major": 2,
       "version_minor": 0
      },
      "text/plain": [
       "HBox(children=(FloatProgress(value=0.0, description='Running Evaluation', max=31.0, style=ProgressStyle(descri…"
      ]
     },
     "metadata": {},
     "output_type": "display_data"
    },
    {
     "name": "stderr",
     "output_type": "stream",
     "text": [
      "INFO:simpletransformers.classification.classification_model:{'LRAP': 0.5790795036601375, 'eval_loss': 0.5582728866607912}\n",
      "INFO:simpletransformers.classification.classification_model: No improvement in eval_loss\n",
      "INFO:simpletransformers.classification.classification_model: Current step: 3\n",
      "INFO:simpletransformers.classification.classification_model: Early stopping patience: 5\n"
     ]
    },
    {
     "name": "stdout",
     "output_type": "stream",
     "text": [
      "\n",
      "\n"
     ]
    },
    {
     "data": {
      "application/vnd.jupyter.widget-view+json": {
       "model_id": "9a2589a3299645c1a54d773996266892",
       "version_major": 2,
       "version_minor": 0
      },
      "text/plain": [
       "HBox(children=(FloatProgress(value=0.0, description='Running Epoch 15 of 50', max=162.0, style=ProgressStyle(d…"
      ]
     },
     "metadata": {},
     "output_type": "display_data"
    },
    {
     "name": "stdout",
     "output_type": "stream",
     "text": [
      "\n"
     ]
    },
    {
     "data": {
      "application/vnd.jupyter.widget-view+json": {
       "model_id": "48a4d26c9856423585beeb29603ead3b",
       "version_major": 2,
       "version_minor": 0
      },
      "text/plain": [
       "HBox(children=(FloatProgress(value=0.0, description='Running Epoch 16 of 50', max=162.0, style=ProgressStyle(d…"
      ]
     },
     "metadata": {},
     "output_type": "display_data"
    },
    {
     "name": "stderr",
     "output_type": "stream",
     "text": [
      "INFO:simpletransformers.classification.classification_model: Features loaded from cache at cache_dir/cached_dev_bert_128_22_243\n"
     ]
    },
    {
     "data": {
      "application/vnd.jupyter.widget-view+json": {
       "model_id": "1054790c82d64ed1b11ba4957797e200",
       "version_major": 2,
       "version_minor": 0
      },
      "text/plain": [
       "HBox(children=(FloatProgress(value=0.0, description='Running Evaluation', max=31.0, style=ProgressStyle(descri…"
      ]
     },
     "metadata": {},
     "output_type": "display_data"
    },
    {
     "name": "stderr",
     "output_type": "stream",
     "text": [
      "INFO:simpletransformers.classification.classification_model:{'LRAP': 0.5830295941777625, 'eval_loss': 0.5669797322442455}\n",
      "INFO:simpletransformers.classification.classification_model: No improvement in eval_loss\n",
      "INFO:simpletransformers.classification.classification_model: Current step: 4\n",
      "INFO:simpletransformers.classification.classification_model: Early stopping patience: 5\n"
     ]
    },
    {
     "name": "stdout",
     "output_type": "stream",
     "text": [
      "\n",
      "\n"
     ]
    },
    {
     "data": {
      "application/vnd.jupyter.widget-view+json": {
       "model_id": "52885db3750d4d08a521121a12083ca1",
       "version_major": 2,
       "version_minor": 0
      },
      "text/plain": [
       "HBox(children=(FloatProgress(value=0.0, description='Running Epoch 17 of 50', max=162.0, style=ProgressStyle(d…"
      ]
     },
     "metadata": {},
     "output_type": "display_data"
    },
    {
     "name": "stderr",
     "output_type": "stream",
     "text": [
      "INFO:simpletransformers.classification.classification_model: Features loaded from cache at cache_dir/cached_dev_bert_128_22_243\n"
     ]
    },
    {
     "data": {
      "application/vnd.jupyter.widget-view+json": {
       "model_id": "348d474fd5b0424f88247d6ad8b87283",
       "version_major": 2,
       "version_minor": 0
      },
      "text/plain": [
       "HBox(children=(FloatProgress(value=0.0, description='Running Evaluation', max=31.0, style=ProgressStyle(descri…"
      ]
     },
     "metadata": {},
     "output_type": "display_data"
    },
    {
     "name": "stderr",
     "output_type": "stream",
     "text": [
      "INFO:simpletransformers.classification.classification_model:{'LRAP': 0.5735196580786895, 'eval_loss': 0.5780055244122783}\n",
      "INFO:simpletransformers.classification.classification_model: No improvement in eval_loss\n",
      "INFO:simpletransformers.classification.classification_model: Current step: 5\n",
      "INFO:simpletransformers.classification.classification_model: Early stopping patience: 5\n"
     ]
    },
    {
     "name": "stdout",
     "output_type": "stream",
     "text": [
      "\n",
      "\n"
     ]
    },
    {
     "data": {
      "application/vnd.jupyter.widget-view+json": {
       "model_id": "d39ac91ba51a4cc8bbf638e114fc8f78",
       "version_major": 2,
       "version_minor": 0
      },
      "text/plain": [
       "HBox(children=(FloatProgress(value=0.0, description='Running Epoch 18 of 50', max=162.0, style=ProgressStyle(d…"
      ]
     },
     "metadata": {},
     "output_type": "display_data"
    },
    {
     "name": "stderr",
     "output_type": "stream",
     "text": [
      "INFO:simpletransformers.classification.classification_model: Features loaded from cache at cache_dir/cached_dev_bert_128_22_243\n"
     ]
    },
    {
     "data": {
      "application/vnd.jupyter.widget-view+json": {
       "model_id": "c2cdc08c468448c196fe74baafe1fba6",
       "version_major": 2,
       "version_minor": 0
      },
      "text/plain": [
       "HBox(children=(FloatProgress(value=0.0, description='Running Evaluation', max=31.0, style=ProgressStyle(descri…"
      ]
     },
     "metadata": {},
     "output_type": "display_data"
    },
    {
     "name": "stderr",
     "output_type": "stream",
     "text": [
      "INFO:simpletransformers.classification.classification_model:{'LRAP': 0.5627058445520303, 'eval_loss': 0.5878909105254758}\n",
      "INFO:simpletransformers.classification.classification_model: Patience of 5 steps reached\n",
      "INFO:simpletransformers.classification.classification_model: Training terminated.\n"
     ]
    },
    {
     "name": "stdout",
     "output_type": "stream",
     "text": [
      "\n",
      "\n",
      "\n"
     ]
    },
    {
     "name": "stderr",
     "output_type": "stream",
     "text": [
      "INFO:simpletransformers.classification.classification_model: Training of bert model complete. Saved to outputs/.\n"
     ]
    },
    {
     "data": {
      "text/plain": [
       "(750,\n",
       " {'global_step': [50,\n",
       "   100,\n",
       "   150,\n",
       "   200,\n",
       "   250,\n",
       "   300,\n",
       "   350,\n",
       "   400,\n",
       "   450,\n",
       "   500,\n",
       "   550,\n",
       "   600,\n",
       "   650,\n",
       "   700,\n",
       "   750],\n",
       "  'LRAP': [0.468357012560665,\n",
       "   0.5869577250703979,\n",
       "   0.594813667404188,\n",
       "   0.5937068357076928,\n",
       "   0.5962102011866712,\n",
       "   0.5897437586045227,\n",
       "   0.5908640554748245,\n",
       "   0.5717999087730126,\n",
       "   0.5804415485828456,\n",
       "   0.5761413149446777,\n",
       "   0.599676103071698,\n",
       "   0.5790795036601375,\n",
       "   0.5830295941777625,\n",
       "   0.5735196580786895,\n",
       "   0.5627058445520303],\n",
       "  'train_loss': [0.679358959197998,\n",
       "   0.5187795162200928,\n",
       "   0.5132209062576294,\n",
       "   0.49047574400901794,\n",
       "   0.6157706379890442,\n",
       "   0.538936197757721,\n",
       "   0.5324342846870422,\n",
       "   0.47953879833221436,\n",
       "   0.40780091285705566,\n",
       "   0.35237300395965576,\n",
       "   0.2539003789424896,\n",
       "   0.3260416090488434,\n",
       "   0.23354387283325195,\n",
       "   0.2873549163341522,\n",
       "   0.5424700379371643],\n",
       "  'eval_loss': [0.6706959701353504,\n",
       "   0.5606631271300777,\n",
       "   0.548132058112852,\n",
       "   0.5465498018649316,\n",
       "   0.5469101869290874,\n",
       "   0.5457547874219956,\n",
       "   0.5421555830586341,\n",
       "   0.5459488687976715,\n",
       "   0.5407369011832822,\n",
       "   0.547745616205277,\n",
       "   0.5514429077025382,\n",
       "   0.5582728866607912,\n",
       "   0.5669797322442455,\n",
       "   0.5780055244122783,\n",
       "   0.5878909105254758]})"
      ]
     },
     "execution_count": 16,
     "metadata": {},
     "output_type": "execute_result"
    }
   ],
   "source": [
    "model.train_model(train_df, eval_df=test_df, show_running_loss=True)"
   ]
  },
  {
   "cell_type": "code",
   "execution_count": null,
   "metadata": {},
   "outputs": [],
   "source": []
  },
  {
   "cell_type": "code",
   "execution_count": 22,
   "metadata": {},
   "outputs": [],
   "source": [
    "from sklearn.metrics import *"
   ]
  },
  {
   "cell_type": "code",
   "execution_count": 17,
   "metadata": {},
   "outputs": [
    {
     "data": {
      "application/vnd.jupyter.widget-view+json": {
       "model_id": "b7d82a0a3f5c44da938b9f9d83ab74ab",
       "version_major": 2,
       "version_minor": 0
      },
      "text/plain": [
       "HBox(children=(FloatProgress(value=0.0, description='Running Evaluation', max=31.0, style=ProgressStyle(descri…"
      ]
     },
     "metadata": {},
     "output_type": "display_data"
    },
    {
     "name": "stdout",
     "output_type": "stream",
     "text": [
      "\n"
     ]
    }
   ],
   "source": [
    "result, model_outputs, wrong_predictions = model.eval_model(test_df)"
   ]
  },
  {
   "cell_type": "code",
   "execution_count": 18,
   "metadata": {},
   "outputs": [
    {
     "data": {
      "text/plain": [
       "{'LRAP': 0.5627058445520303, 'eval_loss': 0.5878909105254758}"
      ]
     },
     "execution_count": 18,
     "metadata": {},
     "output_type": "execute_result"
    }
   ],
   "source": [
    "result"
   ]
  },
  {
   "cell_type": "code",
   "execution_count": 19,
   "metadata": {},
   "outputs": [
    {
     "data": {
      "text/plain": [
       "0.23355764366917695"
      ]
     },
     "execution_count": 19,
     "metadata": {},
     "output_type": "execute_result"
    }
   ],
   "source": [
    "import numpy as np\n",
    "np.mean(model_outputs)"
   ]
  },
  {
   "cell_type": "code",
   "execution_count": 20,
   "metadata": {},
   "outputs": [
    {
     "data": {
      "text/plain": [
       "0.27983539094650206"
      ]
     },
     "execution_count": 20,
     "metadata": {},
     "output_type": "execute_result"
    }
   ],
   "source": [
    "sklearn.metrics.hamming_loss(testing_labels, model_outputs > 0.5)"
   ]
  },
  {
   "cell_type": "code",
   "execution_count": 24,
   "metadata": {},
   "outputs": [
    {
     "name": "stdout",
     "output_type": "stream",
     "text": [
      "                                               precision    recall  f1-score   support\n",
      "\n",
      "                        Analysis and Modeling       0.40      0.27      0.33        84\n",
      "           Analysis and Modeling: 3D Modeling       0.41      0.15      0.22        71\n",
      "                            Anatomical Target       0.67      0.79      0.73       164\n",
      "           Anatomical Target: Lower Extremity       0.52      0.28      0.37       113\n",
      "     Anatomical Target: Lower Extremity - Hip       0.00      0.00      0.00        40\n",
      "    Anatomical Target: Lower Extremity - Knee       0.50      0.01      0.02        82\n",
      "                     Anatomical Target: Torso       0.00      0.00      0.00        35\n",
      "             Anatomical Target: Torso - Spine       0.00      0.00      0.00        21\n",
      "           Anatomical Target: Upper Extremity       0.00      0.00      0.00        31\n",
      "Anatomical Target: Upper Extremity - Shoulder       0.00      0.00      0.00        23\n",
      "                                      Imaging       0.51      0.24      0.33       133\n",
      "                                  Imaging: CT       0.00      0.00      0.00        59\n",
      "                                 Imaging: MRI       0.00      0.00      0.00        59\n",
      "                          Imaging: Ultrasound       0.00      0.00      0.00        32\n",
      "                                Manufacturing       0.33      0.83      0.48        83\n",
      "        Manufacturing: Additive Manufacturing       0.00      0.00      0.00        38\n",
      "           Personalized Product: Guide or Jig       0.65      0.22      0.33       120\n",
      "                Personalized Product: Implant       0.57      0.66      0.61       124\n",
      "                         Specification of Use       0.00      0.00      0.00        79\n",
      "                Specification of Use: Disease       0.00      0.00      0.00        30\n",
      "      Specification of Use: Joint Replacement       0.00      0.00      0.00        44\n",
      "                              Surgical Method       0.00      0.00      0.00        40\n",
      "\n",
      "                                    micro avg       0.51      0.27      0.35      1505\n",
      "                                    macro avg       0.21      0.16      0.15      1505\n",
      "                                 weighted avg       0.34      0.27      0.27      1505\n",
      "                                  samples avg       0.50      0.30      0.34      1505\n",
      "\n"
     ]
    }
   ],
   "source": [
    "#Abstract - \n",
    "print(classification_report(testing_labels, model_outputs > .5, target_names=mlb.classes_))"
   ]
  },
  {
   "cell_type": "code",
   "execution_count": null,
   "metadata": {},
   "outputs": [],
   "source": []
  },
  {
   "cell_type": "code",
   "execution_count": null,
   "metadata": {},
   "outputs": [],
   "source": [
    "# import numpy as np\n",
    "# import os\n",
    "# import re\n",
    "# import tensorflow as tf\n",
    "# import torch\n",
    "# def convert_tf_checkpoint_to_pytorch(tf_checkpoint_path, bert_config_file, pytorch_dump_path):\n",
    "#     config_path = os.path.abspath(bert_config_file)\n",
    "#     tf_path = os.path.abspath(tf_checkpoint_path)\n",
    "#     print(\"Converting TensorFlow checkpoint from {} with config at {}\".format(tf_path, config_path))\n",
    "#     # Load weights from TF model\n",
    "#     init_vars = tf.train.list_variables(tf_path)\n",
    "#     excluded = [\"BERTAdam\", \"_power\", \"global_step\", \"_CHECKPOINTABLE_OBJECT_GRAPH\"]\n",
    "#     init_vars = list(filter(lambda x: all([True if e not in x[0] else False for e in excluded]), init_vars))\n",
    "#     names = []\n",
    "#     arrays = []\n",
    "#     for name, shape in init_vars:\n",
    "#         print(\"Loading TF weight {} with shape {}\".format(name, shape))\n",
    "#         array = tf.train.load_variable(tf_path, name)\n",
    "#         names.append(name)\n",
    "#         arrays.append(array)\n",
    "\n",
    "#     config = BertConfig.from_json_file(bert_config_file)\n",
    "#     print(\"Building PyTorch model from configuration: {}\".format(str(config)))\n",
    "#     # Initialise PyTorch model\n",
    "#     model = BertForSequenceClassification(config)\n",
    "\n",
    "#     for name, array in zip(names, arrays):\n",
    "#         name = name.split(\"/\")\n",
    "#         # adam_v and adam_m are variables used in AdamWeightDecayOptimizer to calculated m and v\n",
    "#         # which are not required for using pretrained model\n",
    "#         if any(n in [\"adam_v\", \"adam_m\", \"global_step\", \"bad_steps\", \"global_step\", \"good_steps\", \"loss_scale\",\n",
    "#                      \"AdamWeightDecayOptimizer\", \"AdamWeightDecayOptimizer_1\", \"save_counter\", \".OPTIMIZER_SLOT\"] for n in name) or \\\n",
    "#                 name[0] == \"optimizer\":\n",
    "#             print(\"Skipping {}\".format(\"/\".join(name)))\n",
    "#             continue\n",
    "#         if \".OPTIMIZER_SLOT\" in name:\n",
    "#             idx = name.index(\".OPTIMIZER_SLOT\")\n",
    "#             name = name[:idx]\n",
    "#         elif \".ATTRIBUTES\" in name:\n",
    "#             idx = name.index(\".ATTRIBUTES\")\n",
    "#             name = name[:idx]\n",
    "#         print(name)\n",
    "#         pointer = model\n",
    "#         for m_name in name:\n",
    "#             try:\n",
    "#                 if re.fullmatch(r\"[A-Za-z]+_\\d+\", m_name):\n",
    "#                     scope_names = re.split(r\"_(\\d+)\", m_name)\n",
    "#                 else:\n",
    "#                     scope_names = [m_name]\n",
    "#                 if scope_names[0] == \"kernel\" or scope_names[0] == \"gamma\":\n",
    "#                     pointer = getattr(pointer, \"weight\")\n",
    "#                 elif scope_names[0] == \"output_bias\" or scope_names[0] == \"beta\":\n",
    "#                     pointer = getattr(pointer, \"bias\")\n",
    "#                 elif scope_names[0] == \"output_weights\":\n",
    "#                     pointer = getattr(pointer, \"weight\")\n",
    "#                 elif scope_names[0] == \"squad\":\n",
    "#                     pointer = getattr(pointer, \"classifier\")\n",
    "#                 elif scope_names[0] == \"dense_output\" or scope_names[0] == \"bert_output\":\n",
    "#                     pointer = getattr(pointer, \"output\")\n",
    "#                 elif scope_names[0] == \"self_attention\":\n",
    "#                     pointer = getattr(pointer, \"self\")\n",
    "#                 else:\n",
    "#                     pointer = getattr(pointer, scope_names[0])\n",
    "#             except AttributeError:\n",
    "#                     logger.info(\"Skipping {}\".format(\"/\".join(name)))\n",
    "#                     continue\n",
    "#             if len(scope_names) >= 2:\n",
    "#                 num = int(scope_names[1])\n",
    "#                 pointer = pointer[num]\n",
    "#         if m_name[-11:] == \"_embeddings\":\n",
    "#             pointer = getattr(pointer, \"weight\")\n",
    "#         elif m_name == \"kernel\" or m_name == \"gamma\" or m_name == \"output_weights\":\n",
    "#             array = np.transpose(array)\n",
    "#         # print(\"Initialize PyTorch weight {}\".format(name))\n",
    "#         pointer.data = torch.from_numpy(array)\n",
    "\n",
    "#     # Save pytorch-model\n",
    "#     print(\"Save PyTorch model to {}\".format(pytorch_dump_path))\n",
    "#     torch.save(model.state_dict(), pytorch_dump_path)\n",
    "\n",
    "\n",
    "# convert_tf_checkpoint_to_pytorch(\"/var/patentmark/patentBERT/model.ckpt\", \"/var/patentmark/patentBERT/config.json\", pytorch_dump_path=\"/var/patentmark/patentBERT/pytorch.bin\")"
   ]
  },
  {
   "cell_type": "code",
   "execution_count": null,
   "metadata": {},
   "outputs": [],
   "source": []
  }
 ],
 "metadata": {
  "kernelspec": {
   "display_name": "Python 3",
   "language": "python",
   "name": "python3"
  },
  "language_info": {
   "codemirror_mode": {
    "name": "ipython",
    "version": 3
   },
   "file_extension": ".py",
   "mimetype": "text/x-python",
   "name": "python",
   "nbconvert_exporter": "python",
   "pygments_lexer": "ipython3",
   "version": "3.8.6"
  }
 },
 "nbformat": 4,
 "nbformat_minor": 4
}
