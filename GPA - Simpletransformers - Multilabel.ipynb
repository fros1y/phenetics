{
 "cells": [
  {
   "cell_type": "code",
   "execution_count": 1,
   "metadata": {},
   "outputs": [],
   "source": [
    "from simpletransformers.classification import MultiLabelClassificationArgs, MultiLabelClassificationModel\n",
    "import sklearn\n",
    "import pandas as pd\n",
    "import logging\n",
    "from util import *\n",
    "from sklearn.preprocessing import MultiLabelBinarizer\n",
    "#from transformers imp ort *\n",
    "import numpy as np\n",
    "import os\n",
    "import re\n",
    "import tensorflow as tf\n",
    "import torch\n",
    "from util import *\n",
    "logging.basicConfig(level=logging.INFO)\n",
    "transformers_logger = logging.getLogger(\"transformers\")\n",
    "transformers_logger.setLevel(logging.WARNING)"
   ]
  },
  {
   "cell_type": "code",
   "execution_count": null,
   "metadata": {},
   "outputs": [],
   "source": []
  },
  {
   "cell_type": "code",
   "execution_count": null,
   "metadata": {},
   "outputs": [],
   "source": []
  },
  {
   "cell_type": "code",
   "execution_count": 2,
   "metadata": {},
   "outputs": [],
   "source": [
    "training_set = pd.read_json(\"training_set.json.gz\", lines=True, orient=\"records\")\n",
    "testing_set = pd.read_json(\"testing_set.json.gz\", lines=True, orient=\"records\")\n",
    "subset = list(set(all_tiers_100)-set([\"PersonalizedProduct\"]))"
   ]
  },
  {
   "cell_type": "code",
   "execution_count": 3,
   "metadata": {},
   "outputs": [
    {
     "data": {
      "text/plain": [
       "['AnatomicalTarget_LowerExtremity',\n",
       " 'Imaging',\n",
       " 'SpecificationofUse_JointReplacement',\n",
       " 'AnatomicalTarget_Torso',\n",
       " 'AnatomicalTarget',\n",
       " 'AnatomicalTarget_UpperExtremity',\n",
       " 'Imaging_CT',\n",
       " 'SurgicalMethod',\n",
       " 'AnatomicalTarget_UpperExtremity_Shoulder',\n",
       " 'AnatomicalTarget_LowerExtremity_Hip',\n",
       " 'Imaging_MRI',\n",
       " 'AnalysisAndModeling_3DModeling',\n",
       " 'Imaging_Ultrasound',\n",
       " 'AnatomicalTarget_LowerExtremity_Knee',\n",
       " 'Manufacturing_AdditiveManufacturing',\n",
       " 'AnatomicalTarget_Torso_Spine',\n",
       " 'PersonalizedProduct_Guide/Jig',\n",
       " 'Manufacturing',\n",
       " 'AnalysisAndModeling',\n",
       " 'SpecificationofUse_Disease',\n",
       " 'PersonalizedProduct_Implant',\n",
       " 'SpecificationofUse']"
      ]
     },
     "execution_count": 3,
     "metadata": {},
     "output_type": "execute_result"
    }
   ],
   "source": [
    "subset"
   ]
  },
  {
   "cell_type": "code",
   "execution_count": 4,
   "metadata": {},
   "outputs": [],
   "source": [
    "training_set['labels'] = training_set[subset].apply(array_labels,axis=1)\n",
    "testing_set['labels'] = testing_set[subset].apply(array_labels,axis=1)"
   ]
  },
  {
   "cell_type": "code",
   "execution_count": 5,
   "metadata": {},
   "outputs": [],
   "source": [
    "mlb = MultiLabelBinarizer()\n",
    "training_labels  = mlb.fit_transform(training_set.labels)\n",
    "testing_labels = mlb.transform(testing_set.labels)"
   ]
  },
  {
   "cell_type": "code",
   "execution_count": 6,
   "metadata": {},
   "outputs": [
    {
     "data": {
      "text/html": [
       "<div>\n",
       "<style scoped>\n",
       "    .dataframe tbody tr th:only-of-type {\n",
       "        vertical-align: middle;\n",
       "    }\n",
       "\n",
       "    .dataframe tbody tr th {\n",
       "        vertical-align: top;\n",
       "    }\n",
       "\n",
       "    .dataframe thead th {\n",
       "        text-align: right;\n",
       "    }\n",
       "</style>\n",
       "<table border=\"1\" class=\"dataframe\">\n",
       "  <thead>\n",
       "    <tr style=\"text-align: right;\">\n",
       "      <th></th>\n",
       "      <th>AnatomicalTarget_LowerExtremity</th>\n",
       "      <th>Imaging</th>\n",
       "      <th>SpecificationofUse_JointReplacement</th>\n",
       "      <th>AnatomicalTarget_Torso</th>\n",
       "      <th>AnatomicalTarget</th>\n",
       "      <th>AnatomicalTarget_UpperExtremity</th>\n",
       "      <th>Imaging_CT</th>\n",
       "      <th>SurgicalMethod</th>\n",
       "      <th>AnatomicalTarget_UpperExtremity_Shoulder</th>\n",
       "      <th>AnatomicalTarget_LowerExtremity_Hip</th>\n",
       "      <th>...</th>\n",
       "      <th>Imaging_Ultrasound</th>\n",
       "      <th>AnatomicalTarget_LowerExtremity_Knee</th>\n",
       "      <th>Manufacturing_AdditiveManufacturing</th>\n",
       "      <th>AnatomicalTarget_Torso_Spine</th>\n",
       "      <th>PersonalizedProduct_Guide/Jig</th>\n",
       "      <th>Manufacturing</th>\n",
       "      <th>AnalysisAndModeling</th>\n",
       "      <th>SpecificationofUse_Disease</th>\n",
       "      <th>PersonalizedProduct_Implant</th>\n",
       "      <th>SpecificationofUse</th>\n",
       "    </tr>\n",
       "  </thead>\n",
       "  <tbody>\n",
       "    <tr>\n",
       "      <th>0</th>\n",
       "      <td>True</td>\n",
       "      <td>True</td>\n",
       "      <td>True</td>\n",
       "      <td>True</td>\n",
       "      <td>True</td>\n",
       "      <td>True</td>\n",
       "      <td>True</td>\n",
       "      <td>False</td>\n",
       "      <td>True</td>\n",
       "      <td>True</td>\n",
       "      <td>...</td>\n",
       "      <td>False</td>\n",
       "      <td>True</td>\n",
       "      <td>False</td>\n",
       "      <td>True</td>\n",
       "      <td>True</td>\n",
       "      <td>True</td>\n",
       "      <td>True</td>\n",
       "      <td>False</td>\n",
       "      <td>False</td>\n",
       "      <td>True</td>\n",
       "    </tr>\n",
       "    <tr>\n",
       "      <th>1</th>\n",
       "      <td>False</td>\n",
       "      <td>False</td>\n",
       "      <td>False</td>\n",
       "      <td>False</td>\n",
       "      <td>False</td>\n",
       "      <td>False</td>\n",
       "      <td>False</td>\n",
       "      <td>False</td>\n",
       "      <td>False</td>\n",
       "      <td>False</td>\n",
       "      <td>...</td>\n",
       "      <td>False</td>\n",
       "      <td>False</td>\n",
       "      <td>False</td>\n",
       "      <td>False</td>\n",
       "      <td>True</td>\n",
       "      <td>False</td>\n",
       "      <td>False</td>\n",
       "      <td>False</td>\n",
       "      <td>False</td>\n",
       "      <td>False</td>\n",
       "    </tr>\n",
       "    <tr>\n",
       "      <th>2</th>\n",
       "      <td>True</td>\n",
       "      <td>False</td>\n",
       "      <td>True</td>\n",
       "      <td>False</td>\n",
       "      <td>True</td>\n",
       "      <td>False</td>\n",
       "      <td>False</td>\n",
       "      <td>False</td>\n",
       "      <td>False</td>\n",
       "      <td>False</td>\n",
       "      <td>...</td>\n",
       "      <td>False</td>\n",
       "      <td>True</td>\n",
       "      <td>False</td>\n",
       "      <td>False</td>\n",
       "      <td>False</td>\n",
       "      <td>True</td>\n",
       "      <td>True</td>\n",
       "      <td>False</td>\n",
       "      <td>True</td>\n",
       "      <td>True</td>\n",
       "    </tr>\n",
       "    <tr>\n",
       "      <th>3</th>\n",
       "      <td>False</td>\n",
       "      <td>True</td>\n",
       "      <td>False</td>\n",
       "      <td>False</td>\n",
       "      <td>True</td>\n",
       "      <td>True</td>\n",
       "      <td>False</td>\n",
       "      <td>False</td>\n",
       "      <td>True</td>\n",
       "      <td>False</td>\n",
       "      <td>...</td>\n",
       "      <td>False</td>\n",
       "      <td>False</td>\n",
       "      <td>False</td>\n",
       "      <td>False</td>\n",
       "      <td>True</td>\n",
       "      <td>True</td>\n",
       "      <td>True</td>\n",
       "      <td>False</td>\n",
       "      <td>False</td>\n",
       "      <td>False</td>\n",
       "    </tr>\n",
       "    <tr>\n",
       "      <th>4</th>\n",
       "      <td>True</td>\n",
       "      <td>False</td>\n",
       "      <td>False</td>\n",
       "      <td>False</td>\n",
       "      <td>True</td>\n",
       "      <td>False</td>\n",
       "      <td>False</td>\n",
       "      <td>False</td>\n",
       "      <td>False</td>\n",
       "      <td>False</td>\n",
       "      <td>...</td>\n",
       "      <td>False</td>\n",
       "      <td>True</td>\n",
       "      <td>False</td>\n",
       "      <td>False</td>\n",
       "      <td>True</td>\n",
       "      <td>False</td>\n",
       "      <td>False</td>\n",
       "      <td>False</td>\n",
       "      <td>False</td>\n",
       "      <td>False</td>\n",
       "    </tr>\n",
       "    <tr>\n",
       "      <th>...</th>\n",
       "      <td>...</td>\n",
       "      <td>...</td>\n",
       "      <td>...</td>\n",
       "      <td>...</td>\n",
       "      <td>...</td>\n",
       "      <td>...</td>\n",
       "      <td>...</td>\n",
       "      <td>...</td>\n",
       "      <td>...</td>\n",
       "      <td>...</td>\n",
       "      <td>...</td>\n",
       "      <td>...</td>\n",
       "      <td>...</td>\n",
       "      <td>...</td>\n",
       "      <td>...</td>\n",
       "      <td>...</td>\n",
       "      <td>...</td>\n",
       "      <td>...</td>\n",
       "      <td>...</td>\n",
       "      <td>...</td>\n",
       "      <td>...</td>\n",
       "    </tr>\n",
       "    <tr>\n",
       "      <th>967</th>\n",
       "      <td>True</td>\n",
       "      <td>True</td>\n",
       "      <td>False</td>\n",
       "      <td>False</td>\n",
       "      <td>True</td>\n",
       "      <td>True</td>\n",
       "      <td>True</td>\n",
       "      <td>False</td>\n",
       "      <td>True</td>\n",
       "      <td>True</td>\n",
       "      <td>...</td>\n",
       "      <td>False</td>\n",
       "      <td>True</td>\n",
       "      <td>False</td>\n",
       "      <td>False</td>\n",
       "      <td>True</td>\n",
       "      <td>False</td>\n",
       "      <td>True</td>\n",
       "      <td>False</td>\n",
       "      <td>True</td>\n",
       "      <td>False</td>\n",
       "    </tr>\n",
       "    <tr>\n",
       "      <th>968</th>\n",
       "      <td>False</td>\n",
       "      <td>True</td>\n",
       "      <td>False</td>\n",
       "      <td>False</td>\n",
       "      <td>False</td>\n",
       "      <td>False</td>\n",
       "      <td>False</td>\n",
       "      <td>False</td>\n",
       "      <td>False</td>\n",
       "      <td>False</td>\n",
       "      <td>...</td>\n",
       "      <td>False</td>\n",
       "      <td>False</td>\n",
       "      <td>True</td>\n",
       "      <td>False</td>\n",
       "      <td>False</td>\n",
       "      <td>True</td>\n",
       "      <td>False</td>\n",
       "      <td>False</td>\n",
       "      <td>False</td>\n",
       "      <td>False</td>\n",
       "    </tr>\n",
       "    <tr>\n",
       "      <th>969</th>\n",
       "      <td>False</td>\n",
       "      <td>True</td>\n",
       "      <td>False</td>\n",
       "      <td>False</td>\n",
       "      <td>False</td>\n",
       "      <td>False</td>\n",
       "      <td>False</td>\n",
       "      <td>False</td>\n",
       "      <td>False</td>\n",
       "      <td>False</td>\n",
       "      <td>...</td>\n",
       "      <td>False</td>\n",
       "      <td>False</td>\n",
       "      <td>True</td>\n",
       "      <td>False</td>\n",
       "      <td>True</td>\n",
       "      <td>True</td>\n",
       "      <td>False</td>\n",
       "      <td>False</td>\n",
       "      <td>False</td>\n",
       "      <td>False</td>\n",
       "    </tr>\n",
       "    <tr>\n",
       "      <th>970</th>\n",
       "      <td>True</td>\n",
       "      <td>True</td>\n",
       "      <td>False</td>\n",
       "      <td>False</td>\n",
       "      <td>True</td>\n",
       "      <td>False</td>\n",
       "      <td>True</td>\n",
       "      <td>False</td>\n",
       "      <td>False</td>\n",
       "      <td>True</td>\n",
       "      <td>...</td>\n",
       "      <td>False</td>\n",
       "      <td>False</td>\n",
       "      <td>False</td>\n",
       "      <td>False</td>\n",
       "      <td>True</td>\n",
       "      <td>False</td>\n",
       "      <td>False</td>\n",
       "      <td>False</td>\n",
       "      <td>False</td>\n",
       "      <td>False</td>\n",
       "    </tr>\n",
       "    <tr>\n",
       "      <th>971</th>\n",
       "      <td>False</td>\n",
       "      <td>True</td>\n",
       "      <td>False</td>\n",
       "      <td>True</td>\n",
       "      <td>True</td>\n",
       "      <td>False</td>\n",
       "      <td>False</td>\n",
       "      <td>False</td>\n",
       "      <td>False</td>\n",
       "      <td>False</td>\n",
       "      <td>...</td>\n",
       "      <td>False</td>\n",
       "      <td>False</td>\n",
       "      <td>False</td>\n",
       "      <td>True</td>\n",
       "      <td>False</td>\n",
       "      <td>True</td>\n",
       "      <td>False</td>\n",
       "      <td>False</td>\n",
       "      <td>False</td>\n",
       "      <td>False</td>\n",
       "    </tr>\n",
       "  </tbody>\n",
       "</table>\n",
       "<p>972 rows × 22 columns</p>\n",
       "</div>"
      ],
      "text/plain": [
       "     AnatomicalTarget_LowerExtremity  Imaging  \\\n",
       "0                               True     True   \n",
       "1                              False    False   \n",
       "2                               True    False   \n",
       "3                              False     True   \n",
       "4                               True    False   \n",
       "..                               ...      ...   \n",
       "967                             True     True   \n",
       "968                            False     True   \n",
       "969                            False     True   \n",
       "970                             True     True   \n",
       "971                            False     True   \n",
       "\n",
       "     SpecificationofUse_JointReplacement  AnatomicalTarget_Torso  \\\n",
       "0                                   True                    True   \n",
       "1                                  False                   False   \n",
       "2                                   True                   False   \n",
       "3                                  False                   False   \n",
       "4                                  False                   False   \n",
       "..                                   ...                     ...   \n",
       "967                                False                   False   \n",
       "968                                False                   False   \n",
       "969                                False                   False   \n",
       "970                                False                   False   \n",
       "971                                False                    True   \n",
       "\n",
       "     AnatomicalTarget  AnatomicalTarget_UpperExtremity  Imaging_CT  \\\n",
       "0                True                             True        True   \n",
       "1               False                            False       False   \n",
       "2                True                            False       False   \n",
       "3                True                             True       False   \n",
       "4                True                            False       False   \n",
       "..                ...                              ...         ...   \n",
       "967              True                             True        True   \n",
       "968             False                            False       False   \n",
       "969             False                            False       False   \n",
       "970              True                            False        True   \n",
       "971              True                            False       False   \n",
       "\n",
       "     SurgicalMethod  AnatomicalTarget_UpperExtremity_Shoulder  \\\n",
       "0             False                                      True   \n",
       "1             False                                     False   \n",
       "2             False                                     False   \n",
       "3             False                                      True   \n",
       "4             False                                     False   \n",
       "..              ...                                       ...   \n",
       "967           False                                      True   \n",
       "968           False                                     False   \n",
       "969           False                                     False   \n",
       "970           False                                     False   \n",
       "971           False                                     False   \n",
       "\n",
       "     AnatomicalTarget_LowerExtremity_Hip  ...  Imaging_Ultrasound  \\\n",
       "0                                   True  ...               False   \n",
       "1                                  False  ...               False   \n",
       "2                                  False  ...               False   \n",
       "3                                  False  ...               False   \n",
       "4                                  False  ...               False   \n",
       "..                                   ...  ...                 ...   \n",
       "967                                 True  ...               False   \n",
       "968                                False  ...               False   \n",
       "969                                False  ...               False   \n",
       "970                                 True  ...               False   \n",
       "971                                False  ...               False   \n",
       "\n",
       "     AnatomicalTarget_LowerExtremity_Knee  \\\n",
       "0                                    True   \n",
       "1                                   False   \n",
       "2                                    True   \n",
       "3                                   False   \n",
       "4                                    True   \n",
       "..                                    ...   \n",
       "967                                  True   \n",
       "968                                 False   \n",
       "969                                 False   \n",
       "970                                 False   \n",
       "971                                 False   \n",
       "\n",
       "     Manufacturing_AdditiveManufacturing  AnatomicalTarget_Torso_Spine  \\\n",
       "0                                  False                          True   \n",
       "1                                  False                         False   \n",
       "2                                  False                         False   \n",
       "3                                  False                         False   \n",
       "4                                  False                         False   \n",
       "..                                   ...                           ...   \n",
       "967                                False                         False   \n",
       "968                                 True                         False   \n",
       "969                                 True                         False   \n",
       "970                                False                         False   \n",
       "971                                False                          True   \n",
       "\n",
       "     PersonalizedProduct_Guide/Jig  Manufacturing  AnalysisAndModeling  \\\n",
       "0                             True           True                 True   \n",
       "1                             True          False                False   \n",
       "2                            False           True                 True   \n",
       "3                             True           True                 True   \n",
       "4                             True          False                False   \n",
       "..                             ...            ...                  ...   \n",
       "967                           True          False                 True   \n",
       "968                          False           True                False   \n",
       "969                           True           True                False   \n",
       "970                           True          False                False   \n",
       "971                          False           True                False   \n",
       "\n",
       "     SpecificationofUse_Disease  PersonalizedProduct_Implant  \\\n",
       "0                         False                        False   \n",
       "1                         False                        False   \n",
       "2                         False                         True   \n",
       "3                         False                        False   \n",
       "4                         False                        False   \n",
       "..                          ...                          ...   \n",
       "967                       False                         True   \n",
       "968                       False                        False   \n",
       "969                       False                        False   \n",
       "970                       False                        False   \n",
       "971                       False                        False   \n",
       "\n",
       "     SpecificationofUse  \n",
       "0                  True  \n",
       "1                 False  \n",
       "2                  True  \n",
       "3                 False  \n",
       "4                 False  \n",
       "..                  ...  \n",
       "967               False  \n",
       "968               False  \n",
       "969               False  \n",
       "970               False  \n",
       "971               False  \n",
       "\n",
       "[972 rows x 22 columns]"
      ]
     },
     "execution_count": 6,
     "metadata": {},
     "output_type": "execute_result"
    }
   ],
   "source": [
    "training_set[subset]"
   ]
  },
  {
   "cell_type": "code",
   "execution_count": 7,
   "metadata": {},
   "outputs": [],
   "source": [
    "train_df = pd.DataFrame()\n",
    "train_df[\"text\"] = training_set.abstract\n",
    "train_df[\"labels\"] = [list(x) for x in training_labels]"
   ]
  },
  {
   "cell_type": "code",
   "execution_count": 8,
   "metadata": {},
   "outputs": [],
   "source": [
    "test_df = pd.DataFrame()\n",
    "test_df[\"text\"] = testing_set.description\n",
    "test_df['labels'] = [list(x) for x in testing_labels]"
   ]
  },
  {
   "cell_type": "code",
   "execution_count": 9,
   "metadata": {},
   "outputs": [
    {
     "data": {
      "text/plain": [
       "0      [1, 1, 1, 1, 1, 1, 1, 1, 1, 1, 1, 1, 1, 0, 1, ...\n",
       "1      [0, 0, 0, 0, 0, 0, 0, 0, 0, 0, 0, 0, 0, 0, 0, ...\n",
       "2      [1, 1, 1, 1, 0, 1, 0, 0, 0, 0, 0, 0, 0, 0, 1, ...\n",
       "3      [1, 0, 1, 0, 0, 0, 0, 0, 1, 1, 1, 0, 0, 0, 1, ...\n",
       "4      [0, 0, 1, 1, 0, 1, 0, 0, 0, 0, 0, 0, 0, 0, 0, ...\n",
       "                             ...                        \n",
       "967    [1, 1, 1, 1, 1, 1, 0, 0, 1, 1, 1, 1, 1, 0, 0, ...\n",
       "968    [0, 0, 0, 0, 0, 0, 0, 0, 0, 0, 1, 0, 0, 0, 1, ...\n",
       "969    [0, 0, 0, 0, 0, 0, 0, 0, 0, 0, 1, 0, 0, 0, 1, ...\n",
       "970    [0, 0, 1, 1, 1, 0, 0, 0, 0, 0, 1, 1, 1, 0, 0, ...\n",
       "971    [0, 0, 1, 0, 0, 0, 1, 1, 0, 0, 1, 0, 0, 0, 1, ...\n",
       "Name: labels, Length: 972, dtype: object"
      ]
     },
     "execution_count": 9,
     "metadata": {},
     "output_type": "execute_result"
    }
   ],
   "source": [
    "train_df.labels"
   ]
  },
  {
   "cell_type": "code",
   "execution_count": 10,
   "metadata": {},
   "outputs": [
    {
     "data": {
      "text/plain": [
       "0      [1, 0, 1, 1, 0, 1, 0, 0, 0, 0, 0, 0, 0, 0, 1, ...\n",
       "1      [1, 1, 1, 1, 1, 0, 0, 0, 0, 0, 1, 0, 0, 0, 0, ...\n",
       "2      [0, 0, 1, 1, 0, 1, 0, 0, 0, 0, 0, 0, 0, 0, 0, ...\n",
       "3      [0, 0, 0, 0, 0, 0, 0, 0, 0, 0, 1, 1, 1, 1, 0, ...\n",
       "4      [1, 0, 1, 1, 1, 0, 0, 0, 0, 0, 1, 1, 1, 0, 1, ...\n",
       "                             ...                        \n",
       "238    [0, 0, 1, 1, 0, 1, 0, 0, 0, 0, 1, 0, 1, 0, 0, ...\n",
       "239    [1, 0, 1, 1, 0, 1, 0, 0, 0, 0, 1, 0, 0, 0, 0, ...\n",
       "240    [0, 0, 1, 1, 1, 0, 0, 0, 0, 0, 0, 0, 0, 0, 1, ...\n",
       "241    [0, 0, 1, 1, 0, 1, 0, 0, 0, 0, 0, 0, 0, 0, 0, ...\n",
       "242    [1, 1, 0, 0, 0, 0, 0, 0, 0, 0, 1, 0, 0, 0, 1, ...\n",
       "Name: labels, Length: 243, dtype: object"
      ]
     },
     "execution_count": 10,
     "metadata": {},
     "output_type": "execute_result"
    }
   ],
   "source": [
    "test_df.labels"
   ]
  },
  {
   "cell_type": "code",
   "execution_count": 11,
   "metadata": {},
   "outputs": [],
   "source": [
    "def hammer(true, pred):\n",
    "    hamming_loss(true, pred > 0.5)"
   ]
  },
  {
   "cell_type": "code",
   "execution_count": 12,
   "metadata": {},
   "outputs": [],
   "source": [
    "model_args = MultiLabelClassificationArgs()\n",
    "model_args.fp16 = True\n",
    "\n",
    "model_args.do_lower_case = False\n",
    "model_args.max_seq_length=128\n",
    "\n",
    "model_args.warmup_steps=1000\n",
    "model_args.learning_rate = 5e-05\n",
    "model_args.gradient_accumulation_steps = 4\n",
    "#gradient_checkpointing=True\n",
    "#model_args.weight_decay = 0.01\n",
    "\n",
    "model_args.train_batch_size= 8\n",
    "model_args.num_train_epochs = 50\n",
    "\n",
    "model_args.overwrite_output_dir = True\n",
    "model_args.save_best_model=True\n",
    "model_args.save_model_every_epoch=False\n",
    "model_args.save_eval_checkpoints=False\n",
    "\n",
    "model_args.use_early_stopping = True\n",
    "model_args.early_stopping_delta = 0.001\n",
    "model_args.early_stopping_metric = \"eval_loss\"\n",
    "model_args.early_stopping_metric_minimize = True\n",
    "model_args.early_stopping_patience = 5\n",
    "\n",
    "model_args.evaluate_during_training_steps = 50\n",
    "model_args.evaluate_during_training=True\n",
    "model_args.evaluate_during_training_silent=False\n",
    "model_args.evaluate_during_training_verbose=True\n",
    "model_args.use_cached_eval_features=True\n",
    "model_args.evaluate_each_epoch=False\n",
    "model_args.dataloader_num_workers=0\n"
   ]
  },
  {
   "cell_type": "code",
   "execution_count": null,
   "metadata": {},
   "outputs": [],
   "source": [
    "\n"
   ]
  },
  {
   "cell_type": "code",
   "execution_count": null,
   "metadata": {},
   "outputs": [],
   "source": []
  },
  {
   "cell_type": "code",
   "execution_count": 13,
   "metadata": {},
   "outputs": [],
   "source": [
    "#model = BertForPreTraining.from_pretrained(\"/var/patentmark/patentBERT\")"
   ]
  },
  {
   "cell_type": "code",
   "execution_count": 14,
   "metadata": {},
   "outputs": [],
   "source": [
    "#model.save_pretrained(\"/var/patentmark/conv-patentBERT2/\")"
   ]
  },
  {
   "cell_type": "code",
   "execution_count": 15,
   "metadata": {},
   "outputs": [
    {
     "name": "stderr",
     "output_type": "stream",
     "text": [
      "Some weights of the model checkpoint at bertForPatents/ were not used when initializing BertForMultiLabelSequenceClassification: ['cls.predictions.bias', 'cls.predictions.transform.dense.weight', 'cls.predictions.transform.dense.bias', 'cls.predictions.transform.LayerNorm.weight', 'cls.predictions.transform.LayerNorm.bias', 'cls.predictions.decoder.weight', 'cls.predictions.decoder.bias', 'cls.seq_relationship.weight', 'cls.seq_relationship.bias']\n",
      "- This IS expected if you are initializing BertForMultiLabelSequenceClassification from the checkpoint of a model trained on another task or with another architecture (e.g. initializing a BertForSequenceClassification model from a BertForPreTraining model).\n",
      "- This IS NOT expected if you are initializing BertForMultiLabelSequenceClassification from the checkpoint of a model that you expect to be exactly identical (initializing a BertForSequenceClassification model from a BertForSequenceClassification model).\n",
      "Some weights of BertForMultiLabelSequenceClassification were not initialized from the model checkpoint at bertForPatents/ and are newly initialized: ['classifier.weight', 'classifier.bias']\n",
      "You should probably TRAIN this model on a down-stream task to be able to use it for predictions and inference.\n"
     ]
    }
   ],
   "source": [
    "model = MultiLabelClassificationModel(\n",
    "    \"bert\", \"bertForPatents/\", args=model_args, num_labels=len(mlb.classes_)\n",
    ")"
   ]
  },
  {
   "cell_type": "code",
   "execution_count": 16,
   "metadata": {},
   "outputs": [
    {
     "name": "stderr",
     "output_type": "stream",
     "text": [
      "INFO:simpletransformers.classification.classification_model: Converting to features started. Cache is not used.\n"
     ]
    },
    {
     "data": {
      "application/vnd.jupyter.widget-view+json": {
       "model_id": "e75d2193ffc249daa6342514a8749f71",
       "version_major": 2,
       "version_minor": 0
      },
      "text/plain": [
       "HBox(children=(FloatProgress(value=0.0, max=972.0), HTML(value='')))"
      ]
     },
     "metadata": {},
     "output_type": "display_data"
    },
    {
     "name": "stdout",
     "output_type": "stream",
     "text": [
      "\n"
     ]
    },
    {
     "data": {
      "application/vnd.jupyter.widget-view+json": {
       "model_id": "dabf7966084e4e59859f8234f10d027f",
       "version_major": 2,
       "version_minor": 0
      },
      "text/plain": [
       "HBox(children=(FloatProgress(value=0.0, description='Epoch', max=50.0, style=ProgressStyle(description_width='…"
      ]
     },
     "metadata": {},
     "output_type": "display_data"
    },
    {
     "name": "stderr",
     "output_type": "stream",
     "text": [
      "INFO:simpletransformers.classification.classification_model:   Starting fine-tuning.\n"
     ]
    },
    {
     "data": {
      "application/vnd.jupyter.widget-view+json": {
       "model_id": "10cb25a4ce994fca8e4de719f544f8cc",
       "version_major": 2,
       "version_minor": 0
      },
      "text/plain": [
       "HBox(children=(FloatProgress(value=0.0, description='Running Epoch 0 of 50', max=122.0, style=ProgressStyle(de…"
      ]
     },
     "metadata": {},
     "output_type": "display_data"
    },
    {
     "name": "stdout",
     "output_type": "stream",
     "text": [
      "\n"
     ]
    },
    {
     "data": {
      "application/vnd.jupyter.widget-view+json": {
       "model_id": "c5ddb2adb81d4c80ae182267a50208f9",
       "version_major": 2,
       "version_minor": 0
      },
      "text/plain": [
       "HBox(children=(FloatProgress(value=0.0, description='Running Epoch 1 of 50', max=122.0, style=ProgressStyle(de…"
      ]
     },
     "metadata": {},
     "output_type": "display_data"
    },
    {
     "name": "stderr",
     "output_type": "stream",
     "text": [
      "INFO:simpletransformers.classification.classification_model: Features loaded from cache at cache_dir/cached_dev_bert_128_22_243\n"
     ]
    },
    {
     "data": {
      "application/vnd.jupyter.widget-view+json": {
       "model_id": "da3be38a112d4fab82d1d8e4ef4daa8d",
       "version_major": 2,
       "version_minor": 0
      },
      "text/plain": [
       "HBox(children=(FloatProgress(value=0.0, description='Running Evaluation', max=31.0, style=ProgressStyle(descri…"
      ]
     },
     "metadata": {},
     "output_type": "display_data"
    },
    {
     "name": "stderr",
     "output_type": "stream",
     "text": [
      "INFO:simpletransformers.classification.classification_model:{'LRAP': 0.5652158772745105, 'eval_loss': 0.6094606153426632}\n"
     ]
    },
    {
     "name": "stdout",
     "output_type": "stream",
     "text": [
      "\n"
     ]
    },
    {
     "name": "stderr",
     "output_type": "stream",
     "text": [
      "/home/martin/anaconda3/envs/phenetics2/lib/python3.8/site-packages/torch/optim/lr_scheduler.py:216: UserWarning: Please also save or load the state of the optimizer when saving or loading the scheduler.\n",
      "  warnings.warn(SAVE_STATE_WARNING, UserWarning)\n",
      "INFO:simpletransformers.classification.classification_model: No improvement in eval_loss\n",
      "INFO:simpletransformers.classification.classification_model: Current step: 1\n",
      "INFO:simpletransformers.classification.classification_model: Early stopping patience: 5\n"
     ]
    },
    {
     "name": "stdout",
     "output_type": "stream",
     "text": [
      "\n"
     ]
    },
    {
     "data": {
      "application/vnd.jupyter.widget-view+json": {
       "model_id": "502f391800a84612bf922f7d1a0258d3",
       "version_major": 2,
       "version_minor": 0
      },
      "text/plain": [
       "HBox(children=(FloatProgress(value=0.0, description='Running Epoch 2 of 50', max=122.0, style=ProgressStyle(de…"
      ]
     },
     "metadata": {},
     "output_type": "display_data"
    },
    {
     "name": "stdout",
     "output_type": "stream",
     "text": [
      "\n"
     ]
    },
    {
     "data": {
      "application/vnd.jupyter.widget-view+json": {
       "model_id": "0688e84da7884093b7cd3e87d0ff6208",
       "version_major": 2,
       "version_minor": 0
      },
      "text/plain": [
       "HBox(children=(FloatProgress(value=0.0, description='Running Epoch 3 of 50', max=122.0, style=ProgressStyle(de…"
      ]
     },
     "metadata": {},
     "output_type": "display_data"
    },
    {
     "name": "stderr",
     "output_type": "stream",
     "text": [
      "INFO:simpletransformers.classification.classification_model: Features loaded from cache at cache_dir/cached_dev_bert_128_22_243\n"
     ]
    },
    {
     "data": {
      "application/vnd.jupyter.widget-view+json": {
       "model_id": "b9be37d5e0a74d99993b98c80cc81cc4",
       "version_major": 2,
       "version_minor": 0
      },
      "text/plain": [
       "HBox(children=(FloatProgress(value=0.0, description='Running Evaluation', max=31.0, style=ProgressStyle(descri…"
      ]
     },
     "metadata": {},
     "output_type": "display_data"
    },
    {
     "name": "stderr",
     "output_type": "stream",
     "text": [
      "INFO:simpletransformers.classification.classification_model:{'LRAP': 0.608415026604315, 'eval_loss': 0.5442562151339746}\n"
     ]
    },
    {
     "name": "stdout",
     "output_type": "stream",
     "text": [
      "\n"
     ]
    },
    {
     "name": "stderr",
     "output_type": "stream",
     "text": [
      "/home/martin/anaconda3/envs/phenetics2/lib/python3.8/site-packages/torch/optim/lr_scheduler.py:216: UserWarning: Please also save or load the state of the optimizer when saving or loading the scheduler.\n",
      "  warnings.warn(SAVE_STATE_WARNING, UserWarning)\n"
     ]
    },
    {
     "name": "stdout",
     "output_type": "stream",
     "text": [
      "\n"
     ]
    },
    {
     "data": {
      "application/vnd.jupyter.widget-view+json": {
       "model_id": "e8bf3dcbf3254df39215c7d4927939b0",
       "version_major": 2,
       "version_minor": 0
      },
      "text/plain": [
       "HBox(children=(FloatProgress(value=0.0, description='Running Epoch 4 of 50', max=122.0, style=ProgressStyle(de…"
      ]
     },
     "metadata": {},
     "output_type": "display_data"
    },
    {
     "name": "stderr",
     "output_type": "stream",
     "text": [
      "INFO:simpletransformers.classification.classification_model: Features loaded from cache at cache_dir/cached_dev_bert_128_22_243\n"
     ]
    },
    {
     "data": {
      "application/vnd.jupyter.widget-view+json": {
       "model_id": "76db39dac626465b94d16371a8de8363",
       "version_major": 2,
       "version_minor": 0
      },
      "text/plain": [
       "HBox(children=(FloatProgress(value=0.0, description='Running Evaluation', max=31.0, style=ProgressStyle(descri…"
      ]
     },
     "metadata": {},
     "output_type": "display_data"
    },
    {
     "name": "stderr",
     "output_type": "stream",
     "text": [
      "INFO:simpletransformers.classification.classification_model:{'LRAP': 0.5949976423899757, 'eval_loss': 0.5456914517187303}\n",
      "INFO:simpletransformers.classification.classification_model: No improvement in eval_loss\n",
      "INFO:simpletransformers.classification.classification_model: Current step: 1\n",
      "INFO:simpletransformers.classification.classification_model: Early stopping patience: 5\n"
     ]
    },
    {
     "name": "stdout",
     "output_type": "stream",
     "text": [
      "\n",
      "\n"
     ]
    },
    {
     "data": {
      "application/vnd.jupyter.widget-view+json": {
       "model_id": "2fb6520134e145efb1ae2513ebe7a7a1",
       "version_major": 2,
       "version_minor": 0
      },
      "text/plain": [
       "HBox(children=(FloatProgress(value=0.0, description='Running Epoch 5 of 50', max=122.0, style=ProgressStyle(de…"
      ]
     },
     "metadata": {},
     "output_type": "display_data"
    },
    {
     "name": "stdout",
     "output_type": "stream",
     "text": [
      "\n"
     ]
    },
    {
     "data": {
      "application/vnd.jupyter.widget-view+json": {
       "model_id": "1b8b41d42e0b41d78d61bdeef4a09fbd",
       "version_major": 2,
       "version_minor": 0
      },
      "text/plain": [
       "HBox(children=(FloatProgress(value=0.0, description='Running Epoch 6 of 50', max=122.0, style=ProgressStyle(de…"
      ]
     },
     "metadata": {},
     "output_type": "display_data"
    },
    {
     "name": "stderr",
     "output_type": "stream",
     "text": [
      "INFO:simpletransformers.classification.classification_model: Features loaded from cache at cache_dir/cached_dev_bert_128_22_243\n"
     ]
    },
    {
     "data": {
      "application/vnd.jupyter.widget-view+json": {
       "model_id": "0b2e02466bad4cc8938ac41285ef60e2",
       "version_major": 2,
       "version_minor": 0
      },
      "text/plain": [
       "HBox(children=(FloatProgress(value=0.0, description='Running Evaluation', max=31.0, style=ProgressStyle(descri…"
      ]
     },
     "metadata": {},
     "output_type": "display_data"
    },
    {
     "name": "stderr",
     "output_type": "stream",
     "text": [
      "INFO:simpletransformers.classification.classification_model:{'LRAP': 0.5915878790015311, 'eval_loss': 0.5439359641844227}\n",
      "INFO:simpletransformers.classification.classification_model: No improvement in eval_loss\n",
      "INFO:simpletransformers.classification.classification_model: Current step: 2\n",
      "INFO:simpletransformers.classification.classification_model: Early stopping patience: 5\n"
     ]
    },
    {
     "name": "stdout",
     "output_type": "stream",
     "text": [
      "\n",
      "\n"
     ]
    },
    {
     "data": {
      "application/vnd.jupyter.widget-view+json": {
       "model_id": "43896d99daed49ce896a035730cf5f46",
       "version_major": 2,
       "version_minor": 0
      },
      "text/plain": [
       "HBox(children=(FloatProgress(value=0.0, description='Running Epoch 7 of 50', max=122.0, style=ProgressStyle(de…"
      ]
     },
     "metadata": {},
     "output_type": "display_data"
    },
    {
     "name": "stdout",
     "output_type": "stream",
     "text": [
      "\n"
     ]
    },
    {
     "data": {
      "application/vnd.jupyter.widget-view+json": {
       "model_id": "938e6b1da96d465f90d9b940f2b434f4",
       "version_major": 2,
       "version_minor": 0
      },
      "text/plain": [
       "HBox(children=(FloatProgress(value=0.0, description='Running Epoch 8 of 50', max=122.0, style=ProgressStyle(de…"
      ]
     },
     "metadata": {},
     "output_type": "display_data"
    },
    {
     "name": "stderr",
     "output_type": "stream",
     "text": [
      "INFO:simpletransformers.classification.classification_model: Features loaded from cache at cache_dir/cached_dev_bert_128_22_243\n"
     ]
    },
    {
     "data": {
      "application/vnd.jupyter.widget-view+json": {
       "model_id": "838783ebfe8d442f9285a4d30c7ecce0",
       "version_major": 2,
       "version_minor": 0
      },
      "text/plain": [
       "HBox(children=(FloatProgress(value=0.0, description='Running Evaluation', max=31.0, style=ProgressStyle(descri…"
      ]
     },
     "metadata": {},
     "output_type": "display_data"
    },
    {
     "name": "stderr",
     "output_type": "stream",
     "text": [
      "INFO:simpletransformers.classification.classification_model:{'LRAP': 0.5777766493321287, 'eval_loss': 0.5462702868446228}\n",
      "INFO:simpletransformers.classification.classification_model: No improvement in eval_loss\n",
      "INFO:simpletransformers.classification.classification_model: Current step: 3\n",
      "INFO:simpletransformers.classification.classification_model: Early stopping patience: 5\n"
     ]
    },
    {
     "name": "stdout",
     "output_type": "stream",
     "text": [
      "\n",
      "\n",
      "\n"
     ]
    },
    {
     "ename": "KeyboardInterrupt",
     "evalue": "",
     "output_type": "error",
     "traceback": [
      "\u001b[0;31m---------------------------------------------------------------------------\u001b[0m",
      "\u001b[0;31mKeyboardInterrupt\u001b[0m                         Traceback (most recent call last)",
      "\u001b[0;32m<ipython-input-16-e34b0f9dbc69>\u001b[0m in \u001b[0;36m<module>\u001b[0;34m\u001b[0m\n\u001b[0;32m----> 1\u001b[0;31m \u001b[0mmodel\u001b[0m\u001b[0;34m.\u001b[0m\u001b[0mtrain_model\u001b[0m\u001b[0;34m(\u001b[0m\u001b[0mtrain_df\u001b[0m\u001b[0;34m,\u001b[0m \u001b[0meval_df\u001b[0m\u001b[0;34m=\u001b[0m\u001b[0mtest_df\u001b[0m\u001b[0;34m,\u001b[0m \u001b[0mshow_running_loss\u001b[0m\u001b[0;34m=\u001b[0m\u001b[0;32mTrue\u001b[0m\u001b[0;34m)\u001b[0m\u001b[0;34m\u001b[0m\u001b[0;34m\u001b[0m\u001b[0m\n\u001b[0m",
      "\u001b[0;32m~/anaconda3/envs/phenetics2/lib/python3.8/site-packages/simpletransformers/classification/multi_label_classification_model.py\u001b[0m in \u001b[0;36mtrain_model\u001b[0;34m(self, train_df, multi_label, eval_df, output_dir, show_running_loss, args, verbose, **kwargs)\u001b[0m\n\u001b[1;32m    206\u001b[0m         \u001b[0;34m**\u001b[0m\u001b[0mkwargs\u001b[0m\u001b[0;34m,\u001b[0m\u001b[0;34m\u001b[0m\u001b[0;34m\u001b[0m\u001b[0m\n\u001b[1;32m    207\u001b[0m     ):\n\u001b[0;32m--> 208\u001b[0;31m         return super().train_model(\n\u001b[0m\u001b[1;32m    209\u001b[0m             \u001b[0mtrain_df\u001b[0m\u001b[0;34m,\u001b[0m\u001b[0;34m\u001b[0m\u001b[0;34m\u001b[0m\u001b[0m\n\u001b[1;32m    210\u001b[0m             \u001b[0mmulti_label\u001b[0m\u001b[0;34m=\u001b[0m\u001b[0mmulti_label\u001b[0m\u001b[0;34m,\u001b[0m\u001b[0;34m\u001b[0m\u001b[0;34m\u001b[0m\u001b[0m\n",
      "\u001b[0;32m~/anaconda3/envs/phenetics2/lib/python3.8/site-packages/simpletransformers/classification/classification_model.py\u001b[0m in \u001b[0;36mtrain_model\u001b[0;34m(self, train_df, multi_label, output_dir, show_running_loss, args, eval_df, verbose, **kwargs)\u001b[0m\n\u001b[1;32m    395\u001b[0m         \u001b[0mos\u001b[0m\u001b[0;34m.\u001b[0m\u001b[0mmakedirs\u001b[0m\u001b[0;34m(\u001b[0m\u001b[0moutput_dir\u001b[0m\u001b[0;34m,\u001b[0m \u001b[0mexist_ok\u001b[0m\u001b[0;34m=\u001b[0m\u001b[0;32mTrue\u001b[0m\u001b[0;34m)\u001b[0m\u001b[0;34m\u001b[0m\u001b[0;34m\u001b[0m\u001b[0m\n\u001b[1;32m    396\u001b[0m \u001b[0;34m\u001b[0m\u001b[0m\n\u001b[0;32m--> 397\u001b[0;31m         global_step, training_details = self.train(\n\u001b[0m\u001b[1;32m    398\u001b[0m             \u001b[0mtrain_dataloader\u001b[0m\u001b[0;34m,\u001b[0m\u001b[0;34m\u001b[0m\u001b[0;34m\u001b[0m\u001b[0m\n\u001b[1;32m    399\u001b[0m             \u001b[0moutput_dir\u001b[0m\u001b[0;34m,\u001b[0m\u001b[0;34m\u001b[0m\u001b[0;34m\u001b[0m\u001b[0m\n",
      "\u001b[0;32m~/anaconda3/envs/phenetics2/lib/python3.8/site-packages/simpletransformers/classification/classification_model.py\u001b[0m in \u001b[0;36mtrain\u001b[0;34m(self, train_dataloader, output_dir, multi_label, show_running_loss, eval_df, verbose, **kwargs)\u001b[0m\n\u001b[1;32m    593\u001b[0m \u001b[0;34m\u001b[0m\u001b[0m\n\u001b[1;32m    594\u001b[0m                 \u001b[0;32mif\u001b[0m \u001b[0mself\u001b[0m\u001b[0;34m.\u001b[0m\u001b[0margs\u001b[0m\u001b[0;34m.\u001b[0m\u001b[0mfp16\u001b[0m\u001b[0;34m:\u001b[0m\u001b[0;34m\u001b[0m\u001b[0;34m\u001b[0m\u001b[0m\n\u001b[0;32m--> 595\u001b[0;31m                     \u001b[0mscaler\u001b[0m\u001b[0;34m.\u001b[0m\u001b[0mscale\u001b[0m\u001b[0;34m(\u001b[0m\u001b[0mloss\u001b[0m\u001b[0;34m)\u001b[0m\u001b[0;34m.\u001b[0m\u001b[0mbackward\u001b[0m\u001b[0;34m(\u001b[0m\u001b[0;34m)\u001b[0m\u001b[0;34m\u001b[0m\u001b[0;34m\u001b[0m\u001b[0m\n\u001b[0m\u001b[1;32m    596\u001b[0m                 \u001b[0;32melse\u001b[0m\u001b[0;34m:\u001b[0m\u001b[0;34m\u001b[0m\u001b[0;34m\u001b[0m\u001b[0m\n\u001b[1;32m    597\u001b[0m                     \u001b[0mloss\u001b[0m\u001b[0;34m.\u001b[0m\u001b[0mbackward\u001b[0m\u001b[0;34m(\u001b[0m\u001b[0;34m)\u001b[0m\u001b[0;34m\u001b[0m\u001b[0;34m\u001b[0m\u001b[0m\n",
      "\u001b[0;32m~/anaconda3/envs/phenetics2/lib/python3.8/site-packages/torch/tensor.py\u001b[0m in \u001b[0;36mbackward\u001b[0;34m(self, gradient, retain_graph, create_graph)\u001b[0m\n\u001b[1;32m    219\u001b[0m                 \u001b[0mretain_graph\u001b[0m\u001b[0;34m=\u001b[0m\u001b[0mretain_graph\u001b[0m\u001b[0;34m,\u001b[0m\u001b[0;34m\u001b[0m\u001b[0;34m\u001b[0m\u001b[0m\n\u001b[1;32m    220\u001b[0m                 create_graph=create_graph)\n\u001b[0;32m--> 221\u001b[0;31m         \u001b[0mtorch\u001b[0m\u001b[0;34m.\u001b[0m\u001b[0mautograd\u001b[0m\u001b[0;34m.\u001b[0m\u001b[0mbackward\u001b[0m\u001b[0;34m(\u001b[0m\u001b[0mself\u001b[0m\u001b[0;34m,\u001b[0m \u001b[0mgradient\u001b[0m\u001b[0;34m,\u001b[0m \u001b[0mretain_graph\u001b[0m\u001b[0;34m,\u001b[0m \u001b[0mcreate_graph\u001b[0m\u001b[0;34m)\u001b[0m\u001b[0;34m\u001b[0m\u001b[0;34m\u001b[0m\u001b[0m\n\u001b[0m\u001b[1;32m    222\u001b[0m \u001b[0;34m\u001b[0m\u001b[0m\n\u001b[1;32m    223\u001b[0m     \u001b[0;32mdef\u001b[0m \u001b[0mregister_hook\u001b[0m\u001b[0;34m(\u001b[0m\u001b[0mself\u001b[0m\u001b[0;34m,\u001b[0m \u001b[0mhook\u001b[0m\u001b[0;34m)\u001b[0m\u001b[0;34m:\u001b[0m\u001b[0;34m\u001b[0m\u001b[0;34m\u001b[0m\u001b[0m\n",
      "\u001b[0;32m~/anaconda3/envs/phenetics2/lib/python3.8/site-packages/torch/autograd/__init__.py\u001b[0m in \u001b[0;36mbackward\u001b[0;34m(tensors, grad_tensors, retain_graph, create_graph, grad_variables)\u001b[0m\n\u001b[1;32m    128\u001b[0m         \u001b[0mretain_graph\u001b[0m \u001b[0;34m=\u001b[0m \u001b[0mcreate_graph\u001b[0m\u001b[0;34m\u001b[0m\u001b[0;34m\u001b[0m\u001b[0m\n\u001b[1;32m    129\u001b[0m \u001b[0;34m\u001b[0m\u001b[0m\n\u001b[0;32m--> 130\u001b[0;31m     Variable._execution_engine.run_backward(\n\u001b[0m\u001b[1;32m    131\u001b[0m         \u001b[0mtensors\u001b[0m\u001b[0;34m,\u001b[0m \u001b[0mgrad_tensors_\u001b[0m\u001b[0;34m,\u001b[0m \u001b[0mretain_graph\u001b[0m\u001b[0;34m,\u001b[0m \u001b[0mcreate_graph\u001b[0m\u001b[0;34m,\u001b[0m\u001b[0;34m\u001b[0m\u001b[0;34m\u001b[0m\u001b[0m\n\u001b[1;32m    132\u001b[0m         allow_unreachable=True)  # allow_unreachable flag\n",
      "\u001b[0;31mKeyboardInterrupt\u001b[0m: "
     ]
    }
   ],
   "source": [
    "model.train_model(train_df, eval_df=test_df, show_running_loss=True)"
   ]
  },
  {
   "cell_type": "code",
   "execution_count": null,
   "metadata": {},
   "outputs": [],
   "source": []
  },
  {
   "cell_type": "code",
   "execution_count": 22,
   "metadata": {},
   "outputs": [],
   "source": [
    "from sklearn.metrics import *"
   ]
  },
  {
   "cell_type": "code",
   "execution_count": 17,
   "metadata": {},
   "outputs": [
    {
     "data": {
      "application/vnd.jupyter.widget-view+json": {
       "model_id": "b7d82a0a3f5c44da938b9f9d83ab74ab",
       "version_major": 2,
       "version_minor": 0
      },
      "text/plain": [
       "HBox(children=(FloatProgress(value=0.0, description='Running Evaluation', max=31.0, style=ProgressStyle(descri…"
      ]
     },
     "metadata": {},
     "output_type": "display_data"
    },
    {
     "name": "stdout",
     "output_type": "stream",
     "text": [
      "\n"
     ]
    }
   ],
   "source": [
    "result, model_outputs, wrong_predictions = model.eval_model(test_df)"
   ]
  },
  {
   "cell_type": "code",
   "execution_count": 18,
   "metadata": {},
   "outputs": [
    {
     "data": {
      "text/plain": [
       "{'LRAP': 0.5627058445520303, 'eval_loss': 0.5878909105254758}"
      ]
     },
     "execution_count": 18,
     "metadata": {},
     "output_type": "execute_result"
    }
   ],
   "source": [
    "result"
   ]
  },
  {
   "cell_type": "code",
   "execution_count": 19,
   "metadata": {},
   "outputs": [
    {
     "data": {
      "text/plain": [
       "0.23355764366917695"
      ]
     },
     "execution_count": 19,
     "metadata": {},
     "output_type": "execute_result"
    }
   ],
   "source": [
    "import numpy as np\n",
    "np.mean(model_outputs)"
   ]
  },
  {
   "cell_type": "code",
   "execution_count": 20,
   "metadata": {},
   "outputs": [
    {
     "data": {
      "text/plain": [
       "0.27983539094650206"
      ]
     },
     "execution_count": 20,
     "metadata": {},
     "output_type": "execute_result"
    }
   ],
   "source": [
    "sklearn.metrics.hamming_loss(testing_labels, model_outputs > 0.5)"
   ]
  },
  {
   "cell_type": "code",
   "execution_count": 24,
   "metadata": {},
   "outputs": [
    {
     "name": "stdout",
     "output_type": "stream",
     "text": [
      "                                               precision    recall  f1-score   support\n",
      "\n",
      "                        Analysis and Modeling       0.40      0.27      0.33        84\n",
      "           Analysis and Modeling: 3D Modeling       0.41      0.15      0.22        71\n",
      "                            Anatomical Target       0.67      0.79      0.73       164\n",
      "           Anatomical Target: Lower Extremity       0.52      0.28      0.37       113\n",
      "     Anatomical Target: Lower Extremity - Hip       0.00      0.00      0.00        40\n",
      "    Anatomical Target: Lower Extremity - Knee       0.50      0.01      0.02        82\n",
      "                     Anatomical Target: Torso       0.00      0.00      0.00        35\n",
      "             Anatomical Target: Torso - Spine       0.00      0.00      0.00        21\n",
      "           Anatomical Target: Upper Extremity       0.00      0.00      0.00        31\n",
      "Anatomical Target: Upper Extremity - Shoulder       0.00      0.00      0.00        23\n",
      "                                      Imaging       0.51      0.24      0.33       133\n",
      "                                  Imaging: CT       0.00      0.00      0.00        59\n",
      "                                 Imaging: MRI       0.00      0.00      0.00        59\n",
      "                          Imaging: Ultrasound       0.00      0.00      0.00        32\n",
      "                                Manufacturing       0.33      0.83      0.48        83\n",
      "        Manufacturing: Additive Manufacturing       0.00      0.00      0.00        38\n",
      "           Personalized Product: Guide or Jig       0.65      0.22      0.33       120\n",
      "                Personalized Product: Implant       0.57      0.66      0.61       124\n",
      "                         Specification of Use       0.00      0.00      0.00        79\n",
      "                Specification of Use: Disease       0.00      0.00      0.00        30\n",
      "      Specification of Use: Joint Replacement       0.00      0.00      0.00        44\n",
      "                              Surgical Method       0.00      0.00      0.00        40\n",
      "\n",
      "                                    micro avg       0.51      0.27      0.35      1505\n",
      "                                    macro avg       0.21      0.16      0.15      1505\n",
      "                                 weighted avg       0.34      0.27      0.27      1505\n",
      "                                  samples avg       0.50      0.30      0.34      1505\n",
      "\n"
     ]
    }
   ],
   "source": [
    "#Abstract - \n",
    "print(classification_report(testing_labels, model_outputs > .5, target_names=mlb.classes_))"
   ]
  },
  {
   "cell_type": "code",
   "execution_count": null,
   "metadata": {},
   "outputs": [],
   "source": []
  },
  {
   "cell_type": "code",
   "execution_count": null,
   "metadata": {},
   "outputs": [],
   "source": [
    "# import numpy as np\n",
    "# import os\n",
    "# import re\n",
    "# import tensorflow as tf\n",
    "# import torch\n",
    "# def convert_tf_checkpoint_to_pytorch(tf_checkpoint_path, bert_config_file, pytorch_dump_path):\n",
    "#     config_path = os.path.abspath(bert_config_file)\n",
    "#     tf_path = os.path.abspath(tf_checkpoint_path)\n",
    "#     print(\"Converting TensorFlow checkpoint from {} with config at {}\".format(tf_path, config_path))\n",
    "#     # Load weights from TF model\n",
    "#     init_vars = tf.train.list_variables(tf_path)\n",
    "#     excluded = [\"BERTAdam\", \"_power\", \"global_step\", \"_CHECKPOINTABLE_OBJECT_GRAPH\"]\n",
    "#     init_vars = list(filter(lambda x: all([True if e not in x[0] else False for e in excluded]), init_vars))\n",
    "#     names = []\n",
    "#     arrays = []\n",
    "#     for name, shape in init_vars:\n",
    "#         print(\"Loading TF weight {} with shape {}\".format(name, shape))\n",
    "#         array = tf.train.load_variable(tf_path, name)\n",
    "#         names.append(name)\n",
    "#         arrays.append(array)\n",
    "\n",
    "#     config = BertConfig.from_json_file(bert_config_file)\n",
    "#     print(\"Building PyTorch model from configuration: {}\".format(str(config)))\n",
    "#     # Initialise PyTorch model\n",
    "#     model = BertForSequenceClassification(config)\n",
    "\n",
    "#     for name, array in zip(names, arrays):\n",
    "#         name = name.split(\"/\")\n",
    "#         # adam_v and adam_m are variables used in AdamWeightDecayOptimizer to calculated m and v\n",
    "#         # which are not required for using pretrained model\n",
    "#         if any(n in [\"adam_v\", \"adam_m\", \"global_step\", \"bad_steps\", \"global_step\", \"good_steps\", \"loss_scale\",\n",
    "#                      \"AdamWeightDecayOptimizer\", \"AdamWeightDecayOptimizer_1\", \"save_counter\", \".OPTIMIZER_SLOT\"] for n in name) or \\\n",
    "#                 name[0] == \"optimizer\":\n",
    "#             print(\"Skipping {}\".format(\"/\".join(name)))\n",
    "#             continue\n",
    "#         if \".OPTIMIZER_SLOT\" in name:\n",
    "#             idx = name.index(\".OPTIMIZER_SLOT\")\n",
    "#             name = name[:idx]\n",
    "#         elif \".ATTRIBUTES\" in name:\n",
    "#             idx = name.index(\".ATTRIBUTES\")\n",
    "#             name = name[:idx]\n",
    "#         print(name)\n",
    "#         pointer = model\n",
    "#         for m_name in name:\n",
    "#             try:\n",
    "#                 if re.fullmatch(r\"[A-Za-z]+_\\d+\", m_name):\n",
    "#                     scope_names = re.split(r\"_(\\d+)\", m_name)\n",
    "#                 else:\n",
    "#                     scope_names = [m_name]\n",
    "#                 if scope_names[0] == \"kernel\" or scope_names[0] == \"gamma\":\n",
    "#                     pointer = getattr(pointer, \"weight\")\n",
    "#                 elif scope_names[0] == \"output_bias\" or scope_names[0] == \"beta\":\n",
    "#                     pointer = getattr(pointer, \"bias\")\n",
    "#                 elif scope_names[0] == \"output_weights\":\n",
    "#                     pointer = getattr(pointer, \"weight\")\n",
    "#                 elif scope_names[0] == \"squad\":\n",
    "#                     pointer = getattr(pointer, \"classifier\")\n",
    "#                 elif scope_names[0] == \"dense_output\" or scope_names[0] == \"bert_output\":\n",
    "#                     pointer = getattr(pointer, \"output\")\n",
    "#                 elif scope_names[0] == \"self_attention\":\n",
    "#                     pointer = getattr(pointer, \"self\")\n",
    "#                 else:\n",
    "#                     pointer = getattr(pointer, scope_names[0])\n",
    "#             except AttributeError:\n",
    "#                     logger.info(\"Skipping {}\".format(\"/\".join(name)))\n",
    "#                     continue\n",
    "#             if len(scope_names) >= 2:\n",
    "#                 num = int(scope_names[1])\n",
    "#                 pointer = pointer[num]\n",
    "#         if m_name[-11:] == \"_embeddings\":\n",
    "#             pointer = getattr(pointer, \"weight\")\n",
    "#         elif m_name == \"kernel\" or m_name == \"gamma\" or m_name == \"output_weights\":\n",
    "#             array = np.transpose(array)\n",
    "#         # print(\"Initialize PyTorch weight {}\".format(name))\n",
    "#         pointer.data = torch.from_numpy(array)\n",
    "\n",
    "#     # Save pytorch-model\n",
    "#     print(\"Save PyTorch model to {}\".format(pytorch_dump_path))\n",
    "#     torch.save(model.state_dict(), pytorch_dump_path)\n",
    "\n",
    "\n",
    "# convert_tf_checkpoint_to_pytorch(\"/var/patentmark/patentBERT/model.ckpt\", \"/var/patentmark/patentBERT/config.json\", pytorch_dump_path=\"/var/patentmark/patentBERT/pytorch.bin\")"
   ]
  },
  {
   "cell_type": "code",
   "execution_count": null,
   "metadata": {},
   "outputs": [],
   "source": []
  }
 ],
 "metadata": {
  "kernelspec": {
   "display_name": "Python 3",
   "language": "python",
   "name": "python3"
  },
  "language_info": {
   "codemirror_mode": {
    "name": "ipython",
    "version": 3
   },
   "file_extension": ".py",
   "mimetype": "text/x-python",
   "name": "python",
   "nbconvert_exporter": "python",
   "pygments_lexer": "ipython3",
   "version": "3.8.6"
  }
 },
 "nbformat": 4,
 "nbformat_minor": 4
}
