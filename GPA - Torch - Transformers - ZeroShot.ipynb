{
 "cells": [
  {
   "cell_type": "code",
   "execution_count": 1,
   "metadata": {},
   "outputs": [],
   "source": [
    "import pandas as pd\n",
    "import numpy as np\n",
    "from tqdm.auto import tqdm\n",
    "\n",
    "import torch\n",
    "import torchtext\n",
    "from torch import nn\n",
    "from torchtext.data import Field, LabelField\n",
    "from torchtext.data import BucketIterator\n",
    "from torchtext.datasets import IMDB\n",
    "from transformers import BertTokenizer\n",
    "from transformers import BertModel\n",
    "from skorch import NeuralNetClassifier\n",
    "from skorch.callbacks import Freezer\n",
    "from skorch.callbacks import ProgressBar\n",
    "import datasets\n",
    "import nlp\n",
    "from datasets import Dataset\n",
    "import transformers\n",
    "from transformers import AutoTokenizer, AutoModel, Trainer, TrainingArguments, AutoModelForSequenceClassification, pipeline\n",
    "from sklearn.metrics import accuracy_score, precision_recall_fscore_support"
   ]
  },
  {
   "cell_type": "code",
   "execution_count": 2,
   "metadata": {},
   "outputs": [],
   "source": [
    "from util import *"
   ]
  },
  {
   "cell_type": "code",
   "execution_count": 6,
   "metadata": {},
   "outputs": [],
   "source": [
    "candidate_labels = sorted(list(tier_translations[c] for c in tier1 if c in tier_translations))"
   ]
  },
  {
   "cell_type": "code",
   "execution_count": 7,
   "metadata": {},
   "outputs": [
    {
     "data": {
      "text/plain": [
       "['Analysis and Modeling',\n",
       " 'Anatomical Target',\n",
       " 'Imaging',\n",
       " 'Manufacturing',\n",
       " 'Personalized Product',\n",
       " 'Specification of Use',\n",
       " 'Surgical Method']"
      ]
     },
     "execution_count": 7,
     "metadata": {},
     "output_type": "execute_result"
    }
   ],
   "source": [
    "candidate_labels"
   ]
  },
  {
   "cell_type": "code",
   "execution_count": 8,
   "metadata": {},
   "outputs": [],
   "source": [
    "training_set = pd.read_json(\"training_set.json.gz\", lines=True, orient=\"records\")\n",
    "testing_set = pd.read_json(\"testing_set.json.gz\", lines=True, orient=\"records\")"
   ]
  },
  {
   "cell_type": "code",
   "execution_count": 9,
   "metadata": {},
   "outputs": [],
   "source": [
    "training_set['labels'] = training_set[tier1].apply(array_labels,axis=1)\n",
    "testing_set['labels'] = testing_set[tier1].apply(array_labels,axis=1)"
   ]
  },
  {
   "cell_type": "code",
   "execution_count": 10,
   "metadata": {},
   "outputs": [
    {
     "data": {
      "text/plain": [
       "0      [Analysis and Modeling, Anatomical Target, Ima...\n",
       "1                                 [Personalized Product]\n",
       "2      [Analysis and Modeling, Anatomical Target, Man...\n",
       "3      [Analysis and Modeling, Anatomical Target, Ima...\n",
       "4              [Anatomical Target, Personalized Product]\n",
       "                             ...                        \n",
       "967    [Analysis and Modeling, Anatomical Target, Ima...\n",
       "968       [Imaging, Manufacturing, Personalized Product]\n",
       "969       [Imaging, Manufacturing, Personalized Product]\n",
       "970    [Anatomical Target, Imaging, Personalized Prod...\n",
       "971    [Anatomical Target, Imaging, Manufacturing, Pe...\n",
       "Name: labels, Length: 972, dtype: object"
      ]
     },
     "execution_count": 10,
     "metadata": {},
     "output_type": "execute_result"
    }
   ],
   "source": [
    "training_set.labels"
   ]
  },
  {
   "cell_type": "code",
   "execution_count": 11,
   "metadata": {},
   "outputs": [
    {
     "name": "stderr",
     "output_type": "stream",
     "text": [
      "Some weights of the model checkpoint at facebook/bart-large-mnli were not used when initializing BartModel: ['model.encoder.version', 'model.decoder.version']\n",
      "- This IS expected if you are initializing BartModel from the checkpoint of a model trained on another task or with another architecture (e.g. initializing a BertForSequenceClassification model from a BertForPreTraining model).\n",
      "- This IS NOT expected if you are initializing BartModel from the checkpoint of a model that you expect to be exactly identical (initializing a BertForSequenceClassification model from a BertForSequenceClassification model).\n",
      "Some weights of the model checkpoint at facebook/bart-large-mnli were not used when initializing BartForSequenceClassification: ['model.encoder.version', 'model.decoder.version']\n",
      "- This IS expected if you are initializing BartForSequenceClassification from the checkpoint of a model trained on another task or with another architecture (e.g. initializing a BertForSequenceClassification model from a BertForPreTraining model).\n",
      "- This IS NOT expected if you are initializing BartForSequenceClassification from the checkpoint of a model that you expect to be exactly identical (initializing a BertForSequenceClassification model from a BertForSequenceClassification model).\n"
     ]
    }
   ],
   "source": [
    "classifier = pipeline(\"zero-shot-classification\",\n",
    "                      model=\"facebook/bart-large-mnli\")"
   ]
  },
  {
   "cell_type": "code",
   "execution_count": 12,
   "metadata": {},
   "outputs": [
    {
     "data": {
      "text/plain": [
       "['Analysis and Modeling',\n",
       " 'Anatomical Target',\n",
       " 'Manufacturing',\n",
       " 'Personalized Product',\n",
       " 'Specification of Use']"
      ]
     },
     "execution_count": 12,
     "metadata": {},
     "output_type": "execute_result"
    }
   ],
   "source": [
    "training_set.labels[2]"
   ]
  },
  {
   "cell_type": "code",
   "execution_count": 13,
   "metadata": {},
   "outputs": [
    {
     "data": {
      "text/plain": [
       "'What is claimed is: \\n     \\n       1. A femoral implant alignment guide for implanting a femoral component in a particular patient, comprising:\\n a body configured to be placed on a distal end of a femur and be aligned on an axis from between the particular patient&#39;s femoral condyles through the particular patient&#39;s hip center, the body including:\\n an elongated resection slot with a major axis substantially perpendicular to the axis through the particular patient&#39;s hip center when the body is placed on the distal end of the femur and aligned on the axis through the particular patient&#39;s hip center; \\n a medial portion configured to contact a medial condyle of the femur when the body is placed on the distal end of the femur and aligned on the axis through the particular patient&#39;s hip center, the medial portion comprising a medial tab configured to engage the medial condyle; and \\n a lateral portion configured to contact a medial condyle of the femur when the body is placed on the distal end of the femur and aligned on the axis through the particular patient&#39;s hip center, the lateral portion comprising a lateral tab configured to engage the lateral condyle; \\n wherein the medial tab and the lateral tab are positioned on the body to constrain a medial/lateral position of the femur with respect to the body when the body is placed on the distal end of the femur, the medial tab and the lateral tab being spaced apart by a distance corresponding to a medial-lateral width of the distal end of the femur of the particular patient; \\n wherein the body defines an opening between the medial portion and the lateral portion, the opening extending through the body from a posterior side of the body anteriorly beyond the medial tab and the lateral tab; and \\n \\n an offset portion coupled to the body, wherein the offset portion that is configured to extend to a point that is located in a coronal plane of the patient, the coronal plane of the patient being that is shared with the patient&#39;s greater trochanter, when the body is placed on the distal end of the femur and aligned on the axis through the patient&#39;s hip center. \\n \\n     \\n     \\n       2. The femoral implant alignment guide of  claim 1 , wherein the offset portion defines a slot that has a major axis along a medial-lateral direction, wherein the slot allows a rod inserted in the slot to pivot through the slot in the coronal plane of the patient or translate through the slot along a medial-lateral axis in the coronal plane of the patient. \\n     \\n     \\n       3. A femoral implant alignment guide for implanting a femoral component in a patient, comprising:\\n a body configured to be placed on a distal end of a femur and be aligned on an axis from between the patient&#39;s femoral condyles through the patient&#39;s hip center, the body including an elongated resection slot with a major axis substantially perpendicular to the axis through the patient&#39;s hip center when the body is placed on the distal end of the femur and aligned on the axis through the patient&#39;s hip center; and \\n an offset portion that includes:\\n a lateral offset portion coupled to the body, the lateral offset portion defining a slot; and \\n a rod configured to be received in the slot in the lateral offset portion, wherein the rod is configured to extend to a point that is located in a coronal plane of the patient, the coronal plane of the patient being shared with a greater trochanter of the femur, when the body is placed on the distal end of the femur and aligned on the axis through the patient&#39;s hip center, \\n \\n wherein the slot in the lateral offset portion (i) allows the rod to pivot through the slot or translate through the slot along a medial-lateral axis in the coronal plane of the patient while the rod is received in the slot and (ii) substantially constrains rotational displacement of the rod with respect to the body in a sagittal plane of the patient. \\n \\n     \\n     \\n       4. The femoral implant alignment guide of  claim 3  wherein the slot in the lateral offset portion has a first width along an anterior-posterior axis and a second width along a medial-lateral axis, the second width being greater than the first width. \\n     \\n     \\n       5. The femoral implant alignment guide of  claim 3  wherein the slot in the lateral offset portion allows the rod to pivot through the slot in the coronal plane of the patient; and\\n wherein the slot in the lateral offset portion allows the rod to translate through the slot along a medial-lateral axis in the coronal plane of the patient. \\n \\n     \\n     \\n       6. The femoral implant alignment guide of  claim 3  wherein the slot in the lateral offset portion is oriented at a fixed orientation with respect to the elongated resection slot, and the slot in the lateral offset portion is defined along an axis that is substantially orthogonal to the elongated resection slot. \\n     \\n     \\n       7. A femoral implant alignment guide for implanting a femoral component in a particular patient, comprising:\\n a body configured to be placed on a distal end of a femur and be aligned on an axis from between the particular patient&#39;s femoral condyles through the patient&#39;s hip center, the body including an elongated resection slot with a major axis substantially perpendicular to the axis through the particular patient&#39;s hip center when the body is placed on the distal end of the femur and aligned on the axis through the particular patient&#39;s hip center, wherein the body comprises a medial portion configured to engage a distal portion of the medial condyle and a lateral portion configured to engage a distal portion of the lateral condyle, the medial portion comprising a medial tab located to contact the medial condyle and the lateral portion comprising a lateral tab located to contact the lateral condyle; and \\n an offset portion coupled to the body, wherein the offset portion is configured to extend to a superior-inferior position of a greater trochanter of the femur and to a point that is located in a coronal plane of the particular patient, the coronal plane of the particular patient being shared with the greater trochanter, when the body is placed on the distal end of the femur and aligned on the axis through the particular patient&#39;s hip center; \\n wherein the body defines an opening between the medial portion and the lateral portion, the opening extending through the body from a posterior side of the body anteriorly beyond the medial tab and the lateral tab; \\n wherein the body comprises patient-specific references located to contact the distal end of the femur of the particular patient at two or more locations of the femur of the particular patient selected from the group consisting of: a medial anterior ridge of the femur of the particular patient, a lateral anterior ridge of the femur of the particular patient, a medial posterior condyle of the femur of the particular patient, and a lateral posterior condyle of the femur of the particular patient. \\n \\n     \\n     \\n       8. The femoral implant alignment guide of  claim 7  wherein the offset portion is configured such that the point is directly lateral of the greater trochanter when the body is aligned on the axis through the particular patient&#39;s hip center. \\n     \\n     \\n       9. The femoral implant alignment guide of  claim 7  wherein the offset portion is coupled to the body such that in use the body and the offset portion are substantially constrained from rotational displacement in a sagittal plane of the particular patient. \\n     \\n     \\n       10. The femoral implant alignment guide of  claim 7  wherein the offset portion comprises:\\n a lateral offset portion that is affixed to the body and extends laterally from the body beyond the femoral condyles when the body is placed on the distal end of the femur and aligned on the axis through the particular patient&#39;s hip center, the lateral offset portion defining a slot; and \\n a rod configured to be received in the slot in the lateral offset portion; \\n wherein the slot in the lateral offset portion allows the rod to pivot through the slot in the coronal plane of the particular patient or translate through the slot along a medial-lateral axis in the coronal plane of the particular patient. \\n \\n     \\n     \\n       11. The femoral implant alignment guide of  claim 10  wherein the slot in the lateral offset portion substantially constrains pivoting of the rod with respect to the body in a sagittal plane of the particular patient; and\\n wherein the rod is configured to extend to the point in the coronal plane of the particular patient when the body is aligned on the axis through the particular patient&#39;s hip center. \\n \\n     \\n     \\n       12. The femoral implant alignment guide of  claim 10 , wherein the lateral offset portion has a superior surface and an inferior surface, and the slot is defined from the superior surface to the inferior surface to admit the rod entirely through the lateral offset portion. \\n     \\n     \\n       13. The femoral implant alignment guide of  claim 12 , wherein the slot extends along a medial-lateral axis and permits the rod to translate medially and laterally through the slot. \\n     \\n     \\n       14. The femoral implant alignment guide of  claim 7  wherein the body comprises:\\n wherein the patient-specific references on the body are located to contact the distal end of the femur of the particular patient at two or more locations selected from the group consisting of: an anterior-most point on a medial anterior ridge of the femur of the particular patient, an anterior-most point on a lateral anterior ridge of the femur of the particular patient, a posterior-most point on a medial condyle of the femur of the particular patient, and a posterior-most point on a lateral condyle of the femur of the particular patient; and \\n wherein the body is shaped such that, when the distal end of the femur of the particular patient is received in the body, the body extends around the medial condyle from an anterior-most point on the medial condyle to a posterior-most point on the medial condyle and the body extends around the lateral condyle from an anterior-most point on the medial condyle to a posterior-most point on the lateral condyle. \\n \\n     \\n     \\n       15. The femoral implant alignment guide of  claim 7  wherein the body is configured to simultaneously engage a medial condyle of the femur with the medial portion and engage a lateral condyle of the femur with the lateral portion when the body is placed on a distal end of a femur and be aligned on an axis from between the particular patient&#39;s femoral condyles through the particular patient&#39;s hip center. \\n     \\n     \\n       16. The femoral implant alignment guide of  claim 14  wherein the body has an anterior connecting portion that connects the medial portion and the lateral portion, wherein the medial portion and the lateral portion each project posteriorly from the anterior connecting portion. \\n     \\n     \\n       17. The femoral implant alignment guide of  claim 7 , wherein the patient specific references comprise a medial anterior reference located on the body to contact the medial anterior ridge of the femur of the particular patient, and\\n wherein the opening extends anteriorly through the body beyond the medial anterior reference. \\n \\n     \\n     \\n       18. The femoral implant alignment guide of  claim 7  wherein the elongated resection slot extends along portions of both femoral condyles when the body is aligned on the axis from between the particular patient&#39;s femoral condyles through the particular patient&#39;s hip center. \\n     \\n     \\n       19. The femoral implant alignment guide of  claim 7  wherein the patient-specific references of the body comprise:\\n a posterior lateral reference configured to engage a posterior-most point of a lateral condyle of the femur; and \\n a posterior medial reference configured to engage a posterior-most point of a medial condyle of the femur; \\n an anterior lateral reference configured to engage an anterior-most point of the lateral condyle; and \\n an anterior medial reference configured to engage an anterior-most point of the medial condyle. \\n \\n     \\n     \\n       20. The femoral implant alignment guide of  claim 7  wherein the body comprises:\\n a medial anterior ridge contact surface configured to engage an anterior portion of a medial condyle of the femur; and \\n a lateral anterior ridge contact surface configured to engage an anterior portion of a lateral condyle of the femur, \\n wherein the medial anterior ridge contact surface is located posterior to the lateral anterior ridge contact surface. \\n \\n     \\n     \\n       21. The femoral implant alignment guide of  claim 7 , wherein the patient-specific references of the body comprise at least one of:\\n a patient-specific posterior lateral reference configured to engage a posterior-most point on a lateral condyle of the femur of the particular patient; and \\n a patient-specific posterior medial reference configured to engage a posterior-most point on a medial condyle of the femur of the particular patient. \\n \\n     \\n     \\n       22. The femoral alignment guide of  claim 7 , wherein the patient-specific references of the body comprise an anterior reference and a posterior reference, the body being shaped to place the anterior reference and the posterior reference on the body at a patient-specific spacing for the anterior reference to engage an anterior side of a condyle of the femur and the posterior reference to engage a posterior side of the condyle when the body is placed on the distal end of the femur. \\n     \\n     \\n       23. The femoral alignment guide of  claim 22 , wherein the body is shaped to place the anterior reference and the posterior reference on the body at a patient-specific spacing configured to engage an anterior-most point on the condyle with the anterior reference and to engage a posterior-most point on the condyle with the posterior reference when the body is placed on the distal end of the femur. \\n     \\n     \\n       24. The femoral alignment guide of  claim 7 , wherein a slot is defined through the offset portion in a superior-inferior direction, wherein the slot has a length in a medial-lateral direction and a length in an anterior-posterior direction, the length of the slot in the medial-lateral direction being greater than the length of the slot in the length in the anterior-posterior direction.'"
      ]
     },
     "execution_count": 13,
     "metadata": {},
     "output_type": "execute_result"
    }
   ],
   "source": [
    "training_set.claims[2]"
   ]
  },
  {
   "cell_type": "code",
   "execution_count": 14,
   "metadata": {},
   "outputs": [
    {
     "data": {
      "text/plain": [
       "{'sequence': 'What is claimed is: \\n     \\n       1. A femoral implant alignment guide for implanting a femoral component in a particular patient, comprising:\\n a body configured to be placed on a distal end of a femur and be aligned on an axis from between the particular patient&#39;s femoral condyles through the particular patient&#39;s hip center, the body including:\\n an elongated resection slot with a major axis substantially perpendicular to the axis through the particular patient&#39;s hip center when the body is placed on the distal end of the femur and aligned on the axis through the particular patient&#39;s hip center; \\n a medial portion configured to contact a medial condyle of the femur when the body is placed on the distal end of the femur and aligned on the axis through the particular patient&#39;s hip center, the medial portion comprising a medial tab configured to engage the medial condyle; and \\n a lateral portion configured to contact a medial condyle of the femur when the body is placed on the distal end of the femur and aligned on the axis through the particular patient&#39;s hip center, the lateral portion comprising a lateral tab configured to engage the lateral condyle; \\n wherein the medial tab and the lateral tab are positioned on the body to constrain a medial/lateral position of the femur with respect to the body when the body is placed on the distal end of the femur, the medial tab and the lateral tab being spaced apart by a distance corresponding to a medial-lateral width of the distal end of the femur of the particular patient; \\n wherein the body defines an opening between the medial portion and the lateral portion, the opening extending through the body from a posterior side of the body anteriorly beyond the medial tab and the lateral tab; and \\n \\n an offset portion coupled to the body, wherein the offset portion that is configured to extend to a point that is located in a coronal plane of the patient, the coronal plane of the patient being that is shared with the patient&#39;s greater trochanter, when the body is placed on the distal end of the femur and aligned on the axis through the patient&#39;s hip center. \\n \\n     \\n     \\n       2. The femoral implant alignment guide of  claim 1 , wherein the offset portion defines a slot that has a major axis along a medial-lateral direction, wherein the slot allows a rod inserted in the slot to pivot through the slot in the coronal plane of the patient or translate through the slot along a medial-lateral axis in the coronal plane of the patient. \\n     \\n     \\n       3. A femoral implant alignment guide for implanting a femoral component in a patient, comprising:\\n a body configured to be placed on a distal end of a femur and be aligned on an axis from between the patient&#39;s femoral condyles through the patient&#39;s hip center, the body including an elongated resection slot with a major axis substantially perpendicular to the axis through the patient&#39;s hip center when the body is placed on the distal end of the femur and aligned on the axis through the patient&#39;s hip center; and \\n an offset portion that includes:\\n a lateral offset portion coupled to the body, the lateral offset portion defining a slot; and \\n a rod configured to be received in the slot in the lateral offset portion, wherein the rod is configured to extend to a point that is located in a coronal plane of the patient, the coronal plane of the patient being shared with a greater trochanter of the femur, when the body is placed on the distal end of the femur and aligned on the axis through the patient&#39;s hip center, \\n \\n wherein the slot in the lateral offset portion (i) allows the rod to pivot through the slot or translate through the slot along a medial-lateral axis in the coronal plane of the patient while the rod is received in the slot and (ii) substantially constrains rotational displacement of the rod with respect to the body in a sagittal plane of the patient. \\n \\n     \\n     \\n       4. The femoral implant alignment guide of  claim 3  wherein the slot in the lateral offset portion has a first width along an anterior-posterior axis and a second width along a medial-lateral axis, the second width being greater than the first width. \\n     \\n     \\n       5. The femoral implant alignment guide of  claim 3  wherein the slot in the lateral offset portion allows the rod to pivot through the slot in the coronal plane of the patient; and\\n wherein the slot in the lateral offset portion allows the rod to translate through the slot along a medial-lateral axis in the coronal plane of the patient. \\n \\n     \\n     \\n       6. The femoral implant alignment guide of  claim 3  wherein the slot in the lateral offset portion is oriented at a fixed orientation with respect to the elongated resection slot, and the slot in the lateral offset portion is defined along an axis that is substantially orthogonal to the elongated resection slot. \\n     \\n     \\n       7. A femoral implant alignment guide for implanting a femoral component in a particular patient, comprising:\\n a body configured to be placed on a distal end of a femur and be aligned on an axis from between the particular patient&#39;s femoral condyles through the patient&#39;s hip center, the body including an elongated resection slot with a major axis substantially perpendicular to the axis through the particular patient&#39;s hip center when the body is placed on the distal end of the femur and aligned on the axis through the particular patient&#39;s hip center, wherein the body comprises a medial portion configured to engage a distal portion of the medial condyle and a lateral portion configured to engage a distal portion of the lateral condyle, the medial portion comprising a medial tab located to contact the medial condyle and the lateral portion comprising a lateral tab located to contact the lateral condyle; and \\n an offset portion coupled to the body, wherein the offset portion is configured to extend to a superior-inferior position of a greater trochanter of the femur and to a point that is located in a coronal plane of the particular patient, the coronal plane of the particular patient being shared with the greater trochanter, when the body is placed on the distal end of the femur and aligned on the axis through the particular patient&#39;s hip center; \\n wherein the body defines an opening between the medial portion and the lateral portion, the opening extending through the body from a posterior side of the body anteriorly beyond the medial tab and the lateral tab; \\n wherein the body comprises patient-specific references located to contact the distal end of the femur of the particular patient at two or more locations of the femur of the particular patient selected from the group consisting of: a medial anterior ridge of the femur of the particular patient, a lateral anterior ridge of the femur of the particular patient, a medial posterior condyle of the femur of the particular patient, and a lateral posterior condyle of the femur of the particular patient. \\n \\n     \\n     \\n       8. The femoral implant alignment guide of  claim 7  wherein the offset portion is configured such that the point is directly lateral of the greater trochanter when the body is aligned on the axis through the particular patient&#39;s hip center. \\n     \\n     \\n       9. The femoral implant alignment guide of  claim 7  wherein the offset portion is coupled to the body such that in use the body and the offset portion are substantially constrained from rotational displacement in a sagittal plane of the particular patient. \\n     \\n     \\n       10. The femoral implant alignment guide of  claim 7  wherein the offset portion comprises:\\n a lateral offset portion that is affixed to the body and extends laterally from the body beyond the femoral condyles when the body is placed on the distal end of the femur and aligned on the axis through the particular patient&#39;s hip center, the lateral offset portion defining a slot; and \\n a rod configured to be received in the slot in the lateral offset portion; \\n wherein the slot in the lateral offset portion allows the rod to pivot through the slot in the coronal plane of the particular patient or translate through the slot along a medial-lateral axis in the coronal plane of the particular patient. \\n \\n     \\n     \\n       11. The femoral implant alignment guide of  claim 10  wherein the slot in the lateral offset portion substantially constrains pivoting of the rod with respect to the body in a sagittal plane of the particular patient; and\\n wherein the rod is configured to extend to the point in the coronal plane of the particular patient when the body is aligned on the axis through the particular patient&#39;s hip center. \\n \\n     \\n     \\n       12. The femoral implant alignment guide of  claim 10 , wherein the lateral offset portion has a superior surface and an inferior surface, and the slot is defined from the superior surface to the inferior surface to admit the rod entirely through the lateral offset portion. \\n     \\n     \\n       13. The femoral implant alignment guide of  claim 12 , wherein the slot extends along a medial-lateral axis and permits the rod to translate medially and laterally through the slot. \\n     \\n     \\n       14. The femoral implant alignment guide of  claim 7  wherein the body comprises:\\n wherein the patient-specific references on the body are located to contact the distal end of the femur of the particular patient at two or more locations selected from the group consisting of: an anterior-most point on a medial anterior ridge of the femur of the particular patient, an anterior-most point on a lateral anterior ridge of the femur of the particular patient, a posterior-most point on a medial condyle of the femur of the particular patient, and a posterior-most point on a lateral condyle of the femur of the particular patient; and \\n wherein the body is shaped such that, when the distal end of the femur of the particular patient is received in the body, the body extends around the medial condyle from an anterior-most point on the medial condyle to a posterior-most point on the medial condyle and the body extends around the lateral condyle from an anterior-most point on the medial condyle to a posterior-most point on the lateral condyle. \\n \\n     \\n     \\n       15. The femoral implant alignment guide of  claim 7  wherein the body is configured to simultaneously engage a medial condyle of the femur with the medial portion and engage a lateral condyle of the femur with the lateral portion when the body is placed on a distal end of a femur and be aligned on an axis from between the particular patient&#39;s femoral condyles through the particular patient&#39;s hip center. \\n     \\n     \\n       16. The femoral implant alignment guide of  claim 14  wherein the body has an anterior connecting portion that connects the medial portion and the lateral portion, wherein the medial portion and the lateral portion each project posteriorly from the anterior connecting portion. \\n     \\n     \\n       17. The femoral implant alignment guide of  claim 7 , wherein the patient specific references comprise a medial anterior reference located on the body to contact the medial anterior ridge of the femur of the particular patient, and\\n wherein the opening extends anteriorly through the body beyond the medial anterior reference. \\n \\n     \\n     \\n       18. The femoral implant alignment guide of  claim 7  wherein the elongated resection slot extends along portions of both femoral condyles when the body is aligned on the axis from between the particular patient&#39;s femoral condyles through the particular patient&#39;s hip center. \\n     \\n     \\n       19. The femoral implant alignment guide of  claim 7  wherein the patient-specific references of the body comprise:\\n a posterior lateral reference configured to engage a posterior-most point of a lateral condyle of the femur; and \\n a posterior medial reference configured to engage a posterior-most point of a medial condyle of the femur; \\n an anterior lateral reference configured to engage an anterior-most point of the lateral condyle; and \\n an anterior medial reference configured to engage an anterior-most point of the medial condyle. \\n \\n     \\n     \\n       20. The femoral implant alignment guide of  claim 7  wherein the body comprises:\\n a medial anterior ridge contact surface configured to engage an anterior portion of a medial condyle of the femur; and \\n a lateral anterior ridge contact surface configured to engage an anterior portion of a lateral condyle of the femur, \\n wherein the medial anterior ridge contact surface is located posterior to the lateral anterior ridge contact surface. \\n \\n     \\n     \\n       21. The femoral implant alignment guide of  claim 7 , wherein the patient-specific references of the body comprise at least one of:\\n a patient-specific posterior lateral reference configured to engage a posterior-most point on a lateral condyle of the femur of the particular patient; and \\n a patient-specific posterior medial reference configured to engage a posterior-most point on a medial condyle of the femur of the particular patient. \\n \\n     \\n     \\n       22. The femoral alignment guide of  claim 7 , wherein the patient-specific references of the body comprise an anterior reference and a posterior reference, the body being shaped to place the anterior reference and the posterior reference on the body at a patient-specific spacing for the anterior reference to engage an anterior side of a condyle of the femur and the posterior reference to engage a posterior side of the condyle when the body is placed on the distal end of the femur. \\n     \\n     \\n       23. The femoral alignment guide of  claim 22 , wherein the body is shaped to place the anterior reference and the posterior reference on the body at a patient-specific spacing configured to engage an anterior-most point on the condyle with the anterior reference and to engage a posterior-most point on the condyle with the posterior reference when the body is placed on the distal end of the femur. \\n     \\n     \\n       24. The femoral alignment guide of  claim 7 , wherein a slot is defined through the offset portion in a superior-inferior direction, wherein the slot has a length in a medial-lateral direction and a length in an anterior-posterior direction, the length of the slot in the medial-lateral direction being greater than the length of the slot in the length in the anterior-posterior direction.',\n",
       " 'labels': ['Personalized Product',\n",
       "  'Specification of Use',\n",
       "  'Imaging',\n",
       "  'Manufacturing',\n",
       "  'Analysis and Modeling',\n",
       "  'Anatomical Target',\n",
       "  'Surgical Method'],\n",
       " 'scores': [0.22246988117694855,\n",
       "  0.17216303944587708,\n",
       "  0.1414346843957901,\n",
       "  0.12833012640476227,\n",
       "  0.1225624680519104,\n",
       "  0.10987961292266846,\n",
       "  0.10316012054681778]}"
      ]
     },
     "execution_count": 14,
     "metadata": {},
     "output_type": "execute_result"
    }
   ],
   "source": [
    "classifier(training_set.claims[2], candidate_labels)"
   ]
  },
  {
   "cell_type": "code",
   "execution_count": null,
   "metadata": {},
   "outputs": [],
   "source": []
  }
 ],
 "metadata": {
  "kernelspec": {
   "display_name": "Python 3",
   "language": "python",
   "name": "python3"
  },
  "language_info": {
   "codemirror_mode": {
    "name": "ipython",
    "version": 3
   },
   "file_extension": ".py",
   "mimetype": "text/x-python",
   "name": "python",
   "nbconvert_exporter": "python",
   "pygments_lexer": "ipython3",
   "version": "3.8.6"
  }
 },
 "nbformat": 4,
 "nbformat_minor": 4
}
