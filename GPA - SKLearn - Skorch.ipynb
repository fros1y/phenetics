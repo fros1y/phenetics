{
 "cells": [
  {
   "cell_type": "code",
   "execution_count": 1,
   "metadata": {},
   "outputs": [],
   "source": [
    "import pandas as pd\n",
    "import numpy as np\n",
    "from tqdm.auto import tqdm\n",
    "from util import *"
   ]
  },
  {
   "cell_type": "code",
   "execution_count": 2,
   "metadata": {},
   "outputs": [],
   "source": [
    "# from sklearn import set_config\n",
    "# set_config(display='diagram') "
   ]
  },
  {
   "cell_type": "code",
   "execution_count": 3,
   "metadata": {},
   "outputs": [],
   "source": [
    "training_set = pd.read_json(\"training_set.json.gz\", lines=True, orient=\"records\")\n",
    "\n",
    "testing_set = pd.read_json(\"testing_set.json.gz\", lines=True, orient=\"records\")\n",
    "\n",
    "subset = list(sorted(set(all_tiers_100)-set([\"PersonalizedProduct\"])))"
   ]
  },
  {
   "cell_type": "code",
   "execution_count": 6,
   "metadata": {},
   "outputs": [],
   "source": [
    "count = training_set.shape[0]"
   ]
  },
  {
   "cell_type": "code",
   "execution_count": 7,
   "metadata": {},
   "outputs": [],
   "source": [
    "pos_weights = (1 / (training_set[subset].sum() / count).values)"
   ]
  },
  {
   "cell_type": "code",
   "execution_count": 8,
   "metadata": {},
   "outputs": [
    {
     "data": {
      "text/plain": [
       "['AnalysisAndModeling',\n",
       " 'AnalysisAndModeling_3DModeling',\n",
       " 'AnatomicalTarget',\n",
       " 'AnatomicalTarget_LowerExtremity',\n",
       " 'AnatomicalTarget_LowerExtremity_Hip',\n",
       " 'AnatomicalTarget_LowerExtremity_Knee',\n",
       " 'AnatomicalTarget_Torso',\n",
       " 'AnatomicalTarget_Torso_Spine',\n",
       " 'AnatomicalTarget_UpperExtremity',\n",
       " 'AnatomicalTarget_UpperExtremity_Shoulder',\n",
       " 'Imaging',\n",
       " 'Imaging_CT',\n",
       " 'Imaging_MRI',\n",
       " 'Imaging_Ultrasound',\n",
       " 'Manufacturing',\n",
       " 'Manufacturing_AdditiveManufacturing',\n",
       " 'PersonalizedProduct_Guide/Jig',\n",
       " 'PersonalizedProduct_Implant',\n",
       " 'SpecificationofUse',\n",
       " 'SpecificationofUse_Disease',\n",
       " 'SpecificationofUse_JointReplacement',\n",
       " 'SurgicalMethod']"
      ]
     },
     "execution_count": 8,
     "metadata": {},
     "output_type": "execute_result"
    }
   ],
   "source": [
    "subset = list(sorted(set(all_tiers_100)-set([\"PersonalizedProduct\"])))\n",
    "subset"
   ]
  },
  {
   "cell_type": "code",
   "execution_count": 9,
   "metadata": {},
   "outputs": [],
   "source": [
    "training_labels = training_set[subset]"
   ]
  },
  {
   "cell_type": "code",
   "execution_count": 10,
   "metadata": {},
   "outputs": [],
   "source": [
    "testing_labels = testing_set[subset]"
   ]
  },
  {
   "cell_type": "code",
   "execution_count": 11,
   "metadata": {},
   "outputs": [],
   "source": [
    "from sklearn.pipeline import Pipeline\n",
    "from sklearn.compose import ColumnTransformer"
   ]
  },
  {
   "cell_type": "code",
   "execution_count": 12,
   "metadata": {},
   "outputs": [],
   "source": [
    "from sklearn.pipeline import Pipeline\n",
    "from sklearn.compose import ColumnTransformer\n",
    "from sklearn.feature_extraction.text import TfidfVectorizer, CountVectorizer"
   ]
  },
  {
   "cell_type": "code",
   "execution_count": 13,
   "metadata": {},
   "outputs": [
    {
     "data": {
      "text/plain": [
       "{'abstract',\n",
       " 'all_tiers',\n",
       " 'all_tiers_100',\n",
       " 'application_kind',\n",
       " 'application_number',\n",
       " 'application_number_formatted',\n",
       " 'assignees',\n",
       " 'citations',\n",
       " 'cited_by',\n",
       " 'claims',\n",
       " 'country_code_x',\n",
       " 'country_code_y',\n",
       " 'cpc_codes',\n",
       " 'description',\n",
       " 'embedding_v1',\n",
       " 'examiners',\n",
       " 'family_id',\n",
       " 'fi_codes',\n",
       " 'filing_date',\n",
       " 'fterm_codes',\n",
       " 'gpa_number',\n",
       " 'grant_date',\n",
       " 'inventors',\n",
       " 'kind',\n",
       " 'kind_code',\n",
       " 'padded_serial',\n",
       " 'pct_number',\n",
       " 'priority_date',\n",
       " 'publication_date',\n",
       " 'publication_number',\n",
       " 'serial_x',\n",
       " 'serial_y',\n",
       " 'similar_npl',\n",
       " 'similar_patents',\n",
       " 'tier1_tags',\n",
       " 'tier1_tier2_tags',\n",
       " 'tier2_100',\n",
       " 'tier3_100',\n",
       " 'title',\n",
       " 'top_terms',\n",
       " 'url',\n",
       " 'uspc_codes'}"
      ]
     },
     "execution_count": 13,
     "metadata": {},
     "output_type": "execute_result"
    }
   ],
   "source": [
    "set(training_set.columns) - set(all_tiers)"
   ]
  },
  {
   "cell_type": "code",
   "execution_count": 14,
   "metadata": {},
   "outputs": [
    {
     "data": {
      "text/plain": [
       "0      [prosthesis, member, coupling portion, portion...\n",
       "1      [femur, tibia, implant, leg, patient, portion,...\n",
       "2      [lateral, femur, patient, body, medial, slot, ...\n",
       "3      [glenoid, virtual, alignment pin, patient, sca...\n",
       "4      [bone, surface, patient, resection, jig, use, ...\n",
       "                             ...                        \n",
       "967    [method, bone, medial, patient, template, late...\n",
       "968    [cutting guide, surgical cutting, customized s...\n",
       "969    [patient, adapted, surface, surface model, imp...\n",
       "970    [polymer, monomers, modulus, thiol, multifunct...\n",
       "971    [implant, patient, peg, portion, bone, porous,...\n",
       "Name: top_terms, Length: 972, dtype: object"
      ]
     },
     "execution_count": 14,
     "metadata": {},
     "output_type": "execute_result"
    }
   ],
   "source": [
    "training_set.top_terms"
   ]
  },
  {
   "cell_type": "code",
   "execution_count": 15,
   "metadata": {},
   "outputs": [
    {
     "data": {
      "text/plain": [
       "0      [0.09129103335241477, -0.8074875394503276, -0....\n",
       "1      [-0.0626441298850945, -0.8264780470303127, -0....\n",
       "2      [-0.2087969978650411, -0.8326806823412577, -0....\n",
       "3      [0.020394775830209256, -0.8215901732444764, -0...\n",
       "4      [-0.26043402403593063, -0.6891247034072876, -0...\n",
       "                             ...                        \n",
       "238    [-0.23802674313386282, -0.628900408744812, -0....\n",
       "239    [-0.3754243354002635, -0.6894144614537557, -0....\n",
       "240    [-0.12913421913981438, -0.6960149183869362, -0...\n",
       "241    [-0.3880331997688, -0.702021429171929, -0.2717...\n",
       "242    [-0.2977850042283535, -0.7015813589096069, -0....\n",
       "Name: embedded_cpc, Length: 243, dtype: object"
      ]
     },
     "execution_count": 15,
     "metadata": {},
     "output_type": "execute_result"
    }
   ],
   "source": [
    "cpc_embeddings = np.fromfile(\"/home/martin/patentmark/cpc.node2vec.emb.32d.bin\", dtype=np.float32).reshape((-1,32))\n",
    "\n",
    "import joblib\n",
    "cpc_labelizer = joblib.load('./node2id.joblib')\n",
    "cpc_lookup = {c: n for n, c in enumerate(cpc_labelizer.classes_)}\n",
    "\n",
    "@f.collecting\n",
    "def convert_cpc_codes(codes):\n",
    "    for code in codes:\n",
    "        if code in cpc_lookup:\n",
    "            yield cpc_lookup[code]\n",
    "    \n",
    "def embed_cpc_codes(codes):\n",
    "    embedding = np.zeros(32)\n",
    "    converted = convert_cpc_codes(codes)\n",
    "    \n",
    "    if not converted:\n",
    "        return embedding\n",
    "    \n",
    "    for code_id in converted:\n",
    "        embedding = embedding + cpc_embeddings[code_id]\n",
    "        \n",
    "    return embedding / len(converted)\n",
    "\n",
    "training_set['embedded_cpc'] = training_set.cpc_codes.apply(embed_cpc_codes)\n",
    "training_set.embedded_cpc\n",
    "\n",
    "testing_set['embedded_cpc'] = testing_set.cpc_codes.apply(embed_cpc_codes)\n",
    "testing_set.embedded_cpc"
   ]
  },
  {
   "cell_type": "code",
   "execution_count": 16,
   "metadata": {},
   "outputs": [
    {
     "data": {
      "text/plain": [
       "(243, 32)"
      ]
     },
     "execution_count": 16,
     "metadata": {},
     "output_type": "execute_result"
    }
   ],
   "source": [
    "np.array(testing_set.embedded_cpc.values.tolist()).shape"
   ]
  },
  {
   "cell_type": "code",
   "execution_count": 17,
   "metadata": {},
   "outputs": [],
   "source": [
    "from sklearn.ensemble import *"
   ]
  },
  {
   "cell_type": "code",
   "execution_count": 18,
   "metadata": {},
   "outputs": [],
   "source": [
    "from sklearn.svm import SVC, LinearSVC\n",
    "from sklearn.neighbors import KNeighborsClassifier"
   ]
  },
  {
   "cell_type": "code",
   "execution_count": 19,
   "metadata": {},
   "outputs": [],
   "source": [
    "from sklearn.dummy import DummyClassifier"
   ]
  },
  {
   "cell_type": "code",
   "execution_count": 20,
   "metadata": {},
   "outputs": [],
   "source": [
    "from sklearn.linear_model import LogisticRegression"
   ]
  },
  {
   "cell_type": "code",
   "execution_count": 53,
   "metadata": {},
   "outputs": [],
   "source": [
    "# from transformers import FeatureExtractionPipeline, AutoModel, AutoTokenizer\n",
    "# transformer_model = AutoModel.from_pretrained(\"bertForPatents/\", gradient_checkpointing=True)\n",
    "# transformer_tokenizer = AutoTokenizer.from_pretrained(\"bertForPatents/\")\n",
    "# transformer = FeatureExtractionPipeline(transformer_model, tokenizer=transformer_tokenizer, device=0)\n",
    "\n",
    "import sentence_transformers as st\n",
    "from sentence_transformers import SentenceTransformer\n",
    "\n",
    "# model_name = \"/home/martin/patentmark/patentmark-charting-app/vectors/sPatent-v2/\"\n",
    "# text_embedder = SentenceTransformer(model_name)\n",
    "model_name = \"bertForPatents/\"\n",
    "word_embedding_model = st.models.Transformer(model_name)\n",
    "pooling_model = st.models.Pooling(word_embedding_model.get_word_embedding_dimension(),\n",
    "                               pooling_mode_mean_tokens=True,\n",
    "                               pooling_mode_cls_token=False,\n",
    "                               pooling_mode_max_tokens=True)\n",
    "text_embedder = SentenceTransformer(modules=[word_embedding_model, pooling_model])"
   ]
  },
  {
   "cell_type": "code",
   "execution_count": null,
   "metadata": {},
   "outputs": [],
   "source": []
  },
  {
   "cell_type": "code",
   "execution_count": 54,
   "metadata": {},
   "outputs": [],
   "source": [
    "class TransformerFeatures(sklearn.base.BaseEstimator):\n",
    "    def fit(self, X, y):\n",
    "        return self\n",
    "        \n",
    "    def transform(self, X):\n",
    "        return text_embedder.encode(X)\n",
    "        "
   ]
  },
  {
   "cell_type": "code",
   "execution_count": 55,
   "metadata": {},
   "outputs": [],
   "source": [
    "class VectorPassthrough(sklearn.base.BaseEstimator):\n",
    "    def fit(self, X, y):\n",
    "        return self\n",
    "    \n",
    "    def transform(self, X):\n",
    "        return np.array(X.values.tolist())\n",
    "        "
   ]
  },
  {
   "cell_type": "code",
   "execution_count": 56,
   "metadata": {},
   "outputs": [],
   "source": [
    "from sklearn.decomposition import TruncatedSVD"
   ]
  },
  {
   "cell_type": "code",
   "execution_count": 57,
   "metadata": {},
   "outputs": [],
   "source": [
    "\n",
    "# column_prep = ColumnTransformer([\n",
    "# #      ('top_terms',\n",
    "# #       CountVectorizer(analyzer=iden, binary=True, min_df=2),\n",
    "# #      'top_terms'\n",
    "# #      ),\n",
    "#      ('cited_by',\n",
    "#       Pipeline(steps=[\n",
    "#           ('cited', CountVectorizer(analyzer=iden, binary=True, min_df=2)),\n",
    "#           ('cited_svd', TruncatedSVD(n_components=64, random_state=42))]),\n",
    "#      'cited_by'\n",
    "#      ),\n",
    "#     ('inventors',\n",
    "#      Pipeline(steps=[\n",
    "#          ('inventors', CountVectorizer(analyzer=iden, binary=True, min_df=2)),\n",
    "#          ('inventors_svd', TruncatedSVD(n_components=64, random_state=42))]),\n",
    "#      'inventors'\n",
    "#      ),\n",
    "# #      ('citations',\n",
    "# #        CountVectorizer(analyzer=iden, binary=True, min_df=2),\n",
    "# #       'citations'\n",
    "# #       ),\n",
    "# # #         ('similar_npl',\n",
    "# # #       CountVectorizer(analyzer=lambda x:x, min_df=2),\n",
    "# # #      'similar_npl'\n",
    "# # #      ),\n",
    "# #         ('similar_patents',\n",
    "# #       CountVectorizer(analyzer=iden, binary=True, min_df=2),\n",
    "# #      'similar_patents'\n",
    "# #      )\n",
    "# #   ,\n",
    "# #      ('cpc',\n",
    "# #       CountVectorizer(analyzer=cpc_split, binary=True, min_df=2),\n",
    "# #      'cpc_codes'\n",
    "# #      ),\n",
    "#     ('embedded_cpc', \n",
    "#      VectorPassthrough(),\n",
    "#      'embedded_cpc'\n",
    "#     ),\n",
    "#     ('embedding_v1',\n",
    "#      VectorPassthrough(),\n",
    "#      'embedding_v1'\n",
    "#     ),\n",
    "#     ('transformer_abstract',\n",
    "#     TransformerFeatures(),\n",
    "#      'abstract'\n",
    "#     ),\n",
    "#     ('transformer_claims',\n",
    "#      TransformerFeatures(),\n",
    "#      'claims'\n",
    "#     )], verbose=False, n_jobs=1)\n",
    "\n",
    "# from sklearn.preprocessing import Normalizer\n",
    "# pipeline = Pipeline(steps=[('columns', column_prep), \n",
    "#                            ('norm', Normalizer())])\n",
    "    "
   ]
  },
  {
   "cell_type": "code",
   "execution_count": 58,
   "metadata": {},
   "outputs": [],
   "source": [
    "tfidf_default_settings = {\n",
    "    'lowercase': True, \n",
    "    'strip_accents': 'ascii',\n",
    "    'stop_words' : stopwords,\n",
    "    'min_df': 5,\n",
    "    #'max_df': 0.5#,\n",
    "    #'ngram_range': (1,3)\n",
    "}\n",
    "\n",
    "column_prep = ColumnTransformer([\n",
    "#      ('top_terms',\n",
    "#       CountVectorizer(analyzer=iden, binary=True, min_df=2),\n",
    "#      'top_terms'\n",
    "#      ),\n",
    "     ('cited_by',\n",
    "      CountVectorizer(analyzer=iden, binary=True, min_df=2),\n",
    "     'cited_by'\n",
    "     ),\n",
    "    ('inventors',\n",
    "      CountVectorizer(analyzer=iden, binary=True, min_df=2),\n",
    "     'inventors'\n",
    "     ),\n",
    "#      ('citations',\n",
    "#        CountVectorizer(analyzer=iden, binary=True, min_df=2),\n",
    "#       'citations'\n",
    "#       ),\n",
    "# #         ('similar_npl',\n",
    "# #       CountVectorizer(analyzer=lambda x:x, min_df=2),\n",
    "# #      'similar_npl'\n",
    "# #      ),\n",
    "#         ('similar_patents',\n",
    "#       CountVectorizer(analyzer=iden, binary=True, min_df=2),\n",
    "#      'similar_patents'\n",
    "#      )\n",
    "#   ,\n",
    "#      ('cpc',\n",
    "#       CountVectorizer(analyzer=cpc_split, binary=True, min_df=2),\n",
    "#      'cpc_codes'\n",
    "#      ),\n",
    "    ('embedded_cpc', \n",
    "     VectorPassthrough(),\n",
    "     'embedded_cpc'\n",
    "    ),\n",
    "    ('embedding_v1',\n",
    "     VectorPassthrough(),\n",
    "     'embedding_v1'\n",
    "    ),\n",
    "    ('transformer_abstract',\n",
    "    TransformerFeatures(),\n",
    "     'abstract'\n",
    "    ),\n",
    "    ('transformer_claims',\n",
    "     TransformerFeatures(),\n",
    "     'claims'\n",
    "    )], verbose=False, n_jobs=1)\n",
    "\n",
    "from sklearn.preprocessing import Normalizer\n",
    "pipeline = Pipeline(steps=[('columns', column_prep), ('norm', Normalizer())])\n",
    "    \n",
    "#     ('abstract_tfidf', \n",
    "#     TfidfVectorizer(**tfidf_default_settings),\n",
    "#    'abstract'),\n",
    "#     ('claims_tfidf',\n",
    "#      TfidfVectorizer(**tfidf_default_settings),\n",
    "#      'claims'\n",
    "#     ),\n",
    "#     ('description_tfidf',\n",
    "#      TfidfVectorizer(**tfidf_default_settings),\n",
    "#      'description'\n",
    "#     )\n",
    "      "
   ]
  },
  {
   "cell_type": "code",
   "execution_count": 59,
   "metadata": {},
   "outputs": [],
   "source": [
    "from sklearn.decomposition import TruncatedSVD"
   ]
  },
  {
   "cell_type": "code",
   "execution_count": 60,
   "metadata": {},
   "outputs": [],
   "source": [
    "from sklearn.multiclass import OneVsRestClassifier, OneVsOneClassifier\n",
    "from sklearn.naive_bayes import GaussianNB"
   ]
  },
  {
   "cell_type": "code",
   "execution_count": 61,
   "metadata": {},
   "outputs": [],
   "source": [
    "from sklearn.metrics import *"
   ]
  },
  {
   "cell_type": "code",
   "execution_count": 62,
   "metadata": {},
   "outputs": [],
   "source": [
    "from sklearn.preprocessing import MultiLabelBinarizer\n",
    "mlb = MultiLabelBinarizer()\n",
    "import util\n",
    "X_train = pipeline.fit_transform(training_set)\n",
    "X_test = pipeline.transform(testing_set)"
   ]
  },
  {
   "cell_type": "code",
   "execution_count": 63,
   "metadata": {},
   "outputs": [],
   "source": [
    "y_train = mlb.fit_transform(training_set[subset].apply(util.array_labels, axis=1))\n",
    "y_test = mlb.transform(testing_set[subset].apply(util.array_labels, axis=1))"
   ]
  },
  {
   "cell_type": "code",
   "execution_count": 64,
   "metadata": {},
   "outputs": [],
   "source": [
    "def scorer(net, ds, y=None):\n",
    "    y_true = [y for _, y in ds]\n",
    "    y_pred = (net.predict(ds) >= 0.5)\n",
    "    #score = sklearn.metrics.label_ranking_loss(y_true, y_pred)\n",
    "    score = sklearn.metrics.f1_score(y_true, y_pred, average=\"weighted\")\n",
    "    #score = sklearn.metrics.hamming_loss(y_true, y_pred)\n",
    "    return score"
   ]
  },
  {
   "cell_type": "code",
   "execution_count": 73,
   "metadata": {},
   "outputs": [],
   "source": [
    "from torch import nn\n",
    "\n",
    "import torch.nn.functional as F\n",
    "def linear_combination(x, y, epsilon): \n",
    "    return epsilon*x + (1-epsilon)*y\n",
    "\n",
    "def reduce_loss(loss, reduction='mean'):\n",
    "    return loss.mean() if reduction=='mean' else loss.sum() if reduction=='sum' else loss\n",
    "\n",
    "class LabelSmoothingCrossEntropy(nn.Module):\n",
    "    def __init__(self, pos_weights=pos_weights, epsilon:float=0.01, reduction='mean'):\n",
    "        super().__init__()\n",
    "        self.epsilon = epsilon\n",
    "        self.reduction = reduction\n",
    "        self.pos_weights = pos_weights\n",
    "    \n",
    "    def forward(self, preds, target):\n",
    "        n = preds.size()[-1]\n",
    "        loss = reduce_loss(-preds.sum(dim=-1), self.reduction)\n",
    "        nll = F.binary_cross_entropy_with_logits(preds, target, pos_weight=torch.tensor(self.pos_weights).to(\"cuda:0\"), reduction=self.reduction)\n",
    "        return linear_combination(loss/n, nll, self.epsilon)"
   ]
  },
  {
   "cell_type": "code",
   "execution_count": 86,
   "metadata": {},
   "outputs": [],
   "source": [
    "from torch import nn\n",
    "import torch.nn.functional as F\n",
    "import torch\n",
    "from skorch import NeuralNet, dataset\n",
    "from skorch.callbacks import ProgressBar, Checkpoint, EarlyStopping, EpochScoring, LRScheduler, LoadInitState\n",
    "from skorch.helper import predefined_split\n",
    "\n",
    "valid_ds = dataset.Dataset(X_test.astype(np.float32), y_test.astype(np.float32))\n",
    "\n",
    "class Net(nn.Module):\n",
    "    def __init__(self, input_features, output_features, bottleneck=512):\n",
    "        super().__init__()\n",
    "        self.layer1 = nn.Linear(input_features, bottleneck)\n",
    "        self.dropout = nn.Dropout(0.5)\n",
    "        self.dropout2 = nn.Dropout(0.5)\n",
    "        self.layer2 = nn.Linear(bottleneck, bottleneck)\n",
    "        self.output = nn.Linear(bottleneck, output_features)\n",
    "        \n",
    "    def forward(self, x):\n",
    "        \n",
    "        x = self.layer1(x)\n",
    "        x = F.elu(x)\n",
    "        #x = self.bn(x)\n",
    "        x = self.dropout(x)\n",
    "        \n",
    "        x = self.layer2(x)\n",
    "        x = F.elu(x)\n",
    "        x = self.dropout2(x)\n",
    "        #x = F.elu(x)\n",
    "        \n",
    "        x = self.output(x)\n",
    "        \n",
    "        return x\n",
    "\n",
    "checkpoint = Checkpoint(dirname='exp4')\n",
    "earlystopping = EarlyStopping(patience=20)\n",
    "#load_state = LoadInitState(checkpoint)\n",
    "\n",
    "net = NeuralNet(Net, \n",
    "                criterion=LabelSmoothingCrossEntropy, \n",
    "                lr=0.00005,\n",
    "                predict_nonlinearity=torch.sigmoid,\n",
    "                batch_size=32, \n",
    "                max_epochs=10000, \n",
    "                module__input_features=X_train.shape[1],\n",
    "                module__output_features=len(mlb.classes_),\n",
    "                optimizer=torch.optim.AdamW,\n",
    "                #train_split=predefined_split(valid_ds),\n",
    "                iterator_train__shuffle=True,\n",
    "                iterator_train__num_workers=4,\n",
    "                callbacks=[ProgressBar(),\n",
    "                           EpochScoring(scorer, name=\"f1\", lower_is_better=False),\n",
    "                           checkpoint,\n",
    "                           earlystopping,\n",
    "                           #load_state,\n",
    "                           #LRScheduler(monitor='val_loss'),\n",
    "                          ],\n",
    "                device='cuda'\n",
    "               )"
   ]
  },
  {
   "cell_type": "code",
   "execution_count": 87,
   "metadata": {},
   "outputs": [
    {
     "data": {
      "text/plain": [
       "(972, 8572)"
      ]
     },
     "execution_count": 87,
     "metadata": {},
     "output_type": "execute_result"
    }
   ],
   "source": [
    "X_train.shape"
   ]
  },
  {
   "cell_type": "code",
   "execution_count": 94,
   "metadata": {
    "scrolled": true
   },
   "outputs": [
    {
     "name": "stdout",
     "output_type": "stream",
     "text": [
      "Re-initializing module because the following parameters were re-set: input_features, output_features.\n",
      "Re-initializing optimizer.\n"
     ]
    },
    {
     "data": {
      "application/vnd.jupyter.widget-view+json": {
       "model_id": "",
       "version_major": 2,
       "version_minor": 0
      },
      "text/plain": [
       "HBox(children=(FloatProgress(value=0.0, max=19.0), HTML(value='')))"
      ]
     },
     "metadata": {},
     "output_type": "display_data"
    },
    {
     "name": "stdout",
     "output_type": "stream",
     "text": [
      "  epoch      f1    train_loss    valid_loss    cp     dur\n",
      "-------  ------  ------------  ------------  ----  ------\n",
      "      1  \u001b[36m0.4312\u001b[0m        \u001b[32m1.1886\u001b[0m        \u001b[35m1.1632\u001b[0m     +  0.5607\n"
     ]
    },
    {
     "data": {
      "application/vnd.jupyter.widget-view+json": {
       "model_id": "",
       "version_major": 2,
       "version_minor": 0
      },
      "text/plain": [
       "HBox(children=(FloatProgress(value=0.0, max=19.0), HTML(value='')))"
      ]
     },
     "metadata": {},
     "output_type": "display_data"
    },
    {
     "name": "stdout",
     "output_type": "stream",
     "text": [
      "      2  \u001b[36m0.5034\u001b[0m        \u001b[32m1.1830\u001b[0m        \u001b[35m1.1587\u001b[0m     +  0.5797\n"
     ]
    },
    {
     "data": {
      "application/vnd.jupyter.widget-view+json": {
       "model_id": "",
       "version_major": 2,
       "version_minor": 0
      },
      "text/plain": [
       "HBox(children=(FloatProgress(value=0.0, max=19.0), HTML(value='')))"
      ]
     },
     "metadata": {},
     "output_type": "display_data"
    },
    {
     "name": "stdout",
     "output_type": "stream",
     "text": [
      "      3  \u001b[36m0.5080\u001b[0m        \u001b[32m1.1764\u001b[0m        \u001b[35m1.1534\u001b[0m     +  0.5577\n"
     ]
    },
    {
     "data": {
      "application/vnd.jupyter.widget-view+json": {
       "model_id": "",
       "version_major": 2,
       "version_minor": 0
      },
      "text/plain": [
       "HBox(children=(FloatProgress(value=0.0, max=19.0), HTML(value='')))"
      ]
     },
     "metadata": {},
     "output_type": "display_data"
    },
    {
     "name": "stdout",
     "output_type": "stream",
     "text": [
      "      4  \u001b[36m0.5080\u001b[0m        \u001b[32m1.1682\u001b[0m        \u001b[35m1.1478\u001b[0m     +  0.5596\n"
     ]
    },
    {
     "data": {
      "application/vnd.jupyter.widget-view+json": {
       "model_id": "",
       "version_major": 2,
       "version_minor": 0
      },
      "text/plain": [
       "HBox(children=(FloatProgress(value=0.0, max=19.0), HTML(value='')))"
      ]
     },
     "metadata": {},
     "output_type": "display_data"
    },
    {
     "name": "stdout",
     "output_type": "stream",
     "text": [
      "      5  0.5040        \u001b[32m1.1606\u001b[0m        \u001b[35m1.1435\u001b[0m     +  0.5757\n"
     ]
    },
    {
     "data": {
      "application/vnd.jupyter.widget-view+json": {
       "model_id": "",
       "version_major": 2,
       "version_minor": 0
      },
      "text/plain": [
       "HBox(children=(FloatProgress(value=0.0, max=19.0), HTML(value='')))"
      ]
     },
     "metadata": {},
     "output_type": "display_data"
    },
    {
     "name": "stdout",
     "output_type": "stream",
     "text": [
      "      6  0.5040        \u001b[32m1.1548\u001b[0m        \u001b[35m1.1415\u001b[0m     +  0.5652\n"
     ]
    },
    {
     "data": {
      "application/vnd.jupyter.widget-view+json": {
       "model_id": "",
       "version_major": 2,
       "version_minor": 0
      },
      "text/plain": [
       "HBox(children=(FloatProgress(value=0.0, max=19.0), HTML(value='')))"
      ]
     },
     "metadata": {},
     "output_type": "display_data"
    },
    {
     "name": "stdout",
     "output_type": "stream",
     "text": [
      "      7  0.5080        \u001b[32m1.1519\u001b[0m        \u001b[35m1.1411\u001b[0m     +  0.5571\n"
     ]
    },
    {
     "data": {
      "application/vnd.jupyter.widget-view+json": {
       "model_id": "",
       "version_major": 2,
       "version_minor": 0
      },
      "text/plain": [
       "HBox(children=(FloatProgress(value=0.0, max=19.0), HTML(value='')))"
      ]
     },
     "metadata": {},
     "output_type": "display_data"
    },
    {
     "name": "stdout",
     "output_type": "stream",
     "text": [
      "      8  0.5080        \u001b[32m1.1485\u001b[0m        1.1421        0.5535\n"
     ]
    },
    {
     "data": {
      "application/vnd.jupyter.widget-view+json": {
       "model_id": "",
       "version_major": 2,
       "version_minor": 0
      },
      "text/plain": [
       "HBox(children=(FloatProgress(value=0.0, max=19.0), HTML(value='')))"
      ]
     },
     "metadata": {},
     "output_type": "display_data"
    },
    {
     "name": "stdout",
     "output_type": "stream",
     "text": [
      "      9  0.5080        \u001b[32m1.1481\u001b[0m        1.1423        0.5562\n"
     ]
    },
    {
     "data": {
      "application/vnd.jupyter.widget-view+json": {
       "model_id": "",
       "version_major": 2,
       "version_minor": 0
      },
      "text/plain": [
       "HBox(children=(FloatProgress(value=0.0, max=19.0), HTML(value='')))"
      ]
     },
     "metadata": {},
     "output_type": "display_data"
    },
    {
     "name": "stdout",
     "output_type": "stream",
     "text": [
      "     10  0.5080        1.1485        1.1423        0.5569\n"
     ]
    },
    {
     "data": {
      "application/vnd.jupyter.widget-view+json": {
       "model_id": "",
       "version_major": 2,
       "version_minor": 0
      },
      "text/plain": [
       "HBox(children=(FloatProgress(value=0.0, max=19.0), HTML(value='')))"
      ]
     },
     "metadata": {},
     "output_type": "display_data"
    },
    {
     "name": "stdout",
     "output_type": "stream",
     "text": [
      "     11  0.5080        1.1481        1.1425        0.5566\n"
     ]
    },
    {
     "data": {
      "application/vnd.jupyter.widget-view+json": {
       "model_id": "",
       "version_major": 2,
       "version_minor": 0
      },
      "text/plain": [
       "HBox(children=(FloatProgress(value=0.0, max=19.0), HTML(value='')))"
      ]
     },
     "metadata": {},
     "output_type": "display_data"
    },
    {
     "name": "stdout",
     "output_type": "stream",
     "text": [
      "     12  0.5080        \u001b[32m1.1469\u001b[0m        1.1420        0.5594\n"
     ]
    },
    {
     "data": {
      "application/vnd.jupyter.widget-view+json": {
       "model_id": "",
       "version_major": 2,
       "version_minor": 0
      },
      "text/plain": [
       "HBox(children=(FloatProgress(value=0.0, max=19.0), HTML(value='')))"
      ]
     },
     "metadata": {},
     "output_type": "display_data"
    },
    {
     "name": "stdout",
     "output_type": "stream",
     "text": [
      "     13  0.5080        1.1474        1.1420        0.5608\n"
     ]
    },
    {
     "data": {
      "application/vnd.jupyter.widget-view+json": {
       "model_id": "",
       "version_major": 2,
       "version_minor": 0
      },
      "text/plain": [
       "HBox(children=(FloatProgress(value=0.0, max=19.0), HTML(value='')))"
      ]
     },
     "metadata": {},
     "output_type": "display_data"
    },
    {
     "name": "stdout",
     "output_type": "stream",
     "text": [
      "     14  0.5080        1.1485        1.1424        0.5677\n"
     ]
    },
    {
     "data": {
      "application/vnd.jupyter.widget-view+json": {
       "model_id": "",
       "version_major": 2,
       "version_minor": 0
      },
      "text/plain": [
       "HBox(children=(FloatProgress(value=0.0, max=19.0), HTML(value='')))"
      ]
     },
     "metadata": {},
     "output_type": "display_data"
    },
    {
     "name": "stdout",
     "output_type": "stream",
     "text": [
      "     15  0.5080        \u001b[32m1.1461\u001b[0m        1.1417        0.5390\n"
     ]
    },
    {
     "data": {
      "application/vnd.jupyter.widget-view+json": {
       "model_id": "",
       "version_major": 2,
       "version_minor": 0
      },
      "text/plain": [
       "HBox(children=(FloatProgress(value=0.0, max=19.0), HTML(value='')))"
      ]
     },
     "metadata": {},
     "output_type": "display_data"
    },
    {
     "name": "stdout",
     "output_type": "stream",
     "text": [
      "     16  0.5080        1.1488        1.1421        0.5576\n"
     ]
    },
    {
     "data": {
      "application/vnd.jupyter.widget-view+json": {
       "model_id": "",
       "version_major": 2,
       "version_minor": 0
      },
      "text/plain": [
       "HBox(children=(FloatProgress(value=0.0, max=19.0), HTML(value='')))"
      ]
     },
     "metadata": {},
     "output_type": "display_data"
    },
    {
     "name": "stdout",
     "output_type": "stream",
     "text": [
      "     17  0.5080        1.1480        1.1420        0.5672\n"
     ]
    },
    {
     "data": {
      "application/vnd.jupyter.widget-view+json": {
       "model_id": "",
       "version_major": 2,
       "version_minor": 0
      },
      "text/plain": [
       "HBox(children=(FloatProgress(value=0.0, max=19.0), HTML(value='')))"
      ]
     },
     "metadata": {},
     "output_type": "display_data"
    },
    {
     "name": "stdout",
     "output_type": "stream",
     "text": [
      "     18  0.5080        1.1474        1.1414        0.5598\n"
     ]
    },
    {
     "data": {
      "application/vnd.jupyter.widget-view+json": {
       "model_id": "",
       "version_major": 2,
       "version_minor": 0
      },
      "text/plain": [
       "HBox(children=(FloatProgress(value=0.0, max=19.0), HTML(value='')))"
      ]
     },
     "metadata": {},
     "output_type": "display_data"
    },
    {
     "name": "stdout",
     "output_type": "stream",
     "text": [
      "     19  0.5080        1.1469        1.1417        0.5539\n"
     ]
    },
    {
     "data": {
      "application/vnd.jupyter.widget-view+json": {
       "model_id": "",
       "version_major": 2,
       "version_minor": 0
      },
      "text/plain": [
       "HBox(children=(FloatProgress(value=0.0, max=19.0), HTML(value='')))"
      ]
     },
     "metadata": {},
     "output_type": "display_data"
    },
    {
     "name": "stdout",
     "output_type": "stream",
     "text": [
      "     20  0.5080        1.1476        \u001b[35m1.1410\u001b[0m     +  0.5689\n"
     ]
    },
    {
     "data": {
      "application/vnd.jupyter.widget-view+json": {
       "model_id": "",
       "version_major": 2,
       "version_minor": 0
      },
      "text/plain": [
       "HBox(children=(FloatProgress(value=0.0, max=19.0), HTML(value='')))"
      ]
     },
     "metadata": {},
     "output_type": "display_data"
    },
    {
     "name": "stdout",
     "output_type": "stream",
     "text": [
      "     21  0.5080        1.1467        1.1413        0.5503\n"
     ]
    },
    {
     "data": {
      "application/vnd.jupyter.widget-view+json": {
       "model_id": "",
       "version_major": 2,
       "version_minor": 0
      },
      "text/plain": [
       "HBox(children=(FloatProgress(value=0.0, max=19.0), HTML(value='')))"
      ]
     },
     "metadata": {},
     "output_type": "display_data"
    },
    {
     "name": "stdout",
     "output_type": "stream",
     "text": [
      "     22  0.5080        1.1476        1.1414        0.5729\n"
     ]
    },
    {
     "data": {
      "application/vnd.jupyter.widget-view+json": {
       "model_id": "",
       "version_major": 2,
       "version_minor": 0
      },
      "text/plain": [
       "HBox(children=(FloatProgress(value=0.0, max=19.0), HTML(value='')))"
      ]
     },
     "metadata": {},
     "output_type": "display_data"
    },
    {
     "name": "stdout",
     "output_type": "stream",
     "text": [
      "     23  0.5080        1.1480        1.1413        0.5535\n"
     ]
    },
    {
     "data": {
      "application/vnd.jupyter.widget-view+json": {
       "model_id": "",
       "version_major": 2,
       "version_minor": 0
      },
      "text/plain": [
       "HBox(children=(FloatProgress(value=0.0, max=19.0), HTML(value='')))"
      ]
     },
     "metadata": {},
     "output_type": "display_data"
    },
    {
     "name": "stdout",
     "output_type": "stream",
     "text": [
      "     24  0.5080        1.1464        1.1414        0.5676\n"
     ]
    },
    {
     "data": {
      "application/vnd.jupyter.widget-view+json": {
       "model_id": "",
       "version_major": 2,
       "version_minor": 0
      },
      "text/plain": [
       "HBox(children=(FloatProgress(value=0.0, max=19.0), HTML(value='')))"
      ]
     },
     "metadata": {},
     "output_type": "display_data"
    },
    {
     "name": "stdout",
     "output_type": "stream",
     "text": [
      "     25  0.5080        1.1471        1.1413        0.5754\n"
     ]
    },
    {
     "data": {
      "application/vnd.jupyter.widget-view+json": {
       "model_id": "",
       "version_major": 2,
       "version_minor": 0
      },
      "text/plain": [
       "HBox(children=(FloatProgress(value=0.0, max=19.0), HTML(value='')))"
      ]
     },
     "metadata": {},
     "output_type": "display_data"
    },
    {
     "name": "stdout",
     "output_type": "stream",
     "text": [
      "     26  0.5080        1.1462        \u001b[35m1.1408\u001b[0m     +  0.5649\n"
     ]
    },
    {
     "data": {
      "application/vnd.jupyter.widget-view+json": {
       "model_id": "",
       "version_major": 2,
       "version_minor": 0
      },
      "text/plain": [
       "HBox(children=(FloatProgress(value=0.0, max=19.0), HTML(value='')))"
      ]
     },
     "metadata": {},
     "output_type": "display_data"
    },
    {
     "name": "stdout",
     "output_type": "stream",
     "text": [
      "     27  0.5080        \u001b[32m1.1450\u001b[0m        1.1411        0.5589\n"
     ]
    },
    {
     "data": {
      "application/vnd.jupyter.widget-view+json": {
       "model_id": "",
       "version_major": 2,
       "version_minor": 0
      },
      "text/plain": [
       "HBox(children=(FloatProgress(value=0.0, max=19.0), HTML(value='')))"
      ]
     },
     "metadata": {},
     "output_type": "display_data"
    },
    {
     "name": "stdout",
     "output_type": "stream",
     "text": [
      "     28  0.5080        1.1455        \u001b[35m1.1407\u001b[0m     +  0.5594\n"
     ]
    },
    {
     "data": {
      "application/vnd.jupyter.widget-view+json": {
       "model_id": "",
       "version_major": 2,
       "version_minor": 0
      },
      "text/plain": [
       "HBox(children=(FloatProgress(value=0.0, max=19.0), HTML(value='')))"
      ]
     },
     "metadata": {},
     "output_type": "display_data"
    },
    {
     "name": "stdout",
     "output_type": "stream",
     "text": [
      "     29  0.5080        \u001b[32m1.1448\u001b[0m        1.1409        0.5746\n"
     ]
    },
    {
     "data": {
      "application/vnd.jupyter.widget-view+json": {
       "model_id": "",
       "version_major": 2,
       "version_minor": 0
      },
      "text/plain": [
       "HBox(children=(FloatProgress(value=0.0, max=19.0), HTML(value='')))"
      ]
     },
     "metadata": {},
     "output_type": "display_data"
    },
    {
     "name": "stdout",
     "output_type": "stream",
     "text": [
      "     30  0.5080        \u001b[32m1.1444\u001b[0m        1.1411        0.5773\n"
     ]
    },
    {
     "data": {
      "application/vnd.jupyter.widget-view+json": {
       "model_id": "",
       "version_major": 2,
       "version_minor": 0
      },
      "text/plain": [
       "HBox(children=(FloatProgress(value=0.0, max=19.0), HTML(value='')))"
      ]
     },
     "metadata": {},
     "output_type": "display_data"
    },
    {
     "name": "stdout",
     "output_type": "stream",
     "text": [
      "     31  0.5080        1.1451        \u001b[35m1.1402\u001b[0m     +  0.5584\n"
     ]
    },
    {
     "data": {
      "application/vnd.jupyter.widget-view+json": {
       "model_id": "",
       "version_major": 2,
       "version_minor": 0
      },
      "text/plain": [
       "HBox(children=(FloatProgress(value=0.0, max=19.0), HTML(value='')))"
      ]
     },
     "metadata": {},
     "output_type": "display_data"
    },
    {
     "name": "stdout",
     "output_type": "stream",
     "text": [
      "     32  0.5080        1.1454        1.1410        0.5396\n"
     ]
    },
    {
     "data": {
      "application/vnd.jupyter.widget-view+json": {
       "model_id": "",
       "version_major": 2,
       "version_minor": 0
      },
      "text/plain": [
       "HBox(children=(FloatProgress(value=0.0, max=19.0), HTML(value='')))"
      ]
     },
     "metadata": {},
     "output_type": "display_data"
    },
    {
     "name": "stdout",
     "output_type": "stream",
     "text": [
      "     33  0.5080        1.1454        \u001b[35m1.1401\u001b[0m     +  0.5360\n"
     ]
    },
    {
     "data": {
      "application/vnd.jupyter.widget-view+json": {
       "model_id": "",
       "version_major": 2,
       "version_minor": 0
      },
      "text/plain": [
       "HBox(children=(FloatProgress(value=0.0, max=19.0), HTML(value='')))"
      ]
     },
     "metadata": {},
     "output_type": "display_data"
    },
    {
     "name": "stdout",
     "output_type": "stream",
     "text": [
      "     34  0.5080        1.1449        \u001b[35m1.1399\u001b[0m     +  0.5510\n"
     ]
    },
    {
     "data": {
      "application/vnd.jupyter.widget-view+json": {
       "model_id": "",
       "version_major": 2,
       "version_minor": 0
      },
      "text/plain": [
       "HBox(children=(FloatProgress(value=0.0, max=19.0), HTML(value='')))"
      ]
     },
     "metadata": {},
     "output_type": "display_data"
    },
    {
     "name": "stdout",
     "output_type": "stream",
     "text": [
      "     35  0.5080        1.1470        1.1401        0.5537\n"
     ]
    },
    {
     "data": {
      "application/vnd.jupyter.widget-view+json": {
       "model_id": "",
       "version_major": 2,
       "version_minor": 0
      },
      "text/plain": [
       "HBox(children=(FloatProgress(value=0.0, max=19.0), HTML(value='')))"
      ]
     },
     "metadata": {},
     "output_type": "display_data"
    },
    {
     "name": "stdout",
     "output_type": "stream",
     "text": [
      "     36  0.5080        \u001b[32m1.1439\u001b[0m        1.1400        0.5581\n"
     ]
    },
    {
     "data": {
      "application/vnd.jupyter.widget-view+json": {
       "model_id": "",
       "version_major": 2,
       "version_minor": 0
      },
      "text/plain": [
       "HBox(children=(FloatProgress(value=0.0, max=19.0), HTML(value='')))"
      ]
     },
     "metadata": {},
     "output_type": "display_data"
    },
    {
     "name": "stdout",
     "output_type": "stream",
     "text": [
      "     37  0.5080        \u001b[32m1.1438\u001b[0m        \u001b[35m1.1399\u001b[0m     +  0.5766\n"
     ]
    },
    {
     "data": {
      "application/vnd.jupyter.widget-view+json": {
       "model_id": "",
       "version_major": 2,
       "version_minor": 0
      },
      "text/plain": [
       "HBox(children=(FloatProgress(value=0.0, max=19.0), HTML(value='')))"
      ]
     },
     "metadata": {},
     "output_type": "display_data"
    },
    {
     "name": "stdout",
     "output_type": "stream",
     "text": [
      "     38  0.5080        \u001b[32m1.1435\u001b[0m        1.1400        0.5804\n"
     ]
    },
    {
     "data": {
      "application/vnd.jupyter.widget-view+json": {
       "model_id": "",
       "version_major": 2,
       "version_minor": 0
      },
      "text/plain": [
       "HBox(children=(FloatProgress(value=0.0, max=19.0), HTML(value='')))"
      ]
     },
     "metadata": {},
     "output_type": "display_data"
    },
    {
     "name": "stdout",
     "output_type": "stream",
     "text": [
      "     39  0.5080        \u001b[32m1.1417\u001b[0m        1.1403        0.5743\n"
     ]
    },
    {
     "data": {
      "application/vnd.jupyter.widget-view+json": {
       "model_id": "",
       "version_major": 2,
       "version_minor": 0
      },
      "text/plain": [
       "HBox(children=(FloatProgress(value=0.0, max=19.0), HTML(value='')))"
      ]
     },
     "metadata": {},
     "output_type": "display_data"
    },
    {
     "name": "stdout",
     "output_type": "stream",
     "text": [
      "     40  0.5080        1.1439        1.1403        0.5395\n"
     ]
    },
    {
     "data": {
      "application/vnd.jupyter.widget-view+json": {
       "model_id": "",
       "version_major": 2,
       "version_minor": 0
      },
      "text/plain": [
       "HBox(children=(FloatProgress(value=0.0, max=19.0), HTML(value='')))"
      ]
     },
     "metadata": {},
     "output_type": "display_data"
    },
    {
     "name": "stdout",
     "output_type": "stream",
     "text": [
      "     41  0.5080        1.1437        \u001b[35m1.1388\u001b[0m     +  0.5330\n"
     ]
    },
    {
     "data": {
      "application/vnd.jupyter.widget-view+json": {
       "model_id": "",
       "version_major": 2,
       "version_minor": 0
      },
      "text/plain": [
       "HBox(children=(FloatProgress(value=0.0, max=19.0), HTML(value='')))"
      ]
     },
     "metadata": {},
     "output_type": "display_data"
    },
    {
     "name": "stdout",
     "output_type": "stream",
     "text": [
      "     42  0.5080        1.1435        \u001b[35m1.1383\u001b[0m     +  0.5428\n"
     ]
    },
    {
     "data": {
      "application/vnd.jupyter.widget-view+json": {
       "model_id": "",
       "version_major": 2,
       "version_minor": 0
      },
      "text/plain": [
       "HBox(children=(FloatProgress(value=0.0, max=19.0), HTML(value='')))"
      ]
     },
     "metadata": {},
     "output_type": "display_data"
    },
    {
     "name": "stdout",
     "output_type": "stream",
     "text": [
      "     43  0.5080        1.1427        1.1384        0.5439\n"
     ]
    },
    {
     "data": {
      "application/vnd.jupyter.widget-view+json": {
       "model_id": "",
       "version_major": 2,
       "version_minor": 0
      },
      "text/plain": [
       "HBox(children=(FloatProgress(value=0.0, max=19.0), HTML(value='')))"
      ]
     },
     "metadata": {},
     "output_type": "display_data"
    },
    {
     "name": "stdout",
     "output_type": "stream",
     "text": [
      "     44  0.5080        1.1425        1.1383        0.5453\n"
     ]
    },
    {
     "data": {
      "application/vnd.jupyter.widget-view+json": {
       "model_id": "",
       "version_major": 2,
       "version_minor": 0
      },
      "text/plain": [
       "HBox(children=(FloatProgress(value=0.0, max=19.0), HTML(value='')))"
      ]
     },
     "metadata": {},
     "output_type": "display_data"
    },
    {
     "name": "stdout",
     "output_type": "stream",
     "text": [
      "     45  0.5080        \u001b[32m1.1417\u001b[0m        1.1384        0.5732\n"
     ]
    },
    {
     "data": {
      "application/vnd.jupyter.widget-view+json": {
       "model_id": "",
       "version_major": 2,
       "version_minor": 0
      },
      "text/plain": [
       "HBox(children=(FloatProgress(value=0.0, max=19.0), HTML(value='')))"
      ]
     },
     "metadata": {},
     "output_type": "display_data"
    },
    {
     "name": "stdout",
     "output_type": "stream",
     "text": [
      "     46  0.5080        1.1422        \u001b[35m1.1380\u001b[0m     +  0.5545\n"
     ]
    },
    {
     "data": {
      "application/vnd.jupyter.widget-view+json": {
       "model_id": "",
       "version_major": 2,
       "version_minor": 0
      },
      "text/plain": [
       "HBox(children=(FloatProgress(value=0.0, max=19.0), HTML(value='')))"
      ]
     },
     "metadata": {},
     "output_type": "display_data"
    },
    {
     "name": "stdout",
     "output_type": "stream",
     "text": [
      "     47  0.5080        1.1420        \u001b[35m1.1379\u001b[0m     +  0.5362\n"
     ]
    },
    {
     "data": {
      "application/vnd.jupyter.widget-view+json": {
       "model_id": "",
       "version_major": 2,
       "version_minor": 0
      },
      "text/plain": [
       "HBox(children=(FloatProgress(value=0.0, max=19.0), HTML(value='')))"
      ]
     },
     "metadata": {},
     "output_type": "display_data"
    },
    {
     "name": "stdout",
     "output_type": "stream",
     "text": [
      "     48  \u001b[36m0.5081\u001b[0m        1.1425        \u001b[35m1.1375\u001b[0m     +  0.5754\n"
     ]
    },
    {
     "data": {
      "application/vnd.jupyter.widget-view+json": {
       "model_id": "",
       "version_major": 2,
       "version_minor": 0
      },
      "text/plain": [
       "HBox(children=(FloatProgress(value=0.0, max=19.0), HTML(value='')))"
      ]
     },
     "metadata": {},
     "output_type": "display_data"
    },
    {
     "name": "stdout",
     "output_type": "stream",
     "text": [
      "     49  \u001b[36m0.5081\u001b[0m        1.1422        1.1376        0.5403\n"
     ]
    },
    {
     "data": {
      "application/vnd.jupyter.widget-view+json": {
       "model_id": "",
       "version_major": 2,
       "version_minor": 0
      },
      "text/plain": [
       "HBox(children=(FloatProgress(value=0.0, max=19.0), HTML(value='')))"
      ]
     },
     "metadata": {},
     "output_type": "display_data"
    },
    {
     "name": "stdout",
     "output_type": "stream",
     "text": [
      "     50  0.5081        \u001b[32m1.1406\u001b[0m        \u001b[35m1.1374\u001b[0m     +  0.5329\n"
     ]
    },
    {
     "data": {
      "application/vnd.jupyter.widget-view+json": {
       "model_id": "",
       "version_major": 2,
       "version_minor": 0
      },
      "text/plain": [
       "HBox(children=(FloatProgress(value=0.0, max=19.0), HTML(value='')))"
      ]
     },
     "metadata": {},
     "output_type": "display_data"
    },
    {
     "name": "stdout",
     "output_type": "stream",
     "text": [
      "     51  0.5081        \u001b[32m1.1402\u001b[0m        \u001b[35m1.1371\u001b[0m     +  0.5437\n"
     ]
    },
    {
     "data": {
      "application/vnd.jupyter.widget-view+json": {
       "model_id": "",
       "version_major": 2,
       "version_minor": 0
      },
      "text/plain": [
       "HBox(children=(FloatProgress(value=0.0, max=19.0), HTML(value='')))"
      ]
     },
     "metadata": {},
     "output_type": "display_data"
    },
    {
     "name": "stdout",
     "output_type": "stream",
     "text": [
      "     52  \u001b[36m0.5082\u001b[0m        1.1411        \u001b[35m1.1365\u001b[0m     +  0.5362\n"
     ]
    },
    {
     "data": {
      "application/vnd.jupyter.widget-view+json": {
       "model_id": "",
       "version_major": 2,
       "version_minor": 0
      },
      "text/plain": [
       "HBox(children=(FloatProgress(value=0.0, max=19.0), HTML(value='')))"
      ]
     },
     "metadata": {},
     "output_type": "display_data"
    },
    {
     "name": "stdout",
     "output_type": "stream",
     "text": [
      "     53  \u001b[36m0.5082\u001b[0m        1.1408        \u001b[35m1.1358\u001b[0m     +  0.5489\n"
     ]
    },
    {
     "data": {
      "application/vnd.jupyter.widget-view+json": {
       "model_id": "",
       "version_major": 2,
       "version_minor": 0
      },
      "text/plain": [
       "HBox(children=(FloatProgress(value=0.0, max=19.0), HTML(value='')))"
      ]
     },
     "metadata": {},
     "output_type": "display_data"
    },
    {
     "name": "stdout",
     "output_type": "stream",
     "text": [
      "     54  0.5082        \u001b[32m1.1392\u001b[0m        \u001b[35m1.1356\u001b[0m     +  0.5465\n"
     ]
    },
    {
     "data": {
      "application/vnd.jupyter.widget-view+json": {
       "model_id": "",
       "version_major": 2,
       "version_minor": 0
      },
      "text/plain": [
       "HBox(children=(FloatProgress(value=0.0, max=19.0), HTML(value='')))"
      ]
     },
     "metadata": {},
     "output_type": "display_data"
    },
    {
     "name": "stdout",
     "output_type": "stream",
     "text": [
      "     55  0.5082        1.1400        1.1360        0.5538\n"
     ]
    },
    {
     "data": {
      "application/vnd.jupyter.widget-view+json": {
       "model_id": "",
       "version_major": 2,
       "version_minor": 0
      },
      "text/plain": [
       "HBox(children=(FloatProgress(value=0.0, max=19.0), HTML(value='')))"
      ]
     },
     "metadata": {},
     "output_type": "display_data"
    },
    {
     "name": "stdout",
     "output_type": "stream",
     "text": [
      "     56  \u001b[36m0.5082\u001b[0m        \u001b[32m1.1381\u001b[0m        \u001b[35m1.1353\u001b[0m     +  0.5534\n"
     ]
    },
    {
     "data": {
      "application/vnd.jupyter.widget-view+json": {
       "model_id": "",
       "version_major": 2,
       "version_minor": 0
      },
      "text/plain": [
       "HBox(children=(FloatProgress(value=0.0, max=19.0), HTML(value='')))"
      ]
     },
     "metadata": {},
     "output_type": "display_data"
    },
    {
     "name": "stdout",
     "output_type": "stream",
     "text": [
      "     57  0.5082        1.1386        1.1355        0.5529\n"
     ]
    },
    {
     "data": {
      "application/vnd.jupyter.widget-view+json": {
       "model_id": "",
       "version_major": 2,
       "version_minor": 0
      },
      "text/plain": [
       "HBox(children=(FloatProgress(value=0.0, max=19.0), HTML(value='')))"
      ]
     },
     "metadata": {},
     "output_type": "display_data"
    },
    {
     "name": "stdout",
     "output_type": "stream",
     "text": [
      "     58  0.5082        1.1384        \u001b[35m1.1350\u001b[0m     +  0.5645\n"
     ]
    },
    {
     "data": {
      "application/vnd.jupyter.widget-view+json": {
       "model_id": "",
       "version_major": 2,
       "version_minor": 0
      },
      "text/plain": [
       "HBox(children=(FloatProgress(value=0.0, max=19.0), HTML(value='')))"
      ]
     },
     "metadata": {},
     "output_type": "display_data"
    },
    {
     "name": "stdout",
     "output_type": "stream",
     "text": [
      "     59  \u001b[36m0.5084\u001b[0m        \u001b[32m1.1364\u001b[0m        \u001b[35m1.1344\u001b[0m     +  0.5586\n"
     ]
    },
    {
     "data": {
      "application/vnd.jupyter.widget-view+json": {
       "model_id": "",
       "version_major": 2,
       "version_minor": 0
      },
      "text/plain": [
       "HBox(children=(FloatProgress(value=0.0, max=19.0), HTML(value='')))"
      ]
     },
     "metadata": {},
     "output_type": "display_data"
    },
    {
     "name": "stdout",
     "output_type": "stream",
     "text": [
      "     60  \u001b[36m0.5085\u001b[0m        1.1368        \u001b[35m1.1342\u001b[0m     +  0.5584\n"
     ]
    },
    {
     "data": {
      "application/vnd.jupyter.widget-view+json": {
       "model_id": "",
       "version_major": 2,
       "version_minor": 0
      },
      "text/plain": [
       "HBox(children=(FloatProgress(value=0.0, max=19.0), HTML(value='')))"
      ]
     },
     "metadata": {},
     "output_type": "display_data"
    },
    {
     "name": "stdout",
     "output_type": "stream",
     "text": [
      "     61  \u001b[36m0.5085\u001b[0m        \u001b[32m1.1360\u001b[0m        \u001b[35m1.1334\u001b[0m     +  0.5601\n"
     ]
    },
    {
     "data": {
      "application/vnd.jupyter.widget-view+json": {
       "model_id": "",
       "version_major": 2,
       "version_minor": 0
      },
      "text/plain": [
       "HBox(children=(FloatProgress(value=0.0, max=19.0), HTML(value='')))"
      ]
     },
     "metadata": {},
     "output_type": "display_data"
    },
    {
     "name": "stdout",
     "output_type": "stream",
     "text": [
      "     62  \u001b[36m0.5089\u001b[0m        \u001b[32m1.1358\u001b[0m        \u001b[35m1.1330\u001b[0m     +  0.5780\n"
     ]
    },
    {
     "data": {
      "application/vnd.jupyter.widget-view+json": {
       "model_id": "",
       "version_major": 2,
       "version_minor": 0
      },
      "text/plain": [
       "HBox(children=(FloatProgress(value=0.0, max=19.0), HTML(value='')))"
      ]
     },
     "metadata": {},
     "output_type": "display_data"
    },
    {
     "name": "stdout",
     "output_type": "stream",
     "text": [
      "     63  \u001b[36m0.5090\u001b[0m        \u001b[32m1.1345\u001b[0m        \u001b[35m1.1324\u001b[0m     +  0.5574\n"
     ]
    },
    {
     "data": {
      "application/vnd.jupyter.widget-view+json": {
       "model_id": "",
       "version_major": 2,
       "version_minor": 0
      },
      "text/plain": [
       "HBox(children=(FloatProgress(value=0.0, max=19.0), HTML(value='')))"
      ]
     },
     "metadata": {},
     "output_type": "display_data"
    },
    {
     "name": "stdout",
     "output_type": "stream",
     "text": [
      "     64  \u001b[36m0.5092\u001b[0m        \u001b[32m1.1321\u001b[0m        \u001b[35m1.1322\u001b[0m     +  0.5480\n"
     ]
    },
    {
     "data": {
      "application/vnd.jupyter.widget-view+json": {
       "model_id": "",
       "version_major": 2,
       "version_minor": 0
      },
      "text/plain": [
       "HBox(children=(FloatProgress(value=0.0, max=19.0), HTML(value='')))"
      ]
     },
     "metadata": {},
     "output_type": "display_data"
    },
    {
     "name": "stdout",
     "output_type": "stream",
     "text": [
      "     65  0.5090        1.1334        1.1323        0.5481\n"
     ]
    },
    {
     "data": {
      "application/vnd.jupyter.widget-view+json": {
       "model_id": "",
       "version_major": 2,
       "version_minor": 0
      },
      "text/plain": [
       "HBox(children=(FloatProgress(value=0.0, max=19.0), HTML(value='')))"
      ]
     },
     "metadata": {},
     "output_type": "display_data"
    },
    {
     "name": "stdout",
     "output_type": "stream",
     "text": [
      "     66  \u001b[36m0.5095\u001b[0m        1.1335        \u001b[35m1.1307\u001b[0m     +  0.5609\n"
     ]
    },
    {
     "data": {
      "application/vnd.jupyter.widget-view+json": {
       "model_id": "",
       "version_major": 2,
       "version_minor": 0
      },
      "text/plain": [
       "HBox(children=(FloatProgress(value=0.0, max=19.0), HTML(value='')))"
      ]
     },
     "metadata": {},
     "output_type": "display_data"
    },
    {
     "name": "stdout",
     "output_type": "stream",
     "text": [
      "     67  \u001b[36m0.5099\u001b[0m        1.1337        \u001b[35m1.1302\u001b[0m     +  0.5622\n"
     ]
    },
    {
     "data": {
      "application/vnd.jupyter.widget-view+json": {
       "model_id": "",
       "version_major": 2,
       "version_minor": 0
      },
      "text/plain": [
       "HBox(children=(FloatProgress(value=0.0, max=19.0), HTML(value='')))"
      ]
     },
     "metadata": {},
     "output_type": "display_data"
    },
    {
     "name": "stdout",
     "output_type": "stream",
     "text": [
      "     68  0.5094        1.1333        1.1302        0.5393\n"
     ]
    },
    {
     "data": {
      "application/vnd.jupyter.widget-view+json": {
       "model_id": "",
       "version_major": 2,
       "version_minor": 0
      },
      "text/plain": [
       "HBox(children=(FloatProgress(value=0.0, max=19.0), HTML(value='')))"
      ]
     },
     "metadata": {},
     "output_type": "display_data"
    },
    {
     "name": "stdout",
     "output_type": "stream",
     "text": [
      "     69  0.5098        \u001b[32m1.1301\u001b[0m        \u001b[35m1.1292\u001b[0m     +  0.5586\n"
     ]
    },
    {
     "data": {
      "application/vnd.jupyter.widget-view+json": {
       "model_id": "",
       "version_major": 2,
       "version_minor": 0
      },
      "text/plain": [
       "HBox(children=(FloatProgress(value=0.0, max=19.0), HTML(value='')))"
      ]
     },
     "metadata": {},
     "output_type": "display_data"
    },
    {
     "name": "stdout",
     "output_type": "stream",
     "text": [
      "     70  0.5098        1.1304        \u001b[35m1.1287\u001b[0m     +  0.5531\n"
     ]
    },
    {
     "data": {
      "application/vnd.jupyter.widget-view+json": {
       "model_id": "",
       "version_major": 2,
       "version_minor": 0
      },
      "text/plain": [
       "HBox(children=(FloatProgress(value=0.0, max=19.0), HTML(value='')))"
      ]
     },
     "metadata": {},
     "output_type": "display_data"
    },
    {
     "name": "stdout",
     "output_type": "stream",
     "text": [
      "     71  \u001b[36m0.5101\u001b[0m        1.1311        \u001b[35m1.1279\u001b[0m     +  0.5393\n"
     ]
    },
    {
     "data": {
      "application/vnd.jupyter.widget-view+json": {
       "model_id": "",
       "version_major": 2,
       "version_minor": 0
      },
      "text/plain": [
       "HBox(children=(FloatProgress(value=0.0, max=19.0), HTML(value='')))"
      ]
     },
     "metadata": {},
     "output_type": "display_data"
    },
    {
     "name": "stdout",
     "output_type": "stream",
     "text": [
      "     72  \u001b[36m0.5103\u001b[0m        1.1304        \u001b[35m1.1276\u001b[0m     +  0.5492\n"
     ]
    },
    {
     "data": {
      "application/vnd.jupyter.widget-view+json": {
       "model_id": "",
       "version_major": 2,
       "version_minor": 0
      },
      "text/plain": [
       "HBox(children=(FloatProgress(value=0.0, max=19.0), HTML(value='')))"
      ]
     },
     "metadata": {},
     "output_type": "display_data"
    },
    {
     "name": "stdout",
     "output_type": "stream",
     "text": [
      "     73  \u001b[36m0.5115\u001b[0m        1.1309        \u001b[35m1.1263\u001b[0m     +  0.5540\n"
     ]
    },
    {
     "data": {
      "application/vnd.jupyter.widget-view+json": {
       "model_id": "",
       "version_major": 2,
       "version_minor": 0
      },
      "text/plain": [
       "HBox(children=(FloatProgress(value=0.0, max=19.0), HTML(value='')))"
      ]
     },
     "metadata": {},
     "output_type": "display_data"
    },
    {
     "name": "stdout",
     "output_type": "stream",
     "text": [
      "     74  0.5103        \u001b[32m1.1276\u001b[0m        1.1267        0.5898\n"
     ]
    },
    {
     "data": {
      "application/vnd.jupyter.widget-view+json": {
       "model_id": "",
       "version_major": 2,
       "version_minor": 0
      },
      "text/plain": [
       "HBox(children=(FloatProgress(value=0.0, max=19.0), HTML(value='')))"
      ]
     },
     "metadata": {},
     "output_type": "display_data"
    },
    {
     "name": "stdout",
     "output_type": "stream",
     "text": [
      "     75  0.5108        \u001b[32m1.1257\u001b[0m        \u001b[35m1.1259\u001b[0m     +  0.5622\n"
     ]
    },
    {
     "data": {
      "application/vnd.jupyter.widget-view+json": {
       "model_id": "",
       "version_major": 2,
       "version_minor": 0
      },
      "text/plain": [
       "HBox(children=(FloatProgress(value=0.0, max=19.0), HTML(value='')))"
      ]
     },
     "metadata": {},
     "output_type": "display_data"
    },
    {
     "name": "stdout",
     "output_type": "stream",
     "text": [
      "     76  0.5113        1.1272        \u001b[35m1.1241\u001b[0m     +  0.5730\n"
     ]
    },
    {
     "data": {
      "application/vnd.jupyter.widget-view+json": {
       "model_id": "",
       "version_major": 2,
       "version_minor": 0
      },
      "text/plain": [
       "HBox(children=(FloatProgress(value=0.0, max=19.0), HTML(value='')))"
      ]
     },
     "metadata": {},
     "output_type": "display_data"
    },
    {
     "name": "stdout",
     "output_type": "stream",
     "text": [
      "     77  \u001b[36m0.5130\u001b[0m        1.1258        \u001b[35m1.1229\u001b[0m     +  0.5543\n"
     ]
    },
    {
     "data": {
      "application/vnd.jupyter.widget-view+json": {
       "model_id": "",
       "version_major": 2,
       "version_minor": 0
      },
      "text/plain": [
       "HBox(children=(FloatProgress(value=0.0, max=19.0), HTML(value='')))"
      ]
     },
     "metadata": {},
     "output_type": "display_data"
    },
    {
     "name": "stdout",
     "output_type": "stream",
     "text": [
      "     78  0.5129        \u001b[32m1.1254\u001b[0m        1.1233        0.5619\n"
     ]
    },
    {
     "data": {
      "application/vnd.jupyter.widget-view+json": {
       "model_id": "",
       "version_major": 2,
       "version_minor": 0
      },
      "text/plain": [
       "HBox(children=(FloatProgress(value=0.0, max=19.0), HTML(value='')))"
      ]
     },
     "metadata": {},
     "output_type": "display_data"
    },
    {
     "name": "stdout",
     "output_type": "stream",
     "text": [
      "     79  \u001b[36m0.5132\u001b[0m        \u001b[32m1.1240\u001b[0m        \u001b[35m1.1229\u001b[0m     +  0.5812\n"
     ]
    },
    {
     "data": {
      "application/vnd.jupyter.widget-view+json": {
       "model_id": "",
       "version_major": 2,
       "version_minor": 0
      },
      "text/plain": [
       "HBox(children=(FloatProgress(value=0.0, max=19.0), HTML(value='')))"
      ]
     },
     "metadata": {},
     "output_type": "display_data"
    },
    {
     "name": "stdout",
     "output_type": "stream",
     "text": [
      "     80  \u001b[36m0.5142\u001b[0m        1.1240        \u001b[35m1.1208\u001b[0m     +  0.5827\n"
     ]
    },
    {
     "data": {
      "application/vnd.jupyter.widget-view+json": {
       "model_id": "",
       "version_major": 2,
       "version_minor": 0
      },
      "text/plain": [
       "HBox(children=(FloatProgress(value=0.0, max=19.0), HTML(value='')))"
      ]
     },
     "metadata": {},
     "output_type": "display_data"
    },
    {
     "name": "stdout",
     "output_type": "stream",
     "text": [
      "     81  \u001b[36m0.5147\u001b[0m        \u001b[32m1.1207\u001b[0m        \u001b[35m1.1205\u001b[0m     +  0.5931\n"
     ]
    },
    {
     "data": {
      "application/vnd.jupyter.widget-view+json": {
       "model_id": "",
       "version_major": 2,
       "version_minor": 0
      },
      "text/plain": [
       "HBox(children=(FloatProgress(value=0.0, max=19.0), HTML(value='')))"
      ]
     },
     "metadata": {},
     "output_type": "display_data"
    },
    {
     "name": "stdout",
     "output_type": "stream",
     "text": [
      "     82  0.5141        \u001b[32m1.1197\u001b[0m        \u001b[35m1.1204\u001b[0m     +  0.5911\n"
     ]
    },
    {
     "data": {
      "application/vnd.jupyter.widget-view+json": {
       "model_id": "",
       "version_major": 2,
       "version_minor": 0
      },
      "text/plain": [
       "HBox(children=(FloatProgress(value=0.0, max=19.0), HTML(value='')))"
      ]
     },
     "metadata": {},
     "output_type": "display_data"
    },
    {
     "name": "stdout",
     "output_type": "stream",
     "text": [
      "     83  \u001b[36m0.5157\u001b[0m        \u001b[32m1.1192\u001b[0m        \u001b[35m1.1195\u001b[0m     +  0.5673\n"
     ]
    },
    {
     "data": {
      "application/vnd.jupyter.widget-view+json": {
       "model_id": "",
       "version_major": 2,
       "version_minor": 0
      },
      "text/plain": [
       "HBox(children=(FloatProgress(value=0.0, max=19.0), HTML(value='')))"
      ]
     },
     "metadata": {},
     "output_type": "display_data"
    },
    {
     "name": "stdout",
     "output_type": "stream",
     "text": [
      "     84  \u001b[36m0.5167\u001b[0m        \u001b[32m1.1156\u001b[0m        \u001b[35m1.1177\u001b[0m     +  0.5815\n"
     ]
    },
    {
     "data": {
      "application/vnd.jupyter.widget-view+json": {
       "model_id": "",
       "version_major": 2,
       "version_minor": 0
      },
      "text/plain": [
       "HBox(children=(FloatProgress(value=0.0, max=19.0), HTML(value='')))"
      ]
     },
     "metadata": {},
     "output_type": "display_data"
    },
    {
     "name": "stdout",
     "output_type": "stream",
     "text": [
      "     85  \u001b[36m0.5172\u001b[0m        1.1183        \u001b[35m1.1174\u001b[0m     +  0.5888\n"
     ]
    },
    {
     "data": {
      "application/vnd.jupyter.widget-view+json": {
       "model_id": "",
       "version_major": 2,
       "version_minor": 0
      },
      "text/plain": [
       "HBox(children=(FloatProgress(value=0.0, max=19.0), HTML(value='')))"
      ]
     },
     "metadata": {},
     "output_type": "display_data"
    },
    {
     "name": "stdout",
     "output_type": "stream",
     "text": [
      "     86  \u001b[36m0.5186\u001b[0m        1.1170        \u001b[35m1.1146\u001b[0m     +  0.5654\n"
     ]
    },
    {
     "data": {
      "application/vnd.jupyter.widget-view+json": {
       "model_id": "",
       "version_major": 2,
       "version_minor": 0
      },
      "text/plain": [
       "HBox(children=(FloatProgress(value=0.0, max=19.0), HTML(value='')))"
      ]
     },
     "metadata": {},
     "output_type": "display_data"
    },
    {
     "name": "stdout",
     "output_type": "stream",
     "text": [
      "     87  0.5184        \u001b[32m1.1144\u001b[0m        \u001b[35m1.1145\u001b[0m     +  0.5498\n"
     ]
    },
    {
     "data": {
      "application/vnd.jupyter.widget-view+json": {
       "model_id": "",
       "version_major": 2,
       "version_minor": 0
      },
      "text/plain": [
       "HBox(children=(FloatProgress(value=0.0, max=19.0), HTML(value='')))"
      ]
     },
     "metadata": {},
     "output_type": "display_data"
    },
    {
     "name": "stdout",
     "output_type": "stream",
     "text": [
      "     88  \u001b[36m0.5187\u001b[0m        \u001b[32m1.1134\u001b[0m        \u001b[35m1.1140\u001b[0m     +  0.5542\n"
     ]
    },
    {
     "data": {
      "application/vnd.jupyter.widget-view+json": {
       "model_id": "",
       "version_major": 2,
       "version_minor": 0
      },
      "text/plain": [
       "HBox(children=(FloatProgress(value=0.0, max=19.0), HTML(value='')))"
      ]
     },
     "metadata": {},
     "output_type": "display_data"
    },
    {
     "name": "stdout",
     "output_type": "stream",
     "text": [
      "     89  \u001b[36m0.5194\u001b[0m        1.1134        \u001b[35m1.1133\u001b[0m     +  0.5706\n"
     ]
    },
    {
     "data": {
      "application/vnd.jupyter.widget-view+json": {
       "model_id": "",
       "version_major": 2,
       "version_minor": 0
      },
      "text/plain": [
       "HBox(children=(FloatProgress(value=0.0, max=19.0), HTML(value='')))"
      ]
     },
     "metadata": {},
     "output_type": "display_data"
    },
    {
     "name": "stdout",
     "output_type": "stream",
     "text": [
      "     90  \u001b[36m0.5205\u001b[0m        \u001b[32m1.1110\u001b[0m        \u001b[35m1.1117\u001b[0m     +  0.5389\n"
     ]
    },
    {
     "data": {
      "application/vnd.jupyter.widget-view+json": {
       "model_id": "",
       "version_major": 2,
       "version_minor": 0
      },
      "text/plain": [
       "HBox(children=(FloatProgress(value=0.0, max=19.0), HTML(value='')))"
      ]
     },
     "metadata": {},
     "output_type": "display_data"
    },
    {
     "name": "stdout",
     "output_type": "stream",
     "text": [
      "     91  \u001b[36m0.5209\u001b[0m        \u001b[32m1.1096\u001b[0m        \u001b[35m1.1105\u001b[0m     +  0.5578\n"
     ]
    },
    {
     "data": {
      "application/vnd.jupyter.widget-view+json": {
       "model_id": "",
       "version_major": 2,
       "version_minor": 0
      },
      "text/plain": [
       "HBox(children=(FloatProgress(value=0.0, max=19.0), HTML(value='')))"
      ]
     },
     "metadata": {},
     "output_type": "display_data"
    },
    {
     "name": "stdout",
     "output_type": "stream",
     "text": [
      "     92  \u001b[36m0.5217\u001b[0m        \u001b[32m1.1054\u001b[0m        \u001b[35m1.1089\u001b[0m     +  0.5474\n"
     ]
    },
    {
     "data": {
      "application/vnd.jupyter.widget-view+json": {
       "model_id": "",
       "version_major": 2,
       "version_minor": 0
      },
      "text/plain": [
       "HBox(children=(FloatProgress(value=0.0, max=19.0), HTML(value='')))"
      ]
     },
     "metadata": {},
     "output_type": "display_data"
    },
    {
     "name": "stdout",
     "output_type": "stream",
     "text": [
      "     93  \u001b[36m0.5233\u001b[0m        1.1056        \u001b[35m1.1071\u001b[0m     +  0.5621\n"
     ]
    },
    {
     "data": {
      "application/vnd.jupyter.widget-view+json": {
       "model_id": "",
       "version_major": 2,
       "version_minor": 0
      },
      "text/plain": [
       "HBox(children=(FloatProgress(value=0.0, max=19.0), HTML(value='')))"
      ]
     },
     "metadata": {},
     "output_type": "display_data"
    },
    {
     "name": "stdout",
     "output_type": "stream",
     "text": [
      "     94  0.5232        1.1068        \u001b[35m1.1068\u001b[0m     +  0.5742\n"
     ]
    },
    {
     "data": {
      "application/vnd.jupyter.widget-view+json": {
       "model_id": "",
       "version_major": 2,
       "version_minor": 0
      },
      "text/plain": [
       "HBox(children=(FloatProgress(value=0.0, max=19.0), HTML(value='')))"
      ]
     },
     "metadata": {},
     "output_type": "display_data"
    },
    {
     "name": "stdout",
     "output_type": "stream",
     "text": [
      "     95  \u001b[36m0.5247\u001b[0m        \u001b[32m1.1043\u001b[0m        1.1068        0.5543\n"
     ]
    },
    {
     "data": {
      "application/vnd.jupyter.widget-view+json": {
       "model_id": "",
       "version_major": 2,
       "version_minor": 0
      },
      "text/plain": [
       "HBox(children=(FloatProgress(value=0.0, max=19.0), HTML(value='')))"
      ]
     },
     "metadata": {},
     "output_type": "display_data"
    },
    {
     "name": "stdout",
     "output_type": "stream",
     "text": [
      "     96  0.5237        \u001b[32m1.1004\u001b[0m        \u001b[35m1.1053\u001b[0m     +  0.5481\n"
     ]
    },
    {
     "data": {
      "application/vnd.jupyter.widget-view+json": {
       "model_id": "",
       "version_major": 2,
       "version_minor": 0
      },
      "text/plain": [
       "HBox(children=(FloatProgress(value=0.0, max=19.0), HTML(value='')))"
      ]
     },
     "metadata": {},
     "output_type": "display_data"
    },
    {
     "name": "stdout",
     "output_type": "stream",
     "text": [
      "     97  0.5244        \u001b[32m1.1004\u001b[0m        \u001b[35m1.1037\u001b[0m     +  0.5752\n"
     ]
    },
    {
     "data": {
      "application/vnd.jupyter.widget-view+json": {
       "model_id": "",
       "version_major": 2,
       "version_minor": 0
      },
      "text/plain": [
       "HBox(children=(FloatProgress(value=0.0, max=19.0), HTML(value='')))"
      ]
     },
     "metadata": {},
     "output_type": "display_data"
    },
    {
     "name": "stdout",
     "output_type": "stream",
     "text": [
      "     98  0.5243        \u001b[32m1.1001\u001b[0m        \u001b[35m1.1017\u001b[0m     +  0.5403\n"
     ]
    },
    {
     "data": {
      "application/vnd.jupyter.widget-view+json": {
       "model_id": "",
       "version_major": 2,
       "version_minor": 0
      },
      "text/plain": [
       "HBox(children=(FloatProgress(value=0.0, max=19.0), HTML(value='')))"
      ]
     },
     "metadata": {},
     "output_type": "display_data"
    },
    {
     "name": "stdout",
     "output_type": "stream",
     "text": [
      "     99  \u001b[36m0.5255\u001b[0m        \u001b[32m1.0976\u001b[0m        \u001b[35m1.1001\u001b[0m     +  0.5485\n"
     ]
    },
    {
     "data": {
      "application/vnd.jupyter.widget-view+json": {
       "model_id": "",
       "version_major": 2,
       "version_minor": 0
      },
      "text/plain": [
       "HBox(children=(FloatProgress(value=0.0, max=19.0), HTML(value='')))"
      ]
     },
     "metadata": {},
     "output_type": "display_data"
    },
    {
     "name": "stdout",
     "output_type": "stream",
     "text": [
      "    100  0.5252        \u001b[32m1.0959\u001b[0m        1.1011        0.5463\n"
     ]
    },
    {
     "data": {
      "application/vnd.jupyter.widget-view+json": {
       "model_id": "",
       "version_major": 2,
       "version_minor": 0
      },
      "text/plain": [
       "HBox(children=(FloatProgress(value=0.0, max=19.0), HTML(value='')))"
      ]
     },
     "metadata": {},
     "output_type": "display_data"
    },
    {
     "name": "stdout",
     "output_type": "stream",
     "text": [
      "    101  \u001b[36m0.5266\u001b[0m        1.0977        \u001b[35m1.0983\u001b[0m     +  0.5457\n"
     ]
    },
    {
     "data": {
      "application/vnd.jupyter.widget-view+json": {
       "model_id": "",
       "version_major": 2,
       "version_minor": 0
      },
      "text/plain": [
       "HBox(children=(FloatProgress(value=0.0, max=19.0), HTML(value='')))"
      ]
     },
     "metadata": {},
     "output_type": "display_data"
    },
    {
     "name": "stdout",
     "output_type": "stream",
     "text": [
      "    102  \u001b[36m0.5281\u001b[0m        \u001b[32m1.0938\u001b[0m        \u001b[35m1.0972\u001b[0m     +  0.5996\n"
     ]
    },
    {
     "data": {
      "application/vnd.jupyter.widget-view+json": {
       "model_id": "",
       "version_major": 2,
       "version_minor": 0
      },
      "text/plain": [
       "HBox(children=(FloatProgress(value=0.0, max=19.0), HTML(value='')))"
      ]
     },
     "metadata": {},
     "output_type": "display_data"
    },
    {
     "name": "stdout",
     "output_type": "stream",
     "text": [
      "    103  0.5277        \u001b[32m1.0924\u001b[0m        1.0991        0.5493\n"
     ]
    },
    {
     "data": {
      "application/vnd.jupyter.widget-view+json": {
       "model_id": "",
       "version_major": 2,
       "version_minor": 0
      },
      "text/plain": [
       "HBox(children=(FloatProgress(value=0.0, max=19.0), HTML(value='')))"
      ]
     },
     "metadata": {},
     "output_type": "display_data"
    },
    {
     "name": "stdout",
     "output_type": "stream",
     "text": [
      "    104  \u001b[36m0.5283\u001b[0m        \u001b[32m1.0897\u001b[0m        \u001b[35m1.0963\u001b[0m     +  0.5660\n"
     ]
    },
    {
     "data": {
      "application/vnd.jupyter.widget-view+json": {
       "model_id": "",
       "version_major": 2,
       "version_minor": 0
      },
      "text/plain": [
       "HBox(children=(FloatProgress(value=0.0, max=19.0), HTML(value='')))"
      ]
     },
     "metadata": {},
     "output_type": "display_data"
    },
    {
     "name": "stdout",
     "output_type": "stream",
     "text": [
      "    105  \u001b[36m0.5294\u001b[0m        \u001b[32m1.0860\u001b[0m        \u001b[35m1.0956\u001b[0m     +  0.5583\n"
     ]
    },
    {
     "data": {
      "application/vnd.jupyter.widget-view+json": {
       "model_id": "",
       "version_major": 2,
       "version_minor": 0
      },
      "text/plain": [
       "HBox(children=(FloatProgress(value=0.0, max=19.0), HTML(value='')))"
      ]
     },
     "metadata": {},
     "output_type": "display_data"
    },
    {
     "name": "stdout",
     "output_type": "stream",
     "text": [
      "    106  \u001b[36m0.5302\u001b[0m        \u001b[32m1.0857\u001b[0m        \u001b[35m1.0933\u001b[0m     +  0.5432\n"
     ]
    },
    {
     "data": {
      "application/vnd.jupyter.widget-view+json": {
       "model_id": "",
       "version_major": 2,
       "version_minor": 0
      },
      "text/plain": [
       "HBox(children=(FloatProgress(value=0.0, max=19.0), HTML(value='')))"
      ]
     },
     "metadata": {},
     "output_type": "display_data"
    },
    {
     "name": "stdout",
     "output_type": "stream",
     "text": [
      "    107  \u001b[36m0.5307\u001b[0m        \u001b[32m1.0823\u001b[0m        \u001b[35m1.0917\u001b[0m     +  0.5499\n"
     ]
    },
    {
     "data": {
      "application/vnd.jupyter.widget-view+json": {
       "model_id": "",
       "version_major": 2,
       "version_minor": 0
      },
      "text/plain": [
       "HBox(children=(FloatProgress(value=0.0, max=19.0), HTML(value='')))"
      ]
     },
     "metadata": {},
     "output_type": "display_data"
    },
    {
     "name": "stdout",
     "output_type": "stream",
     "text": [
      "    108  0.5305        1.0847        \u001b[35m1.0915\u001b[0m     +  0.5484\n"
     ]
    },
    {
     "data": {
      "application/vnd.jupyter.widget-view+json": {
       "model_id": "",
       "version_major": 2,
       "version_minor": 0
      },
      "text/plain": [
       "HBox(children=(FloatProgress(value=0.0, max=19.0), HTML(value='')))"
      ]
     },
     "metadata": {},
     "output_type": "display_data"
    },
    {
     "name": "stdout",
     "output_type": "stream",
     "text": [
      "    109  \u001b[36m0.5322\u001b[0m        \u001b[32m1.0796\u001b[0m        \u001b[35m1.0907\u001b[0m     +  0.5564\n"
     ]
    },
    {
     "data": {
      "application/vnd.jupyter.widget-view+json": {
       "model_id": "",
       "version_major": 2,
       "version_minor": 0
      },
      "text/plain": [
       "HBox(children=(FloatProgress(value=0.0, max=19.0), HTML(value='')))"
      ]
     },
     "metadata": {},
     "output_type": "display_data"
    },
    {
     "name": "stdout",
     "output_type": "stream",
     "text": [
      "    110  0.5303        1.0805        \u001b[35m1.0905\u001b[0m     +  0.5624\n"
     ]
    },
    {
     "data": {
      "application/vnd.jupyter.widget-view+json": {
       "model_id": "",
       "version_major": 2,
       "version_minor": 0
      },
      "text/plain": [
       "HBox(children=(FloatProgress(value=0.0, max=19.0), HTML(value='')))"
      ]
     },
     "metadata": {},
     "output_type": "display_data"
    },
    {
     "name": "stdout",
     "output_type": "stream",
     "text": [
      "    111  0.5321        \u001b[32m1.0785\u001b[0m        \u001b[35m1.0892\u001b[0m     +  0.5867\n"
     ]
    },
    {
     "data": {
      "application/vnd.jupyter.widget-view+json": {
       "model_id": "",
       "version_major": 2,
       "version_minor": 0
      },
      "text/plain": [
       "HBox(children=(FloatProgress(value=0.0, max=19.0), HTML(value='')))"
      ]
     },
     "metadata": {},
     "output_type": "display_data"
    },
    {
     "name": "stdout",
     "output_type": "stream",
     "text": [
      "    112  \u001b[36m0.5327\u001b[0m        \u001b[32m1.0783\u001b[0m        \u001b[35m1.0872\u001b[0m     +  0.5789\n"
     ]
    },
    {
     "data": {
      "application/vnd.jupyter.widget-view+json": {
       "model_id": "",
       "version_major": 2,
       "version_minor": 0
      },
      "text/plain": [
       "HBox(children=(FloatProgress(value=0.0, max=19.0), HTML(value='')))"
      ]
     },
     "metadata": {},
     "output_type": "display_data"
    },
    {
     "name": "stdout",
     "output_type": "stream",
     "text": [
      "    113  \u001b[36m0.5331\u001b[0m        1.0787        \u001b[35m1.0872\u001b[0m     +  0.5584\n"
     ]
    },
    {
     "data": {
      "application/vnd.jupyter.widget-view+json": {
       "model_id": "",
       "version_major": 2,
       "version_minor": 0
      },
      "text/plain": [
       "HBox(children=(FloatProgress(value=0.0, max=19.0), HTML(value='')))"
      ]
     },
     "metadata": {},
     "output_type": "display_data"
    },
    {
     "name": "stdout",
     "output_type": "stream",
     "text": [
      "    114  0.5321        \u001b[32m1.0728\u001b[0m        \u001b[35m1.0862\u001b[0m     +  0.5858\n"
     ]
    },
    {
     "data": {
      "application/vnd.jupyter.widget-view+json": {
       "model_id": "",
       "version_major": 2,
       "version_minor": 0
      },
      "text/plain": [
       "HBox(children=(FloatProgress(value=0.0, max=19.0), HTML(value='')))"
      ]
     },
     "metadata": {},
     "output_type": "display_data"
    },
    {
     "name": "stdout",
     "output_type": "stream",
     "text": [
      "    115  0.5293        \u001b[32m1.0715\u001b[0m        1.0874        0.5630\n"
     ]
    },
    {
     "data": {
      "application/vnd.jupyter.widget-view+json": {
       "model_id": "",
       "version_major": 2,
       "version_minor": 0
      },
      "text/plain": [
       "HBox(children=(FloatProgress(value=0.0, max=19.0), HTML(value='')))"
      ]
     },
     "metadata": {},
     "output_type": "display_data"
    },
    {
     "name": "stdout",
     "output_type": "stream",
     "text": [
      "    116  0.5323        1.0722        \u001b[35m1.0848\u001b[0m     +  0.5491\n"
     ]
    },
    {
     "data": {
      "application/vnd.jupyter.widget-view+json": {
       "model_id": "",
       "version_major": 2,
       "version_minor": 0
      },
      "text/plain": [
       "HBox(children=(FloatProgress(value=0.0, max=19.0), HTML(value='')))"
      ]
     },
     "metadata": {},
     "output_type": "display_data"
    },
    {
     "name": "stdout",
     "output_type": "stream",
     "text": [
      "    117  0.5313        \u001b[32m1.0694\u001b[0m        \u001b[35m1.0844\u001b[0m     +  0.5595\n"
     ]
    },
    {
     "data": {
      "application/vnd.jupyter.widget-view+json": {
       "model_id": "",
       "version_major": 2,
       "version_minor": 0
      },
      "text/plain": [
       "HBox(children=(FloatProgress(value=0.0, max=19.0), HTML(value='')))"
      ]
     },
     "metadata": {},
     "output_type": "display_data"
    },
    {
     "name": "stdout",
     "output_type": "stream",
     "text": [
      "    118  0.5318        \u001b[32m1.0686\u001b[0m        \u001b[35m1.0825\u001b[0m     +  0.5604\n"
     ]
    },
    {
     "data": {
      "application/vnd.jupyter.widget-view+json": {
       "model_id": "",
       "version_major": 2,
       "version_minor": 0
      },
      "text/plain": [
       "HBox(children=(FloatProgress(value=0.0, max=19.0), HTML(value='')))"
      ]
     },
     "metadata": {},
     "output_type": "display_data"
    },
    {
     "name": "stdout",
     "output_type": "stream",
     "text": [
      "    119  0.5323        \u001b[32m1.0649\u001b[0m        \u001b[35m1.0816\u001b[0m     +  0.5663\n"
     ]
    },
    {
     "data": {
      "application/vnd.jupyter.widget-view+json": {
       "model_id": "",
       "version_major": 2,
       "version_minor": 0
      },
      "text/plain": [
       "HBox(children=(FloatProgress(value=0.0, max=19.0), HTML(value='')))"
      ]
     },
     "metadata": {},
     "output_type": "display_data"
    },
    {
     "name": "stdout",
     "output_type": "stream",
     "text": [
      "    120  0.5329        \u001b[32m1.0640\u001b[0m        1.0831        0.5682\n"
     ]
    },
    {
     "data": {
      "application/vnd.jupyter.widget-view+json": {
       "model_id": "",
       "version_major": 2,
       "version_minor": 0
      },
      "text/plain": [
       "HBox(children=(FloatProgress(value=0.0, max=19.0), HTML(value='')))"
      ]
     },
     "metadata": {},
     "output_type": "display_data"
    },
    {
     "name": "stdout",
     "output_type": "stream",
     "text": [
      "    121  0.5326        \u001b[32m1.0606\u001b[0m        \u001b[35m1.0798\u001b[0m     +  0.5634\n"
     ]
    },
    {
     "data": {
      "application/vnd.jupyter.widget-view+json": {
       "model_id": "",
       "version_major": 2,
       "version_minor": 0
      },
      "text/plain": [
       "HBox(children=(FloatProgress(value=0.0, max=19.0), HTML(value='')))"
      ]
     },
     "metadata": {},
     "output_type": "display_data"
    },
    {
     "name": "stdout",
     "output_type": "stream",
     "text": [
      "    122  0.5323        \u001b[32m1.0597\u001b[0m        \u001b[35m1.0785\u001b[0m     +  0.6010\n"
     ]
    },
    {
     "data": {
      "application/vnd.jupyter.widget-view+json": {
       "model_id": "",
       "version_major": 2,
       "version_minor": 0
      },
      "text/plain": [
       "HBox(children=(FloatProgress(value=0.0, max=19.0), HTML(value='')))"
      ]
     },
     "metadata": {},
     "output_type": "display_data"
    },
    {
     "name": "stdout",
     "output_type": "stream",
     "text": [
      "    123  0.5290        \u001b[32m1.0567\u001b[0m        1.0800        0.5584\n"
     ]
    },
    {
     "data": {
      "application/vnd.jupyter.widget-view+json": {
       "model_id": "",
       "version_major": 2,
       "version_minor": 0
      },
      "text/plain": [
       "HBox(children=(FloatProgress(value=0.0, max=19.0), HTML(value='')))"
      ]
     },
     "metadata": {},
     "output_type": "display_data"
    },
    {
     "name": "stdout",
     "output_type": "stream",
     "text": [
      "    124  \u001b[36m0.5333\u001b[0m        \u001b[32m1.0540\u001b[0m        \u001b[35m1.0781\u001b[0m     +  0.5598\n"
     ]
    },
    {
     "data": {
      "application/vnd.jupyter.widget-view+json": {
       "model_id": "",
       "version_major": 2,
       "version_minor": 0
      },
      "text/plain": [
       "HBox(children=(FloatProgress(value=0.0, max=19.0), HTML(value='')))"
      ]
     },
     "metadata": {},
     "output_type": "display_data"
    },
    {
     "name": "stdout",
     "output_type": "stream",
     "text": [
      "    125  0.5313        \u001b[32m1.0521\u001b[0m        \u001b[35m1.0778\u001b[0m     +  0.5627\n"
     ]
    },
    {
     "data": {
      "application/vnd.jupyter.widget-view+json": {
       "model_id": "",
       "version_major": 2,
       "version_minor": 0
      },
      "text/plain": [
       "HBox(children=(FloatProgress(value=0.0, max=19.0), HTML(value='')))"
      ]
     },
     "metadata": {},
     "output_type": "display_data"
    },
    {
     "name": "stdout",
     "output_type": "stream",
     "text": [
      "    126  0.5329        1.0567        \u001b[35m1.0757\u001b[0m     +  0.5477\n"
     ]
    },
    {
     "data": {
      "application/vnd.jupyter.widget-view+json": {
       "model_id": "",
       "version_major": 2,
       "version_minor": 0
      },
      "text/plain": [
       "HBox(children=(FloatProgress(value=0.0, max=19.0), HTML(value='')))"
      ]
     },
     "metadata": {},
     "output_type": "display_data"
    },
    {
     "name": "stdout",
     "output_type": "stream",
     "text": [
      "    127  0.5320        \u001b[32m1.0517\u001b[0m        1.0760        0.5416\n"
     ]
    },
    {
     "data": {
      "application/vnd.jupyter.widget-view+json": {
       "model_id": "",
       "version_major": 2,
       "version_minor": 0
      },
      "text/plain": [
       "HBox(children=(FloatProgress(value=0.0, max=19.0), HTML(value='')))"
      ]
     },
     "metadata": {},
     "output_type": "display_data"
    },
    {
     "name": "stdout",
     "output_type": "stream",
     "text": [
      "    128  0.5306        \u001b[32m1.0492\u001b[0m        1.0766        0.5499\n"
     ]
    },
    {
     "data": {
      "application/vnd.jupyter.widget-view+json": {
       "model_id": "",
       "version_major": 2,
       "version_minor": 0
      },
      "text/plain": [
       "HBox(children=(FloatProgress(value=0.0, max=19.0), HTML(value='')))"
      ]
     },
     "metadata": {},
     "output_type": "display_data"
    },
    {
     "name": "stdout",
     "output_type": "stream",
     "text": [
      "    129  \u001b[36m0.5347\u001b[0m        \u001b[32m1.0477\u001b[0m        \u001b[35m1.0742\u001b[0m     +  0.5468\n"
     ]
    },
    {
     "data": {
      "application/vnd.jupyter.widget-view+json": {
       "model_id": "",
       "version_major": 2,
       "version_minor": 0
      },
      "text/plain": [
       "HBox(children=(FloatProgress(value=0.0, max=19.0), HTML(value='')))"
      ]
     },
     "metadata": {},
     "output_type": "display_data"
    },
    {
     "name": "stdout",
     "output_type": "stream",
     "text": [
      "    130  0.5318        \u001b[32m1.0447\u001b[0m        1.0767        0.5478\n"
     ]
    },
    {
     "data": {
      "application/vnd.jupyter.widget-view+json": {
       "model_id": "",
       "version_major": 2,
       "version_minor": 0
      },
      "text/plain": [
       "HBox(children=(FloatProgress(value=0.0, max=19.0), HTML(value='')))"
      ]
     },
     "metadata": {},
     "output_type": "display_data"
    },
    {
     "name": "stdout",
     "output_type": "stream",
     "text": [
      "    131  0.5345        1.0474        \u001b[35m1.0721\u001b[0m     +  0.5550\n"
     ]
    },
    {
     "data": {
      "application/vnd.jupyter.widget-view+json": {
       "model_id": "",
       "version_major": 2,
       "version_minor": 0
      },
      "text/plain": [
       "HBox(children=(FloatProgress(value=0.0, max=19.0), HTML(value='')))"
      ]
     },
     "metadata": {},
     "output_type": "display_data"
    },
    {
     "name": "stdout",
     "output_type": "stream",
     "text": [
      "    132  0.5319        \u001b[32m1.0407\u001b[0m        1.0740        0.5536\n"
     ]
    },
    {
     "data": {
      "application/vnd.jupyter.widget-view+json": {
       "model_id": "",
       "version_major": 2,
       "version_minor": 0
      },
      "text/plain": [
       "HBox(children=(FloatProgress(value=0.0, max=19.0), HTML(value='')))"
      ]
     },
     "metadata": {},
     "output_type": "display_data"
    },
    {
     "name": "stdout",
     "output_type": "stream",
     "text": [
      "    133  0.5329        1.0424        1.0737        0.5535\n"
     ]
    },
    {
     "data": {
      "application/vnd.jupyter.widget-view+json": {
       "model_id": "",
       "version_major": 2,
       "version_minor": 0
      },
      "text/plain": [
       "HBox(children=(FloatProgress(value=0.0, max=19.0), HTML(value='')))"
      ]
     },
     "metadata": {},
     "output_type": "display_data"
    },
    {
     "name": "stdout",
     "output_type": "stream",
     "text": [
      "    134  0.5336        1.0465        \u001b[35m1.0711\u001b[0m     +  0.5546\n"
     ]
    },
    {
     "data": {
      "application/vnd.jupyter.widget-view+json": {
       "model_id": "",
       "version_major": 2,
       "version_minor": 0
      },
      "text/plain": [
       "HBox(children=(FloatProgress(value=0.0, max=19.0), HTML(value='')))"
      ]
     },
     "metadata": {},
     "output_type": "display_data"
    },
    {
     "name": "stdout",
     "output_type": "stream",
     "text": [
      "    135  0.5324        \u001b[32m1.0393\u001b[0m        1.0724        0.5612\n"
     ]
    },
    {
     "data": {
      "application/vnd.jupyter.widget-view+json": {
       "model_id": "",
       "version_major": 2,
       "version_minor": 0
      },
      "text/plain": [
       "HBox(children=(FloatProgress(value=0.0, max=19.0), HTML(value='')))"
      ]
     },
     "metadata": {},
     "output_type": "display_data"
    },
    {
     "name": "stdout",
     "output_type": "stream",
     "text": [
      "    136  0.5336        \u001b[32m1.0377\u001b[0m        1.0718        0.5678\n"
     ]
    },
    {
     "data": {
      "application/vnd.jupyter.widget-view+json": {
       "model_id": "",
       "version_major": 2,
       "version_minor": 0
      },
      "text/plain": [
       "HBox(children=(FloatProgress(value=0.0, max=19.0), HTML(value='')))"
      ]
     },
     "metadata": {},
     "output_type": "display_data"
    },
    {
     "name": "stdout",
     "output_type": "stream",
     "text": [
      "    137  0.5312        \u001b[32m1.0339\u001b[0m        1.0724        0.5470\n"
     ]
    },
    {
     "data": {
      "application/vnd.jupyter.widget-view+json": {
       "model_id": "",
       "version_major": 2,
       "version_minor": 0
      },
      "text/plain": [
       "HBox(children=(FloatProgress(value=0.0, max=19.0), HTML(value='')))"
      ]
     },
     "metadata": {},
     "output_type": "display_data"
    },
    {
     "name": "stdout",
     "output_type": "stream",
     "text": [
      "    138  0.5340        1.0380        \u001b[35m1.0674\u001b[0m     +  0.5496\n"
     ]
    },
    {
     "data": {
      "application/vnd.jupyter.widget-view+json": {
       "model_id": "",
       "version_major": 2,
       "version_minor": 0
      },
      "text/plain": [
       "HBox(children=(FloatProgress(value=0.0, max=19.0), HTML(value='')))"
      ]
     },
     "metadata": {},
     "output_type": "display_data"
    },
    {
     "name": "stdout",
     "output_type": "stream",
     "text": [
      "    139  0.5325        1.0350        1.0732        0.5542\n"
     ]
    },
    {
     "data": {
      "application/vnd.jupyter.widget-view+json": {
       "model_id": "",
       "version_major": 2,
       "version_minor": 0
      },
      "text/plain": [
       "HBox(children=(FloatProgress(value=0.0, max=19.0), HTML(value='')))"
      ]
     },
     "metadata": {},
     "output_type": "display_data"
    },
    {
     "name": "stdout",
     "output_type": "stream",
     "text": [
      "    140  0.5320        \u001b[32m1.0327\u001b[0m        1.0720        0.5529\n"
     ]
    },
    {
     "data": {
      "application/vnd.jupyter.widget-view+json": {
       "model_id": "",
       "version_major": 2,
       "version_minor": 0
      },
      "text/plain": [
       "HBox(children=(FloatProgress(value=0.0, max=19.0), HTML(value='')))"
      ]
     },
     "metadata": {},
     "output_type": "display_data"
    },
    {
     "name": "stdout",
     "output_type": "stream",
     "text": [
      "    141  0.5307        \u001b[32m1.0273\u001b[0m        1.0679        0.5424\n"
     ]
    },
    {
     "data": {
      "application/vnd.jupyter.widget-view+json": {
       "model_id": "",
       "version_major": 2,
       "version_minor": 0
      },
      "text/plain": [
       "HBox(children=(FloatProgress(value=0.0, max=19.0), HTML(value='')))"
      ]
     },
     "metadata": {},
     "output_type": "display_data"
    },
    {
     "name": "stdout",
     "output_type": "stream",
     "text": [
      "    142  0.5323        1.0315        \u001b[35m1.0665\u001b[0m     +  0.5565\n"
     ]
    },
    {
     "data": {
      "application/vnd.jupyter.widget-view+json": {
       "model_id": "",
       "version_major": 2,
       "version_minor": 0
      },
      "text/plain": [
       "HBox(children=(FloatProgress(value=0.0, max=19.0), HTML(value='')))"
      ]
     },
     "metadata": {},
     "output_type": "display_data"
    },
    {
     "name": "stdout",
     "output_type": "stream",
     "text": [
      "    143  0.5314        \u001b[32m1.0247\u001b[0m        1.0697        0.5546\n"
     ]
    },
    {
     "data": {
      "application/vnd.jupyter.widget-view+json": {
       "model_id": "",
       "version_major": 2,
       "version_minor": 0
      },
      "text/plain": [
       "HBox(children=(FloatProgress(value=0.0, max=19.0), HTML(value='')))"
      ]
     },
     "metadata": {},
     "output_type": "display_data"
    },
    {
     "name": "stdout",
     "output_type": "stream",
     "text": [
      "    144  0.5313        1.0258        1.0688        0.5519\n"
     ]
    },
    {
     "data": {
      "application/vnd.jupyter.widget-view+json": {
       "model_id": "",
       "version_major": 2,
       "version_minor": 0
      },
      "text/plain": [
       "HBox(children=(FloatProgress(value=0.0, max=19.0), HTML(value='')))"
      ]
     },
     "metadata": {},
     "output_type": "display_data"
    },
    {
     "name": "stdout",
     "output_type": "stream",
     "text": [
      "    145  0.5300        \u001b[32m1.0223\u001b[0m        1.0689        0.5628\n"
     ]
    },
    {
     "data": {
      "application/vnd.jupyter.widget-view+json": {
       "model_id": "",
       "version_major": 2,
       "version_minor": 0
      },
      "text/plain": [
       "HBox(children=(FloatProgress(value=0.0, max=19.0), HTML(value='')))"
      ]
     },
     "metadata": {},
     "output_type": "display_data"
    },
    {
     "name": "stdout",
     "output_type": "stream",
     "text": [
      "    146  0.5297        \u001b[32m1.0197\u001b[0m        \u001b[35m1.0650\u001b[0m     +  0.5592\n"
     ]
    },
    {
     "data": {
      "application/vnd.jupyter.widget-view+json": {
       "model_id": "",
       "version_major": 2,
       "version_minor": 0
      },
      "text/plain": [
       "HBox(children=(FloatProgress(value=0.0, max=19.0), HTML(value='')))"
      ]
     },
     "metadata": {},
     "output_type": "display_data"
    },
    {
     "name": "stdout",
     "output_type": "stream",
     "text": [
      "    147  0.5303        1.0223        1.0722        0.5488\n"
     ]
    },
    {
     "data": {
      "application/vnd.jupyter.widget-view+json": {
       "model_id": "",
       "version_major": 2,
       "version_minor": 0
      },
      "text/plain": [
       "HBox(children=(FloatProgress(value=0.0, max=19.0), HTML(value='')))"
      ]
     },
     "metadata": {},
     "output_type": "display_data"
    },
    {
     "name": "stdout",
     "output_type": "stream",
     "text": [
      "    148  0.5303        \u001b[32m1.0163\u001b[0m        1.0668        0.5560\n"
     ]
    },
    {
     "data": {
      "application/vnd.jupyter.widget-view+json": {
       "model_id": "",
       "version_major": 2,
       "version_minor": 0
      },
      "text/plain": [
       "HBox(children=(FloatProgress(value=0.0, max=19.0), HTML(value='')))"
      ]
     },
     "metadata": {},
     "output_type": "display_data"
    },
    {
     "name": "stdout",
     "output_type": "stream",
     "text": [
      "    149  0.5309        1.0193        1.0656        0.5508\n"
     ]
    },
    {
     "data": {
      "application/vnd.jupyter.widget-view+json": {
       "model_id": "",
       "version_major": 2,
       "version_minor": 0
      },
      "text/plain": [
       "HBox(children=(FloatProgress(value=0.0, max=19.0), HTML(value='')))"
      ]
     },
     "metadata": {},
     "output_type": "display_data"
    },
    {
     "name": "stdout",
     "output_type": "stream",
     "text": [
      "    150  0.5334        \u001b[32m1.0100\u001b[0m        1.0688        0.5663\n"
     ]
    },
    {
     "data": {
      "application/vnd.jupyter.widget-view+json": {
       "model_id": "",
       "version_major": 2,
       "version_minor": 0
      },
      "text/plain": [
       "HBox(children=(FloatProgress(value=0.0, max=19.0), HTML(value='')))"
      ]
     },
     "metadata": {},
     "output_type": "display_data"
    },
    {
     "name": "stdout",
     "output_type": "stream",
     "text": [
      "    151  0.5308        1.0119        1.0684        0.5468\n"
     ]
    },
    {
     "data": {
      "application/vnd.jupyter.widget-view+json": {
       "model_id": "",
       "version_major": 2,
       "version_minor": 0
      },
      "text/plain": [
       "HBox(children=(FloatProgress(value=0.0, max=19.0), HTML(value='')))"
      ]
     },
     "metadata": {},
     "output_type": "display_data"
    },
    {
     "name": "stdout",
     "output_type": "stream",
     "text": [
      "    152  0.5309        \u001b[32m1.0080\u001b[0m        1.0669        0.5526\n"
     ]
    },
    {
     "data": {
      "application/vnd.jupyter.widget-view+json": {
       "model_id": "",
       "version_major": 2,
       "version_minor": 0
      },
      "text/plain": [
       "HBox(children=(FloatProgress(value=0.0, max=19.0), HTML(value='')))"
      ]
     },
     "metadata": {},
     "output_type": "display_data"
    },
    {
     "name": "stdout",
     "output_type": "stream",
     "text": [
      "    153  0.5284        1.0148        1.0683        0.5611\n"
     ]
    },
    {
     "data": {
      "application/vnd.jupyter.widget-view+json": {
       "model_id": "",
       "version_major": 2,
       "version_minor": 0
      },
      "text/plain": [
       "HBox(children=(FloatProgress(value=0.0, max=19.0), HTML(value='')))"
      ]
     },
     "metadata": {},
     "output_type": "display_data"
    },
    {
     "name": "stdout",
     "output_type": "stream",
     "text": [
      "    154  0.5290        \u001b[32m1.0049\u001b[0m        \u001b[35m1.0638\u001b[0m     +  0.5448\n"
     ]
    },
    {
     "data": {
      "application/vnd.jupyter.widget-view+json": {
       "model_id": "",
       "version_major": 2,
       "version_minor": 0
      },
      "text/plain": [
       "HBox(children=(FloatProgress(value=0.0, max=19.0), HTML(value='')))"
      ]
     },
     "metadata": {},
     "output_type": "display_data"
    },
    {
     "name": "stdout",
     "output_type": "stream",
     "text": [
      "    155  0.5287        \u001b[32m1.0038\u001b[0m        1.0668        0.5538\n"
     ]
    },
    {
     "data": {
      "application/vnd.jupyter.widget-view+json": {
       "model_id": "",
       "version_major": 2,
       "version_minor": 0
      },
      "text/plain": [
       "HBox(children=(FloatProgress(value=0.0, max=19.0), HTML(value='')))"
      ]
     },
     "metadata": {},
     "output_type": "display_data"
    },
    {
     "name": "stdout",
     "output_type": "stream",
     "text": [
      "    156  0.5314        \u001b[32m1.0021\u001b[0m        1.0666        0.5597\n"
     ]
    },
    {
     "data": {
      "application/vnd.jupyter.widget-view+json": {
       "model_id": "",
       "version_major": 2,
       "version_minor": 0
      },
      "text/plain": [
       "HBox(children=(FloatProgress(value=0.0, max=19.0), HTML(value='')))"
      ]
     },
     "metadata": {},
     "output_type": "display_data"
    },
    {
     "name": "stdout",
     "output_type": "stream",
     "text": [
      "    157  0.5295        \u001b[32m0.9996\u001b[0m        1.0657        0.5554\n"
     ]
    },
    {
     "data": {
      "application/vnd.jupyter.widget-view+json": {
       "model_id": "",
       "version_major": 2,
       "version_minor": 0
      },
      "text/plain": [
       "HBox(children=(FloatProgress(value=0.0, max=19.0), HTML(value='')))"
      ]
     },
     "metadata": {},
     "output_type": "display_data"
    },
    {
     "name": "stdout",
     "output_type": "stream",
     "text": [
      "    158  0.5290        \u001b[32m0.9974\u001b[0m        1.0684        0.5474\n"
     ]
    },
    {
     "data": {
      "application/vnd.jupyter.widget-view+json": {
       "model_id": "",
       "version_major": 2,
       "version_minor": 0
      },
      "text/plain": [
       "HBox(children=(FloatProgress(value=0.0, max=19.0), HTML(value='')))"
      ]
     },
     "metadata": {},
     "output_type": "display_data"
    },
    {
     "name": "stdout",
     "output_type": "stream",
     "text": [
      "    159  0.5305        \u001b[32m0.9964\u001b[0m        1.0639        0.5449\n"
     ]
    },
    {
     "data": {
      "application/vnd.jupyter.widget-view+json": {
       "model_id": "",
       "version_major": 2,
       "version_minor": 0
      },
      "text/plain": [
       "HBox(children=(FloatProgress(value=0.0, max=19.0), HTML(value='')))"
      ]
     },
     "metadata": {},
     "output_type": "display_data"
    },
    {
     "name": "stdout",
     "output_type": "stream",
     "text": [
      "    160  0.5281        \u001b[32m0.9950\u001b[0m        1.0668        0.5515\n"
     ]
    },
    {
     "data": {
      "application/vnd.jupyter.widget-view+json": {
       "model_id": "",
       "version_major": 2,
       "version_minor": 0
      },
      "text/plain": [
       "HBox(children=(FloatProgress(value=0.0, max=19.0), HTML(value='')))"
      ]
     },
     "metadata": {},
     "output_type": "display_data"
    },
    {
     "name": "stdout",
     "output_type": "stream",
     "text": [
      "    161  0.5284        \u001b[32m0.9934\u001b[0m        1.0652        0.5506\n"
     ]
    },
    {
     "data": {
      "application/vnd.jupyter.widget-view+json": {
       "model_id": "",
       "version_major": 2,
       "version_minor": 0
      },
      "text/plain": [
       "HBox(children=(FloatProgress(value=0.0, max=19.0), HTML(value='')))"
      ]
     },
     "metadata": {},
     "output_type": "display_data"
    },
    {
     "name": "stdout",
     "output_type": "stream",
     "text": [
      "    162  0.5294        \u001b[32m0.9890\u001b[0m        1.0663        0.5835\n"
     ]
    },
    {
     "data": {
      "application/vnd.jupyter.widget-view+json": {
       "model_id": "",
       "version_major": 2,
       "version_minor": 0
      },
      "text/plain": [
       "HBox(children=(FloatProgress(value=0.0, max=19.0), HTML(value='')))"
      ]
     },
     "metadata": {},
     "output_type": "display_data"
    },
    {
     "name": "stdout",
     "output_type": "stream",
     "text": [
      "    163  0.5306        0.9931        1.0672        0.5660\n"
     ]
    },
    {
     "data": {
      "application/vnd.jupyter.widget-view+json": {
       "model_id": "",
       "version_major": 2,
       "version_minor": 0
      },
      "text/plain": [
       "HBox(children=(FloatProgress(value=0.0, max=19.0), HTML(value='')))"
      ]
     },
     "metadata": {},
     "output_type": "display_data"
    },
    {
     "name": "stdout",
     "output_type": "stream",
     "text": [
      "    164  0.5291        0.9924        1.0683        0.5789\n"
     ]
    },
    {
     "data": {
      "application/vnd.jupyter.widget-view+json": {
       "model_id": "",
       "version_major": 2,
       "version_minor": 0
      },
      "text/plain": [
       "HBox(children=(FloatProgress(value=0.0, max=19.0), HTML(value='')))"
      ]
     },
     "metadata": {},
     "output_type": "display_data"
    },
    {
     "name": "stdout",
     "output_type": "stream",
     "text": [
      "    165  0.5299        \u001b[32m0.9796\u001b[0m        1.0642        0.5672\n"
     ]
    },
    {
     "data": {
      "application/vnd.jupyter.widget-view+json": {
       "model_id": "",
       "version_major": 2,
       "version_minor": 0
      },
      "text/plain": [
       "HBox(children=(FloatProgress(value=0.0, max=19.0), HTML(value='')))"
      ]
     },
     "metadata": {},
     "output_type": "display_data"
    },
    {
     "name": "stdout",
     "output_type": "stream",
     "text": [
      "    166  0.5270        0.9834        1.0654        0.5472\n"
     ]
    },
    {
     "data": {
      "application/vnd.jupyter.widget-view+json": {
       "model_id": "",
       "version_major": 2,
       "version_minor": 0
      },
      "text/plain": [
       "HBox(children=(FloatProgress(value=0.0, max=19.0), HTML(value='')))"
      ]
     },
     "metadata": {},
     "output_type": "display_data"
    },
    {
     "name": "stdout",
     "output_type": "stream",
     "text": [
      "    167  0.5261        0.9825        1.0707        0.5585\n"
     ]
    },
    {
     "data": {
      "application/vnd.jupyter.widget-view+json": {
       "model_id": "",
       "version_major": 2,
       "version_minor": 0
      },
      "text/plain": [
       "HBox(children=(FloatProgress(value=0.0, max=19.0), HTML(value='')))"
      ]
     },
     "metadata": {},
     "output_type": "display_data"
    },
    {
     "name": "stdout",
     "output_type": "stream",
     "text": [
      "    168  0.5295        0.9815        1.0646        0.5604\n"
     ]
    },
    {
     "data": {
      "application/vnd.jupyter.widget-view+json": {
       "model_id": "",
       "version_major": 2,
       "version_minor": 0
      },
      "text/plain": [
       "HBox(children=(FloatProgress(value=0.0, max=19.0), HTML(value='')))"
      ]
     },
     "metadata": {},
     "output_type": "display_data"
    },
    {
     "name": "stdout",
     "output_type": "stream",
     "text": [
      "    169  0.5272        0.9822        1.0686        0.5408\n"
     ]
    },
    {
     "data": {
      "application/vnd.jupyter.widget-view+json": {
       "model_id": "",
       "version_major": 2,
       "version_minor": 0
      },
      "text/plain": [
       "HBox(children=(FloatProgress(value=0.0, max=19.0), HTML(value='')))"
      ]
     },
     "metadata": {},
     "output_type": "display_data"
    },
    {
     "name": "stdout",
     "output_type": "stream",
     "text": [
      "    170  0.5270        \u001b[32m0.9792\u001b[0m        1.0679        0.5711\n"
     ]
    },
    {
     "data": {
      "application/vnd.jupyter.widget-view+json": {
       "model_id": "",
       "version_major": 2,
       "version_minor": 0
      },
      "text/plain": [
       "HBox(children=(FloatProgress(value=0.0, max=19.0), HTML(value='')))"
      ]
     },
     "metadata": {},
     "output_type": "display_data"
    },
    {
     "name": "stdout",
     "output_type": "stream",
     "text": [
      "    171  0.5265        \u001b[32m0.9750\u001b[0m        1.0702        0.5577\n"
     ]
    },
    {
     "data": {
      "application/vnd.jupyter.widget-view+json": {
       "model_id": "",
       "version_major": 2,
       "version_minor": 0
      },
      "text/plain": [
       "HBox(children=(FloatProgress(value=0.0, max=19.0), HTML(value='')))"
      ]
     },
     "metadata": {},
     "output_type": "display_data"
    },
    {
     "name": "stdout",
     "output_type": "stream",
     "text": [
      "    172  0.5272        0.9795        1.0685        0.5752\n"
     ]
    },
    {
     "data": {
      "application/vnd.jupyter.widget-view+json": {
       "model_id": "",
       "version_major": 2,
       "version_minor": 0
      },
      "text/plain": [
       "HBox(children=(FloatProgress(value=0.0, max=19.0), HTML(value='')))"
      ]
     },
     "metadata": {},
     "output_type": "display_data"
    },
    {
     "name": "stdout",
     "output_type": "stream",
     "text": [
      "    173  0.5273        \u001b[32m0.9731\u001b[0m        1.0680        0.5858\n"
     ]
    },
    {
     "data": {
      "application/vnd.jupyter.widget-view+json": {
       "model_id": "",
       "version_major": 2,
       "version_minor": 0
      },
      "text/plain": [
       "HBox(children=(FloatProgress(value=0.0, max=19.0), HTML(value='')))"
      ]
     },
     "metadata": {},
     "output_type": "display_data"
    },
    {
     "name": "stdout",
     "output_type": "stream",
     "text": [
      "Stopping since valid_loss has not improved in the last 20 epochs.\n"
     ]
    },
    {
     "data": {
      "text/plain": [
       "<class 'skorch.net.NeuralNet'>[initialized](\n",
       "  module_=Net(\n",
       "    (layer1): Linear(in_features=8572, out_features=512, bias=True)\n",
       "    (dropout): Dropout(p=0.5, inplace=False)\n",
       "    (dropout2): Dropout(p=0.5, inplace=False)\n",
       "    (layer2): Linear(in_features=512, out_features=512, bias=True)\n",
       "    (output): Linear(in_features=512, out_features=22, bias=True)\n",
       "  ),\n",
       ")"
      ]
     },
     "execution_count": 94,
     "metadata": {},
     "output_type": "execute_result"
    }
   ],
   "source": [
    "net.fit(X_train[:600].astype(np.float32), y_train[:600].astype(np.float32))"
   ]
  },
  {
   "cell_type": "code",
   "execution_count": 95,
   "metadata": {},
   "outputs": [
    {
     "name": "stdout",
     "output_type": "stream",
     "text": [
      "Hamming loss: 0.4878413767302656\n",
      "0.6883439099590769\n",
      "                                               precision    recall  f1-score   support\n",
      "\n",
      "                        Analysis and Modeling       0.36      0.92      0.51        84\n",
      "           Analysis and Modeling: 3D Modeling       0.31      0.89      0.45        71\n",
      "                            Anatomical Target       0.69      0.95      0.80       164\n",
      "           Anatomical Target: Lower Extremity       0.47      0.93      0.62       113\n",
      "     Anatomical Target: Lower Extremity - Hip       0.21      0.53      0.30        40\n",
      "    Anatomical Target: Lower Extremity - Knee       0.34      0.93      0.50        82\n",
      "                     Anatomical Target: Torso       0.15      0.43      0.23        35\n",
      "             Anatomical Target: Torso - Spine       0.09      0.38      0.14        21\n",
      "           Anatomical Target: Upper Extremity       0.17      0.48      0.25        31\n",
      "Anatomical Target: Upper Extremity - Shoulder       0.12      0.39      0.19        23\n",
      "                                      Imaging       0.57      0.96      0.72       133\n",
      "                                  Imaging: CT       0.30      0.81      0.44        59\n",
      "                                 Imaging: MRI       0.27      0.83      0.41        59\n",
      "                          Imaging: Ultrasound       0.19      0.66      0.30        32\n",
      "                                Manufacturing       0.34      0.86      0.49        83\n",
      "        Manufacturing: Additive Manufacturing       0.18      0.79      0.29        38\n",
      "           Personalized Product: Guide or Jig       0.49      0.89      0.63       120\n",
      "                Personalized Product: Implant       0.52      0.97      0.67       124\n",
      "                         Specification of Use       0.35      0.91      0.51        79\n",
      "                Specification of Use: Disease       0.17      0.57      0.26        30\n",
      "      Specification of Use: Joint Replacement       0.20      0.75      0.32        44\n",
      "                              Surgical Method       0.19      0.53      0.28        40\n",
      "\n",
      "                                    micro avg       0.35      0.84      0.49      1505\n",
      "                                    macro avg       0.30      0.74      0.42      1505\n",
      "                                 weighted avg       0.39      0.84      0.53      1505\n",
      "                                  samples avg       0.36      0.84      0.48      1505\n",
      "\n",
      "bertForPatents/\n",
      "Pipeline(steps=[('columns',\n",
      "                 ColumnTransformer(n_jobs=1,\n",
      "                                   transformers=[('cited_by',\n",
      "                                                  CountVectorizer(analyzer=<function iden at 0x7fbdbdddc430>,\n",
      "                                                                  binary=True,\n",
      "                                                                  min_df=2),\n",
      "                                                  'cited_by'),\n",
      "                                                 ('inventors',\n",
      "                                                  CountVectorizer(analyzer=<function iden at 0x7fbdbdddc430>,\n",
      "                                                                  binary=True,\n",
      "                                                                  min_df=2),\n",
      "                                                  'inventors'),\n",
      "                                                 ('embedded_cpc',\n",
      "                                                  VectorPassthrough(),\n",
      "                                                  'embedded_cpc'),\n",
      "                                                 ('embedding_v1',\n",
      "                                                  VectorPassthrough(),\n",
      "                                                  'embedding_v1'),\n",
      "                                                 ('transformer_abstract',\n",
      "                                                  TransformerFeatures(),\n",
      "                                                  'abstract'),\n",
      "                                                 ('transformer_claims',\n",
      "                                                  TransformerFeatures(),\n",
      "                                                  'claims')])),\n",
      "                ('norm', Normalizer())])\n",
      "<class 'skorch.net.NeuralNet'>[initialized](\n",
      "  module_=Net(\n",
      "    (layer1): Linear(in_features=8572, out_features=512, bias=True)\n",
      "    (dropout): Dropout(p=0.5, inplace=False)\n",
      "    (dropout2): Dropout(p=0.5, inplace=False)\n",
      "    (layer2): Linear(in_features=512, out_features=512, bias=True)\n",
      "    (output): Linear(in_features=512, out_features=22, bias=True)\n",
      "  ),\n",
      ")\n",
      "{'module': <class '__main__.Net'>, 'criterion': <class '__main__.LabelSmoothingCrossEntropy'>, 'optimizer': <class 'torch.optim.adamw.AdamW'>, 'lr': 5e-05, 'max_epochs': 10000, 'batch_size': 32, 'iterator_train': <class 'torch.utils.data.dataloader.DataLoader'>, 'iterator_valid': <class 'torch.utils.data.dataloader.DataLoader'>, 'dataset': <class 'skorch.dataset.Dataset'>, 'train_split': <skorch.dataset.CVSplit object at 0x7fbc5f11cdc0>, 'callbacks': [<skorch.callbacks.logging.ProgressBar object at 0x7fbba16d61c0>, <skorch.callbacks.scoring.EpochScoring object at 0x7fbba1403130>, <skorch.callbacks.training.Checkpoint object at 0x7fbba141f6d0>, <skorch.callbacks.training.EarlyStopping object at 0x7fbba141fc70>], 'predict_nonlinearity': <built-in method sigmoid of type object at 0x7fbc8d3b55a0>, 'warm_start': False, 'verbose': 1, 'device': 'cuda', 'module__input_features': 8572, 'module__output_features': 22, 'iterator_train__shuffle': True, 'iterator_train__num_workers': 4, 'callbacks__epoch_timer': <skorch.callbacks.logging.EpochTimer object at 0x7fbbc1317040>, 'callbacks__train_loss': <skorch.callbacks.scoring.PassthroughScoring object at 0x7fbba094e610>, 'callbacks__train_loss__name': 'train_loss', 'callbacks__train_loss__lower_is_better': True, 'callbacks__train_loss__on_train': True, 'callbacks__valid_loss': <skorch.callbacks.scoring.PassthroughScoring object at 0x7fbba094ee50>, 'callbacks__valid_loss__name': 'valid_loss', 'callbacks__valid_loss__lower_is_better': True, 'callbacks__valid_loss__on_train': False, 'callbacks__ProgressBar': <skorch.callbacks.logging.ProgressBar object at 0x7fbba16d61c0>, 'callbacks__ProgressBar__batches_per_epoch': 'auto', 'callbacks__ProgressBar__detect_notebook': True, 'callbacks__ProgressBar__postfix_keys': ['train_loss', 'valid_loss'], 'callbacks__EpochScoring': <skorch.callbacks.scoring.EpochScoring object at 0x7fbba1403130>, 'callbacks__EpochScoring__scoring': <function scorer at 0x7fbc5f07e160>, 'callbacks__EpochScoring__lower_is_better': False, 'callbacks__EpochScoring__on_train': False, 'callbacks__EpochScoring__name': 'f1', 'callbacks__EpochScoring__target_extractor': <function to_numpy at 0x7fbc5f1219d0>, 'callbacks__EpochScoring__use_caching': True, 'callbacks__Checkpoint': <skorch.callbacks.training.Checkpoint object at 0x7fbba141f6d0>, 'callbacks__Checkpoint__monitor': 'valid_loss_best', 'callbacks__Checkpoint__f_params': 'params.pt', 'callbacks__Checkpoint__f_optimizer': 'optimizer.pt', 'callbacks__Checkpoint__f_criterion': 'criterion.pt', 'callbacks__Checkpoint__f_history': 'history.json', 'callbacks__Checkpoint__f_pickle': None, 'callbacks__Checkpoint__fn_prefix': '', 'callbacks__Checkpoint__dirname': 'exp4', 'callbacks__Checkpoint__event_name': 'event_cp', 'callbacks__Checkpoint__sink': <function noop at 0x7fbc5f1203a0>, 'callbacks__EarlyStopping': <skorch.callbacks.training.EarlyStopping object at 0x7fbba141fc70>, 'callbacks__EarlyStopping__monitor': 'valid_loss', 'callbacks__EarlyStopping__lower_is_better': True, 'callbacks__EarlyStopping__patience': 20, 'callbacks__EarlyStopping__threshold': 0.0001, 'callbacks__EarlyStopping__threshold_mode': 'rel', 'callbacks__EarlyStopping__sink': <built-in function print>, 'callbacks__print_log': <skorch.callbacks.logging.PrintLog object at 0x7fbba094e0a0>, 'callbacks__print_log__keys_ignored': None, 'callbacks__print_log__sink': <built-in function print>, 'callbacks__print_log__tablefmt': 'simple', 'callbacks__print_log__floatfmt': '.4f', 'callbacks__print_log__stralign': 'right'}\n"
     ]
    },
    {
     "name": "stderr",
     "output_type": "stream",
     "text": [
      "/home/martin/anaconda3/envs/phenetics2/lib/python3.8/site-packages/sklearn/metrics/_classification.py:1221: UndefinedMetricWarning: Recall and F-score are ill-defined and being set to 0.0 in samples with no true labels. Use `zero_division` parameter to control this behavior.\n",
      "  _warn_prf(average, modifier, msg_start, len(result))\n"
     ]
    }
   ],
   "source": [
    "from sklearn import metrics\n",
    "predictions = (net.predict(X_test.astype(np.float32)) >=0.5).astype(np.long)\n",
    "\n",
    "print(f\"Hamming loss: {metrics.hamming_loss(y_test,predictions)}\")\n",
    "print(metrics.label_ranking_loss(y_test,predictions))\n",
    "print(metrics.classification_report(y_test, predictions, target_names=mlb.classes_))\n",
    "\n",
    "print(model_name)\n",
    "print(pipeline)\n",
    "print(net)\n",
    "print(net.get_params())"
   ]
  },
  {
   "cell_type": "code",
   "execution_count": null,
   "metadata": {},
   "outputs": [],
   "source": [
    "N=250\n",
    "Hamming loss: 0.7184811073699963\n",
    "0.9958847736625515"
   ]
  },
  {
   "cell_type": "code",
   "execution_count": null,
   "metadata": {},
   "outputs": [],
   "source": [
    "N=400\n",
    "Hamming loss: 0.7184811073699963\n",
    "0.9958847736625515"
   ]
  },
  {
   "cell_type": "code",
   "execution_count": null,
   "metadata": {},
   "outputs": [],
   "source": [
    "N=100\n",
    "Hamming loss: 0.5875420875420876\n",
    "0.7901547932844298\n",
    "                                               precision    recall  f1-score   support\n",
    "\n",
    "                        Analysis and Modeling       0.35      1.00      0.51        84\n",
    "           Analysis and Modeling: 3D Modeling       0.29      1.00      0.45        71\n",
    "                            Anatomical Target       0.67      1.00      0.81       164\n",
    "           Anatomical Target: Lower Extremity       0.47      1.00      0.63       113\n",
    "     Anatomical Target: Lower Extremity - Hip       0.00      0.00      0.00        40\n",
    "    Anatomical Target: Lower Extremity - Knee       0.34      1.00      0.50        82\n",
    "                     Anatomical Target: Torso       0.00      0.00      0.00        35\n",
    "             Anatomical Target: Torso - Spine       0.00      0.00      0.00        21\n",
    "           Anatomical Target: Upper Extremity       0.13      1.00      0.23        31\n",
    "Anatomical Target: Upper Extremity - Shoulder       0.09      1.00      0.17        23\n",
    "                                      Imaging       0.55      1.00      0.71       133\n",
    "                                  Imaging: CT       0.24      1.00      0.39        59\n",
    "                                 Imaging: MRI       0.24      1.00      0.39        59\n",
    "                          Imaging: Ultrasound       0.13      1.00      0.23        32\n",
    "                                Manufacturing       0.34      1.00      0.51        83\n",
    "        Manufacturing: Additive Manufacturing       0.16      1.00      0.27        38\n",
    "           Personalized Product: Guide or Jig       0.49      1.00      0.66       120\n",
    "                Personalized Product: Implant       0.51      1.00      0.68       124\n",
    "                         Specification of Use       0.33      1.00      0.49        79\n",
    "                Specification of Use: Disease       0.12      1.00      0.22        30\n",
    "      Specification of Use: Joint Replacement       0.18      1.00      0.31        44\n",
    "                              Surgical Method       0.00      0.00      0.00        40\n",
    "\n",
    "                                    micro avg       0.31      0.91      0.47      1505\n",
    "                                    macro avg       0.26      0.82      0.37      1505\n",
    "                                 weighted avg       0.36      0.91      0.50      1505\n",
    "                                  samples avg       0.31      0.91      0.45      1505\n",
    "\n",
    "bertForPatents/\n",
    "Pipeline(steps=[('columns',\n",
    "                 ColumnTransformer(n_jobs=1,\n",
    "                                   transformers=[('cited_by',\n",
    "                                                  CountVectorizer(analyzer=<function iden at 0x7fbdbdddc430>,\n",
    "                                                                  binary=True,\n",
    "                                                                  min_df=2),\n",
    "                                                  'cited_by'),\n",
    "                                                 ('inventors',\n",
    "                                                  CountVectorizer(analyzer=<function iden at 0x7fbdbdddc430>,\n",
    "                                                                  binary=True,\n",
    "                                                                  min_df=2),\n",
    "                                                  'inventors'),\n",
    "                                                 ('embedded_cpc',\n",
    "                                                  VectorPassthrough(),\n",
    "                                                  'embedded_cpc'),\n",
    "                                                 ('embedding_v1',\n",
    "                                                  VectorPassthrough(),\n",
    "                                                  'embedding_v1'),\n",
    "                                                 ('transformer_abstract',\n",
    "                                                  TransformerFeatures(),\n",
    "                                                  'abstract'),\n",
    "                                                 ('transformer_claims',\n",
    "                                                  TransformerFeatures(),\n",
    "                                                  'claims')])),\n",
    "                ('norm', Normalizer())])\n",
    "<class 'skorch.net.NeuralNet'>[initialized](\n",
    "  module_=Net(\n",
    "    (layer1): Linear(in_features=8572, out_features=512, bias=True)\n",
    "    (dropout): Dropout(p=0.5, inplace=False)\n",
    "    (dropout2): Dropout(p=0.5, inplace=False)\n",
    "    (layer2): Linear(in_features=512, out_features=512, bias=True)\n",
    "    (output): Linear(in_features=512, out_features=22, bias=True)\n",
    "  ),\n",
    ")\n",
    "{'module': <class '__main__.Net'>, 'criterion': <class '__main__.LabelSmoothingCrossEntropy'>, 'optimizer': <class 'torch.optim.adamw.AdamW'>, 'lr': 5e-05, 'max_epochs': 10000, 'batch_size': 32, 'iterator_train': <class 'torch.utils.data.dataloader.DataLoader'>, 'iterator_valid': <class 'torch.utils.data.dataloader.DataLoader'>, 'dataset': <class 'skorch.dataset.Dataset'>, 'train_split': <skorch.dataset.CVSplit object at 0x7fbc5f11cdc0>, 'callbacks': [<skorch.callbacks.logging.ProgressBar object at 0x7fbbc112ae50>, <skorch.callbacks.scoring.EpochScoring object at 0x7fbbc111da30>, <skorch.callbacks.training.Checkpoint object at 0x7fbc93feab20>, <skorch.callbacks.training.EarlyStopping object at 0x7fbba17d26a0>], 'predict_nonlinearity': <built-in method sigmoid of type object at 0x7fbc8d3b55a0>, 'warm_start': False, 'verbose': 1, 'device': 'cuda', 'module__input_features': 8572, 'module__output_features': 22, 'iterator_train__shuffle': True, 'iterator_train__num_workers': 4, 'callbacks__epoch_timer': <skorch.callbacks.logging.EpochTimer object at 0x7fbba164fb50>, 'callbacks__train_loss': <skorch.callbacks.scoring.PassthroughScoring object at 0x7fbba13fca30>, 'callbacks__train_loss__name': 'train_loss', 'callbacks__train_loss__lower_is_better': True, 'callbacks__train_loss__on_train': True, 'callbacks__valid_loss': <skorch.callbacks.scoring.PassthroughScoring object at 0x7fbba13fce50>, 'callbacks__valid_loss__name': 'valid_loss', 'callbacks__valid_loss__lower_is_better': True, 'callbacks__valid_loss__on_train': False, 'callbacks__ProgressBar': <skorch.callbacks.logging.ProgressBar object at 0x7fbbc112ae50>, 'callbacks__ProgressBar__batches_per_epoch': 'auto', 'callbacks__ProgressBar__detect_notebook': True, 'callbacks__ProgressBar__postfix_keys': ['train_loss', 'valid_loss'], 'callbacks__EpochScoring': <skorch.callbacks.scoring.EpochScoring object at 0x7fbbc111da30>, 'callbacks__EpochScoring__scoring': <function scorer at 0x7fbc5f07e160>, 'callbacks__EpochScoring__lower_is_better': False, 'callbacks__EpochScoring__on_train': False, 'callbacks__EpochScoring__name': 'f1', 'callbacks__EpochScoring__target_extractor': <function to_numpy at 0x7fbc5f1219d0>, 'callbacks__EpochScoring__use_caching': True, 'callbacks__Checkpoint': <skorch.callbacks.training.Checkpoint object at 0x7fbc93feab20>, 'callbacks__Checkpoint__monitor': 'valid_loss_best', 'callbacks__Checkpoint__f_params': 'params.pt', 'callbacks__Checkpoint__f_optimizer': 'optimizer.pt', 'callbacks__Checkpoint__f_criterion': 'criterion.pt', 'callbacks__Checkpoint__f_history': 'history.json', 'callbacks__Checkpoint__f_pickle': None, 'callbacks__Checkpoint__fn_prefix': '', 'callbacks__Checkpoint__dirname': 'exp4', 'callbacks__Checkpoint__event_name': 'event_cp', 'callbacks__Checkpoint__sink': <function noop at 0x7fbc5f1203a0>, 'callbacks__EarlyStopping': <skorch.callbacks.training.EarlyStopping object at 0x7fbba17d26a0>, 'callbacks__EarlyStopping__monitor': 'valid_loss', 'callbacks__EarlyStopping__lower_is_better': True, 'callbacks__EarlyStopping__patience': 20, 'callbacks__EarlyStopping__threshold': 0.0001, 'callbacks__EarlyStopping__threshold_mode': 'rel', 'callbacks__EarlyStopping__sink': <built-in function print>, 'callbacks__print_log': <skorch.callbacks.logging.PrintLog object at 0x7fbba13fc2e0>, 'callbacks__print_log__keys_ignored': None, 'callbacks__print_log__sink': <built-in function print>, 'callbacks__print_log__tablefmt': 'simple', 'callbacks__print_log__floatfmt': '.4f', 'callbacks__print_log__stralign': 'right'}\n",
    "/home/martin/anaconda3/envs/phenetics2/lib/python3.8/site-packages/sklearn/metrics/_classification.py:1221: UndefinedMetricWarning: Precision and F-score are ill-defined and being set to 0.0 in labels with no predicted samples. Use `zero_division` parameter to control this behavior.\n",
    "  _warn_prf(average, modifier, msg_start, len(result))\n",
    "/home/martin/anaconda3/envs/phenetics2/lib/python3.8/site-packages/sklearn/metrics/_classification.py:1221: UndefinedMetricWarning: Recall and F-score are ill-defined and being set to 0.0 in samples with no true labels. Use `zero_division` parameter to control this behavior.\n",
    "  _warn_prf(average, modifier, msg_start, len(result))"
   ]
  },
  {
   "cell_type": "code",
   "execution_count": null,
   "metadata": {},
   "outputs": [],
   "source": [
    "Hamming loss: 0.5044893378226711\n",
    "0.6950069237607938\n",
    "                                               precision    recall  f1-score   support\n",
    "\n",
    "                        Analysis and Modeling       0.36      0.93      0.52        84\n",
    "           Analysis and Modeling: 3D Modeling       0.31      0.93      0.47        71\n",
    "                            Anatomical Target       0.68      0.95      0.80       164\n",
    "           Anatomical Target: Lower Extremity       0.48      0.96      0.64       113\n",
    "     Anatomical Target: Lower Extremity - Hip       0.20      0.75      0.32        40\n",
    "    Anatomical Target: Lower Extremity - Knee       0.35      0.91      0.51        82\n",
    "                     Anatomical Target: Torso       0.14      0.57      0.23        35\n",
    "             Anatomical Target: Torso - Spine       0.08      0.38      0.13        21\n",
    "           Anatomical Target: Upper Extremity       0.17      0.58      0.26        31\n",
    "Anatomical Target: Upper Extremity - Shoulder       0.11      0.43      0.18        23\n",
    "                                      Imaging       0.57      0.98      0.72       133\n",
    "                                  Imaging: CT       0.28      0.90      0.43        59\n",
    "                                 Imaging: MRI       0.28      0.88      0.42        59\n",
    "                          Imaging: Ultrasound       0.13      0.31      0.18        32\n",
    "                                Manufacturing       0.35      0.90      0.51        83\n",
    "        Manufacturing: Additive Manufacturing       0.18      0.71      0.29        38\n",
    "           Personalized Product: Guide or Jig       0.49      0.90      0.64       120\n",
    "                Personalized Product: Implant       0.52      0.98      0.68       124\n",
    "                         Specification of Use       0.33      0.95      0.49        79\n",
    "                Specification of Use: Disease       0.12      0.30      0.17        30\n",
    "      Specification of Use: Joint Replacement       0.19      0.95      0.31        44\n",
    "                              Surgical Method       0.23      0.45      0.31        40\n",
    "\n",
    "                                    micro avg       0.34      0.86      0.49      1505\n",
    "                                    macro avg       0.30      0.76      0.42      1505\n",
    "                                 weighted avg       0.39      0.86      0.53      1505\n",
    "                                  samples avg       0.36      0.86      0.48      1505\n",
    "\n",
    "bertForPatents/\n",
    "Pipeline(steps=[('columns',\n",
    "                 ColumnTransformer(n_jobs=1,\n",
    "                                   transformers=[('cited_by',\n",
    "                                                  CountVectorizer(analyzer=<function iden at 0x7fbdbdddc430>,\n",
    "                                                                  binary=True,\n",
    "                                                                  min_df=2),\n",
    "                                                  'cited_by'),\n",
    "                                                 ('inventors',\n",
    "                                                  CountVectorizer(analyzer=<function iden at 0x7fbdbdddc430>,\n",
    "                                                                  binary=True,\n",
    "                                                                  min_df=2),\n",
    "                                                  'inventors'),\n",
    "                                                 ('embedded_cpc',\n",
    "                                                  VectorPassthrough(),\n",
    "                                                  'embedded_cpc'),\n",
    "                                                 ('embedding_v1',\n",
    "                                                  VectorPassthrough(),\n",
    "                                                  'embedding_v1'),\n",
    "                                                 ('transformer_abstract',\n",
    "                                                  TransformerFeatures(),\n",
    "                                                  'abstract'),\n",
    "                                                 ('transformer_claims',\n",
    "                                                  TransformerFeatures(),\n",
    "                                                  'claims')])),\n",
    "                ('norm', Normalizer())])\n",
    "<class 'skorch.net.NeuralNet'>[initialized](\n",
    "  module_=Net(\n",
    "    (layer1): Linear(in_features=8572, out_features=512, bias=True)\n",
    "    (dropout): Dropout(p=0.5, inplace=False)\n",
    "    (dropout2): Dropout(p=0.5, inplace=False)\n",
    "    (layer2): Linear(in_features=512, out_features=512, bias=True)\n",
    "    (output): Linear(in_features=512, out_features=22, bias=True)\n",
    "  ),\n",
    ")\n",
    "{'module': <class '__main__.Net'>, 'criterion': <class '__main__.LabelSmoothingCrossEntropy'>, 'optimizer': <class 'torch.optim.adamw.AdamW'>, 'lr': 5e-05, 'max_epochs': 10000, 'batch_size': 32, 'iterator_train': <class 'torch.utils.data.dataloader.DataLoader'>, 'iterator_valid': <class 'torch.utils.data.dataloader.DataLoader'>, 'dataset': <class 'skorch.dataset.Dataset'>, 'train_split': <skorch.dataset.CVSplit object at 0x7fbc5f11cdc0>, 'callbacks': [<skorch.callbacks.logging.ProgressBar object at 0x7fbba0ef6a60>, <skorch.callbacks.scoring.EpochScoring object at 0x7fbbc09913d0>, <skorch.callbacks.training.Checkpoint object at 0x7fbbc1354fd0>, <skorch.callbacks.training.EarlyStopping object at 0x7fbbc09910a0>], 'predict_nonlinearity': <built-in method sigmoid of type object at 0x7fbc8d3b55a0>, 'warm_start': False, 'verbose': 1, 'device': 'cuda', 'module__input_features': 8572, 'module__output_features': 22, 'iterator_train__shuffle': True, 'iterator_train__num_workers': 4, 'callbacks__epoch_timer': <skorch.callbacks.logging.EpochTimer object at 0x7fbba16d6730>, 'callbacks__train_loss': <skorch.callbacks.scoring.PassthroughScoring object at 0x7fbbc12b8370>, 'callbacks__train_loss__name': 'train_loss', 'callbacks__train_loss__lower_is_better': True, 'callbacks__train_loss__on_train': True, 'callbacks__valid_loss': <skorch.callbacks.scoring.PassthroughScoring object at 0x7fbba163df40>, 'callbacks__valid_loss__name': 'valid_loss', 'callbacks__valid_loss__lower_is_better': True, 'callbacks__valid_loss__on_train': False, 'callbacks__ProgressBar': <skorch.callbacks.logging.ProgressBar object at 0x7fbba0ef6a60>, 'callbacks__ProgressBar__batches_per_epoch': 'auto', 'callbacks__ProgressBar__detect_notebook': True, 'callbacks__ProgressBar__postfix_keys': ['train_loss', 'valid_loss'], 'callbacks__EpochScoring': <skorch.callbacks.scoring.EpochScoring object at 0x7fbbc09913d0>, 'callbacks__EpochScoring__scoring': <function scorer at 0x7fbc5f07e160>, 'callbacks__EpochScoring__lower_is_better': False, 'callbacks__EpochScoring__on_train': False, 'callbacks__EpochScoring__name': 'f1', 'callbacks__EpochScoring__target_extractor': <function to_numpy at 0x7fbc5f1219d0>, 'callbacks__EpochScoring__use_caching': True, 'callbacks__Checkpoint': <skorch.callbacks.training.Checkpoint object at 0x7fbbc1354fd0>, 'callbacks__Checkpoint__monitor': 'valid_loss_best', 'callbacks__Checkpoint__f_params': 'params.pt', 'callbacks__Checkpoint__f_optimizer': 'optimizer.pt', 'callbacks__Checkpoint__f_criterion': 'criterion.pt', 'callbacks__Checkpoint__f_history': 'history.json', 'callbacks__Checkpoint__f_pickle': None, 'callbacks__Checkpoint__fn_prefix': '', 'callbacks__Checkpoint__dirname': 'exp3', 'callbacks__Checkpoint__event_name': 'event_cp', 'callbacks__Checkpoint__sink': <function noop at 0x7fbc5f1203a0>, 'callbacks__EarlyStopping': <skorch.callbacks.training.EarlyStopping object at 0x7fbbc09910a0>, 'callbacks__EarlyStopping__monitor': 'valid_loss', 'callbacks__EarlyStopping__lower_is_better': True, 'callbacks__EarlyStopping__patience': 20, 'callbacks__EarlyStopping__threshold': 0.0001, 'callbacks__EarlyStopping__threshold_mode': 'rel', 'callbacks__EarlyStopping__sink': <built-in function print>, 'callbacks__print_log': <skorch.callbacks.logging.PrintLog object at 0x7fbba163ddf0>, 'callbacks__print_log__keys_ignored': None, 'callbacks__print_log__sink': <built-in function print>, 'callbacks__print_log__tablefmt': 'simple', 'callbacks__print_log__floatfmt': '.4f', 'callbacks__print_log__stralign': 'right'}"
   ]
  },
  {
   "cell_type": "code",
   "execution_count": null,
   "metadata": {},
   "outputs": [],
   "source": [
    "Best so far\n",
    "\n",
    "Hamming loss: 0.5422745978301534\n",
    "0.7398683245697636\n",
    "                                               precision    recall  f1-score   support\n",
    "\n",
    "                        Analysis and Modeling       0.35      0.96      0.52        84\n",
    "           Analysis and Modeling: 3D Modeling       0.30      0.94      0.46        71\n",
    "                            Anatomical Target       0.67      1.00      0.81       164\n",
    "           Anatomical Target: Lower Extremity       0.47      1.00      0.64       113\n",
    "     Anatomical Target: Lower Extremity - Hip       0.18      0.78      0.30        40\n",
    "    Anatomical Target: Lower Extremity - Knee       0.34      0.96      0.51        82\n",
    "                     Anatomical Target: Torso       0.14      0.63      0.24        35\n",
    "             Anatomical Target: Torso - Spine       0.09      0.43      0.15        21\n",
    "           Anatomical Target: Upper Extremity       0.14      0.58      0.23        31\n",
    "Anatomical Target: Upper Extremity - Shoulder       0.12      0.57      0.20        23\n",
    "                                      Imaging       0.56      0.99      0.72       133\n",
    "                                  Imaging: CT       0.26      0.97      0.41        59\n",
    "                                 Imaging: MRI       0.26      0.95      0.41        59\n",
    "                          Imaging: Ultrasound       0.16      0.59      0.25        32\n",
    "                                Manufacturing       0.35      0.93      0.51        83\n",
    "        Manufacturing: Additive Manufacturing       0.21      0.79      0.33        38\n",
    "           Personalized Product: Guide or Jig       0.50      0.98      0.66       120\n",
    "                Personalized Product: Implant       0.52      0.99      0.68       124\n",
    "                         Specification of Use       0.34      0.97      0.51        79\n",
    "                Specification of Use: Disease       0.13      0.50      0.20        30\n",
    "      Specification of Use: Joint Replacement       0.18      0.93      0.30        44\n",
    "                              Surgical Method       0.23      0.68      0.35        40\n",
    "\n",
    "                                    micro avg       0.33      0.91      0.49      1505\n",
    "                                    macro avg       0.30      0.82      0.43      1505\n",
    "                                 weighted avg       0.39      0.91      0.53      1505\n",
    "                                  samples avg       0.34      0.92      0.47      1505\n",
    "\n",
    "distilroberta-base-msmarco-v2\n",
    "Pipeline(steps=[('columns',\n",
    "                 ColumnTransformer(n_jobs=1,\n",
    "                                   transformers=[('cited_by',\n",
    "                                                  CountVectorizer(analyzer=<function iden at 0x7fc9bcb59430>,\n",
    "                                                                  binary=True,\n",
    "                                                                  min_df=2),\n",
    "                                                  'cited_by'),\n",
    "                                                 ('inventors',\n",
    "                                                  CountVectorizer(analyzer=<function iden at 0x7fc9bcb59430>,\n",
    "                                                                  binary=True,\n",
    "                                                                  min_df=2),\n",
    "                                                  'inventors'),\n",
    "                                                 ('embedded_cpc',\n",
    "                                                  VectorPassthrough(),\n",
    "                                                  'embedded_cpc'),\n",
    "                                                 ('embedding_v1',\n",
    "                                                  VectorPassthrough(),\n",
    "                                                  'embedding_v1'),\n",
    "                                                 ('transformer_abstract',\n",
    "                                                  TransformerFeatures(),\n",
    "                                                  'abstract'),\n",
    "                                                 ('transformer_claims',\n",
    "                                                  TransformerFeatures(),\n",
    "                                                  'claims')])),\n",
    "                ('norm', Normalizer())])\n",
    "<class 'skorch.net.NeuralNet'>[initialized](\n",
    "  module_=Net(\n",
    "    (layer1): Linear(in_features=6012, out_features=512, bias=True)\n",
    "    (dropout): Dropout(p=0.5, inplace=False)\n",
    "    (layer2): Linear(in_features=512, out_features=512, bias=True)\n",
    "    (output): Linear(in_features=512, out_features=22, bias=True)\n",
    "  ),\n",
    ")\n",
    "{'module': <class '__main__.Net'>, 'criterion': <class '__main__.LabelSmoothingCrossEntropy'>, 'optimizer': <class 'torch.optim.adamw.AdamW'>, 'lr': 1e-05, 'max_epochs': 10000, 'batch_size': 32, 'iterator_train': <class 'torch.utils.data.dataloader.DataLoader'>, 'iterator_valid': <class 'torch.utils.data.dataloader.DataLoader'>, 'dataset': <class 'skorch.dataset.Dataset'>, 'train_split': <skorch.dataset.CVSplit object at 0x7fc7d033f460>, 'callbacks': [<skorch.callbacks.logging.ProgressBar object at 0x7fc7d0381100>, <skorch.callbacks.scoring.EpochScoring object at 0x7fc7d0304370>, <skorch.callbacks.training.Checkpoint object at 0x7fc7d0381040>, <skorch.callbacks.training.EarlyStopping object at 0x7fc7d0381130>, <skorch.callbacks.training.LoadInitState object at 0x7fc7d03810d0>], 'predict_nonlinearity': <built-in method sigmoid of type object at 0x7fc88c1305a0>, 'warm_start': False, 'verbose': 1, 'device': 'cuda', 'module__input_features': 6012, 'module__output_features': 22, 'iterator_train__shuffle': True, 'iterator_train__num_workers': 4, 'callbacks__epoch_timer': <skorch.callbacks.logging.EpochTimer object at 0x7fc7c0e793d0>, 'callbacks__train_loss': <skorch.callbacks.scoring.PassthroughScoring object at 0x7fc7c1e4fa60>, 'callbacks__train_loss__name': 'train_loss', 'callbacks__train_loss__lower_is_better': True, 'callbacks__train_loss__on_train': True, 'callbacks__valid_loss': <skorch.callbacks.scoring.PassthroughScoring object at 0x7fc7c1e4f190>, 'callbacks__valid_loss__name': 'valid_loss', 'callbacks__valid_loss__lower_is_better': True, 'callbacks__valid_loss__on_train': False, 'callbacks__ProgressBar': <skorch.callbacks.logging.ProgressBar object at 0x7fc7d0381100>, 'callbacks__ProgressBar__batches_per_epoch': 'auto', 'callbacks__ProgressBar__detect_notebook': True, 'callbacks__ProgressBar__postfix_keys': ['train_loss', 'valid_loss'], 'callbacks__EpochScoring': <skorch.callbacks.scoring.EpochScoring object at 0x7fc7d0304370>, 'callbacks__EpochScoring__scoring': <function scorer at 0x7fc7d172ef70>, 'callbacks__EpochScoring__lower_is_better': False, 'callbacks__EpochScoring__on_train': False, 'callbacks__EpochScoring__name': 'f1', 'callbacks__EpochScoring__target_extractor': <function to_numpy at 0x7fc7d0383550>, 'callbacks__EpochScoring__use_caching': True, 'callbacks__Checkpoint': <skorch.callbacks.training.Checkpoint object at 0x7fc7d0381040>, 'callbacks__Checkpoint__monitor': 'valid_loss_best', 'callbacks__Checkpoint__f_params': 'params.pt', 'callbacks__Checkpoint__f_optimizer': 'optimizer.pt', 'callbacks__Checkpoint__f_criterion': 'criterion.pt', 'callbacks__Checkpoint__f_history': 'history.json', 'callbacks__Checkpoint__f_pickle': None, 'callbacks__Checkpoint__fn_prefix': '', 'callbacks__Checkpoint__dirname': 'exp2', 'callbacks__Checkpoint__event_name': 'event_cp', 'callbacks__Checkpoint__sink': <function noop at 0x7fc7d0383ee0>, 'callbacks__EarlyStopping': <skorch.callbacks.training.EarlyStopping object at 0x7fc7d0381130>, 'callbacks__EarlyStopping__monitor': 'valid_loss', 'callbacks__EarlyStopping__lower_is_better': True, 'callbacks__EarlyStopping__patience': 20, 'callbacks__EarlyStopping__threshold': 0.0001, 'callbacks__EarlyStopping__threshold_mode': 'rel', 'callbacks__EarlyStopping__sink': <built-in function print>, 'callbacks__LoadInitState': <skorch.callbacks.training.LoadInitState object at 0x7fc7d03810d0>, 'callbacks__LoadInitState__checkpoint__monitor': 'valid_loss_best', 'callbacks__LoadInitState__checkpoint__f_params': 'params.pt', 'callbacks__LoadInitState__checkpoint__f_optimizer': 'optimizer.pt', 'callbacks__LoadInitState__checkpoint__f_criterion': 'criterion.pt', 'callbacks__LoadInitState__checkpoint__f_history': 'history.json', 'callbacks__LoadInitState__checkpoint__f_pickle': None, 'callbacks__LoadInitState__checkpoint__fn_prefix': '', 'callbacks__LoadInitState__checkpoint__dirname': 'exp2', 'callbacks__LoadInitState__checkpoint__event_name': 'event_cp', 'callbacks__LoadInitState__checkpoint__sink': <function noop at 0x7fc7d0383ee0>, 'callbacks__LoadInitState__checkpoint': <skorch.callbacks.training.Checkpoint object at 0x7fc7d0381040>, 'callbacks__print_log': <skorch.callbacks.logging.PrintLog object at 0x7fc7c1e4f460>, 'callbacks__print_log__keys_ignored': None, 'callbacks__print_log__sink': <built-in function print>, 'callbacks__print_log__tablefmt': 'simple', 'callbacks__print_log__floatfmt': '.4f', 'callbacks__print_log__stralign': 'right'}\n",
    "/home/martin/anaconda3/envs/phenetics2/lib/python3.8/site-packages/sklearn/metrics/_classification.py:1221: UndefinedMetricWarning: Recall and F-score are ill-defined and being set to 0.0 in samples with no true labels. Use `zero_division` parameter to control this behavior.\n",
    "  _warn_prf(average, modifier, msg_start, len(result))"
   ]
  },
  {
   "cell_type": "code",
   "execution_count": null,
   "metadata": {},
   "outputs": [],
   "source": [
    "Hamming loss: 0.5744481855592967\n",
    "0.7836308184196901\n",
    "                                               precision    recall  f1-score   support\n",
    "\n",
    "                        Analysis and Modeling       0.36      0.96      0.52        84\n",
    "           Analysis and Modeling: 3D Modeling       0.30      0.96      0.46        71\n",
    "                            Anatomical Target       0.68      0.99      0.80       164\n",
    "           Anatomical Target: Lower Extremity       0.47      1.00      0.63       113\n",
    "     Anatomical Target: Lower Extremity - Hip       0.19      0.85      0.31        40\n",
    "    Anatomical Target: Lower Extremity - Knee       0.33      0.94      0.49        82\n",
    "                     Anatomical Target: Torso       0.15      0.77      0.25        35\n",
    "             Anatomical Target: Torso - Spine       0.09      0.67      0.15        21\n",
    "           Anatomical Target: Upper Extremity       0.15      0.81      0.25        31\n",
    "Anatomical Target: Upper Extremity - Shoulder       0.11      0.78      0.19        23\n",
    "                                      Imaging       0.56      0.98      0.71       133\n",
    "                                  Imaging: CT       0.26      0.98      0.41        59\n",
    "                                 Imaging: MRI       0.25      0.95      0.39        59\n",
    "                          Imaging: Ultrasound       0.15      0.47      0.23        32\n",
    "                                Manufacturing       0.35      0.93      0.50        83\n",
    "        Manufacturing: Additive Manufacturing       0.17      0.87      0.28        38\n",
    "           Personalized Product: Guide or Jig       0.51      0.96      0.66       120\n",
    "                Personalized Product: Implant       0.52      0.98      0.68       124\n",
    "                         Specification of Use       0.33      0.96      0.49        79\n",
    "                Specification of Use: Disease       0.13      0.33      0.18        30\n",
    "      Specification of Use: Joint Replacement       0.19      0.98      0.32        44\n",
    "                              Surgical Method       0.23      0.53      0.32        40\n",
    "\n",
    "                                    micro avg       0.32      0.91      0.47      1505\n",
    "                                    macro avg       0.29      0.85      0.42      1505\n",
    "                                 weighted avg       0.39      0.91      0.53      1505\n",
    "                                  samples avg       0.34      0.92      0.46      1505\n",
    "\n",
    "/home/martin/patentmark/patentmark-charting-app/vectors/patent-electra-v4-patent-mnr-cl/\n",
    "Pipeline(steps=[('columns',\n",
    "                 ColumnTransformer(n_jobs=1,\n",
    "                                   transformers=[('cited_by',\n",
    "                                                  CountVectorizer(analyzer=<function iden at 0x7fc9bcb59430>,\n",
    "                                                                  binary=True,\n",
    "                                                                  min_df=2),\n",
    "                                                  'cited_by'),\n",
    "                                                 ('inventors',\n",
    "                                                  CountVectorizer(analyzer=<function iden at 0x7fc9bcb59430>,\n",
    "                                                                  binary=True,\n",
    "                                                                  min_df=2),\n",
    "                                                  'inventors'),\n",
    "                                                 ('embedded_cpc',\n",
    "                                                  VectorPassthrough(),\n",
    "                                                  'embedded_cpc'),\n",
    "                                                 ('embedding_v1',\n",
    "                                                  VectorPassthrough(),\n",
    "                                                  'embedding_v1'),\n",
    "                                                 ('transformer_abstract',\n",
    "                                                  TransformerFeatures(),\n",
    "                                                  'abstract'),\n",
    "                                                 ('transformer_claims',\n",
    "                                                  TransformerFeatures(),\n",
    "                                                  'claims')])),\n",
    "                ('norm', Normalizer())])\n",
    "<class 'skorch.net.NeuralNet'>[initialized](\n",
    "  module_=Net(\n",
    "    (layer1): Linear(in_features=6012, out_features=512, bias=True)\n",
    "    (dropout): Dropout(p=0.5, inplace=False)\n",
    "    (layer2): Linear(in_features=512, out_features=512, bias=True)\n",
    "    (output): Linear(in_features=512, out_features=22, bias=True)\n",
    "  ),\n",
    ")\n",
    "{'module': <class '__main__.Net'>, 'criterion': <class '__main__.LabelSmoothingCrossEntropy'>, 'optimizer': <class 'torch.optim.adamw.AdamW'>, 'lr': 5e-05, 'max_epochs': 10000, 'batch_size': 32, 'iterator_train': <class 'torch.utils.data.dataloader.DataLoader'>, 'iterator_valid': <class 'torch.utils.data.dataloader.DataLoader'>, 'dataset': <class 'skorch.dataset.Dataset'>, 'train_split': <skorch.dataset.CVSplit object at 0x7fc7d033f460>, 'callbacks': [<skorch.callbacks.logging.ProgressBar object at 0x7fc7d16d18e0>, <skorch.callbacks.scoring.EpochScoring object at 0x7fc7d16d1610>, <skorch.callbacks.training.Checkpoint object at 0x7fc874db38e0>, <skorch.callbacks.training.EarlyStopping object at 0x7fc7d16d17f0>, <skorch.callbacks.training.LoadInitState object at 0x7fc88ca963a0>], 'predict_nonlinearity': <built-in method sigmoid of type object at 0x7fc88c1305a0>, 'warm_start': False, 'verbose': 1, 'device': 'cuda', 'module__input_features': 6012, 'module__output_features': 22, 'iterator_train__shuffle': True, 'iterator_train__num_workers': 4, 'callbacks__epoch_timer': <skorch.callbacks.logging.EpochTimer object at 0x7fc874d5e2b0>, 'callbacks__train_loss': <skorch.callbacks.scoring.PassthroughScoring object at 0x7fc79ee405b0>, 'callbacks__train_loss__name': 'train_loss', 'callbacks__train_loss__lower_is_better': True, 'callbacks__train_loss__on_train': True, 'callbacks__valid_loss': <skorch.callbacks.scoring.PassthroughScoring object at 0x7fc874db3d30>, 'callbacks__valid_loss__name': 'valid_loss', 'callbacks__valid_loss__lower_is_better': True, 'callbacks__valid_loss__on_train': False, 'callbacks__ProgressBar': <skorch.callbacks.logging.ProgressBar object at 0x7fc7d16d18e0>, 'callbacks__ProgressBar__batches_per_epoch': 'auto', 'callbacks__ProgressBar__detect_notebook': True, 'callbacks__ProgressBar__postfix_keys': ['train_loss', 'valid_loss'], 'callbacks__EpochScoring': <skorch.callbacks.scoring.EpochScoring object at 0x7fc7d16d1610>, 'callbacks__EpochScoring__scoring': <function scorer at 0x7fc85dcba310>, 'callbacks__EpochScoring__lower_is_better': False, 'callbacks__EpochScoring__on_train': False, 'callbacks__EpochScoring__name': 'f1', 'callbacks__EpochScoring__target_extractor': <function to_numpy at 0x7fc7d0383550>, 'callbacks__EpochScoring__use_caching': True, 'callbacks__Checkpoint': <skorch.callbacks.training.Checkpoint object at 0x7fc874db38e0>, 'callbacks__Checkpoint__monitor': 'valid_loss_best', 'callbacks__Checkpoint__f_params': 'params.pt', 'callbacks__Checkpoint__f_optimizer': 'optimizer.pt', 'callbacks__Checkpoint__f_criterion': 'criterion.pt', 'callbacks__Checkpoint__f_history': 'history.json', 'callbacks__Checkpoint__f_pickle': None, 'callbacks__Checkpoint__fn_prefix': '', 'callbacks__Checkpoint__dirname': 'exp2', 'callbacks__Checkpoint__event_name': 'event_cp', 'callbacks__Checkpoint__sink': <function noop at 0x7fc7d0383ee0>, 'callbacks__EarlyStopping': <skorch.callbacks.training.EarlyStopping object at 0x7fc7d16d17f0>, 'callbacks__EarlyStopping__monitor': 'valid_loss', 'callbacks__EarlyStopping__lower_is_better': True, 'callbacks__EarlyStopping__patience': 20, 'callbacks__EarlyStopping__threshold': 0.0001, 'callbacks__EarlyStopping__threshold_mode': 'rel', 'callbacks__EarlyStopping__sink': <built-in function print>, 'callbacks__LoadInitState': <skorch.callbacks.training.LoadInitState object at 0x7fc88ca963a0>, 'callbacks__LoadInitState__checkpoint__monitor': 'valid_loss_best', 'callbacks__LoadInitState__checkpoint__f_params': 'params.pt', 'callbacks__LoadInitState__checkpoint__f_optimizer': 'optimizer.pt', 'callbacks__LoadInitState__checkpoint__f_criterion': 'criterion.pt', 'callbacks__LoadInitState__checkpoint__f_history': 'history.json', 'callbacks__LoadInitState__checkpoint__f_pickle': None, 'callbacks__LoadInitState__checkpoint__fn_prefix': '', 'callbacks__LoadInitState__checkpoint__dirname': 'exp2', 'callbacks__LoadInitState__checkpoint__event_name': 'event_cp', 'callbacks__LoadInitState__checkpoint__sink': <function noop at 0x7fc7d0383ee0>, 'callbacks__LoadInitState__checkpoint': <skorch.callbacks.training.Checkpoint object at 0x7fc874db38e0>, 'callbacks__print_log': <skorch.callbacks.logging.PrintLog object at 0x7fc7d03678b0>, 'callbacks__print_log__keys_ignored': None, 'callbacks__print_log__sink': <built-in function print>, 'callbacks__print_log__tablefmt': 'simple', 'callbacks__print_log__floatfmt': '.4f', 'callbacks__print_log__stralign': 'right'}\n",
    "/home/martin/anaconda3/envs/phenetics2/lib/python3.8/site-packages/sklearn/metrics/_classification.py:1221: UndefinedMetricWarning: Recall and F-score are ill-defined and being set to 0.0 in samples with no true labels. Use `zero_division` parameter to control this behavior.\n",
    "  _warn_prf(average, modifier, msg_start, len(result))"
   ]
  },
  {
   "cell_type": "code",
   "execution_count": null,
   "metadata": {},
   "outputs": [],
   "source": [
    "\n",
    "\n",
    "Hamming loss: 0.522633744855967\n",
    "0.7151155295024978\n",
    "                                               precision    recall  f1-score   support\n",
    "\n",
    "                        Analysis and Modeling       0.36      0.94      0.52        84\n",
    "           Analysis and Modeling: 3D Modeling       0.29      0.89      0.44        71\n",
    "                            Anatomical Target       0.68      0.96      0.80       164\n",
    "           Anatomical Target: Lower Extremity       0.48      0.97      0.65       113\n",
    "     Anatomical Target: Lower Extremity - Hip       0.19      0.82      0.31        40\n",
    "    Anatomical Target: Lower Extremity - Knee       0.35      0.91      0.50        82\n",
    "                     Anatomical Target: Torso       0.16      0.69      0.26        35\n",
    "             Anatomical Target: Torso - Spine       0.08      0.48      0.14        21\n",
    "           Anatomical Target: Upper Extremity       0.16      0.68      0.25        31\n",
    "Anatomical Target: Upper Extremity - Shoulder       0.12      0.61      0.20        23\n",
    "                                      Imaging       0.56      0.98      0.71       133\n",
    "                                  Imaging: CT       0.28      0.97      0.43        59\n",
    "                                 Imaging: MRI       0.27      0.93      0.41        59\n",
    "                          Imaging: Ultrasound       0.11      0.31      0.17        32\n",
    "                                Manufacturing       0.35      0.92      0.51        83\n",
    "        Manufacturing: Additive Manufacturing       0.19      0.74      0.31        38\n",
    "           Personalized Product: Guide or Jig       0.51      0.93      0.66       120\n",
    "                Personalized Product: Implant       0.52      0.99      0.68       124\n",
    "                         Specification of Use       0.33      0.95      0.49        79\n",
    "                Specification of Use: Disease       0.14      0.37      0.20        30\n",
    "      Specification of Use: Joint Replacement       0.19      0.91      0.31        44\n",
    "                              Surgical Method       0.27      0.55      0.36        40\n",
    "\n",
    "                                    micro avg       0.34      0.88      0.49      1505\n",
    "                                    macro avg       0.30      0.79      0.42      1505\n",
    "                                 weighted avg       0.39      0.88      0.53      1505\n",
    "                                  samples avg       0.35      0.89      0.48      1505\n",
    "bertForPatents/\n",
    "Pipeline(steps=[('columns',\n",
    "                 ColumnTransformer(n_jobs=1,\n",
    "                                   transformers=[('cited_by',\n",
    "                                                  CountVectorizer(analyzer=<function iden at 0x7fd77b563d30>,\n",
    "                                                                  binary=True,\n",
    "                                                                  min_df=2),\n",
    "                                                  'cited_by'),\n",
    "                                                 ('inventors',\n",
    "                                                  CountVectorizer(analyzer=<function iden at 0x7fd77b563d30>,\n",
    "                                                                  binary=True,\n",
    "                                                                  min_df=2),\n",
    "                                                  'inventors'),\n",
    "                                                 ('embedded_cpc',\n",
    "                                                  VectorPassthrough(),\n",
    "                                                  'embedded_cpc'),\n",
    "                                                 ('embedding_v1',\n",
    "                                                  VectorPassthrough(),\n",
    "                                                  'embedding_v1'),\n",
    "                                                 ('transformer_abstract',\n",
    "                                                  TransformerFeatures(),\n",
    "                                                  'abstract'),\n",
    "                                                 ('transformer_claims',\n",
    "                                                  TransformerFeatures(),\n",
    "                                                  'claims')])),\n",
    "                ('norm', Normalizer())])\n",
    "<class 'skorch.net.NeuralNet'>[initialized](\n",
    "  module_=Net(\n",
    "    (layer1): Linear(in_features=8572, out_features=512, bias=True)\n",
    "    (dropout): Dropout(p=0.5, inplace=False)\n",
    "    (bn): BatchNorm1d(512, eps=1e-05, momentum=0.1, affine=True, track_running_stats=True)\n",
    "    (layer2): Linear(in_features=512, out_features=512, bias=True)\n",
    "    (output): Linear(in_features=512, out_features=22, bias=True)\n",
    "  ),\n",
    ")\n"
   ]
  },
  {
   "cell_type": "code",
   "execution_count": null,
   "metadata": {},
   "outputs": [],
   "source": [
    "Hamming loss: 0.5744481855592967\n",
    "0.7836308184196901\n",
    "                                               precision    recall  f1-score   support\n",
    "\n",
    "                        Analysis and Modeling       0.36      0.96      0.52        84\n",
    "           Analysis and Modeling: 3D Modeling       0.30      0.96      0.46        71\n",
    "                            Anatomical Target       0.68      0.99      0.80       164\n",
    "           Anatomical Target: Lower Extremity       0.47      1.00      0.63       113\n",
    "     Anatomical Target: Lower Extremity - Hip       0.19      0.85      0.31        40\n",
    "    Anatomical Target: Lower Extremity - Knee       0.33      0.94      0.49        82\n",
    "                     Anatomical Target: Torso       0.15      0.77      0.25        35\n",
    "             Anatomical Target: Torso - Spine       0.09      0.67      0.15        21\n",
    "           Anatomical Target: Upper Extremity       0.15      0.81      0.25        31\n",
    "Anatomical Target: Upper Extremity - Shoulder       0.11      0.78      0.19        23\n",
    "                                      Imaging       0.56      0.98      0.71       133\n",
    "                                  Imaging: CT       0.26      0.98      0.41        59\n",
    "                                 Imaging: MRI       0.25      0.95      0.39        59\n",
    "                          Imaging: Ultrasound       0.15      0.47      0.23        32\n",
    "                                Manufacturing       0.35      0.93      0.50        83\n",
    "        Manufacturing: Additive Manufacturing       0.17      0.87      0.28        38\n",
    "           Personalized Product: Guide or Jig       0.51      0.96      0.66       120\n",
    "                Personalized Product: Implant       0.52      0.98      0.68       124\n",
    "                         Specification of Use       0.33      0.96      0.49        79\n",
    "                Specification of Use: Disease       0.13      0.33      0.18        30\n",
    "      Specification of Use: Joint Replacement       0.19      0.98      0.32        44\n",
    "                              Surgical Method       0.23      0.53      0.32        40\n",
    "\n",
    "                                    micro avg       0.32      0.91      0.47      1505\n",
    "                                    macro avg       0.29      0.85      0.42      1505\n",
    "                                 weighted avg       0.39      0.91      0.53      1505\n",
    "                                  samples avg       0.34      0.92      0.46      1505\n",
    "\n",
    "/home/martin/patentmark/patentmark-charting-app/vectors/patent-electra-v4-patent-mnr-cl/\n",
    "Pipeline(steps=[('columns',\n",
    "                 ColumnTransformer(n_jobs=1,\n",
    "                                   transformers=[('cited_by',\n",
    "                                                  CountVectorizer(analyzer=<function iden at 0x7fc9bcb59430>,\n",
    "                                                                  binary=True,\n",
    "                                                                  min_df=2),\n",
    "                                                  'cited_by'),\n",
    "                                                 ('inventors',\n",
    "                                                  CountVectorizer(analyzer=<function iden at 0x7fc9bcb59430>,\n",
    "                                                                  binary=True,\n",
    "                                                                  min_df=2),\n",
    "                                                  'inventors'),\n",
    "                                                 ('embedded_cpc',\n",
    "                                                  VectorPassthrough(),\n",
    "                                                  'embedded_cpc'),\n",
    "                                                 ('embedding_v1',\n",
    "                                                  VectorPassthrough(),\n",
    "                                                  'embedding_v1'),\n",
    "                                                 ('transformer_abstract',\n",
    "                                                  TransformerFeatures(),\n",
    "                                                  'abstract'),\n",
    "                                                 ('transformer_claims',\n",
    "                                                  TransformerFeatures(),\n",
    "                                                  'claims')])),\n",
    "                ('norm', Normalizer())])\n",
    "<class 'skorch.net.NeuralNet'>[initialized](\n",
    "  module_=Net(\n",
    "    (layer1): Linear(in_features=6012, out_features=512, bias=True)\n",
    "    (dropout): Dropout(p=0.5, inplace=False)\n",
    "    (layer2): Linear(in_features=512, out_features=512, bias=True)\n",
    "    (output): Linear(in_features=512, out_features=22, bias=True)\n",
    "  ),\n",
    ")\n",
    "{'module': <class '__main__.Net'>, 'criterion': <class '__main__.LabelSmoothingCrossEntropy'>, 'optimizer': <class 'torch.optim.adamw.AdamW'>, 'lr': 5e-05, 'max_epochs': 10000, 'batch_size': 32, 'iterator_train': <class 'torch.utils.data.dataloader.DataLoader'>, 'iterator_valid': <class 'torch.utils.data.dataloader.DataLoader'>, 'dataset': <class 'skorch.dataset.Dataset'>, 'train_split': <skorch.dataset.CVSplit object at 0x7fc7d033f460>, 'callbacks': [<skorch.callbacks.logging.ProgressBar object at 0x7fc7d16d18e0>, <skorch.callbacks.scoring.EpochScoring object at 0x7fc7d16d1610>, <skorch.callbacks.training.Checkpoint object at 0x7fc874db38e0>, <skorch.callbacks.training.EarlyStopping object at 0x7fc7d16d17f0>, <skorch.callbacks.training.LoadInitState object at 0x7fc88ca963a0>], 'predict_nonlinearity': <built-in method sigmoid of type object at 0x7fc88c1305a0>, 'warm_start': False, 'verbose': 1, 'device': 'cuda', 'module__input_features': 6012, 'module__output_features': 22, 'iterator_train__shuffle': True, 'iterator_train__num_workers': 4, 'callbacks__epoch_timer': <skorch.callbacks.logging.EpochTimer object at 0x7fc874d5e2b0>, 'callbacks__train_loss': <skorch.callbacks.scoring.PassthroughScoring object at 0x7fc79ee405b0>, 'callbacks__train_loss__name': 'train_loss', 'callbacks__train_loss__lower_is_better': True, 'callbacks__train_loss__on_train': True, 'callbacks__valid_loss': <skorch.callbacks.scoring.PassthroughScoring object at 0x7fc874db3d30>, 'callbacks__valid_loss__name': 'valid_loss', 'callbacks__valid_loss__lower_is_better': True, 'callbacks__valid_loss__on_train': False, 'callbacks__ProgressBar': <skorch.callbacks.logging.ProgressBar object at 0x7fc7d16d18e0>, 'callbacks__ProgressBar__batches_per_epoch': 'auto', 'callbacks__ProgressBar__detect_notebook': True, 'callbacks__ProgressBar__postfix_keys': ['train_loss', 'valid_loss'], 'callbacks__EpochScoring': <skorch.callbacks.scoring.EpochScoring object at 0x7fc7d16d1610>, 'callbacks__EpochScoring__scoring': <function scorer at 0x7fc85dcba310>, 'callbacks__EpochScoring__lower_is_better': False, 'callbacks__EpochScoring__on_train': False, 'callbacks__EpochScoring__name': 'f1', 'callbacks__EpochScoring__target_extractor': <function to_numpy at 0x7fc7d0383550>, 'callbacks__EpochScoring__use_caching': True, 'callbacks__Checkpoint': <skorch.callbacks.training.Checkpoint object at 0x7fc874db38e0>, 'callbacks__Checkpoint__monitor': 'valid_loss_best', 'callbacks__Checkpoint__f_params': 'params.pt', 'callbacks__Checkpoint__f_optimizer': 'optimizer.pt', 'callbacks__Checkpoint__f_criterion': 'criterion.pt', 'callbacks__Checkpoint__f_history': 'history.json', 'callbacks__Checkpoint__f_pickle': None, 'callbacks__Checkpoint__fn_prefix': '', 'callbacks__Checkpoint__dirname': 'exp2', 'callbacks__Checkpoint__event_name': 'event_cp', 'callbacks__Checkpoint__sink': <function noop at 0x7fc7d0383ee0>, 'callbacks__EarlyStopping': <skorch.callbacks.training.EarlyStopping object at 0x7fc7d16d17f0>, 'callbacks__EarlyStopping__monitor': 'valid_loss', 'callbacks__EarlyStopping__lower_is_better': True, 'callbacks__EarlyStopping__patience': 20, 'callbacks__EarlyStopping__threshold': 0.0001, 'callbacks__EarlyStopping__threshold_mode': 'rel', 'callbacks__EarlyStopping__sink': <built-in function print>, 'callbacks__LoadInitState': <skorch.callbacks.training.LoadInitState object at 0x7fc88ca963a0>, 'callbacks__LoadInitState__checkpoint__monitor': 'valid_loss_best', 'callbacks__LoadInitState__checkpoint__f_params': 'params.pt', 'callbacks__LoadInitState__checkpoint__f_optimizer': 'optimizer.pt', 'callbacks__LoadInitState__checkpoint__f_criterion': 'criterion.pt', 'callbacks__LoadInitState__checkpoint__f_history': 'history.json', 'callbacks__LoadInitState__checkpoint__f_pickle': None, 'callbacks__LoadInitState__checkpoint__fn_prefix': '', 'callbacks__LoadInitState__checkpoint__dirname': 'exp2', 'callbacks__LoadInitState__checkpoint__event_name': 'event_cp', 'callbacks__LoadInitState__checkpoint__sink': <function noop at 0x7fc7d0383ee0>, 'callbacks__LoadInitState__checkpoint': <skorch.callbacks.training.Checkpoint object at 0x7fc874db38e0>, 'callbacks__print_log': <skorch.callbacks.logging.PrintLog object at 0x7fc7d03678b0>, 'callbacks__print_log__keys_ignored': None, 'callbacks__print_log__sink': <built-in function print>, 'callbacks__print_log__tablefmt': 'simple', 'callbacks__print_log__floatfmt': '.4f', 'callbacks__print_log__stralign': 'right'}"
   ]
  },
  {
   "cell_type": "code",
   "execution_count": null,
   "metadata": {},
   "outputs": [],
   "source": [
    "Hamming loss: 0.5422745978301534\n",
    "0.7398683245697636\n",
    "                                               precision    recall  f1-score   support\n",
    "\n",
    "                        Analysis and Modeling       0.35      0.96      0.52        84\n",
    "           Analysis and Modeling: 3D Modeling       0.30      0.94      0.46        71\n",
    "                            Anatomical Target       0.67      1.00      0.81       164\n",
    "           Anatomical Target: Lower Extremity       0.47      1.00      0.64       113\n",
    "     Anatomical Target: Lower Extremity - Hip       0.18      0.78      0.30        40\n",
    "    Anatomical Target: Lower Extremity - Knee       0.34      0.96      0.51        82\n",
    "                     Anatomical Target: Torso       0.14      0.63      0.24        35\n",
    "             Anatomical Target: Torso - Spine       0.09      0.43      0.15        21\n",
    "           Anatomical Target: Upper Extremity       0.14      0.58      0.23        31\n",
    "Anatomical Target: Upper Extremity - Shoulder       0.12      0.57      0.20        23\n",
    "                                      Imaging       0.56      0.99      0.72       133\n",
    "                                  Imaging: CT       0.26      0.97      0.41        59\n",
    "                                 Imaging: MRI       0.26      0.95      0.41        59\n",
    "                          Imaging: Ultrasound       0.16      0.59      0.25        32\n",
    "                                Manufacturing       0.35      0.93      0.51        83\n",
    "        Manufacturing: Additive Manufacturing       0.21      0.79      0.33        38\n",
    "           Personalized Product: Guide or Jig       0.50      0.98      0.66       120\n",
    "                Personalized Product: Implant       0.52      0.99      0.68       124\n",
    "                         Specification of Use       0.34      0.97      0.51        79\n",
    "                Specification of Use: Disease       0.13      0.50      0.20        30\n",
    "      Specification of Use: Joint Replacement       0.18      0.93      0.30        44\n",
    "                              Surgical Method       0.23      0.68      0.35        40\n",
    "\n",
    "                                    micro avg       0.33      0.91      0.49      1505\n",
    "                                    macro avg       0.30      0.82      0.43      1505\n",
    "                                 weighted avg       0.39      0.91      0.53      1505\n",
    "                                  samples avg       0.34      0.92      0.47      1505\n",
    "\n",
    "distilroberta-base-msmarco-v2\n",
    "Pipeline(steps=[('columns',\n",
    "                 ColumnTransformer(n_jobs=1,\n",
    "                                   transformers=[('cited_by',\n",
    "                                                  CountVectorizer(analyzer=<function iden at 0x7fc9bcb59430>,\n",
    "                                                                  binary=True,\n",
    "                                                                  min_df=2),\n",
    "                                                  'cited_by'),\n",
    "                                                 ('inventors',\n",
    "                                                  CountVectorizer(analyzer=<function iden at 0x7fc9bcb59430>,\n",
    "                                                                  binary=True,\n",
    "                                                                  min_df=2),\n",
    "                                                  'inventors'),\n",
    "                                                 ('embedded_cpc',\n",
    "                                                  VectorPassthrough(),\n",
    "                                                  'embedded_cpc'),\n",
    "                                                 ('embedding_v1',\n",
    "                                                  VectorPassthrough(),\n",
    "                                                  'embedding_v1'),\n",
    "                                                 ('transformer_abstract',\n",
    "                                                  TransformerFeatures(),\n",
    "                                                  'abstract'),\n",
    "                                                 ('transformer_claims',\n",
    "                                                  TransformerFeatures(),\n",
    "                                                  'claims')])),\n",
    "                ('norm', Normalizer())])\n",
    "<class 'skorch.net.NeuralNet'>[initialized](\n",
    "  module_=Net(\n",
    "    (layer1): Linear(in_features=6012, out_features=512, bias=True)\n",
    "    (dropout): Dropout(p=0.5, inplace=False)\n",
    "    (layer2): Linear(in_features=512, out_features=512, bias=True)\n",
    "    (output): Linear(in_features=512, out_features=22, bias=True)\n",
    "  ),\n",
    ")\n",
    "{'module': <class '__main__.Net'>, 'criterion': <class '__main__.LabelSmoothingCrossEntropy'>, 'optimizer': <class 'torch.optim.adamw.AdamW'>, 'lr': 1e-05, 'max_epochs': 10000, 'batch_size': 32, 'iterator_train': <class 'torch.utils.data.dataloader.DataLoader'>, 'iterator_valid': <class 'torch.utils.data.dataloader.DataLoader'>, 'dataset': <class 'skorch.dataset.Dataset'>, 'train_split': <skorch.dataset.CVSplit object at 0x7fc7d033f460>, 'callbacks': [<skorch.callbacks.logging.ProgressBar object at 0x7fc7d0381100>, <skorch.callbacks.scoring.EpochScoring object at 0x7fc7d0304370>, <skorch.callbacks.training.Checkpoint object at 0x7fc7d0381040>, <skorch.callbacks.training.EarlyStopping object at 0x7fc7d0381130>, <skorch.callbacks.training.LoadInitState object at 0x7fc7d03810d0>], 'predict_nonlinearity': <built-in method sigmoid of type object at 0x7fc88c1305a0>, 'warm_start': False, 'verbose': 1, 'device': 'cuda', 'module__input_features': 6012, 'module__output_features': 22, 'iterator_train__shuffle': True, 'iterator_train__num_workers': 4, 'callbacks__epoch_timer': <skorch.callbacks.logging.EpochTimer object at 0x7fc7c0e793d0>, 'callbacks__train_loss': <skorch.callbacks.scoring.PassthroughScoring object at 0x7fc7c1e4fa60>, 'callbacks__train_loss__name': 'train_loss', 'callbacks__train_loss__lower_is_better': True, 'callbacks__train_loss__on_train': True, 'callbacks__valid_loss': <skorch.callbacks.scoring.PassthroughScoring object at 0x7fc7c1e4f190>, 'callbacks__valid_loss__name': 'valid_loss', 'callbacks__valid_loss__lower_is_better': True, 'callbacks__valid_loss__on_train': False, 'callbacks__ProgressBar': <skorch.callbacks.logging.ProgressBar object at 0x7fc7d0381100>, 'callbacks__ProgressBar__batches_per_epoch': 'auto', 'callbacks__ProgressBar__detect_notebook': True, 'callbacks__ProgressBar__postfix_keys': ['train_loss', 'valid_loss'], 'callbacks__EpochScoring': <skorch.callbacks.scoring.EpochScoring object at 0x7fc7d0304370>, 'callbacks__EpochScoring__scoring': <function scorer at 0x7fc7d172ef70>, 'callbacks__EpochScoring__lower_is_better': False, 'callbacks__EpochScoring__on_train': False, 'callbacks__EpochScoring__name': 'f1', 'callbacks__EpochScoring__target_extractor': <function to_numpy at 0x7fc7d0383550>, 'callbacks__EpochScoring__use_caching': True, 'callbacks__Checkpoint': <skorch.callbacks.training.Checkpoint object at 0x7fc7d0381040>, 'callbacks__Checkpoint__monitor': 'valid_loss_best', 'callbacks__Checkpoint__f_params': 'params.pt', 'callbacks__Checkpoint__f_optimizer': 'optimizer.pt', 'callbacks__Checkpoint__f_criterion': 'criterion.pt', 'callbacks__Checkpoint__f_history': 'history.json', 'callbacks__Checkpoint__f_pickle': None, 'callbacks__Checkpoint__fn_prefix': '', 'callbacks__Checkpoint__dirname': 'exp2', 'callbacks__Checkpoint__event_name': 'event_cp', 'callbacks__Checkpoint__sink': <function noop at 0x7fc7d0383ee0>, 'callbacks__EarlyStopping': <skorch.callbacks.training.EarlyStopping object at 0x7fc7d0381130>, 'callbacks__EarlyStopping__monitor': 'valid_loss', 'callbacks__EarlyStopping__lower_is_better': True, 'callbacks__EarlyStopping__patience': 20, 'callbacks__EarlyStopping__threshold': 0.0001, 'callbacks__EarlyStopping__threshold_mode': 'rel', 'callbacks__EarlyStopping__sink': <built-in function print>, 'callbacks__LoadInitState': <skorch.callbacks.training.LoadInitState object at 0x7fc7d03810d0>, 'callbacks__LoadInitState__checkpoint__monitor': 'valid_loss_best', 'callbacks__LoadInitState__checkpoint__f_params': 'params.pt', 'callbacks__LoadInitState__checkpoint__f_optimizer': 'optimizer.pt', 'callbacks__LoadInitState__checkpoint__f_criterion': 'criterion.pt', 'callbacks__LoadInitState__checkpoint__f_history': 'history.json', 'callbacks__LoadInitState__checkpoint__f_pickle': None, 'callbacks__LoadInitState__checkpoint__fn_prefix': '', 'callbacks__LoadInitState__checkpoint__dirname': 'exp2', 'callbacks__LoadInitState__checkpoint__event_name': 'event_cp', 'callbacks__LoadInitState__checkpoint__sink': <function noop at 0x7fc7d0383ee0>, 'callbacks__LoadInitState__checkpoint': <skorch.callbacks.training.Checkpoint object at 0x7fc7d0381040>, 'callbacks__print_log': <skorch.callbacks.logging.PrintLog object at 0x7fc7c1e4f460>, 'callbacks__print_log__keys_ignored': None, 'callbacks__print_log__sink': <built-in function print>, 'callbacks__print_log__tablefmt': 'simple', 'callbacks__print_log__floatfmt': '.4f', 'callbacks__print_log__stralign': 'right'}"
   ]
  },
  {
   "cell_type": "code",
   "execution_count": null,
   "metadata": {},
   "outputs": [],
   "source": []
  },
  {
   "cell_type": "code",
   "execution_count": null,
   "metadata": {},
   "outputs": [],
   "source": [
    "Using BertForPatents, dropout =0.5, bottleneck = 512, pre normalization\n",
    "Hamming loss: 0.6380471380471381\n",
    "                                               precision    recall  f1-score   support\n",
    "\n",
    "                        Analysis and Modeling       0.35      1.00      0.52        84\n",
    "           Analysis and Modeling: 3D Modeling       0.30      1.00      0.46        71\n",
    "                            Anatomical Target       0.67      1.00      0.81       164\n",
    "           Anatomical Target: Lower Extremity       0.47      1.00      0.63       113\n",
    "     Anatomical Target: Lower Extremity - Hip       0.18      0.97      0.30        40\n",
    "    Anatomical Target: Lower Extremity - Knee       0.34      1.00      0.50        82\n",
    "                     Anatomical Target: Torso       0.15      1.00      0.27        35\n",
    "             Anatomical Target: Torso - Spine       0.09      1.00      0.17        21\n",
    "           Anatomical Target: Upper Extremity       0.13      0.87      0.23        31\n",
    "Anatomical Target: Upper Extremity - Shoulder       0.10      0.87      0.19        23\n",
    "                                      Imaging       0.55      1.00      0.71       133\n",
    "                                  Imaging: CT       0.25      1.00      0.40        59\n",
    "                                 Imaging: MRI       0.25      1.00      0.40        59\n",
    "                          Imaging: Ultrasound       0.14      0.53      0.22        32\n",
    "                                Manufacturing       0.34      1.00      0.51        83\n",
    "        Manufacturing: Additive Manufacturing       0.16      0.95      0.28        38\n",
    "           Personalized Product: Guide or Jig       0.49      1.00      0.66       120\n",
    "                Personalized Product: Implant       0.51      1.00      0.68       124\n",
    "                         Specification of Use       0.33      1.00      0.49        79\n",
    "                Specification of Use: Disease       0.12      0.50      0.19        30\n",
    "      Specification of Use: Joint Replacement       0.18      1.00      0.31        44\n",
    "                              Surgical Method       0.20      0.72      0.32        40\n",
    "\n",
    "                                    micro avg       0.30      0.97      0.46      1505\n",
    "                                    macro avg       0.29      0.93      0.42      1505\n",
    "                                 weighted avg       0.38      0.97      0.53      1505\n",
    "                                  samples avg       0.31      0.97      0.45      1505"
   ]
  },
  {
   "cell_type": "code",
   "execution_count": null,
   "metadata": {},
   "outputs": [],
   "source": [
    "Abstract + Claims + CPC Codes\n",
    "\n",
    "Hamming loss: 0.7010849233071456\n",
    "                                               precision    recall  f1-score   support\n",
    "\n",
    "                        Analysis and Modeling       0.35      1.00      0.52        84\n",
    "           Analysis and Modeling: 3D Modeling       0.30      1.00      0.46        71\n",
    "                            Anatomical Target       0.67      1.00      0.81       164\n",
    "           Anatomical Target: Lower Extremity       0.47      1.00      0.63       113\n",
    "     Anatomical Target: Lower Extremity - Hip       0.17      1.00      0.29        40\n",
    "    Anatomical Target: Lower Extremity - Knee       0.34      1.00      0.50        82\n",
    "                     Anatomical Target: Torso       0.15      1.00      0.26        35\n",
    "             Anatomical Target: Torso - Spine       0.09      1.00      0.16        21\n",
    "           Anatomical Target: Upper Extremity       0.13      1.00      0.23        31\n",
    "Anatomical Target: Upper Extremity - Shoulder       0.10      1.00      0.18        23\n",
    "                                      Imaging       0.56      1.00      0.72       133\n",
    "                                  Imaging: CT       0.25      1.00      0.40        59\n",
    "                                 Imaging: MRI       0.25      1.00      0.40        59\n",
    "                          Imaging: Ultrasound       0.14      1.00      0.24        32\n",
    "                                Manufacturing       0.35      1.00      0.51        83\n",
    "        Manufacturing: Additive Manufacturing       0.16      1.00      0.28        38\n",
    "           Personalized Product: Guide or Jig       0.49      1.00      0.66       120\n",
    "                Personalized Product: Implant       0.52      1.00      0.69       124\n",
    "                         Specification of Use       0.33      1.00      0.50        79\n",
    "                Specification of Use: Disease       0.13      1.00      0.22        30\n",
    "      Specification of Use: Joint Replacement       0.19      1.00      0.31        44\n",
    "                              Surgical Method       0.16      1.00      0.28        40\n",
    "\n",
    "                                    micro avg       0.29      1.00      0.45      1505\n",
    "                                    macro avg       0.29      1.00      0.42      1505\n",
    "                                 weighted avg       0.38      1.00      0.53      1505\n",
    "                                  samples avg       0.30      1.00      0.44      1505"
   ]
  },
  {
   "cell_type": "code",
   "execution_count": null,
   "metadata": {},
   "outputs": [],
   "source": []
  },
  {
   "cell_type": "code",
   "execution_count": null,
   "metadata": {},
   "outputs": [],
   "source": [
    "Abstract Only\n",
    "{'estimator__C': 1.0, 'estimator__break_ties': False, 'estimator__cache_size': 200, 'estimator__class_weight': 'balanced', 'estimator__coef0': 0.0, 'estimator__decision_function_shape': 'ovr', 'estimator__degree': 3, 'estimator__gamma': 'scale', 'estimator__kernel': 'rbf', 'estimator__max_iter': -1, 'estimator__probability': False, 'estimator__random_state': None, 'estimator__shrinking': True, 'estimator__tol': 0.001, 'estimator__verbose': True, 'estimator': SVC(class_weight='balanced', verbose=True), 'n_jobs': -1}\n",
    "Hamming loss: 0.39206883651328095\n",
    "                                               precision    recall  f1-score   support\n",
    "\n",
    "                        Analysis and Modeling       0.40      0.69      0.51        84\n",
    "           Analysis and Modeling: 3D Modeling       0.33      0.70      0.45        71\n",
    "                            Anatomical Target       0.73      0.86      0.79       164\n",
    "           Anatomical Target: Lower Extremity       0.51      0.57      0.54       113\n",
    "     Anatomical Target: Lower Extremity - Hip       0.18      0.57      0.28        40\n",
    "    Anatomical Target: Lower Extremity - Knee       0.38      0.26      0.31        82\n",
    "                     Anatomical Target: Torso       0.16      0.66      0.26        35\n",
    "             Anatomical Target: Torso - Spine       0.07      0.14      0.09        21\n",
    "           Anatomical Target: Upper Extremity       0.15      0.52      0.23        31\n",
    "Anatomical Target: Upper Extremity - Shoulder       0.12      0.52      0.19        23\n",
    "                                      Imaging       0.64      0.81      0.71       133\n",
    "                                  Imaging: CT       0.29      0.41      0.34        59\n",
    "                                 Imaging: MRI       0.31      0.15      0.20        59\n",
    "                          Imaging: Ultrasound       0.14      0.12      0.13        32\n",
    "                                Manufacturing       0.37      0.53      0.44        83\n",
    "        Manufacturing: Additive Manufacturing       0.19      0.55      0.29        38\n",
    "           Personalized Product: Guide or Jig       0.56      0.70      0.62       120\n",
    "                Personalized Product: Implant       0.61      0.47      0.53       124\n",
    "                         Specification of Use       0.36      0.39      0.37        79\n",
    "                Specification of Use: Disease       0.16      0.13      0.15        30\n",
    "      Specification of Use: Joint Replacement       0.21      0.68      0.32        44\n",
    "                              Surgical Method       0.37      0.25      0.30        40\n",
    "\n",
    "                                    micro avg       0.37      0.56      0.44      1505\n",
    "                                    macro avg       0.33      0.49      0.36      1505\n",
    "                                 weighted avg       0.43      0.56      0.47      1505\n",
    "                                  samples avg       0.39      0.57      0.43      1505"
   ]
  },
  {
   "cell_type": "code",
   "execution_count": null,
   "metadata": {},
   "outputs": [],
   "source": [
    "Claims Only\n",
    "{'estimator__C': 1.0, 'estimator__break_ties': False, 'estimator__cache_size': 200, 'estimator__class_weight': 'balanced', 'estimator__coef0': 0.0, 'estimator__decision_function_shape': 'ovr', 'estimator__degree': 3, 'estimator__gamma': 'scale', 'estimator__kernel': 'rbf', 'estimator__max_iter': -1, 'estimator__probability': False, 'estimator__random_state': None, 'estimator__shrinking': True, 'estimator__tol': 0.001, 'estimator__verbose': True, 'estimator': SVC(class_weight='balanced', verbose=True), 'n_jobs': -1}\n",
    "Hamming loss: 0.4292929292929293\n",
    "                                               precision    recall  f1-score   support\n",
    "\n",
    "                        Analysis and Modeling       0.34      0.58      0.43        84\n",
    "           Analysis and Modeling: 3D Modeling       0.27      0.44      0.34        71\n",
    "                            Anatomical Target       0.72      0.34      0.46       164\n",
    "           Anatomical Target: Lower Extremity       0.50      0.29      0.37       113\n",
    "     Anatomical Target: Lower Extremity - Hip       0.17      0.68      0.27        40\n",
    "    Anatomical Target: Lower Extremity - Knee       0.40      0.23      0.29        82\n",
    "                     Anatomical Target: Torso       0.14      0.34      0.20        35\n",
    "             Anatomical Target: Torso - Spine       0.07      0.19      0.11        21\n",
    "           Anatomical Target: Upper Extremity       0.14      0.39      0.20        31\n",
    "Anatomical Target: Upper Extremity - Shoulder       0.09      0.30      0.14        23\n",
    "                                      Imaging       0.60      0.78      0.68       133\n",
    "                                  Imaging: CT       0.30      0.63      0.41        59\n",
    "                                 Imaging: MRI       0.31      0.75      0.44        59\n",
    "                          Imaging: Ultrasound       0.13      0.41      0.19        32\n",
    "                                Manufacturing       0.34      0.40      0.37        83\n",
    "        Manufacturing: Additive Manufacturing       0.20      0.45      0.28        38\n",
    "           Personalized Product: Guide or Jig       0.55      0.59      0.57       120\n",
    "                Personalized Product: Implant       0.54      0.45      0.49       124\n",
    "                         Specification of Use       0.37      0.75      0.49        79\n",
    "                Specification of Use: Disease       0.12      0.40      0.19        30\n",
    "      Specification of Use: Joint Replacement       0.18      0.39      0.25        44\n",
    "                              Surgical Method       0.44      0.20      0.28        40\n",
    "\n",
    "                                    micro avg       0.32      0.48      0.39      1505\n",
    "                                    macro avg       0.32      0.45      0.34      1505\n",
    "                                 weighted avg       0.41      0.48      0.41      1505\n",
    "                                  samples avg       0.35      0.50      0.38      1505\n",
    "                            "
   ]
  },
  {
   "cell_type": "code",
   "execution_count": null,
   "metadata": {},
   "outputs": [],
   "source": [
    "Abstract + Claims\n",
    "{'estimator__C': 1.0, 'estimator__break_ties': False, 'estimator__cache_size': 200, 'estimator__class_weight': 'balanced', 'estimator__coef0': 0.0, 'estimator__decision_function_shape': 'ovr', 'estimator__degree': 3, 'estimator__gamma': 'scale', 'estimator__kernel': 'rbf', 'estimator__max_iter': -1, 'estimator__probability': False, 'estimator__random_state': None, 'estimator__shrinking': True, 'estimator__tol': 0.001, 'estimator__verbose': True, 'estimator': SVC(class_weight='balanced', verbose=True), 'n_jobs': -1}\n",
    "Hamming loss: 0.3943135054246165\n",
    "                                               precision    recall  f1-score   support\n",
    "\n",
    "                        Analysis and Modeling       0.39      0.70      0.50        84\n",
    "           Analysis and Modeling: 3D Modeling       0.32      0.63      0.43        71\n",
    "                            Anatomical Target       0.73      0.79      0.76       164\n",
    "           Anatomical Target: Lower Extremity       0.47      0.35      0.40       113\n",
    "     Anatomical Target: Lower Extremity - Hip       0.17      0.55      0.26        40\n",
    "    Anatomical Target: Lower Extremity - Knee       0.40      0.21      0.27        82\n",
    "                     Anatomical Target: Torso       0.14      0.60      0.22        35\n",
    "             Anatomical Target: Torso - Spine       0.06      0.14      0.09        21\n",
    "           Anatomical Target: Upper Extremity       0.16      0.48      0.24        31\n",
    "Anatomical Target: Upper Extremity - Shoulder       0.14      0.52      0.22        23\n",
    "                                      Imaging       0.61      0.76      0.68       133\n",
    "                                  Imaging: CT       0.33      0.58      0.42        59\n",
    "                                 Imaging: MRI       0.28      0.19      0.22        59\n",
    "                          Imaging: Ultrasound       0.12      0.12      0.12        32\n",
    "                                Manufacturing       0.35      0.45      0.39        83\n",
    "        Manufacturing: Additive Manufacturing       0.22      0.55      0.32        38\n",
    "           Personalized Product: Guide or Jig       0.55      0.68      0.61       120\n",
    "                Personalized Product: Implant       0.60      0.47      0.52       124\n",
    "                         Specification of Use       0.36      0.52      0.42        79\n",
    "                Specification of Use: Disease       0.15      0.13      0.14        30\n",
    "      Specification of Use: Joint Replacement       0.18      0.50      0.27        44\n",
    "                              Surgical Method       0.50      0.23      0.31        40\n",
    "\n",
    "                                    micro avg       0.36      0.52      0.43      1505\n",
    "                                    macro avg       0.33      0.46      0.36      1505\n",
    "                                 weighted avg       0.43      0.52      0.45      1505\n",
    "                                  samples avg       0.39      0.55      0.42      1505"
   ]
  },
  {
   "cell_type": "code",
   "execution_count": null,
   "metadata": {},
   "outputs": [],
   "source": [
    "from skmultilearn.problem_transform import ClassifierChain\n",
    "from sklearn.model_selection import GridSearchCV\n",
    "from sklearn.naive_bayes import MultinomialNB\n",
    "from sklearn.svm import SVC\n",
    "\n",
    "parameters = [\n",
    "    {\n",
    "        'classifier': [MultinomialNB()],\n",
    "        'classifier__alpha': [0.7, 1.0],\n",
    "    },\n",
    "    {\n",
    "        'classifier': [SVC()],\n",
    "        'classifier__kernel': ['rbf', 'linear'],\n",
    "    },\n",
    "]\n",
    "\n",
    "clf = GridSearchCV(ClassifierChain(), parameters, scoring='accuracy')\n",
    "clf.fit(X_train, y_train)\n",
    "\n",
    "print (clf.best_params_, clf.best_score_)\n",
    "\n"
   ]
  },
  {
   "cell_type": "code",
   "execution_count": null,
   "metadata": {},
   "outputs": [],
   "source": [
    "import lightgbm as lgb\n",
    "evaluate(BinaryRelevance(lgb.LGBMClassifier()))"
   ]
  },
  {
   "cell_type": "code",
   "execution_count": null,
   "metadata": {},
   "outputs": [],
   "source": []
  },
  {
   "cell_type": "code",
   "execution_count": null,
   "metadata": {},
   "outputs": [],
   "source": [
    "evaluate(MLkNN())"
   ]
  },
  {
   "cell_type": "code",
   "execution_count": null,
   "metadata": {},
   "outputs": [],
   "source": [
    "evaluate(LabelPowerset(\n",
    "    classifier=SVC(),\n",
    "    require_dense=[False, True]\n",
    "))"
   ]
  },
  {
   "cell_type": "code",
   "execution_count": null,
   "metadata": {},
   "outputs": [],
   "source": [
    "from sklearn.feature_selection import RFE\n",
    "from sklearn.ensemble import RandomForestClassifier\n",
    "from sklearn.feature_selection import SelectKBest, SelectFromModel\n",
    "from sklearn.feature_selection import f_classif\n"
   ]
  },
  {
   "cell_type": "code",
   "execution_count": null,
   "metadata": {},
   "outputs": [],
   "source": [
    "pipe = Pipeline(steps=[('transformer', transformer),\n",
    "                       ('feature_selection', SelectFromModel(LinearSVC(penalty=\"l1\"))),\n",
    "                       #('svd', TruncatedSVD(random_state=42)),\n",
    "                       #('dummy', OneVsRestClassifier(DummyClassifier()))\n",
    "                       #('svc', OneVsRestClassifier(SVC(random_state=42), n_jobs=-1))\n",
    "                       ('rf',  RandomForestClassifier(n_jobs=-1, random_state=42))\n",
    "                       #('lr', OneVsRestClassifier(LogisticRegression(n_jobs=-1), n_jobs=-1))\n",
    "                       #('cat', OneVsRestClassifier(CatBoostClassifier(verbose=True)))\n",
    "                       #('knn', KNeighborsClassifier(n_jobs=-1))\n",
    "                      ], \n",
    "                verbose=True,\n",
    "                memory=\"cachedir/\")"
   ]
  },
  {
   "cell_type": "code",
   "execution_count": null,
   "metadata": {},
   "outputs": [],
   "source": [
    "training_labels[:,0]"
   ]
  },
  {
   "cell_type": "code",
   "execution_count": null,
   "metadata": {},
   "outputs": [],
   "source": [
    "from sklearn.feature_selection import chi2\n",
    "selected_features = [] \n",
    "for label in range(0, len(subset)):\n",
    "    selector = SelectKBest(chi2, k='all')\n",
    "    selector.fit(X, training_labels.values[:,label])\n",
    "    selected_features.append(list(selector.scores_))"
   ]
  },
  {
   "cell_type": "code",
   "execution_count": null,
   "metadata": {},
   "outputs": [],
   "source": [
    "selected_features = np.nan_to_num(np.array(selected_features))"
   ]
  },
  {
   "cell_type": "code",
   "execution_count": null,
   "metadata": {},
   "outputs": [],
   "source": [
    "selected_features"
   ]
  },
  {
   "cell_type": "code",
   "execution_count": null,
   "metadata": {},
   "outputs": [],
   "source": [
    "selected_features.mean(axis=0).mean()"
   ]
  },
  {
   "cell_type": "code",
   "execution_count": null,
   "metadata": {},
   "outputs": [],
   "source": [
    "features_set = np.mean(np.nan_to_num(np.array(selected_features)), axis=0) > 0.8"
   ]
  },
  {
   "cell_type": "code",
   "execution_count": null,
   "metadata": {},
   "outputs": [],
   "source": [
    "features_set.astype(int).sum()"
   ]
  },
  {
   "cell_type": "code",
   "execution_count": null,
   "metadata": {},
   "outputs": [],
   "source": [
    "X.shape"
   ]
  },
  {
   "cell_type": "code",
   "execution_count": null,
   "metadata": {},
   "outputs": [],
   "source": [
    "feature_subset = X[:,features_set]"
   ]
  },
  {
   "cell_type": "code",
   "execution_count": null,
   "metadata": {},
   "outputs": [],
   "source": [
    "feature_subset.shape"
   ]
  },
  {
   "cell_type": "code",
   "execution_count": null,
   "metadata": {},
   "outputs": [],
   "source": [
    "model.fit(X[:,features_set], training_labels)\n",
    "predictions = model.predict(Xtest[:,features_set])\n",
    "print(classification_report(testing_labels, predictions, target_names=subset))"
   ]
  },
  {
   "cell_type": "code",
   "execution_count": null,
   "metadata": {},
   "outputs": [],
   "source": [
    "from sklearn.model_selection import GridSearchCV, RandomizedSearchCV\n",
    "from skopt import BayesSearchCV\n",
    "from skopt import *\n",
    "from skopt.space import Real, Categorical, Integer\n",
    "\n",
    "param_grid = {\n",
    "    #'rf__bootstrap': [True, False],\n",
    "    'max_depth': (10, 1000), #[10, 20, 30, 40, 50, 60, 70, 80, 90, 100, 125, 150, 175, 200, 250, 300, 350, 400, None],\n",
    " 'max_features': ['auto', 'sqrt'],\n",
    " 'min_samples_leaf': (1, 12),\n",
    " 'min_samples_split': (2, 12),\n",
    " 'n_estimators': (5, 1000)          \n",
    "             }\n",
    "\n",
    "\n",
    "# param_grid = {\n",
    "#     'svd__n_components': Integer(64,10000),\n",
    "#     'svc__estimator__C': Real(1e-6, 1e+6, prior='log-uniform'),\n",
    "#     'svc__estimator__gamma': Real(1e-6, 1e+6, prior='log-uniform'),\n",
    "#     'svc__estimator__degree': Integer(1,8),\n",
    "#     'svc__estimator__kernel': Categorical(['linear', 'poly', 'rbf']),\n",
    "# }\n",
    "\n",
    "# param_grid = {\n",
    "# #  'svd__n_components': np.arange(64, 5000, 100),\n",
    "#  'knn__leaf_size': np.arange(1, 50, 1),\n",
    "#  'knn__metric': ['minkowski', 'euclidean'],\n",
    "#  'knn__n_neighbors': [2,3,4,5,6,7,8,9,10,11,12],\n",
    "#  'knn__weights': ['distance', 'uniform']\n",
    "# }\n",
    "model = RandomForestClassifier()\n",
    "search = BayesSearchCV(model, param_grid, n_iter=50, n_points=3, pre_dispatch=36, refit=True, cv=3, verbose=10, random_state=42, n_jobs=-1)\n",
    "\n",
    "from tqdm.auto import tqdm\n",
    "from tqdm.utils import CallbackIOWrapper\n",
    "\n",
    "with tqdm(total=search.total_iterations) as pbar:\n",
    "    def on_step(optim_result):\n",
    "        print(optim_result)\n",
    "        pbar.update(9)\n",
    "        return False\n",
    "    search.fit(X_train, y_train, callback=on_step)\n"
   ]
  },
  {
   "cell_type": "code",
   "execution_count": null,
   "metadata": {},
   "outputs": [],
   "source": [
    "predictions = search.estimator.predict(X_test)"
   ]
  },
  {
   "cell_type": "code",
   "execution_count": null,
   "metadata": {},
   "outputs": [],
   "source": [
    "f1_score(testing_labels, predictions, average=\"weighted\")"
   ]
  },
  {
   "cell_type": "code",
   "execution_count": null,
   "metadata": {},
   "outputs": [],
   "source": [
    "hamming_loss(testing_labels, predictions)"
   ]
  },
  {
   "cell_type": "code",
   "execution_count": null,
   "metadata": {
    "scrolled": true
   },
   "outputs": [],
   "source": [
    "plot_confusion_matrix(pipe, testing_set, testing_labels)"
   ]
  },
  {
   "cell_type": "code",
   "execution_count": null,
   "metadata": {},
   "outputs": [],
   "source": [
    "training_predictions = search.best_estimator_.predict(X[:,features_set])\n",
    "print(classification_report(training_labels, training_predictions, target_names=subset))"
   ]
  },
  {
   "cell_type": "code",
   "execution_count": null,
   "metadata": {},
   "outputs": [],
   "source": [
    "from skopt import BayesSearchCV\n",
    "from skopt import *\n",
    "from skopt.space import Real, Categorical, Integer"
   ]
  },
  {
   "cell_type": "code",
   "execution_count": null,
   "metadata": {},
   "outputs": [],
   "source": [
    "from sklearn.model_selection import GridSearchCV, RandomizedSearchCV\n",
    "param_grid = {\n",
    "    #'rf__bootstrap': [True, False],\n",
    "    'rf__max_depth': (10, 1000), #[10, 20, 30, 40, 50, 60, 70, 80, 90, 100, 125, 150, 175, 200, 250, 300, 350, 400, None],\n",
    " #'rf__max_features': ['auto', 'sqrt'],\n",
    " 'rf__min_samples_leaf': (1, 12),\n",
    " 'rf__min_samples_split': (2, 12),\n",
    " 'rf__n_estimators': (5, 1000)          \n",
    "             }\n",
    "\n",
    "\n",
    "# param_grid = {\n",
    "#     'svd__n_components': Integer(64,10000),\n",
    "#     'svc__estimator__C': Real(1e-6, 1e+6, prior='log-uniform'),\n",
    "#     'svc__estimator__gamma': Real(1e-6, 1e+6, prior='log-uniform'),\n",
    "#     'svc__estimator__degree': Integer(1,8),\n",
    "#     'svc__estimator__kernel': Categorical(['linear', 'poly', 'rbf']),\n",
    "# }\n",
    "\n",
    "# param_grid = {\n",
    "# #  'svd__n_components': np.arange(64, 5000, 100),\n",
    "#  'knn__leaf_size': np.arange(1, 50, 1),\n",
    "#  'knn__metric': ['minkowski', 'euclidean'],\n",
    "#  'knn__n_neighbors': [2,3,4,5,6,7,8,9,10,11,12],\n",
    "#  'knn__weights': ['distance', 'uniform']\n",
    "# }\n",
    "search = BayesSearchCV(pipe, param_grid, n_iter=50, n_points=3, pre_dispatch=36, refit=True, cv=3, verbose=10, random_state=42, n_jobs=-1)\n",
    "\n",
    "from tqdm.auto import tqdm\n",
    "from tqdm.utils import CallbackIOWrapper\n",
    "\n",
    "with tqdm(total=search.total_iterations) as pbar:\n",
    "    def on_step(optim_result):\n",
    "        print(optim_result)\n",
    "        pbar.update(9)\n",
    "        return False\n",
    "    search.fit(training_set, training_labels, callback=on_step)\n",
    "\n"
   ]
  },
  {
   "cell_type": "code",
   "execution_count": null,
   "metadata": {},
   "outputs": [],
   "source": [
    "print(search.best_estimator_.get_params())"
   ]
  },
  {
   "cell_type": "code",
   "execution_count": null,
   "metadata": {},
   "outputs": [],
   "source": [
    "from sklearn.metrics import *\n",
    "#pipe.fit(training_set, training_labels)\n",
    "#predictions = pipe.predict(testing_set)\n",
    "predictions = search.best_estimator_.predict(Xtest[:,features_set])\n",
    "print(classification_report(testing_labels, predictions, target_names=subset))"
   ]
  },
  {
   "cell_type": "code",
   "execution_count": null,
   "metadata": {},
   "outputs": [],
   "source": [
    "from sklearn.metrics import *\n",
    "#pipe.fit(training_set, training_labels)\n",
    "#predictions = pipe.predict(testing_set)\n",
    "predictions = search.best_estimator_.predict(testing_set)\n",
    "print(classification_report(testing_labels, predictions, target_names=all_tiers_100))"
   ]
  },
  {
   "cell_type": "code",
   "execution_count": null,
   "metadata": {},
   "outputs": [],
   "source": [
    "from sklearn.metrics import *\n",
    "#pipe.fit(training_set, training_labels)\n",
    "predictions = pipe.predict(testing_set)\n",
    "print(classification_report(testing_labels, predictions, target_names=all_tiers_100))"
   ]
  },
  {
   "cell_type": "code",
   "execution_count": null,
   "metadata": {},
   "outputs": [],
   "source": [
    "predictions = predictions = search.best_estimator_.predict(training_set)\n",
    "print(classification_report(training_labels, predictions, target_names=subset))"
   ]
  },
  {
   "cell_type": "markdown",
   "metadata": {},
   "source": [
    "\n",
    "#  Guessing Baseline\n",
    "\n",
    "                                      precision    recall  f1-score   support\n",
    "\n",
    "                 AnalysisAndModeling       0.31      0.32      0.32        84\n",
    "                    AnatomicalTarget       0.63      0.63      0.63       164\n",
    "                             Imaging       0.57      0.56      0.56       133\n",
    "                       Manufacturing       0.38      0.48      0.43        83\n",
    "                  SpecificationofUse       0.33      0.33      0.33        79\n",
    "                      SurgicalMethod       0.19      0.20      0.20        40\n",
    "      AnalysisAndModeling_3DModeling       0.22      0.21      0.22        71\n",
    "     AnatomicalTarget_LowerExtremity       0.45      0.43      0.44       113\n",
    "              AnatomicalTarget_Torso       0.19      0.17      0.18        35\n",
    "     AnatomicalTarget_UpperExtremity       0.26      0.26      0.26        31\n",
    "                          Imaging_CT       0.14      0.19      0.16        59\n",
    "                         Imaging_MRI       0.24      0.20      0.22        59\n",
    "                  Imaging_Ultrasound       0.17      0.19      0.18        32\n",
    " Manufacturing_AdditiveManufacturing       0.24      0.24      0.24        38\n",
    "       PersonalizedProduct_Guide/Jig       0.55      0.46      0.50       120\n",
    "         PersonalizedProduct_Implant       0.49      0.53      0.51       124\n",
    "          SpecificationofUse_Disease       0.19      0.20      0.20        30\n",
    " SpecificationofUse_JointReplacement       0.14      0.23      0.17        44\n",
    " AnatomicalTarget_LowerExtremity_Hip       0.21      0.17      0.19        40\n",
    "AnatomicalTarget_LowerExtremity_Knee       0.32      0.34      0.33        82\n",
    "\n",
    "                           micro avg       0.38      0.39      0.38      1461\n",
    "                           macro avg       0.31      0.32      0.31      1461\n",
    "                        weighted avg       0.38      0.39      0.39      1461\n",
    "                         samples avg       0.38      0.40      0.37      1461"
   ]
  },
  {
   "cell_type": "markdown",
   "metadata": {},
   "source": [
    "# RF\n",
    "\n",
    " {'rf__bootstrap': False,\n",
    " 'rf__ccp_alpha': 0.0,\n",
    " 'rf__class_weight': None,\n",
    " 'rf__criterion': 'gini',\n",
    " 'rf__max_depth': 150,\n",
    " 'rf__max_features': 'sqrt',\n",
    " 'rf__max_leaf_nodes': None,\n",
    " 'rf__max_samples': None,\n",
    " 'rf__min_impurity_decrease': 0.0,\n",
    " 'rf__min_impurity_split': None,\n",
    " 'rf__min_samples_leaf': 1,\n",
    " 'rf__min_samples_split': 2,\n",
    " 'rf__min_weight_fraction_leaf': 0.0,\n",
    " 'rf__n_estimators': 200,\n",
    " 'rf__n_jobs': None,\n",
    " 'rf__oob_score': False,\n",
    " 'rf__random_state': None,\n",
    " 'rf__verbose': 0,\n",
    " 'rf__warm_start': False}\n",
    "\n",
    "                                      precision    recall  f1-score   support\n",
    "\n",
    "                 AnalysisAndModeling       0.43      0.24      0.31        84\n",
    "                    AnatomicalTarget       0.70      0.78      0.74       164\n",
    "                             Imaging       0.60      0.59      0.60       133\n",
    "                       Manufacturing       0.37      0.25      0.30        83\n",
    "                  SpecificationofUse       0.42      0.32      0.36        79\n",
    "                      SurgicalMethod       0.71      0.30      0.42        40\n",
    "      AnalysisAndModeling_3DModeling       0.38      0.18      0.25        71\n",
    "     AnatomicalTarget_LowerExtremity       0.53      0.46      0.49       113\n",
    "              AnatomicalTarget_Torso       0.08      0.03      0.04        35\n",
    "     AnatomicalTarget_UpperExtremity       0.11      0.03      0.05        31\n",
    "                          Imaging_CT       0.18      0.10      0.13        59\n",
    "                         Imaging_MRI       0.28      0.14      0.18        59\n",
    "                  Imaging_Ultrasound       0.00      0.00      0.00        32\n",
    " Manufacturing_AdditiveManufacturing       0.23      0.08      0.12        38\n",
    "       PersonalizedProduct_Guide/Jig       0.64      0.41      0.50       120\n",
    "         PersonalizedProduct_Implant       0.59      0.74      0.66       124\n",
    "          SpecificationofUse_Disease       0.06      0.03      0.04        30\n",
    " SpecificationofUse_JointReplacement       0.21      0.16      0.18        44\n",
    " AnatomicalTarget_LowerExtremity_Hip       0.26      0.12      0.17        40\n",
    "AnatomicalTarget_LowerExtremity_Knee       0.47      0.33      0.39        82\n",
    "\n",
    "                           micro avg       0.50      0.38      0.43      1461\n",
    "                           macro avg       0.36      0.26      0.30      1461\n",
    "                        weighted avg       0.45      0.38      0.40      1461\n",
    "                         samples avg       0.53      0.41      0.43      1461\n",
    "\n"
   ]
  },
  {
   "cell_type": "markdown",
   "metadata": {},
   "source": [
    "# KNN\n",
    "\n",
    " 'knn__algorithm': 'auto',\n",
    " 'knn__leaf_size': 30,\n",
    " 'knn__metric': 'euclidean',\n",
    " 'knn__metric_params': None,\n",
    " 'knn__n_jobs': None,\n",
    " 'knn__n_neighbors': 2,\n",
    " 'knn__p': 2,\n",
    " 'knn__weights': 'distance'\n",
    "                                      precision    recall  f1-score   support\n",
    "\n",
    "                 AnalysisAndModeling       0.38      0.43      0.40        84\n",
    "                    AnatomicalTarget       0.71      0.60      0.65       164\n",
    "                             Imaging       0.63      0.62      0.62       133\n",
    "                       Manufacturing       0.34      0.37      0.36        83\n",
    "                  SpecificationofUse       0.34      0.47      0.39        79\n",
    "                      SurgicalMethod       0.39      0.30      0.34        40\n",
    "      AnalysisAndModeling_3DModeling       0.35      0.38      0.36        71\n",
    "     AnatomicalTarget_LowerExtremity       0.60      0.50      0.54       113\n",
    "              AnatomicalTarget_Torso       0.24      0.11      0.15        35\n",
    "     AnatomicalTarget_UpperExtremity       0.16      0.16      0.16        31\n",
    "                          Imaging_CT       0.24      0.32      0.27        59\n",
    "                         Imaging_MRI       0.24      0.32      0.28        59\n",
    "                  Imaging_Ultrasound       0.16      0.28      0.21        32\n",
    " Manufacturing_AdditiveManufacturing       0.18      0.13      0.15        38\n",
    "       PersonalizedProduct_Guide/Jig       0.59      0.39      0.47       120\n",
    "         PersonalizedProduct_Implant       0.56      0.76      0.64       124\n",
    "          SpecificationofUse_Disease       0.19      0.33      0.24        30\n",
    " SpecificationofUse_JointReplacement       0.12      0.14      0.13        44\n",
    " AnatomicalTarget_LowerExtremity_Hip       0.33      0.30      0.32        40\n",
    "AnatomicalTarget_LowerExtremity_Knee       0.48      0.39      0.43        82\n",
    "\n",
    "                           micro avg       0.43      0.44      0.43      1461\n",
    "                           macro avg       0.36      0.37      0.36      1461\n",
    "                        weighted avg       0.45      0.44      0.44      1461\n",
    "                         samples avg       0.45      0.46      0.41      1461"
   ]
  },
  {
   "cell_type": "markdown",
   "metadata": {},
   "source": [
    "# KNN + SVD\n",
    "\n",
    " precision    recall  f1-score   support\n",
    "\n",
    "                 AnalysisAndModeling       0.38      0.43      0.40        84\n",
    "                    AnatomicalTarget       0.71      0.60      0.65       164\n",
    "                             Imaging       0.63      0.62      0.62       133\n",
    "                       Manufacturing       0.34      0.37      0.36        83\n",
    "                  SpecificationofUse       0.34      0.47      0.39        79\n",
    "                      SurgicalMethod       0.39      0.30      0.34        40\n",
    "      AnalysisAndModeling_3DModeling       0.35      0.38      0.36        71\n",
    "     AnatomicalTarget_LowerExtremity       0.60      0.50      0.54       113\n",
    "              AnatomicalTarget_Torso       0.24      0.11      0.15        35\n",
    "     AnatomicalTarget_UpperExtremity       0.16      0.16      0.16        31\n",
    "                          Imaging_CT       0.24      0.32      0.27        59\n",
    "                         Imaging_MRI       0.24      0.32      0.28        59\n",
    "                  Imaging_Ultrasound       0.16      0.28      0.21        32\n",
    " Manufacturing_AdditiveManufacturing       0.18      0.13      0.15        38\n",
    "       PersonalizedProduct_Guide/Jig       0.59      0.39      0.47       120\n",
    "         PersonalizedProduct_Implant       0.56      0.76      0.64       124\n",
    "          SpecificationofUse_Disease       0.19      0.33      0.24        30\n",
    " SpecificationofUse_JointReplacement       0.12      0.14      0.13        44\n",
    " AnatomicalTarget_LowerExtremity_Hip       0.33      0.30      0.32        40\n",
    "AnatomicalTarget_LowerExtremity_Knee       0.48      0.39      0.43        82\n",
    "\n",
    "                           micro avg       0.43      0.44      0.43      1461\n",
    "                           macro avg       0.36      0.37      0.36      1461\n",
    "                        weighted avg       0.45      0.44      0.44      1461\n",
    "                         samples avg       0.45      0.46      0.41      1461\n",
    "\n",
    "'svd__algorithm': 'randomized',\n",
    " 'svd__n_components': 2564,\n",
    " 'svd__n_iter': 5,\n",
    " 'svd__random_state': 42,\n",
    " 'svd__tol': 0.0,\n",
    " 'knn__algorithm': 'auto',\n",
    " 'knn__leaf_size': 30,\n",
    " 'knn__metric': 'euclidean',\n",
    " 'knn__metric_params': None,\n",
    " 'knn__n_jobs': None,\n",
    " 'knn__n_neighbors': 2,\n",
    " 'knn__p': 2,\n",
    " 'knn__weights': 'distance'\n"
   ]
  }
 ],
 "metadata": {
  "kernelspec": {
   "display_name": "Python 3",
   "language": "python",
   "name": "python3"
  },
  "language_info": {
   "codemirror_mode": {
    "name": "ipython",
    "version": 3
   },
   "file_extension": ".py",
   "mimetype": "text/x-python",
   "name": "python",
   "nbconvert_exporter": "python",
   "pygments_lexer": "ipython3",
   "version": "3.8.6"
  }
 },
 "nbformat": 4,
 "nbformat_minor": 4
}
