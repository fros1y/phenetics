{
 "cells": [
  {
   "cell_type": "code",
   "execution_count": 1,
   "metadata": {},
   "outputs": [],
   "source": []
  },
  {
   "cell_type": "code",
   "execution_count": 10,
   "metadata": {},
   "outputs": [],
   "source": [
    "training_set = pd.read_json(\"training_set.json.gz\", lines=True, orient=\"records\")\n",
    "#testing_set = pd.read_json(\"testing_set.json.gz\", lines=True, orient=\"records\")"
   ]
  },
  {
   "cell_type": "code",
   "execution_count": 5,
   "metadata": {},
   "outputs": [
    {
     "data": {
      "text/plain": [
       "['Analysis and Modeling',\n",
       " 'Analysis and Modeling: 3D Modeling',\n",
       " 'Anatomical Target',\n",
       " 'Anatomical Target: Lower Extremity',\n",
       " 'Anatomical Target: Lower Extremity - Hip',\n",
       " 'Anatomical Target: Lower Extremity - Knee',\n",
       " 'Anatomical Target: Torso',\n",
       " 'Anatomical Target: Torso - Spine',\n",
       " 'Anatomical Target: Upper Extremity',\n",
       " 'Anatomical Target: Upper Extremity - Shoulder',\n",
       " 'Imaging',\n",
       " 'Imaging: CT',\n",
       " 'Imaging: MRI',\n",
       " 'Imaging: Ultrasound',\n",
       " 'Manufacturing',\n",
       " 'Manufacturing: Additive Manufacturing',\n",
       " 'Personalized Product: Guide or Jig',\n",
       " 'Personalized Product: Implant',\n",
       " 'Specification of Use',\n",
       " 'Specification of Use: Disease',\n",
       " 'Specification of Use: Joint Replacement',\n",
       " 'Surgical Method']"
      ]
     },
     "execution_count": 5,
     "metadata": {},
     "output_type": "execute_result"
    }
   ],
   "source": [
    "subset = list(sorted(set(all_tiers_100)-set([\"PersonalizedProduct\"])))\n",
    "\n",
    "nice_subset = [tier_translations[x] for x in subset]\n",
    "nice_subset"
   ]
  },
  {
   "cell_type": "code",
   "execution_count": 8,
   "metadata": {},
   "outputs": [],
   "source": [
    "import funcy as f\n",
    "@f.collecting\n",
    "def create_examples(row):\n",
    "    abstract = row.abstract\n",
    "    claims = row.claims\n",
    "    yield (abstract, claims, 1)\n",
    "    for text in [abstract,claims]:\n",
    "        for tag in subset:\n",
    "            yield (text, f\"[Tag]{tier_translations[tag]}\", row[tag])"
   ]
  },
  {
   "cell_type": "code",
   "execution_count": 17,
   "metadata": {},
   "outputs": [],
   "source": [
    "triplets = training_set.apply(create_examples, axis=1).explode()"
   ]
  },
  {
   "cell_type": "code",
   "execution_count": 18,
   "metadata": {},
   "outputs": [
    {
     "data": {
      "text/plain": [
       "0      (A biocompatible prosthetic device comprising ...\n",
       "0      (A biocompatible prosthetic device comprising ...\n",
       "0      (A biocompatible prosthetic device comprising ...\n",
       "0      (A biocompatible prosthetic device comprising ...\n",
       "0      (A biocompatible prosthetic device comprising ...\n",
       "                             ...                        \n",
       "971    (What is claimed is: \\n     \\n         1 . A t...\n",
       "971    (What is claimed is: \\n     \\n         1 . A t...\n",
       "971    (What is claimed is: \\n     \\n         1 . A t...\n",
       "971    (What is claimed is: \\n     \\n         1 . A t...\n",
       "971    (What is claimed is: \\n     \\n         1 . A t...\n",
       "Length: 43740, dtype: object"
      ]
     },
     "execution_count": 18,
     "metadata": {},
     "output_type": "execute_result"
    }
   ],
   "source": [
    "triplets"
   ]
  },
  {
   "cell_type": "code",
   "execution_count": 24,
   "metadata": {},
   "outputs": [],
   "source": [
    "from tqdm.auto import tqdm\n",
    "def build_data_set(data_set): \n",
    "    frames = []\n",
    "    for tier in [tier1, tier2, tier3, tier4]:\n",
    "        for label in tqdm(set(tier) & set(all_tiers_100)):\n",
    "            nice_label = tier_translations.get(label)\n",
    "            if nice_label is None:\n",
    "                continue\n",
    "            positives = data_set[data_set[label]].abstract.to_frame(\"positive\")\n",
    "            positives['fk'] = 0\n",
    "            positives['label'] = f\"This is labelled: {nice_label}.\"\n",
    "            negatives = data_set[~data_set[label]].abstract.to_frame(\"negative\")\n",
    "            negatives['fk'] = 0\n",
    "            triplets = pd.merge(positives, negatives, how=\"outer\", on=\"fk\")\n",
    "            frames.append(triplets[['label', 'positive', 'negative']])\n",
    "    return pd.concat(frames)"
   ]
  },
  {
   "cell_type": "code",
   "execution_count": 25,
   "metadata": {},
   "outputs": [
    {
     "data": {
      "application/vnd.jupyter.widget-view+json": {
       "model_id": "727bb06f5bde47ce87d7e4e4750b9405",
       "version_major": 2,
       "version_minor": 0
      },
      "text/plain": [
       "HBox(children=(FloatProgress(value=0.0, max=6.0), HTML(value='')))"
      ]
     },
     "metadata": {},
     "output_type": "display_data"
    },
    {
     "name": "stdout",
     "output_type": "stream",
     "text": [
      "\n"
     ]
    },
    {
     "data": {
      "application/vnd.jupyter.widget-view+json": {
       "model_id": "292c4893c81b4d089dd38be5a50f9d93",
       "version_major": 2,
       "version_minor": 0
      },
      "text/plain": [
       "HBox(children=(FloatProgress(value=0.0, max=12.0), HTML(value='')))"
      ]
     },
     "metadata": {},
     "output_type": "display_data"
    },
    {
     "name": "stdout",
     "output_type": "stream",
     "text": [
      "\n"
     ]
    },
    {
     "data": {
      "application/vnd.jupyter.widget-view+json": {
       "model_id": "aa8e5ff10604434da775d7b88b899c78",
       "version_major": 2,
       "version_minor": 0
      },
      "text/plain": [
       "HBox(children=(FloatProgress(value=0.0, max=4.0), HTML(value='')))"
      ]
     },
     "metadata": {},
     "output_type": "display_data"
    },
    {
     "name": "stdout",
     "output_type": "stream",
     "text": [
      "\n"
     ]
    },
    {
     "data": {
      "application/vnd.jupyter.widget-view+json": {
       "model_id": "d90d804ffae94d80952619feb1963447",
       "version_major": 2,
       "version_minor": 0
      },
      "text/plain": [
       "HBox(children=(FloatProgress(value=1.0, bar_style='info', layout=Layout(width='20px'), max=1.0), HTML(value=''…"
      ]
     },
     "metadata": {},
     "output_type": "display_data"
    },
    {
     "name": "stdout",
     "output_type": "stream",
     "text": [
      "\n"
     ]
    }
   ],
   "source": [
    "training_examples = build_data_set(training_set)"
   ]
  },
  {
   "cell_type": "code",
   "execution_count": 26,
   "metadata": {},
   "outputs": [
    {
     "data": {
      "application/vnd.jupyter.widget-view+json": {
       "model_id": "c32339e830174c48a8eb090417826cc2",
       "version_major": 2,
       "version_minor": 0
      },
      "text/plain": [
       "HBox(children=(FloatProgress(value=0.0, max=6.0), HTML(value='')))"
      ]
     },
     "metadata": {},
     "output_type": "display_data"
    },
    {
     "name": "stdout",
     "output_type": "stream",
     "text": [
      "\n"
     ]
    },
    {
     "data": {
      "application/vnd.jupyter.widget-view+json": {
       "model_id": "1c8837e4f7ff4c22977f24a622dac476",
       "version_major": 2,
       "version_minor": 0
      },
      "text/plain": [
       "HBox(children=(FloatProgress(value=0.0, max=12.0), HTML(value='')))"
      ]
     },
     "metadata": {},
     "output_type": "display_data"
    },
    {
     "name": "stdout",
     "output_type": "stream",
     "text": [
      "\n"
     ]
    },
    {
     "data": {
      "application/vnd.jupyter.widget-view+json": {
       "model_id": "469318365d064c2388755f8950328525",
       "version_major": 2,
       "version_minor": 0
      },
      "text/plain": [
       "HBox(children=(FloatProgress(value=0.0, max=4.0), HTML(value='')))"
      ]
     },
     "metadata": {},
     "output_type": "display_data"
    },
    {
     "name": "stdout",
     "output_type": "stream",
     "text": [
      "\n"
     ]
    },
    {
     "data": {
      "application/vnd.jupyter.widget-view+json": {
       "model_id": "37f248b1fdd94ea9896b41ebed849042",
       "version_major": 2,
       "version_minor": 0
      },
      "text/plain": [
       "HBox(children=(FloatProgress(value=1.0, bar_style='info', layout=Layout(width='20px'), max=1.0), HTML(value=''…"
      ]
     },
     "metadata": {},
     "output_type": "display_data"
    },
    {
     "name": "stdout",
     "output_type": "stream",
     "text": [
      "\n"
     ]
    }
   ],
   "source": [
    "testing_examples= build_data_set(testing_set)"
   ]
  },
  {
   "cell_type": "code",
   "execution_count": 27,
   "metadata": {},
   "outputs": [],
   "source": [
    "training_examples.to_parquet(\"training_triplets.parquet\")"
   ]
  },
  {
   "cell_type": "code",
   "execution_count": 28,
   "metadata": {},
   "outputs": [],
   "source": [
    "testing_examples.to_parquet(\"testing_triplets.parquet\")"
   ]
  },
  {
   "cell_type": "code",
   "execution_count": 29,
   "metadata": {},
   "outputs": [
    {
     "data": {
      "text/plain": [
       "(3701622, 3)"
      ]
     },
     "execution_count": 29,
     "metadata": {},
     "output_type": "execute_result"
    }
   ],
   "source": [
    "training_examples.shape"
   ]
  },
  {
   "cell_type": "code",
   "execution_count": 30,
   "metadata": {},
   "outputs": [
    {
     "data": {
      "text/plain": [
       "(228012, 3)"
      ]
     },
     "execution_count": 30,
     "metadata": {},
     "output_type": "execute_result"
    }
   ],
   "source": [
    "testing_examples.shape"
   ]
  },
  {
   "cell_type": "code",
   "execution_count": null,
   "metadata": {},
   "outputs": [],
   "source": []
  },
  {
   "cell_type": "code",
   "execution_count": null,
   "metadata": {},
   "outputs": [],
   "source": []
  }
 ],
 "metadata": {
  "kernelspec": {
   "display_name": "Python 3",
   "language": "python",
   "name": "python3"
  },
  "language_info": {
   "codemirror_mode": {
    "name": "ipython",
    "version": 3
   },
   "file_extension": ".py",
   "mimetype": "text/x-python",
   "name": "python",
   "nbconvert_exporter": "python",
   "pygments_lexer": "ipython3",
   "version": "3.8.6"
  }
 },
 "nbformat": 4,
 "nbformat_minor": 4
}
