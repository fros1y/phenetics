{
 "cells": [
  {
   "cell_type": "code",
   "execution_count": 64,
   "metadata": {},
   "outputs": [],
   "source": [
    "import pandas as pd\n",
    "import util\n",
    "from util import *"
   ]
  },
  {
   "cell_type": "code",
   "execution_count": 65,
   "metadata": {},
   "outputs": [],
   "source": [
    "training_set = pd.read_json(\"training_set.json.gz\", lines=True, orient=\"records\")\n",
    "testing_set = pd.read_json(\"testing_set.json.gz\", lines=True, orient=\"records\")"
   ]
  },
  {
   "cell_type": "code",
   "execution_count": 66,
   "metadata": {},
   "outputs": [
    {
     "data": {
      "text/plain": [
       "['Analysis and Modeling',\n",
       " 'Analysis and Modeling: 3D Modeling',\n",
       " 'Anatomical Target',\n",
       " 'Anatomical Target: Lower Extremity',\n",
       " 'Anatomical Target: Lower Extremity - Hip',\n",
       " 'Anatomical Target: Lower Extremity - Knee',\n",
       " 'Anatomical Target: Torso',\n",
       " 'Anatomical Target: Torso - Spine',\n",
       " 'Anatomical Target: Upper Extremity',\n",
       " 'Anatomical Target: Upper Extremity - Shoulder',\n",
       " 'Imaging',\n",
       " 'Imaging: CT',\n",
       " 'Imaging: MRI',\n",
       " 'Imaging: Ultrasound',\n",
       " 'Manufacturing',\n",
       " 'Manufacturing: Additive Manufacturing',\n",
       " 'Personalized Product: Guide or Jig',\n",
       " 'Personalized Product: Implant',\n",
       " 'Specification of Use',\n",
       " 'Specification of Use: Disease',\n",
       " 'Specification of Use: Joint Replacement',\n",
       " 'Surgical Method']"
      ]
     },
     "execution_count": 66,
     "metadata": {},
     "output_type": "execute_result"
    }
   ],
   "source": [
    "subset = list(sorted(set(all_tiers_100)-set([\"PersonalizedProduct\"])))\n",
    "\n",
    "nice_subset = [tier_translations[x] for x in subset]\n",
    "nice_subset"
   ]
  },
  {
   "cell_type": "code",
   "execution_count": 80,
   "metadata": {},
   "outputs": [],
   "source": [
    "import funcy as f\n",
    "from random import shuffle\n",
    "\n",
    "num_neg = 2\n",
    "\n",
    "@f.collecting\n",
    "def create_examples(row):\n",
    "    abstract = row.abstract\n",
    "    claims = row.claims\n",
    "    yield (abstract, claims, True)\n",
    "    for text in [abstract,claims]:\n",
    "        neg_count = 0\n",
    "        shuffle(subset)\n",
    "        for tag in subset:\n",
    "            if row[tag]:\n",
    "                yield (text, f\"Tagged as {tier_translations[tag]}.\", True)\n",
    "            elif neg_count < num_neg or all_neg:\n",
    "                neg_count = neg_count + 1\n",
    "                yield (text, f\"Tagged as {tier_translations[tag]}.\", False)\n",
    "            else:\n",
    "                continue"
   ]
  },
  {
   "cell_type": "code",
   "execution_count": 73,
   "metadata": {},
   "outputs": [],
   "source": [
    "triplets = pd.DataFrame(training_set.apply(create_examples, axis=1).explode().tolist())"
   ]
  },
  {
   "cell_type": "code",
   "execution_count": 74,
   "metadata": {},
   "outputs": [],
   "source": [
    "triplets.columns = [\"sentence1\", \"sentence2\", \"label\"]"
   ]
  },
  {
   "cell_type": "code",
   "execution_count": 75,
   "metadata": {},
   "outputs": [],
   "source": [
    "triplets = triplets.drop_duplicates()"
   ]
  },
  {
   "cell_type": "code",
   "execution_count": 76,
   "metadata": {},
   "outputs": [
    {
     "data": {
      "text/plain": [
       "(15797, 3)"
      ]
     },
     "execution_count": 76,
     "metadata": {},
     "output_type": "execute_result"
    }
   ],
   "source": [
    "triplets.shape"
   ]
  },
  {
   "cell_type": "code",
   "execution_count": 77,
   "metadata": {},
   "outputs": [],
   "source": [
    "triplets.to_parquet(\"triples.parquet\")"
   ]
  },
  {
   "cell_type": "code",
   "execution_count": 78,
   "metadata": {},
   "outputs": [],
   "source": [
    "testing_triplets = pd.DataFrame(testing_set.apply(create_examples, axis=1).explode().tolist())"
   ]
  },
  {
   "cell_type": "code",
   "execution_count": 79,
   "metadata": {},
   "outputs": [
    {
     "data": {
      "text/plain": [
       "(4099, 3)"
      ]
     },
     "execution_count": 79,
     "metadata": {},
     "output_type": "execute_result"
    }
   ],
   "source": [
    "testing_triplets.columns = [\"sentence1\", \"sentence2\", \"label\"]\n",
    "testing_triplets = testing_triplets.drop_duplicates()\n",
    "testing_triplets.shape"
   ]
  },
  {
   "cell_type": "code",
   "execution_count": 63,
   "metadata": {},
   "outputs": [],
   "source": [
    "testing_triplets.to_parquet(\"testing_triples.parquet\")"
   ]
  },
  {
   "cell_type": "code",
   "execution_count": 42,
   "metadata": {},
   "outputs": [],
   "source": [
    "# from tqdm.auto import tqdm\n",
    "# def build_data_set(data_set): \n",
    "#     frames = []\n",
    "#     for tier in [tier1, tier2, tier3, tier4]:\n",
    "#         for label in tqdm(set(tier) & set(all_tiers_100)):\n",
    "#             nice_label = tier_translations.get(label)\n",
    "#             if nice_label is None:\n",
    "#                 continue\n",
    "#             positives = data_set[data_set[label]].abstract.to_frame(\"positive\")\n",
    "#             positives['fk'] = 0\n",
    "#             positives['label'] = f\"This is labelled: {nice_label}.\"\n",
    "#             negatives = data_set[~data_set[label]].abstract.to_frame(\"negative\")\n",
    "#             negatives['fk'] = 0\n",
    "#             triplets = pd.merge(positives, negatives, how=\"outer\", on=\"fk\")\n",
    "#             frames.append(triplets[['label', 'positive', 'negative']])\n",
    "#     return pd.concat(frames)"
   ]
  },
  {
   "cell_type": "code",
   "execution_count": null,
   "metadata": {},
   "outputs": [],
   "source": []
  },
  {
   "cell_type": "code",
   "execution_count": null,
   "metadata": {},
   "outputs": [],
   "source": []
  }
 ],
 "metadata": {
  "kernelspec": {
   "display_name": "Python 3",
   "language": "python",
   "name": "python3"
  },
  "language_info": {
   "codemirror_mode": {
    "name": "ipython",
    "version": 3
   },
   "file_extension": ".py",
   "mimetype": "text/x-python",
   "name": "python",
   "nbconvert_exporter": "python",
   "pygments_lexer": "ipython3",
   "version": "3.8.6"
  }
 },
 "nbformat": 4,
 "nbformat_minor": 4
}
