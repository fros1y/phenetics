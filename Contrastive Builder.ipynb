{
 "cells": [
  {
   "cell_type": "code",
   "execution_count": 1,
   "metadata": {},
   "outputs": [],
   "source": [
    "import pandas as pd\n",
    "import numpy as np\n",
    "from util import *"
   ]
  },
  {
   "cell_type": "code",
   "execution_count": 2,
   "metadata": {},
   "outputs": [],
   "source": [
    "training_set = pd.read_json(\"training_set.json.gz\", lines=True, orient=\"records\")\n",
    "testing_set = pd.read_json(\"testing_set.json.gz\", lines=True, orient=\"records\")"
   ]
  },
  {
   "cell_type": "code",
   "execution_count": 56,
   "metadata": {},
   "outputs": [],
   "source": [
    "def convert_to_subtags(tag):\n",
    "    for subtag in tag.split('_'):\n",
    "        yield subtag"
   ]
  },
  {
   "cell_type": "code",
   "execution_count": 60,
   "metadata": {},
   "outputs": [],
   "source": [
    "def array_sublabels(row):\n",
    "    labels = []\n",
    "    for c in all_tiers:\n",
    "        if c in row and row[c]:\n",
    "            for subtag in convert_to_subtags(c):\n",
    "              \n",
    "                labels.append(subtag)\n",
    "    return list(sorted(set(labels)))"
   ]
  },
  {
   "cell_type": "code",
   "execution_count": 62,
   "metadata": {},
   "outputs": [],
   "source": [
    "training_set['sublabels'] = training_set[all_tiers].apply(array_sublabels, axis=1)\n",
    "testing_set['sublabels'] = testing_set[all_tiers].apply(array_sublabels, axis=1)"
   ]
  },
  {
   "cell_type": "code",
   "execution_count": 84,
   "metadata": {},
   "outputs": [],
   "source": [
    "@f.collecting\n",
    "def get_children(tag):\n",
    "    if tag == None:\n",
    "        tag = \"\"\n",
    "    for candidate in all_tiers:\n",
    "        if candidate != tag and candidate.startswith(tag):\n",
    "            yield candidate"
   ]
  },
  {
   "cell_type": "code",
   "execution_count": 87,
   "metadata": {},
   "outputs": [],
   "source": [
    "children_dict = {tag: get_children(tag) for tag in all_tiers}\n",
    "\n",
    "def has_child_tag(row, tag):\n",
    "    return any(row[c] for c in children_dict[tag]) "
   ]
  },
  {
   "cell_type": "code",
   "execution_count": 89,
   "metadata": {},
   "outputs": [],
   "source": [
    "@f.collecting\n",
    "def final_tag(row):\n",
    "    for c in all_tiers:\n",
    "        if c in row and row[c] == True and not has_child_tag(row, c):\n",
    "            yield c\n",
    "            "
   ]
  },
  {
   "cell_type": "code",
   "execution_count": 105,
   "metadata": {},
   "outputs": [],
   "source": [
    "training_set['final_tags'] = training_set.apply(final_tag, axis=1)"
   ]
  },
  {
   "cell_type": "code",
   "execution_count": 110,
   "metadata": {},
   "outputs": [],
   "source": [
    "testing_set['final_tags'] = testing_set.apply(final_tag, axis=1)"
   ]
  },
  {
   "cell_type": "code",
   "execution_count": 109,
   "metadata": {},
   "outputs": [],
   "source": [
    "training_set.explode('final_tags')[['abstract', 'final_tags']].to_parquet(\"cte_tagged.parquet\")"
   ]
  },
  {
   "cell_type": "code",
   "execution_count": 111,
   "metadata": {},
   "outputs": [],
   "source": [
    "testing_set.explode('final_tags')[['abstract', 'final_tags']].to_parquet(\"cte_tagged_testing.parquet\")"
   ]
  },
  {
   "cell_type": "code",
   "execution_count": 100,
   "metadata": {},
   "outputs": [],
   "source": [
    "from sklearn.metrics import pairwise_distances"
   ]
  },
  {
   "cell_type": "code",
   "execution_count": 101,
   "metadata": {},
   "outputs": [],
   "source": [
    "distances = pairwise_distances(training_set[all_tiers], training_set[all_tiers], metric=\"hamming\")"
   ]
  },
  {
   "cell_type": "code",
   "execution_count": 102,
   "metadata": {},
   "outputs": [
    {
     "data": {
      "text/plain": [
       "array([[0.        , 0.27941176, 0.19117647, ..., 0.26470588, 0.19117647,\n",
       "        0.27941176],\n",
       "       [0.27941176, 0.        , 0.14705882, ..., 0.04411765, 0.08823529,\n",
       "        0.14705882],\n",
       "       [0.19117647, 0.14705882, 0.        , ..., 0.16176471, 0.17647059,\n",
       "        0.20588235],\n",
       "       ...,\n",
       "       [0.26470588, 0.04411765, 0.16176471, ..., 0.        , 0.10294118,\n",
       "        0.13235294],\n",
       "       [0.19117647, 0.08823529, 0.17647059, ..., 0.10294118, 0.        ,\n",
       "        0.17647059],\n",
       "       [0.27941176, 0.14705882, 0.20588235, ..., 0.13235294, 0.17647059,\n",
       "        0.        ]])"
      ]
     },
     "execution_count": 102,
     "metadata": {},
     "output_type": "execute_result"
    }
   ],
   "source": [
    "distances"
   ]
  },
  {
   "cell_type": "code",
   "execution_count": 95,
   "metadata": {},
   "outputs": [],
   "source": [
    "from sklearn.preprocessing import MultiLabelBinarizer"
   ]
  },
  {
   "cell_type": "code",
   "execution_count": 96,
   "metadata": {},
   "outputs": [],
   "source": [
    "mlb = MultiLabelBinarizer()"
   ]
  },
  {
   "cell_type": "code",
   "execution_count": 97,
   "metadata": {},
   "outputs": [],
   "source": [
    "training_set['subtags'] = training_set[all_tiers].apply(array_sublabels, axis=1)"
   ]
  },
  {
   "cell_type": "code",
   "execution_count": 98,
   "metadata": {},
   "outputs": [
    {
     "data": {
      "text/plain": [
       "MultiLabelBinarizer(classes=None, sparse_output=False)"
      ]
     },
     "execution_count": 98,
     "metadata": {},
     "output_type": "execute_result"
    }
   ],
   "source": [
    "mlb.fit(training_set['subtags'])"
   ]
  },
  {
   "cell_type": "code",
   "execution_count": 99,
   "metadata": {},
   "outputs": [
    {
     "data": {
      "text/plain": [
       "MultiLabelBinarizer(classes=None, sparse_output=False)"
      ]
     },
     "execution_count": 99,
     "metadata": {},
     "output_type": "execute_result"
    }
   ],
   "source": [
    "mlb"
   ]
  },
  {
   "cell_type": "code",
   "execution_count": null,
   "metadata": {},
   "outputs": [],
   "source": []
  }
 ],
 "metadata": {
  "kernelspec": {
   "display_name": "Python 3",
   "language": "python",
   "name": "python3"
  },
  "language_info": {
   "codemirror_mode": {
    "name": "ipython",
    "version": 3
   },
   "file_extension": ".py",
   "mimetype": "text/x-python",
   "name": "python",
   "nbconvert_exporter": "python",
   "pygments_lexer": "ipython3",
   "version": "3.8.6"
  }
 },
 "nbformat": 4,
 "nbformat_minor": 4
}
