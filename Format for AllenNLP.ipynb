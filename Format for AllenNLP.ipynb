{
 "cells": [
  {
   "cell_type": "code",
   "execution_count": 3,
   "metadata": {},
   "outputs": [],
   "source": [
    "import util\n",
    "import pandas as pd\n",
    "import numpy as np\n",
    "\n",
    "training_set = pd.read_json(\"training_set.json.gz\", lines=True, orient=\"records\")\n",
    "testing_set = pd.read_json(\"testing_set.json.gz\", lines=True, orient=\"records\")"
   ]
  },
  {
   "cell_type": "code",
   "execution_count": 2,
   "metadata": {},
   "outputs": [
    {
     "data": {
      "text/plain": [
       "['Imaging_MRI',\n",
       " 'Manufacturing_AdditiveManufacturing',\n",
       " 'PersonalizedProduct_Implant',\n",
       " 'AnalysisAndModeling',\n",
       " 'AnatomicalTarget_LowerExtremity_Hip',\n",
       " 'PersonalizedProduct_Guide/Jig',\n",
       " 'AnalysisAndModeling_3DModeling',\n",
       " 'Imaging_CT',\n",
       " 'AnatomicalTarget_UpperExtremity',\n",
       " 'AnatomicalTarget_Torso_Spine',\n",
       " 'Imaging_Ultrasound',\n",
       " 'SurgicalMethod',\n",
       " 'AnatomicalTarget_LowerExtremity_Knee',\n",
       " 'AnatomicalTarget_LowerExtremity',\n",
       " 'AnatomicalTarget',\n",
       " 'Imaging',\n",
       " 'SpecificationofUse_Disease',\n",
       " 'SpecificationofUse_JointReplacement',\n",
       " 'Manufacturing',\n",
       " 'SpecificationofUse',\n",
       " 'AnatomicalTarget_Torso',\n",
       " 'AnatomicalTarget_UpperExtremity_Shoulder']"
      ]
     },
     "execution_count": 2,
     "metadata": {},
     "output_type": "execute_result"
    }
   ],
   "source": [
    "subset = list(set(all_tiers_100)-set([\"PersonalizedProduct\"]))\n",
    "subset"
   ]
  },
  {
   "cell_type": "code",
   "execution_count": 8,
   "metadata": {},
   "outputs": [],
   "source": [
    "training_set[\"labels\"] = training_set[subset].apply(util.array_labels, axis=1)\n",
    "training_set[\"text\"] = training_set.abstract"
   ]
  },
  {
   "cell_type": "code",
   "execution_count": 9,
   "metadata": {},
   "outputs": [],
   "source": [
    "testing_set[\"labels\"] = testing_set[subset].apply(util.array_labels, axis=1)\n",
    "testing_set[\"text\"] = testing_set.abstract"
   ]
  },
  {
   "cell_type": "code",
   "execution_count": 10,
   "metadata": {},
   "outputs": [],
   "source": [
    "training_set[[\"text\", \"labels\"]].to_json(\"abstract_training.json\", lines=True, orient=\"records\")\n",
    "testing_set[[\"text\", \"labels\"]].to_json(\"abstract_testing.json\", lines=True, orient=\"records\")"
   ]
  },
  {
   "cell_type": "code",
   "execution_count": null,
   "metadata": {},
   "outputs": [],
   "source": []
  }
 ],
 "metadata": {
  "kernelspec": {
   "display_name": "Python 3",
   "language": "python",
   "name": "python3"
  },
  "language_info": {
   "codemirror_mode": {
    "name": "ipython",
    "version": 3
   },
   "file_extension": ".py",
   "mimetype": "text/x-python",
   "name": "python",
   "nbconvert_exporter": "python",
   "pygments_lexer": "ipython3",
   "version": "3.8.6"
  }
 },
 "nbformat": 4,
 "nbformat_minor": 4
}
