{
 "cells": [
  {
   "cell_type": "code",
   "execution_count": 1,
   "metadata": {},
   "outputs": [],
   "source": [
    "import pandas as pd\n",
    "import numpy as np\n",
    "from tqdm.auto import tqdm\n",
    "from util import *"
   ]
  },
  {
   "cell_type": "code",
   "execution_count": 2,
   "metadata": {},
   "outputs": [],
   "source": [
    "# from sklearn import set_config\n",
    "# set_config(display='diagram') "
   ]
  },
  {
   "cell_type": "code",
   "execution_count": 3,
   "metadata": {},
   "outputs": [],
   "source": [
    "training_set = pd.read_json(\"training_set.json.gz\", lines=True, orient=\"records\")"
   ]
  },
  {
   "cell_type": "code",
   "execution_count": 4,
   "metadata": {},
   "outputs": [],
   "source": [
    "testing_set = pd.read_json(\"testing_set.json.gz\", lines=True, orient=\"records\")"
   ]
  },
  {
   "cell_type": "code",
   "execution_count": 5,
   "metadata": {},
   "outputs": [
    {
     "data": {
      "text/plain": [
       "['CognitiveComputingAndLearningSystems',\n",
       " 'SpecificationofUse',\n",
       " 'SurgicalTracking',\n",
       " 'Manufacturing',\n",
       " 'Validation',\n",
       " 'SurgicalRobotics',\n",
       " 'DNAMapping/GeneticEngineering',\n",
       " 'DataAcquisition',\n",
       " 'SurgicalMethod',\n",
       " 'Verification',\n",
       " 'AnatomicalTarget',\n",
       " 'AnalysisAndModeling',\n",
       " 'Imaging']"
      ]
     },
     "execution_count": 5,
     "metadata": {},
     "output_type": "execute_result"
    }
   ],
   "source": [
    "subset = list(set(tier1)-set([\"PersonalizedProduct\"]))\n",
    "subset"
   ]
  },
  {
   "cell_type": "code",
   "execution_count": 6,
   "metadata": {},
   "outputs": [],
   "source": [
    "training_labels = training_set[subset]"
   ]
  },
  {
   "cell_type": "code",
   "execution_count": 7,
   "metadata": {},
   "outputs": [],
   "source": [
    "testing_labels = testing_set[subset]"
   ]
  },
  {
   "cell_type": "code",
   "execution_count": 8,
   "metadata": {},
   "outputs": [],
   "source": [
    "from sklearn.pipeline import Pipeline\n",
    "from sklearn.compose import ColumnTransformer"
   ]
  },
  {
   "cell_type": "code",
   "execution_count": 9,
   "metadata": {},
   "outputs": [],
   "source": [
    "from sklearn.pipeline import Pipeline\n",
    "from sklearn.compose import ColumnTransformer\n",
    "from sklearn.feature_extraction.text import TfidfVectorizer, CountVectorizer"
   ]
  },
  {
   "cell_type": "code",
   "execution_count": 10,
   "metadata": {},
   "outputs": [
    {
     "data": {
      "text/plain": [
       "{'abstract',\n",
       " 'all_tiers',\n",
       " 'all_tiers_100',\n",
       " 'application_kind',\n",
       " 'application_number',\n",
       " 'application_number_formatted',\n",
       " 'assignees',\n",
       " 'citations',\n",
       " 'cited_by',\n",
       " 'claims',\n",
       " 'country_code_x',\n",
       " 'country_code_y',\n",
       " 'cpc_codes',\n",
       " 'description',\n",
       " 'embedding_v1',\n",
       " 'examiners',\n",
       " 'family_id',\n",
       " 'fi_codes',\n",
       " 'filing_date',\n",
       " 'fterm_codes',\n",
       " 'gpa_number',\n",
       " 'grant_date',\n",
       " 'inventors',\n",
       " 'kind',\n",
       " 'kind_code',\n",
       " 'padded_serial',\n",
       " 'pct_number',\n",
       " 'priority_date',\n",
       " 'publication_date',\n",
       " 'publication_number',\n",
       " 'serial_x',\n",
       " 'serial_y',\n",
       " 'similar_npl',\n",
       " 'similar_patents',\n",
       " 'tier1_tags',\n",
       " 'tier1_tier2_tags',\n",
       " 'tier2_100',\n",
       " 'tier3_100',\n",
       " 'title',\n",
       " 'top_terms',\n",
       " 'url',\n",
       " 'uspc_codes'}"
      ]
     },
     "execution_count": 10,
     "metadata": {},
     "output_type": "execute_result"
    }
   ],
   "source": [
    "set(training_set.columns) - set(all_tiers)"
   ]
  },
  {
   "cell_type": "code",
   "execution_count": 11,
   "metadata": {},
   "outputs": [
    {
     "data": {
      "text/plain": [
       "0      [prosthesis, member, coupling portion, portion...\n",
       "1      [femur, tibia, implant, leg, patient, portion,...\n",
       "2      [lateral, femur, patient, body, medial, slot, ...\n",
       "3      [glenoid, virtual, alignment pin, patient, sca...\n",
       "4      [bone, surface, patient, resection, jig, use, ...\n",
       "                             ...                        \n",
       "967    [method, bone, medial, patient, template, late...\n",
       "968    [cutting guide, surgical cutting, customized s...\n",
       "969    [patient, adapted, surface, surface model, imp...\n",
       "970    [polymer, monomers, modulus, thiol, multifunct...\n",
       "971    [implant, patient, peg, portion, bone, porous,...\n",
       "Name: top_terms, Length: 972, dtype: object"
      ]
     },
     "execution_count": 11,
     "metadata": {},
     "output_type": "execute_result"
    }
   ],
   "source": [
    "training_set.top_terms"
   ]
  },
  {
   "cell_type": "code",
   "execution_count": null,
   "metadata": {},
   "outputs": [],
   "source": []
  },
  {
   "cell_type": "code",
   "execution_count": 12,
   "metadata": {},
   "outputs": [],
   "source": [
    "from sklearn.ensemble import *"
   ]
  },
  {
   "cell_type": "code",
   "execution_count": 13,
   "metadata": {},
   "outputs": [],
   "source": [
    "from sklearn.svm import SVC, LinearSVC\n",
    "from sklearn.neighbors import KNeighborsClassifier"
   ]
  },
  {
   "cell_type": "code",
   "execution_count": 14,
   "metadata": {},
   "outputs": [],
   "source": [
    "from sklearn.dummy import DummyClassifier"
   ]
  },
  {
   "cell_type": "code",
   "execution_count": 15,
   "metadata": {},
   "outputs": [],
   "source": [
    "from sklearn.linear_model import LogisticRegression"
   ]
  },
  {
   "cell_type": "code",
   "execution_count": 16,
   "metadata": {},
   "outputs": [],
   "source": [
    "tfidf_default_settings = {\n",
    "    'lowercase': True, \n",
    "    'strip_accents': 'ascii',\n",
    "    'stop_words' : stopwords,\n",
    "    'min_df': 5,\n",
    "    #'max_df': 0.5#,\n",
    "    #'ngram_range': (1,3)\n",
    "}\n",
    "\n",
    "transformer = ColumnTransformer([\n",
    "     ('top_terms',\n",
    "      CountVectorizer(analyzer=iden, binary=True, min_df=2),\n",
    "     'top_terms'\n",
    "     ),\n",
    "     ('cited_by',\n",
    "      CountVectorizer(analyzer=iden, binary=True, min_df=2),\n",
    "     'cited_by'\n",
    "     ),\n",
    "    ('inventors',\n",
    "      CountVectorizer(analyzer=iden, binary=True, min_df=2),\n",
    "     'inventors'\n",
    "     ),\n",
    "     ('citations',\n",
    "       CountVectorizer(analyzer=iden, binary=True, min_df=2),\n",
    "      'citations'\n",
    "      ),\n",
    "#         ('similar_npl',\n",
    "#       CountVectorizer(analyzer=lambda x:x, min_df=2),\n",
    "#      'similar_npl'\n",
    "#      ),\n",
    "        ('similar_patents',\n",
    "      CountVectorizer(analyzer=iden, binary=True, min_df=2),\n",
    "     'similar_patents'\n",
    "     )\n",
    "  ,\n",
    "     ('cpc',\n",
    "      CountVectorizer(analyzer=cpc_split, binary=True, min_df=2),\n",
    "     'cpc_codes'\n",
    "     ),\n",
    "#     ('embedding_v1', \n",
    "#      'passthrough',\n",
    "#      'embedding_v1'\n",
    "#     ),\n",
    "    ('abstract_tfidf', \n",
    "    TfidfVectorizer(**tfidf_default_settings),\n",
    "   'abstract'),\n",
    "    ('claims_tfidf',\n",
    "     TfidfVectorizer(**tfidf_default_settings),\n",
    "     'claims'\n",
    "    ),\n",
    "#     ('description_tfidf',\n",
    "#      TfidfVectorizer(**tfidf_default_settings),\n",
    "#      'description'\n",
    "#     )\n",
    "      ], verbose=False, n_jobs=-1)"
   ]
  },
  {
   "cell_type": "code",
   "execution_count": 17,
   "metadata": {},
   "outputs": [],
   "source": [
    "from sklearn.decomposition import TruncatedSVD"
   ]
  },
  {
   "cell_type": "code",
   "execution_count": 18,
   "metadata": {},
   "outputs": [],
   "source": [
    "from sklearn.multiclass import OneVsRestClassifier, OneVsOneClassifier\n",
    "from sklearn.naive_bayes import GaussianNB"
   ]
  },
  {
   "cell_type": "code",
   "execution_count": 19,
   "metadata": {},
   "outputs": [],
   "source": [
    "from sklearn.metrics import *"
   ]
  },
  {
   "cell_type": "code",
   "execution_count": 20,
   "metadata": {},
   "outputs": [],
   "source": [
    "from sklearn.preprocessing import MultiLabelBinarizer\n",
    "mlb = MultiLabelBinarizer()\n",
    "import util\n",
    "X_train = transformer.fit_transform(training_set)\n",
    "y_train = mlb.fit_transform(training_set[all_tiers_100].apply(util.array_labels, axis=1))"
   ]
  },
  {
   "cell_type": "code",
   "execution_count": 21,
   "metadata": {},
   "outputs": [],
   "source": [
    "X_test = transformer.transform(testing_set)\n",
    "y_test = mlb.fit_transform(testing_set[all_tiers_100].apply(util.array_labels, axis=1))"
   ]
  },
  {
   "cell_type": "code",
   "execution_count": 22,
   "metadata": {},
   "outputs": [],
   "source": [
    "from skmultilearn.problem_transform import *\n",
    "from sklearn.svm import SVC"
   ]
  },
  {
   "cell_type": "code",
   "execution_count": 24,
   "metadata": {},
   "outputs": [
    {
     "data": {
      "text/plain": [
       "BinaryRelevance(classifier=GaussianNB(), require_dense=[True, True])"
      ]
     },
     "execution_count": 24,
     "metadata": {},
     "output_type": "execute_result"
    }
   ],
   "source": [
    "clf = BinaryRelevance(\n",
    "    classifier=GaussianNB(),\n",
    "    require_dense=[True, True]\n",
    ")\n",
    "clf.fit(X_train, y_train)"
   ]
  },
  {
   "cell_type": "code",
   "execution_count": 29,
   "metadata": {},
   "outputs": [],
   "source": [
    "from skmultilearn.adapt import *\n",
    "from sklearn import metrics\n",
    "def evaluate(clf):\n",
    "    prediction = clf.fit(X_train, y_train).predict(X_test)\n",
    "    print(f\"{clf.get_params()}\")\n",
    "    print(f\"Hamming loss: {metrics.hamming_loss(y_test,prediction)}\")\n",
    "    print(metrics.classification_report(y_test, prediction, target_names=mlb.classes_))"
   ]
  },
  {
   "cell_type": "code",
   "execution_count": 30,
   "metadata": {},
   "outputs": [
    {
     "name": "stdout",
     "output_type": "stream",
     "text": [
      "{'classifier': GaussianNB(), 'classifier__priors': None, 'classifier__var_smoothing': 1e-09, 'require_dense': [True, True]}\n",
      "Hamming loss: 0.2787130564908343\n",
      "                                               precision    recall  f1-score   support\n",
      "\n",
      "                        Analysis and Modeling       0.40      0.24      0.30        84\n",
      "           Analysis and Modeling: 3D Modeling       0.29      0.10      0.15        71\n",
      "                            Anatomical Target       0.68      0.73      0.70       164\n",
      "           Anatomical Target: Lower Extremity       0.54      0.43      0.48       113\n",
      "     Anatomical Target: Lower Extremity - Hip       0.33      0.05      0.09        40\n",
      "    Anatomical Target: Lower Extremity - Knee       0.47      0.39      0.43        82\n",
      "                     Anatomical Target: Torso       0.00      0.00      0.00        35\n",
      "             Anatomical Target: Torso - Spine       0.00      0.00      0.00        21\n",
      "           Anatomical Target: Upper Extremity       0.00      0.00      0.00        31\n",
      "Anatomical Target: Upper Extremity - Shoulder       0.00      0.00      0.00        23\n",
      "                                      Imaging       0.56      0.59      0.58       133\n",
      "                                  Imaging: CT       0.11      0.03      0.05        59\n",
      "                                 Imaging: MRI       0.28      0.08      0.13        59\n",
      "                          Imaging: Ultrasound       0.25      0.03      0.06        32\n",
      "                                Manufacturing       0.30      0.28      0.29        83\n",
      "        Manufacturing: Additive Manufacturing       0.14      0.03      0.04        38\n",
      "           Personalized Product: Guide or Jig       0.58      0.49      0.53       120\n",
      "                Personalized Product: Implant       0.56      0.64      0.60       124\n",
      "                         Specification of Use       0.40      0.34      0.37        79\n",
      "                Specification of Use: Disease       0.50      0.07      0.12        30\n",
      "      Specification of Use: Joint Replacement       0.15      0.07      0.09        44\n",
      "                              Surgical Method       0.90      0.23      0.36        40\n",
      "\n",
      "                                    micro avg       0.51      0.35      0.41      1505\n",
      "                                    macro avg       0.34      0.22      0.24      1505\n",
      "                                 weighted avg       0.43      0.35      0.36      1505\n",
      "                                  samples avg       0.52      0.38      0.40      1505\n",
      "\n"
     ]
    },
    {
     "name": "stderr",
     "output_type": "stream",
     "text": [
      "/home/martin/anaconda3/envs/phenetics2/lib/python3.8/site-packages/sklearn/metrics/_classification.py:1221: UndefinedMetricWarning: Precision and F-score are ill-defined and being set to 0.0 in labels with no predicted samples. Use `zero_division` parameter to control this behavior.\n",
      "  _warn_prf(average, modifier, msg_start, len(result))\n",
      "/home/martin/anaconda3/envs/phenetics2/lib/python3.8/site-packages/sklearn/metrics/_classification.py:1221: UndefinedMetricWarning: Recall and F-score are ill-defined and being set to 0.0 in samples with no true labels. Use `zero_division` parameter to control this behavior.\n",
      "  _warn_prf(average, modifier, msg_start, len(result))\n"
     ]
    }
   ],
   "source": [
    "evaluate(clf)"
   ]
  },
  {
   "cell_type": "code",
   "execution_count": 84,
   "metadata": {},
   "outputs": [
    {
     "name": "stdout",
     "output_type": "stream",
     "text": [
      "{'classifier': MultinomialNB(alpha=0.7), 'classifier__alpha': 0.7} 0.061723499867829754\n"
     ]
    }
   ],
   "source": [
    "from skmultilearn.problem_transform import ClassifierChain\n",
    "from sklearn.model_selection import GridSearchCV\n",
    "from sklearn.naive_bayes import MultinomialNB\n",
    "from sklearn.svm import SVC\n",
    "\n",
    "parameters = [\n",
    "    {\n",
    "        'classifier': [MultinomialNB()],\n",
    "        'classifier__alpha': [0.7, 1.0],\n",
    "    },\n",
    "    {\n",
    "        'classifier': [SVC()],\n",
    "        'classifier__kernel': ['rbf', 'linear'],\n",
    "    },\n",
    "]\n",
    "\n",
    "clf = GridSearchCV(ClassifierChain(), parameters, scoring='accuracy')\n",
    "clf.fit(X_train, y_train)\n",
    "\n",
    "print (clf.best_params_, clf.best_score_)\n",
    "\n"
   ]
  },
  {
   "cell_type": "code",
   "execution_count": 82,
   "metadata": {},
   "outputs": [
    {
     "name": "stdout",
     "output_type": "stream",
     "text": [
      "Finished loading model, total used 100 iterations\n",
      "Finished loading model, total used 100 iterations\n",
      "Finished loading model, total used 100 iterations\n",
      "Finished loading model, total used 100 iterations\n",
      "Finished loading model, total used 100 iterations\n",
      "Finished loading model, total used 100 iterations\n",
      "Finished loading model, total used 100 iterations\n",
      "Finished loading model, total used 100 iterations\n",
      "Finished loading model, total used 100 iterations\n",
      "Finished loading model, total used 100 iterations\n",
      "Finished loading model, total used 100 iterations\n",
      "Finished loading model, total used 100 iterations\n",
      "Finished loading model, total used 100 iterations\n",
      "Finished loading model, total used 100 iterations\n",
      "Finished loading model, total used 100 iterations\n",
      "Finished loading model, total used 100 iterations\n",
      "Finished loading model, total used 100 iterations\n",
      "Finished loading model, total used 100 iterations\n",
      "Finished loading model, total used 100 iterations\n",
      "Finished loading model, total used 100 iterations\n",
      "Finished loading model, total used 100 iterations\n",
      "{'classifier': LGBMClassifier(), 'classifier__boosting_type': 'gbdt', 'classifier__class_weight': None, 'classifier__colsample_bytree': 1.0, 'classifier__importance_type': 'split', 'classifier__learning_rate': 0.1, 'classifier__max_depth': -1, 'classifier__min_child_samples': 20, 'classifier__min_child_weight': 0.001, 'classifier__min_split_gain': 0.0, 'classifier__n_estimators': 100, 'classifier__n_jobs': -1, 'classifier__num_leaves': 31, 'classifier__objective': None, 'classifier__random_state': None, 'classifier__reg_alpha': 0.0, 'classifier__reg_lambda': 0.0, 'classifier__silent': True, 'classifier__subsample': 1.0, 'classifier__subsample_for_bin': 200000, 'classifier__subsample_freq': 0, 'require_dense': [True, True], 'order': None}\n",
      "Hamming loss: 0.3114478114478115\n",
      "                                               precision    recall  f1-score   support\n",
      "\n",
      "                        Analysis and Modeling       0.47      0.24      0.31        84\n",
      "           Analysis and Modeling: 3D Modeling       0.34      0.18      0.24        71\n",
      "                            Anatomical Target       0.72      0.80      0.76       164\n",
      "           Anatomical Target: Lower Extremity       0.52      0.74      0.61       113\n",
      "     Anatomical Target: Lower Extremity - Hip       0.24      0.23      0.23        40\n",
      "    Anatomical Target: Lower Extremity - Knee       0.40      0.66      0.50        82\n",
      "                     Anatomical Target: Torso       0.12      0.06      0.08        35\n",
      "             Anatomical Target: Torso - Spine       0.00      0.00      0.00        21\n",
      "           Anatomical Target: Upper Extremity       0.45      0.16      0.24        31\n",
      "Anatomical Target: Upper Extremity - Shoulder       0.45      0.22      0.29        23\n",
      "                                      Imaging       0.60      0.40      0.48       133\n",
      "                                  Imaging: CT       0.20      0.17      0.18        59\n",
      "                                 Imaging: MRI       0.28      0.25      0.27        59\n",
      "                          Imaging: Ultrasound       0.16      0.19      0.17        32\n",
      "                                Manufacturing       0.47      0.29      0.36        83\n",
      "        Manufacturing: Additive Manufacturing       0.20      0.03      0.05        38\n",
      "           Personalized Product: Guide or Jig       0.52      0.57      0.54       120\n",
      "                Personalized Product: Implant       0.56      0.51      0.53       124\n",
      "                         Specification of Use       0.33      0.37      0.35        79\n",
      "                Specification of Use: Disease       0.14      0.17      0.15        30\n",
      "      Specification of Use: Joint Replacement       0.18      0.20      0.19        44\n",
      "                              Surgical Method       0.27      0.35      0.30        40\n",
      "\n",
      "                                    micro avg       0.44      0.41      0.43      1505\n",
      "                                    macro avg       0.35      0.31      0.31      1505\n",
      "                                 weighted avg       0.43      0.41      0.41      1505\n",
      "                                  samples avg       0.48      0.43      0.42      1505\n",
      "\n"
     ]
    },
    {
     "name": "stderr",
     "output_type": "stream",
     "text": [
      "/home/martin/anaconda3/envs/phenetics2/lib/python3.8/site-packages/sklearn/metrics/_classification.py:1221: UndefinedMetricWarning: Recall and F-score are ill-defined and being set to 0.0 in samples with no true labels. Use `zero_division` parameter to control this behavior.\n",
      "  _warn_prf(average, modifier, msg_start, len(result))\n"
     ]
    }
   ],
   "source": [
    "evaluate(ClassifierChain(lgb.LGBMClassifier()))"
   ]
  },
  {
   "cell_type": "code",
   "execution_count": null,
   "metadata": {},
   "outputs": [],
   "source": []
  },
  {
   "cell_type": "code",
   "execution_count": 71,
   "metadata": {},
   "outputs": [
    {
     "name": "stderr",
     "output_type": "stream",
     "text": [
      "/home/martin/anaconda3/envs/phenetics2/lib/python3.8/site-packages/sklearn/utils/validation.py:67: FutureWarning: Pass n_neighbors=10 as keyword args. From version 0.25 passing these as positional arguments will result in an error\n",
      "  warnings.warn(\"Pass {} as keyword args. From version 0.25 \"\n"
     ]
    },
    {
     "name": "stdout",
     "output_type": "stream",
     "text": [
      "{'k': 10, 's': 1.0, 'ignore_first_neighbours': 0}\n",
      "Hamming loss: 0.28619528619528617\n",
      "                                               precision    recall  f1-score   support\n",
      "\n",
      "                        Analysis and Modeling       0.27      0.13      0.18        84\n",
      "           Analysis and Modeling: 3D Modeling       0.15      0.03      0.05        71\n",
      "                            Anatomical Target       0.72      0.72      0.72       164\n",
      "           Anatomical Target: Lower Extremity       0.56      0.60      0.58       113\n",
      "     Anatomical Target: Lower Extremity - Hip       0.57      0.10      0.17        40\n",
      "    Anatomical Target: Lower Extremity - Knee       0.41      0.37      0.38        82\n",
      "                     Anatomical Target: Torso       0.20      0.03      0.05        35\n",
      "             Anatomical Target: Torso - Spine       0.00      0.00      0.00        21\n",
      "           Anatomical Target: Upper Extremity       0.00      0.00      0.00        31\n",
      "Anatomical Target: Upper Extremity - Shoulder       0.25      0.04      0.07        23\n",
      "                                      Imaging       0.60      0.66      0.63       133\n",
      "                                  Imaging: CT       0.41      0.12      0.18        59\n",
      "                                 Imaging: MRI       0.29      0.27      0.28        59\n",
      "                          Imaging: Ultrasound       0.17      0.12      0.14        32\n",
      "                                Manufacturing       0.28      0.23      0.25        83\n",
      "        Manufacturing: Additive Manufacturing       0.33      0.08      0.13        38\n",
      "           Personalized Product: Guide or Jig       0.49      0.33      0.39       120\n",
      "                Personalized Product: Implant       0.53      0.44      0.48       124\n",
      "                         Specification of Use       0.40      0.34      0.37        79\n",
      "                Specification of Use: Disease       0.33      0.07      0.11        30\n",
      "      Specification of Use: Joint Replacement       0.00      0.00      0.00        44\n",
      "                              Surgical Method       0.50      0.23      0.31        40\n",
      "\n",
      "                                    micro avg       0.49      0.33      0.40      1505\n",
      "                                    macro avg       0.34      0.22      0.25      1505\n",
      "                                 weighted avg       0.42      0.33      0.36      1505\n",
      "                                  samples avg       0.50      0.35      0.38      1505\n",
      "\n"
     ]
    },
    {
     "name": "stderr",
     "output_type": "stream",
     "text": [
      "/home/martin/anaconda3/envs/phenetics2/lib/python3.8/site-packages/sklearn/metrics/_classification.py:1221: UndefinedMetricWarning: Precision and F-score are ill-defined and being set to 0.0 in labels with no predicted samples. Use `zero_division` parameter to control this behavior.\n",
      "  _warn_prf(average, modifier, msg_start, len(result))\n",
      "/home/martin/anaconda3/envs/phenetics2/lib/python3.8/site-packages/sklearn/metrics/_classification.py:1221: UndefinedMetricWarning: Precision and F-score are ill-defined and being set to 0.0 in samples with no predicted labels. Use `zero_division` parameter to control this behavior.\n",
      "  _warn_prf(average, modifier, msg_start, len(result))\n",
      "/home/martin/anaconda3/envs/phenetics2/lib/python3.8/site-packages/sklearn/metrics/_classification.py:1221: UndefinedMetricWarning: Recall and F-score are ill-defined and being set to 0.0 in samples with no true labels. Use `zero_division` parameter to control this behavior.\n",
      "  _warn_prf(average, modifier, msg_start, len(result))\n"
     ]
    }
   ],
   "source": [
    "evaluate(MLkNN())"
   ]
  },
  {
   "cell_type": "code",
   "execution_count": 69,
   "metadata": {},
   "outputs": [
    {
     "name": "stdout",
     "output_type": "stream",
     "text": [
      "{'classifier': SVC(), 'classifier__C': 1.0, 'classifier__break_ties': False, 'classifier__cache_size': 200, 'classifier__class_weight': None, 'classifier__coef0': 0.0, 'classifier__decision_function_shape': 'ovr', 'classifier__degree': 3, 'classifier__gamma': 'scale', 'classifier__kernel': 'rbf', 'classifier__max_iter': -1, 'classifier__probability': False, 'classifier__random_state': None, 'classifier__shrinking': True, 'classifier__tol': 0.001, 'classifier__verbose': False, 'require_dense': [False, True]}\n",
      "Hamming loss: 0.3887018331462776\n",
      "                                               precision    recall  f1-score   support\n",
      "\n",
      "                        Analysis and Modeling       0.00      0.00      0.00        84\n",
      "           Analysis and Modeling: 3D Modeling       0.00      0.00      0.00        71\n",
      "                            Anatomical Target       0.74      0.10      0.18       164\n",
      "           Anatomical Target: Lower Extremity       0.61      0.12      0.21       113\n",
      "     Anatomical Target: Lower Extremity - Hip       0.00      0.00      0.00        40\n",
      "    Anatomical Target: Lower Extremity - Knee       0.61      0.17      0.27        82\n",
      "                     Anatomical Target: Torso       0.00      0.00      0.00        35\n",
      "             Anatomical Target: Torso - Spine       0.00      0.00      0.00        21\n",
      "           Anatomical Target: Upper Extremity       0.00      0.00      0.00        31\n",
      "Anatomical Target: Upper Extremity - Shoulder       0.00      0.00      0.00        23\n",
      "                                      Imaging       0.57      0.95      0.71       133\n",
      "                                  Imaging: CT       0.25      0.95      0.40        59\n",
      "                                 Imaging: MRI       0.25      0.93      0.39        59\n",
      "                          Imaging: Ultrasound       0.14      0.97      0.25        32\n",
      "                                Manufacturing       0.50      0.01      0.02        83\n",
      "        Manufacturing: Additive Manufacturing       0.00      0.00      0.00        38\n",
      "           Personalized Product: Guide or Jig       0.48      0.08      0.14       120\n",
      "                Personalized Product: Implant       0.51      0.92      0.66       124\n",
      "                         Specification of Use       0.32      0.91      0.48        79\n",
      "                Specification of Use: Disease       0.12      0.90      0.22        30\n",
      "      Specification of Use: Joint Replacement       0.00      0.00      0.00        44\n",
      "                              Surgical Method       0.38      0.20      0.26        40\n",
      "\n",
      "                                    micro avg       0.33      0.36      0.34      1505\n",
      "                                    macro avg       0.25      0.33      0.19      1505\n",
      "                                 weighted avg       0.37      0.36      0.25      1505\n",
      "                                  samples avg       0.33      0.36      0.33      1505\n",
      "\n"
     ]
    }
   ],
   "source": [
    "evaluate(LabelPowerset(\n",
    "    classifier=SVC(),\n",
    "    require_dense=[False, True]\n",
    "))"
   ]
  },
  {
   "cell_type": "code",
   "execution_count": null,
   "metadata": {},
   "outputs": [],
   "source": [
    "from sklearn.feature_selection import RFE\n",
    "from sklearn.ensemble import RandomForestClassifier\n",
    "from sklearn.feature_selection import SelectKBest, SelectFromModel\n",
    "from sklearn.feature_selection import f_classif\n"
   ]
  },
  {
   "cell_type": "code",
   "execution_count": null,
   "metadata": {},
   "outputs": [],
   "source": [
    "pipe = Pipeline(steps=[('transformer', transformer),\n",
    "                       ('feature_selection', SelectFromModel(LinearSVC(penalty=\"l1\"))),\n",
    "                       #('svd', TruncatedSVD(random_state=42)),\n",
    "                       #('dummy', OneVsRestClassifier(DummyClassifier()))\n",
    "                       #('svc', OneVsRestClassifier(SVC(random_state=42), n_jobs=-1))\n",
    "                       ('rf',  RandomForestClassifier(n_jobs=-1, random_state=42))\n",
    "                       #('lr', OneVsRestClassifier(LogisticRegression(n_jobs=-1), n_jobs=-1))\n",
    "                       #('cat', OneVsRestClassifier(CatBoostClassifier(verbose=True)))\n",
    "                       #('knn', KNeighborsClassifier(n_jobs=-1))\n",
    "                      ], \n",
    "                verbose=True,\n",
    "                memory=\"cachedir/\")"
   ]
  },
  {
   "cell_type": "code",
   "execution_count": null,
   "metadata": {},
   "outputs": [],
   "source": [
    "training_labels[:,0]"
   ]
  },
  {
   "cell_type": "code",
   "execution_count": null,
   "metadata": {},
   "outputs": [],
   "source": [
    "from sklearn.feature_selection import chi2\n",
    "selected_features = [] \n",
    "for label in range(0, len(subset)):\n",
    "    selector = SelectKBest(chi2, k='all')\n",
    "    selector.fit(X, training_labels.values[:,label])\n",
    "    selected_features.append(list(selector.scores_))"
   ]
  },
  {
   "cell_type": "code",
   "execution_count": null,
   "metadata": {},
   "outputs": [],
   "source": [
    "selected_features = np.nan_to_num(np.array(selected_features))"
   ]
  },
  {
   "cell_type": "code",
   "execution_count": null,
   "metadata": {},
   "outputs": [],
   "source": [
    "selected_features"
   ]
  },
  {
   "cell_type": "code",
   "execution_count": null,
   "metadata": {},
   "outputs": [],
   "source": [
    "selected_features.mean(axis=0).mean()"
   ]
  },
  {
   "cell_type": "code",
   "execution_count": null,
   "metadata": {},
   "outputs": [],
   "source": [
    "features_set = np.mean(np.nan_to_num(np.array(selected_features)), axis=0) > 0.8"
   ]
  },
  {
   "cell_type": "code",
   "execution_count": null,
   "metadata": {},
   "outputs": [],
   "source": [
    "features_set.astype(int).sum()"
   ]
  },
  {
   "cell_type": "code",
   "execution_count": null,
   "metadata": {},
   "outputs": [],
   "source": [
    "X.shape"
   ]
  },
  {
   "cell_type": "code",
   "execution_count": null,
   "metadata": {},
   "outputs": [],
   "source": [
    "feature_subset = X[:,features_set]"
   ]
  },
  {
   "cell_type": "code",
   "execution_count": null,
   "metadata": {},
   "outputs": [],
   "source": [
    "feature_subset.shape"
   ]
  },
  {
   "cell_type": "code",
   "execution_count": null,
   "metadata": {},
   "outputs": [],
   "source": [
    "model = RandomForestClassifier()\n",
    "model.fit(X[:,features_set], training_labels)\n",
    "predictions = model.predict(Xtest[:,features_set])\n",
    "print(classification_report(testing_labels, predictions, target_names=subset))"
   ]
  },
  {
   "cell_type": "code",
   "execution_count": null,
   "metadata": {},
   "outputs": [],
   "source": [
    "from sklearn.model_selection import GridSearchCV, RandomizedSearchCV\n",
    "from skopt import BayesSearchCV\n",
    "from skopt import *\n",
    "from skopt.space import Real, Categorical, Integer\n",
    "\n",
    "param_grid = {\n",
    "    #'rf__bootstrap': [True, False],\n",
    "    'max_depth': (10, 1000), #[10, 20, 30, 40, 50, 60, 70, 80, 90, 100, 125, 150, 175, 200, 250, 300, 350, 400, None],\n",
    " 'max_features': ['auto', 'sqrt'],\n",
    " 'min_samples_leaf': (1, 12),\n",
    " 'min_samples_split': (2, 12),\n",
    " 'n_estimators': (5, 1000)          \n",
    "             }\n",
    "\n",
    "\n",
    "# param_grid = {\n",
    "#     'svd__n_components': Integer(64,10000),\n",
    "#     'svc__estimator__C': Real(1e-6, 1e+6, prior='log-uniform'),\n",
    "#     'svc__estimator__gamma': Real(1e-6, 1e+6, prior='log-uniform'),\n",
    "#     'svc__estimator__degree': Integer(1,8),\n",
    "#     'svc__estimator__kernel': Categorical(['linear', 'poly', 'rbf']),\n",
    "# }\n",
    "\n",
    "# param_grid = {\n",
    "# #  'svd__n_components': np.arange(64, 5000, 100),\n",
    "#  'knn__leaf_size': np.arange(1, 50, 1),\n",
    "#  'knn__metric': ['minkowski', 'euclidean'],\n",
    "#  'knn__n_neighbors': [2,3,4,5,6,7,8,9,10,11,12],\n",
    "#  'knn__weights': ['distance', 'uniform']\n",
    "# }\n",
    "search = BayesSearchCV(model, param_grid, n_iter=50, n_points=3, pre_dispatch=36, refit=True, cv=3, verbose=10, random_state=42, n_jobs=-1)\n",
    "\n",
    "from tqdm.auto import tqdm\n",
    "from tqdm.utils import CallbackIOWrapper\n",
    "\n",
    "with tqdm(total=search.total_iterations) as pbar:\n",
    "    def on_step(optim_result):\n",
    "        print(optim_result)\n",
    "        pbar.update(9)\n",
    "        return False\n",
    "    search.fit(X[:,features_set], training_labels, callback=on_step)\n"
   ]
  },
  {
   "cell_type": "code",
   "execution_count": null,
   "metadata": {},
   "outputs": [],
   "source": [
    "f1_score(testing_labels, predictions, average=\"weighted\")"
   ]
  },
  {
   "cell_type": "code",
   "execution_count": null,
   "metadata": {},
   "outputs": [],
   "source": [
    "hamming_loss(testing_labels, predictions)"
   ]
  },
  {
   "cell_type": "code",
   "execution_count": null,
   "metadata": {
    "scrolled": true
   },
   "outputs": [],
   "source": [
    "plot_confusion_matrix(pipe, testing_set, testing_labels)"
   ]
  },
  {
   "cell_type": "code",
   "execution_count": null,
   "metadata": {},
   "outputs": [],
   "source": [
    "training_predictions = search.best_estimator_.predict(X[:,features_set])\n",
    "print(classification_report(training_labels, training_predictions, target_names=subset))"
   ]
  },
  {
   "cell_type": "code",
   "execution_count": null,
   "metadata": {},
   "outputs": [],
   "source": [
    "from skopt import BayesSearchCV\n",
    "from skopt import *\n",
    "from skopt.space import Real, Categorical, Integer"
   ]
  },
  {
   "cell_type": "code",
   "execution_count": null,
   "metadata": {},
   "outputs": [],
   "source": [
    "from sklearn.model_selection import GridSearchCV, RandomizedSearchCV\n",
    "param_grid = {\n",
    "    #'rf__bootstrap': [True, False],\n",
    "    'rf__max_depth': (10, 1000), #[10, 20, 30, 40, 50, 60, 70, 80, 90, 100, 125, 150, 175, 200, 250, 300, 350, 400, None],\n",
    " #'rf__max_features': ['auto', 'sqrt'],\n",
    " 'rf__min_samples_leaf': (1, 12),\n",
    " 'rf__min_samples_split': (2, 12),\n",
    " 'rf__n_estimators': (5, 1000)          \n",
    "             }\n",
    "\n",
    "\n",
    "# param_grid = {\n",
    "#     'svd__n_components': Integer(64,10000),\n",
    "#     'svc__estimator__C': Real(1e-6, 1e+6, prior='log-uniform'),\n",
    "#     'svc__estimator__gamma': Real(1e-6, 1e+6, prior='log-uniform'),\n",
    "#     'svc__estimator__degree': Integer(1,8),\n",
    "#     'svc__estimator__kernel': Categorical(['linear', 'poly', 'rbf']),\n",
    "# }\n",
    "\n",
    "# param_grid = {\n",
    "# #  'svd__n_components': np.arange(64, 5000, 100),\n",
    "#  'knn__leaf_size': np.arange(1, 50, 1),\n",
    "#  'knn__metric': ['minkowski', 'euclidean'],\n",
    "#  'knn__n_neighbors': [2,3,4,5,6,7,8,9,10,11,12],\n",
    "#  'knn__weights': ['distance', 'uniform']\n",
    "# }\n",
    "search = BayesSearchCV(pipe, param_grid, n_iter=50, n_points=3, pre_dispatch=36, refit=True, cv=3, verbose=10, random_state=42, n_jobs=-1)\n",
    "\n",
    "from tqdm.auto import tqdm\n",
    "from tqdm.utils import CallbackIOWrapper\n",
    "\n",
    "with tqdm(total=search.total_iterations) as pbar:\n",
    "    def on_step(optim_result):\n",
    "        print(optim_result)\n",
    "        pbar.update(9)\n",
    "        return False\n",
    "    search.fit(training_set, training_labels, callback=on_step)\n",
    "\n"
   ]
  },
  {
   "cell_type": "code",
   "execution_count": null,
   "metadata": {},
   "outputs": [],
   "source": [
    "print(search.best_estimator_.get_params())"
   ]
  },
  {
   "cell_type": "code",
   "execution_count": null,
   "metadata": {},
   "outputs": [],
   "source": [
    "from sklearn.metrics import *\n",
    "#pipe.fit(training_set, training_labels)\n",
    "#predictions = pipe.predict(testing_set)\n",
    "predictions = search.best_estimator_.predict(Xtest[:,features_set])\n",
    "print(classification_report(testing_labels, predictions, target_names=subset))"
   ]
  },
  {
   "cell_type": "code",
   "execution_count": null,
   "metadata": {},
   "outputs": [],
   "source": [
    "from sklearn.metrics import *\n",
    "#pipe.fit(training_set, training_labels)\n",
    "#predictions = pipe.predict(testing_set)\n",
    "predictions = search.best_estimator_.predict(testing_set)\n",
    "print(classification_report(testing_labels, predictions, target_names=all_tiers_100))"
   ]
  },
  {
   "cell_type": "code",
   "execution_count": null,
   "metadata": {},
   "outputs": [],
   "source": [
    "from sklearn.metrics import *\n",
    "#pipe.fit(training_set, training_labels)\n",
    "predictions = pipe.predict(testing_set)\n",
    "print(classification_report(testing_labels, predictions, target_names=all_tiers_100))"
   ]
  },
  {
   "cell_type": "code",
   "execution_count": null,
   "metadata": {},
   "outputs": [],
   "source": [
    "predictions = predictions = search.best_estimator_.predict(training_set)\n",
    "print(classification_report(training_labels, predictions, target_names=subset))"
   ]
  },
  {
   "cell_type": "markdown",
   "metadata": {},
   "source": [
    "\n",
    "#  Guessing Baseline\n",
    "\n",
    "                                      precision    recall  f1-score   support\n",
    "\n",
    "                 AnalysisAndModeling       0.31      0.32      0.32        84\n",
    "                    AnatomicalTarget       0.63      0.63      0.63       164\n",
    "                             Imaging       0.57      0.56      0.56       133\n",
    "                       Manufacturing       0.38      0.48      0.43        83\n",
    "                  SpecificationofUse       0.33      0.33      0.33        79\n",
    "                      SurgicalMethod       0.19      0.20      0.20        40\n",
    "      AnalysisAndModeling_3DModeling       0.22      0.21      0.22        71\n",
    "     AnatomicalTarget_LowerExtremity       0.45      0.43      0.44       113\n",
    "              AnatomicalTarget_Torso       0.19      0.17      0.18        35\n",
    "     AnatomicalTarget_UpperExtremity       0.26      0.26      0.26        31\n",
    "                          Imaging_CT       0.14      0.19      0.16        59\n",
    "                         Imaging_MRI       0.24      0.20      0.22        59\n",
    "                  Imaging_Ultrasound       0.17      0.19      0.18        32\n",
    " Manufacturing_AdditiveManufacturing       0.24      0.24      0.24        38\n",
    "       PersonalizedProduct_Guide/Jig       0.55      0.46      0.50       120\n",
    "         PersonalizedProduct_Implant       0.49      0.53      0.51       124\n",
    "          SpecificationofUse_Disease       0.19      0.20      0.20        30\n",
    " SpecificationofUse_JointReplacement       0.14      0.23      0.17        44\n",
    " AnatomicalTarget_LowerExtremity_Hip       0.21      0.17      0.19        40\n",
    "AnatomicalTarget_LowerExtremity_Knee       0.32      0.34      0.33        82\n",
    "\n",
    "                           micro avg       0.38      0.39      0.38      1461\n",
    "                           macro avg       0.31      0.32      0.31      1461\n",
    "                        weighted avg       0.38      0.39      0.39      1461\n",
    "                         samples avg       0.38      0.40      0.37      1461"
   ]
  },
  {
   "cell_type": "markdown",
   "metadata": {},
   "source": [
    "# RF\n",
    "\n",
    " {'rf__bootstrap': False,\n",
    " 'rf__ccp_alpha': 0.0,\n",
    " 'rf__class_weight': None,\n",
    " 'rf__criterion': 'gini',\n",
    " 'rf__max_depth': 150,\n",
    " 'rf__max_features': 'sqrt',\n",
    " 'rf__max_leaf_nodes': None,\n",
    " 'rf__max_samples': None,\n",
    " 'rf__min_impurity_decrease': 0.0,\n",
    " 'rf__min_impurity_split': None,\n",
    " 'rf__min_samples_leaf': 1,\n",
    " 'rf__min_samples_split': 2,\n",
    " 'rf__min_weight_fraction_leaf': 0.0,\n",
    " 'rf__n_estimators': 200,\n",
    " 'rf__n_jobs': None,\n",
    " 'rf__oob_score': False,\n",
    " 'rf__random_state': None,\n",
    " 'rf__verbose': 0,\n",
    " 'rf__warm_start': False}\n",
    "\n",
    "                                      precision    recall  f1-score   support\n",
    "\n",
    "                 AnalysisAndModeling       0.43      0.24      0.31        84\n",
    "                    AnatomicalTarget       0.70      0.78      0.74       164\n",
    "                             Imaging       0.60      0.59      0.60       133\n",
    "                       Manufacturing       0.37      0.25      0.30        83\n",
    "                  SpecificationofUse       0.42      0.32      0.36        79\n",
    "                      SurgicalMethod       0.71      0.30      0.42        40\n",
    "      AnalysisAndModeling_3DModeling       0.38      0.18      0.25        71\n",
    "     AnatomicalTarget_LowerExtremity       0.53      0.46      0.49       113\n",
    "              AnatomicalTarget_Torso       0.08      0.03      0.04        35\n",
    "     AnatomicalTarget_UpperExtremity       0.11      0.03      0.05        31\n",
    "                          Imaging_CT       0.18      0.10      0.13        59\n",
    "                         Imaging_MRI       0.28      0.14      0.18        59\n",
    "                  Imaging_Ultrasound       0.00      0.00      0.00        32\n",
    " Manufacturing_AdditiveManufacturing       0.23      0.08      0.12        38\n",
    "       PersonalizedProduct_Guide/Jig       0.64      0.41      0.50       120\n",
    "         PersonalizedProduct_Implant       0.59      0.74      0.66       124\n",
    "          SpecificationofUse_Disease       0.06      0.03      0.04        30\n",
    " SpecificationofUse_JointReplacement       0.21      0.16      0.18        44\n",
    " AnatomicalTarget_LowerExtremity_Hip       0.26      0.12      0.17        40\n",
    "AnatomicalTarget_LowerExtremity_Knee       0.47      0.33      0.39        82\n",
    "\n",
    "                           micro avg       0.50      0.38      0.43      1461\n",
    "                           macro avg       0.36      0.26      0.30      1461\n",
    "                        weighted avg       0.45      0.38      0.40      1461\n",
    "                         samples avg       0.53      0.41      0.43      1461\n",
    "\n"
   ]
  },
  {
   "cell_type": "markdown",
   "metadata": {},
   "source": [
    "# KNN\n",
    "\n",
    " 'knn__algorithm': 'auto',\n",
    " 'knn__leaf_size': 30,\n",
    " 'knn__metric': 'euclidean',\n",
    " 'knn__metric_params': None,\n",
    " 'knn__n_jobs': None,\n",
    " 'knn__n_neighbors': 2,\n",
    " 'knn__p': 2,\n",
    " 'knn__weights': 'distance'\n",
    "                                      precision    recall  f1-score   support\n",
    "\n",
    "                 AnalysisAndModeling       0.38      0.43      0.40        84\n",
    "                    AnatomicalTarget       0.71      0.60      0.65       164\n",
    "                             Imaging       0.63      0.62      0.62       133\n",
    "                       Manufacturing       0.34      0.37      0.36        83\n",
    "                  SpecificationofUse       0.34      0.47      0.39        79\n",
    "                      SurgicalMethod       0.39      0.30      0.34        40\n",
    "      AnalysisAndModeling_3DModeling       0.35      0.38      0.36        71\n",
    "     AnatomicalTarget_LowerExtremity       0.60      0.50      0.54       113\n",
    "              AnatomicalTarget_Torso       0.24      0.11      0.15        35\n",
    "     AnatomicalTarget_UpperExtremity       0.16      0.16      0.16        31\n",
    "                          Imaging_CT       0.24      0.32      0.27        59\n",
    "                         Imaging_MRI       0.24      0.32      0.28        59\n",
    "                  Imaging_Ultrasound       0.16      0.28      0.21        32\n",
    " Manufacturing_AdditiveManufacturing       0.18      0.13      0.15        38\n",
    "       PersonalizedProduct_Guide/Jig       0.59      0.39      0.47       120\n",
    "         PersonalizedProduct_Implant       0.56      0.76      0.64       124\n",
    "          SpecificationofUse_Disease       0.19      0.33      0.24        30\n",
    " SpecificationofUse_JointReplacement       0.12      0.14      0.13        44\n",
    " AnatomicalTarget_LowerExtremity_Hip       0.33      0.30      0.32        40\n",
    "AnatomicalTarget_LowerExtremity_Knee       0.48      0.39      0.43        82\n",
    "\n",
    "                           micro avg       0.43      0.44      0.43      1461\n",
    "                           macro avg       0.36      0.37      0.36      1461\n",
    "                        weighted avg       0.45      0.44      0.44      1461\n",
    "                         samples avg       0.45      0.46      0.41      1461"
   ]
  },
  {
   "cell_type": "markdown",
   "metadata": {},
   "source": [
    "# KNN + SVD\n",
    "\n",
    " precision    recall  f1-score   support\n",
    "\n",
    "                 AnalysisAndModeling       0.38      0.43      0.40        84\n",
    "                    AnatomicalTarget       0.71      0.60      0.65       164\n",
    "                             Imaging       0.63      0.62      0.62       133\n",
    "                       Manufacturing       0.34      0.37      0.36        83\n",
    "                  SpecificationofUse       0.34      0.47      0.39        79\n",
    "                      SurgicalMethod       0.39      0.30      0.34        40\n",
    "      AnalysisAndModeling_3DModeling       0.35      0.38      0.36        71\n",
    "     AnatomicalTarget_LowerExtremity       0.60      0.50      0.54       113\n",
    "              AnatomicalTarget_Torso       0.24      0.11      0.15        35\n",
    "     AnatomicalTarget_UpperExtremity       0.16      0.16      0.16        31\n",
    "                          Imaging_CT       0.24      0.32      0.27        59\n",
    "                         Imaging_MRI       0.24      0.32      0.28        59\n",
    "                  Imaging_Ultrasound       0.16      0.28      0.21        32\n",
    " Manufacturing_AdditiveManufacturing       0.18      0.13      0.15        38\n",
    "       PersonalizedProduct_Guide/Jig       0.59      0.39      0.47       120\n",
    "         PersonalizedProduct_Implant       0.56      0.76      0.64       124\n",
    "          SpecificationofUse_Disease       0.19      0.33      0.24        30\n",
    " SpecificationofUse_JointReplacement       0.12      0.14      0.13        44\n",
    " AnatomicalTarget_LowerExtremity_Hip       0.33      0.30      0.32        40\n",
    "AnatomicalTarget_LowerExtremity_Knee       0.48      0.39      0.43        82\n",
    "\n",
    "                           micro avg       0.43      0.44      0.43      1461\n",
    "                           macro avg       0.36      0.37      0.36      1461\n",
    "                        weighted avg       0.45      0.44      0.44      1461\n",
    "                         samples avg       0.45      0.46      0.41      1461\n",
    "\n",
    "'svd__algorithm': 'randomized',\n",
    " 'svd__n_components': 2564,\n",
    " 'svd__n_iter': 5,\n",
    " 'svd__random_state': 42,\n",
    " 'svd__tol': 0.0,\n",
    " 'knn__algorithm': 'auto',\n",
    " 'knn__leaf_size': 30,\n",
    " 'knn__metric': 'euclidean',\n",
    " 'knn__metric_params': None,\n",
    " 'knn__n_jobs': None,\n",
    " 'knn__n_neighbors': 2,\n",
    " 'knn__p': 2,\n",
    " 'knn__weights': 'distance'\n"
   ]
  }
 ],
 "metadata": {
  "kernelspec": {
   "display_name": "Python 3",
   "language": "python",
   "name": "python3"
  },
  "language_info": {
   "codemirror_mode": {
    "name": "ipython",
    "version": 3
   },
   "file_extension": ".py",
   "mimetype": "text/x-python",
   "name": "python",
   "nbconvert_exporter": "python",
   "pygments_lexer": "ipython3",
   "version": "3.8.6"
  }
 },
 "nbformat": 4,
 "nbformat_minor": 4
}
