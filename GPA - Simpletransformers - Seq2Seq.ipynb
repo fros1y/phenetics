{
 "cells": [
  {
   "cell_type": "code",
   "execution_count": null,
   "metadata": {},
   "outputs": [],
   "source": [
    "from simpletransformers.classification import MultiLabelClassificationArgs, MultiLabelClassificationModel\n",
    "from simpletransformers.seq2seq import *\n",
    "import sklearn\n",
    "import pandas as pd\n",
    "import logging\n",
    "\n",
    "\n",
    "logging.basicConfig(level=logging.INFO)\n",
    "transformers_logger = logging.getLogger(\"transformers\")\n",
    "transformers_logger.setLevel(logging.WARNING)"
   ]
  },
  {
   "cell_type": "code",
   "execution_count": null,
   "metadata": {},
   "outputs": [],
   "source": [
    "from util import *"
   ]
  },
  {
   "cell_type": "code",
   "execution_count": 1,
   "metadata": {},
   "outputs": [],
   "source": [
    "tier_translate = {'AnalysisAndModeling': 'Analysis and Modeling',\n",
    "                  'AnatomicalTarget': 'Anatomical Target',\n",
    "                  'Imaging':'Imaging',\n",
    "                'Manufacturing':'Manufacturing',\n",
    " 'SpecificationofUse': 'Specification of Use',\n",
    " 'SurgicalMethod': 'Surgical Method',\n",
    " 'AnalysisAndModeling_3DModeling': 'Analysis and Modeling: 3D Modeling',\n",
    " 'AnatomicalTarget_LowerExtremity': 'Anatomical Target: Lower Extremity',\n",
    " 'AnatomicalTarget_Torso': 'Anatomical Target: Torso',\n",
    " 'AnatomicalTarget_UpperExtremity': 'Anatomical Target: Upper Extremity',\n",
    " 'Imaging_CT': 'Imaging: CT',\n",
    " 'Imaging_MRI': 'Imaging: MRI',\n",
    " 'Imaging_Ultrasound': 'Imaging: Ultrasound',\n",
    " 'Manufacturing_AdditiveManufacturing': 'Manufacturing: Additive Manufacturing',\n",
    " 'PersonalizedProduct_Guide/Jig': 'Personalized Product: Guide or Jig',\n",
    " 'PersonalizedProduct_Implant': 'Personalized Product: Implant',\n",
    " 'SpecificationofUse_Disease': 'Specification of Use: Disease',\n",
    " 'SpecificationofUse_JointReplacement': 'Specification of Use: Joint Replacement',\n",
    " 'AnatomicalTarget_LowerExtremity_Hip': 'Anatomical Target: Lower Extremity - Hip',\n",
    " 'AnatomicalTarget_LowerExtremity_Knee': 'Anatomical Target: Lower Extremity - Knee'}"
   ]
  },
  {
   "cell_type": "code",
   "execution_count": 5,
   "metadata": {},
   "outputs": [
    {
     "data": {
      "text/plain": [
       "[('AnalysisAndModeling', 'Analysis and Modeling'),\n",
       " ('AnalysisAndModeling_3DModeling', 'Analysis and Modeling: 3D Modeling'),\n",
       " ('AnatomicalTarget', 'Anatomical Target'),\n",
       " ('AnatomicalTarget_LowerExtremity', 'Anatomical Target: Lower Extremity'),\n",
       " ('AnatomicalTarget_LowerExtremity_Hip',\n",
       "  'Anatomical Target: Lower Extremity - Hip'),\n",
       " ('AnatomicalTarget_LowerExtremity_Knee',\n",
       "  'Anatomical Target: Lower Extremity - Knee'),\n",
       " ('AnatomicalTarget_Torso', 'Anatomical Target: Torso'),\n",
       " ('AnatomicalTarget_UpperExtremity', 'Anatomical Target: Upper Extremity'),\n",
       " ('Imaging', 'Imaging'),\n",
       " ('Imaging_CT', 'Imaging: CT'),\n",
       " ('Imaging_MRI', 'Imaging: MRI'),\n",
       " ('Imaging_Ultrasound', 'Imaging: Ultrasound'),\n",
       " ('Manufacturing', 'Manufacturing'),\n",
       " ('Manufacturing_AdditiveManufacturing',\n",
       "  'Manufacturing: Additive Manufacturing'),\n",
       " ('PersonalizedProduct_Guide/Jig', 'Personalized Product: Guide or Jig'),\n",
       " ('PersonalizedProduct_Implant', 'Personalized Product: Implant'),\n",
       " ('SpecificationofUse', 'Specification of Use'),\n",
       " ('SpecificationofUse_Disease', 'Specification of Use: Disease'),\n",
       " ('SpecificationofUse_JointReplacement',\n",
       "  'Specification of Use: Joint Replacement'),\n",
       " ('SurgicalMethod', 'Surgical Method')]"
      ]
     },
     "execution_count": 5,
     "metadata": {},
     "output_type": "execute_result"
    }
   ],
   "source": [
    "list(sorted(tier_translate.items()))"
   ]
  },
  {
   "cell_type": "code",
   "execution_count": 6,
   "metadata": {},
   "outputs": [
    {
     "data": {
      "text/plain": [
       "{'AnalysisAndModeling': 'Analysis and Modeling',\n",
       " 'AnalysisAndModeling_3DModeling': 'Analysis and Modeling: 3D Modeling',\n",
       " 'AnatomicalTarget': 'Anatomical Target',\n",
       " 'AnatomicalTarget_LowerExtremity': 'Anatomical Target: Lower Extremity',\n",
       " 'AnatomicalTarget_LowerExtremity_Hip': 'Anatomical Target: Lower Extremity - Hip',\n",
       " 'AnatomicalTarget_LowerExtremity_Knee': 'Anatomical Target: Lower Extremity - Knee',\n",
       " 'AnatomicalTarget_Torso': 'Anatomical Target: Torso',\n",
       " 'AnatomicalTarget_UpperExtremity': 'Anatomical Target: Upper Extremity',\n",
       " 'Imaging': 'Imaging',\n",
       " 'Imaging_CT': 'Imaging: CT',\n",
       " 'Imaging_MRI': 'Imaging: MRI',\n",
       " 'Imaging_Ultrasound': 'Imaging: Ultrasound',\n",
       " 'Manufacturing': 'Manufacturing',\n",
       " 'Manufacturing_AdditiveManufacturing': 'Manufacturing: Additive Manufacturing',\n",
       " 'PersonalizedProduct_Guide/Jig': 'Personalized Product: Guide or Jig',\n",
       " 'PersonalizedProduct_Implant': 'Personalized Product: Implant',\n",
       " 'SpecificationofUse': 'Specification of Use',\n",
       " 'SpecificationofUse_Disease': 'Specification of Use: Disease',\n",
       " 'SpecificationofUse_JointReplacement': 'Specification of Use: Joint Replacement',\n",
       " 'SurgicalMethod': 'Surgical Method'}"
      ]
     },
     "execution_count": 6,
     "metadata": {},
     "output_type": "execute_result"
    }
   ],
   "source": [
    "dict([('AnalysisAndModeling', 'Analysis and Modeling'),\n",
    " ('AnalysisAndModeling_3DModeling', 'Analysis and Modeling: 3D Modeling'),\n",
    " ('AnatomicalTarget', 'Anatomical Target'),\n",
    " ('AnatomicalTarget_LowerExtremity', 'Anatomical Target: Lower Extremity'),\n",
    " ('AnatomicalTarget_LowerExtremity_Hip',\n",
    "  'Anatomical Target: Lower Extremity - Hip'),\n",
    " ('AnatomicalTarget_LowerExtremity_Knee',\n",
    "  'Anatomical Target: Lower Extremity - Knee'),\n",
    " ('AnatomicalTarget_Torso', 'Anatomical Target: Torso'),\n",
    " ('AnatomicalTarget_UpperExtremity', 'Anatomical Target: Upper Extremity'),\n",
    " ('Imaging', 'Imaging'),\n",
    " ('Imaging_CT', 'Imaging: CT'),\n",
    " ('Imaging_MRI', 'Imaging: MRI'),\n",
    " ('Imaging_Ultrasound', 'Imaging: Ultrasound'),\n",
    " ('Manufacturing', 'Manufacturing'),\n",
    " ('Manufacturing_AdditiveManufacturing',\n",
    "  'Manufacturing: Additive Manufacturing'),\n",
    " ('PersonalizedProduct_Guide/Jig', 'Personalized Product: Guide or Jig'),\n",
    " ('PersonalizedProduct_Implant', 'Personalized Product: Implant'),\n",
    " ('SpecificationofUse', 'Specification of Use'),\n",
    " ('SpecificationofUse_Disease', 'Specification of Use: Disease'),\n",
    " ('SpecificationofUse_JointReplacement',\n",
    "  'Specification of Use: Joint Replacement'),\n",
    " ('SurgicalMethod', 'Surgical Method')])"
   ]
  },
  {
   "cell_type": "code",
   "execution_count": null,
   "metadata": {},
   "outputs": [],
   "source": [
    "def array_labels(row, tiers=all_tiers,):\n",
    "    labels = []\n",
    "    for c in tiers:\n",
    "        if c in row and row[c]:\n",
    "            if c in tier_translate:\n",
    "                labels.append(tier_translate[c])\n",
    "    return list(sorted(set(labels)))"
   ]
  },
  {
   "cell_type": "code",
   "execution_count": null,
   "metadata": {},
   "outputs": [],
   "source": [
    "def array_labels_textual(row, tiers=all_tiers,):\n",
    "    labels = []\n",
    "    for c in tiers:\n",
    "        if c in row and row[c]:\n",
    "            if c in tier_translate:\n",
    "                labels.append(tier_translate[c])\n",
    "    return \", \".join(sorted(set(labels)))"
   ]
  },
  {
   "cell_type": "code",
   "execution_count": null,
   "metadata": {},
   "outputs": [],
   "source": [
    "from sklearn.preprocessing import MultiLabelBinarizer"
   ]
  },
  {
   "cell_type": "code",
   "execution_count": null,
   "metadata": {},
   "outputs": [],
   "source": []
  },
  {
   "cell_type": "code",
   "execution_count": null,
   "metadata": {},
   "outputs": [],
   "source": []
  },
  {
   "cell_type": "code",
   "execution_count": null,
   "metadata": {},
   "outputs": [],
   "source": [
    "training_set = pd.read_json(\"training_set.json.gz\", lines=True, orient=\"records\")\n",
    "testing_set = pd.read_json(\"testing_set.json.gz\", lines=True, orient=\"records\")\n",
    "\n",
    "\n",
    "training_set['target_text'] = training_set[all_tiers_100].apply(array_labels_textual,axis=1)\n",
    "\n",
    "\n",
    "testing_set['target_text'] = testing_set[all_tiers_100].apply(array_labels_textual,axis=1)"
   ]
  },
  {
   "cell_type": "code",
   "execution_count": null,
   "metadata": {},
   "outputs": [],
   "source": [
    "train_df = pd.DataFrame()\n",
    "train_df[\"input_text\"] = training_set.abstract\n",
    "train_df[\"target_text\"] = training_set.target_text"
   ]
  },
  {
   "cell_type": "code",
   "execution_count": null,
   "metadata": {},
   "outputs": [],
   "source": [
    "test_df = pd.DataFrame()\n",
    "test_df[\"input_text\"] = testing_set.abstract\n",
    "test_df['target_text'] = testing_set.target_text"
   ]
  },
  {
   "cell_type": "code",
   "execution_count": null,
   "metadata": {},
   "outputs": [],
   "source": [
    "model_args = Seq2SeqArgs()\n",
    "model_args.fp16 = True\n",
    "model_args.use_early_stopping = True\n",
    "model_args.early_stopping_delta = 0.01\n",
    "#model_args.early_stopping_metric = \"LRAP\"\n",
    "#model_args.early_stopping_metric_minimize = False\n",
    "model_args.early_stopping_patience = 5\n",
    "model_args.evaluate_during_training_steps = 100\n",
    "model_args.num_train_epochs = 50\n",
    "model_args.do_lower_case = False\n",
    "model_args.dataloader_num_workers=0\n",
    "model_args.use_multiprocessing=False\n",
    "model_args.overwrite_output_dir = True\n",
    "model_args.evaluate_during_training=True\n",
    "model_args.evaluate_during_training_silent=False\n",
    "model_args.evaluate_during_training_verbose=True\n",
    "model_args.use_cached_eval_features=True\n",
    "model_args.evaluate_each_epoch=True\n",
    "#model_args.max_seq_length=None\n",
    "model_args.train_batch_size=8\n",
    "model_args.save_best_model=True\n",
    "model_args.save_model_every_epoch=False\n",
    "model_args.evaluate_generated_text = True\n",
    "#sliding_windows=True\n",
    "\n",
    "model = Seq2SeqModel(\n",
    "    encoder_decoder_type=\"bart\",\n",
    "    encoder_decoder_name=\"facebook/bart-large\",\n",
    "    args=model_args)\n"
   ]
  },
  {
   "cell_type": "code",
   "execution_count": null,
   "metadata": {},
   "outputs": [],
   "source": [
    "model.train_model(train_df, eval_data=test_df)"
   ]
  },
  {
   "cell_type": "code",
   "execution_count": null,
   "metadata": {},
   "outputs": [],
   "source": [
    "model."
   ]
  },
  {
   "cell_type": "code",
   "execution_count": null,
   "metadata": {},
   "outputs": [],
   "source": [
    "from sklearn.metrics import *"
   ]
  },
  {
   "cell_type": "code",
   "execution_count": null,
   "metadata": {},
   "outputs": [],
   "source": [
    "result = model.eval_model(test_df)"
   ]
  },
  {
   "cell_type": "code",
   "execution_count": null,
   "metadata": {},
   "outputs": [],
   "source": [
    "result"
   ]
  },
  {
   "cell_type": "code",
   "execution_count": null,
   "metadata": {},
   "outputs": [],
   "source": [
    "print(model.predict(testing_set.abstract[0]))"
   ]
  },
  {
   "cell_type": "code",
   "execution_count": null,
   "metadata": {},
   "outputs": [],
   "source": [
    "import numpy as np\n",
    "np.mean(model_outputs)"
   ]
  },
  {
   "cell_type": "code",
   "execution_count": null,
   "metadata": {},
   "outputs": [],
   "source": [
    "print(classification_report(testing_labels, model_outputs > 0.2481697, target_names=mlb.classes_))"
   ]
  },
  {
   "cell_type": "code",
   "execution_count": null,
   "metadata": {},
   "outputs": [],
   "source": []
  }
 ],
 "metadata": {
  "kernelspec": {
   "display_name": "Python 3",
   "language": "python",
   "name": "python3"
  },
  "language_info": {
   "codemirror_mode": {
    "name": "ipython",
    "version": 3
   },
   "file_extension": ".py",
   "mimetype": "text/x-python",
   "name": "python",
   "nbconvert_exporter": "python",
   "pygments_lexer": "ipython3",
   "version": "3.8.6"
  }
 },
 "nbformat": 4,
 "nbformat_minor": 4
}
