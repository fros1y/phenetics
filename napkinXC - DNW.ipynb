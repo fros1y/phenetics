{
 "cells": [
  {
   "cell_type": "code",
   "execution_count": null,
   "metadata": {},
   "outputs": [],
   "source": [
    "!pip install napkinxc"
   ]
  },
  {
   "cell_type": "code",
   "execution_count": null,
   "metadata": {},
   "outputs": [],
   "source": [
    "from napkinxc.models import PLT\n",
    "from napkinxc.measures import precision_at_k\n",
    "from sklearn.ensemble import *\n",
    "from sklearn.metrics import *\n",
    "from sklearn.preprocessing import *"
   ]
  },
  {
   "cell_type": "code",
   "execution_count": null,
   "metadata": {},
   "outputs": [],
   "source": [
    "from util import *\n",
    "import pandas as pd\n",
    "import numpy as np\n",
    "\n",
    "training_set = pd.read_json(\"training_set.json.gz\", lines=True, orient=\"records\")\n",
    "testing_set = pd.read_json(\"testing_set.json.gz\", lines=True, orient=\"records\")"
   ]
  },
  {
   "cell_type": "code",
   "execution_count": null,
   "metadata": {},
   "outputs": [],
   "source": [
    "from sklearn.pipeline import Pipeline\n",
    "from sklearn.compose import ColumnTransformer\n",
    "from sklearn.feature_extraction.text import TfidfVectorizer, CountVectorizer\n",
    "\n",
    "tfidf_default_settings = {\n",
    "    'lowercase': True, \n",
    "    'strip_accents': 'ascii',\n",
    "    'stop_words' : stopwords,\n",
    "    'min_df': 5,\n",
    "    #'max_df': 0.5#,\n",
    "    #'ngram_range': (1,3)\n",
    "}\n",
    "\n",
    "transformer = ColumnTransformer([\n",
    "     ('top_terms',\n",
    "      CountVectorizer(analyzer=iden, binary=True, min_df=2),\n",
    "     'top_terms'\n",
    "     ),\n",
    "     ('cited_by',\n",
    "      CountVectorizer(analyzer=iden, binary=True, min_df=2),\n",
    "     'cited_by'\n",
    "     ),\n",
    "    ('inventors',\n",
    "      CountVectorizer(analyzer=iden, binary=True, min_df=2),\n",
    "     'inventors'\n",
    "     ),\n",
    "     ('citations',\n",
    "       CountVectorizer(analyzer=iden, binary=True, min_df=2),\n",
    "      'citations'\n",
    "      ),\n",
    "#         ('similar_npl',\n",
    "#       CountVectorizer(analyzer=lambda x:x, min_df=2),\n",
    "#      'similar_npl'\n",
    "#      ),\n",
    "        ('similar_patents',\n",
    "      CountVectorizer(analyzer=iden, binary=True, min_df=2),\n",
    "     'similar_patents'\n",
    "     )\n",
    "  ,\n",
    "     ('cpc',\n",
    "      CountVectorizer(analyzer=cpc_split, binary=True, min_df=2),\n",
    "     'cpc_codes'\n",
    "     ),\n",
    "#     ('embedding_v1', \n",
    "#      'passthrough',\n",
    "#      'embedding_v1'\n",
    "#     ),\n",
    "    ('abstract_tfidf', \n",
    "    TfidfVectorizer(**tfidf_default_settings),\n",
    "   'abstract'),\n",
    "    ('claims_tfidf',\n",
    "     TfidfVectorizer(**tfidf_default_settings),\n",
    "     'claims'\n",
    "    ),\n",
    "#     ('description_tfidf',\n",
    "#      TfidfVectorizer(**tfidf_default_settings),\n",
    "#      'description'\n",
    "#     )\n",
    "      ], verbose=False, n_jobs=-1)"
   ]
  },
  {
   "cell_type": "code",
   "execution_count": null,
   "metadata": {},
   "outputs": [],
   "source": [
    "X_train = transformer.fit_transform(training_set)\n",
    "X_test = transformer.transform(testing_set)"
   ]
  },
  {
   "cell_type": "code",
   "execution_count": null,
   "metadata": {},
   "outputs": [],
   "source": [
    "subset = list(set(all_tiers_100)-set([\"PersonalizedProduct\"]))\n",
    "subset"
   ]
  },
  {
   "cell_type": "code",
   "execution_count": null,
   "metadata": {},
   "outputs": [],
   "source": [
    "y_test = testing_set[subset]\n",
    "y_train  = training_set[subset]"
   ]
  },
  {
   "cell_type": "code",
   "execution_count": null,
   "metadata": {},
   "outputs": [],
   "source": [
    "plt = PLT(\"test-model\")"
   ]
  },
  {
   "cell_type": "code",
   "execution_count": null,
   "metadata": {},
   "outputs": [],
   "source": [
    "plt.fit(X_train.todense(), y_train)"
   ]
  },
  {
   "cell_type": "code",
   "execution_count": null,
   "metadata": {},
   "outputs": [],
   "source": []
  }
 ],
 "metadata": {
  "kernelspec": {
   "display_name": "Python 3",
   "language": "python",
   "name": "python3"
  },
  "language_info": {
   "codemirror_mode": {
    "name": "ipython",
    "version": 3
   },
   "file_extension": ".py",
   "mimetype": "text/x-python",
   "name": "python",
   "nbconvert_exporter": "python",
   "pygments_lexer": "ipython3",
   "version": "3.8.6"
  }
 },
 "nbformat": 4,
 "nbformat_minor": 4
}
